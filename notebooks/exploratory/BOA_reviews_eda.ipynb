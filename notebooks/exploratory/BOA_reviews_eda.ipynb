{
 "cells": [
  {
   "cell_type": "markdown",
   "id": "eaeaf81f",
   "metadata": {},
   "source": [
    "# BANK APP REVIEWS - BOA"
   ]
  },
  {
   "cell_type": "code",
   "execution_count": 168,
   "id": "4aa6f112",
   "metadata": {},
   "outputs": [
    {
     "name": "stdout",
     "output_type": "stream",
     "text": [
      "The autoreload extension is already loaded. To reload it, use:\n",
      "  %reload_ext autoreload\n"
     ]
    }
   ],
   "source": [
    "#auto loading\n",
    "%load_ext autoreload\n",
    "%autoreload 2"
   ]
  },
  {
   "cell_type": "markdown",
   "id": "f092f420",
   "metadata": {},
   "source": [
    "## 🧱 1. Setup & Imports"
   ]
  },
  {
   "cell_type": "code",
   "execution_count": 169,
   "id": "c11eff5d",
   "metadata": {},
   "outputs": [],
   "source": [
    "import warnings\n",
    "import pandas as pd\n",
    "from data.data_quality_utils import DataQualityUtils\n",
    "from data.load_data import load_local_data\n",
    "from visualization.visualizer import ReviewVisualizer"
   ]
  },
  {
   "cell_type": "code",
   "execution_count": 170,
   "id": "4ba24590",
   "metadata": {},
   "outputs": [],
   "source": [
    "warnings.filterwarnings(\"ignore\")"
   ]
  },
  {
   "cell_type": "code",
   "execution_count": 171,
   "id": "cdf6a238",
   "metadata": {},
   "outputs": [],
   "source": [
    "# variable\n",
    "BANK=\"BOA\""
   ]
  },
  {
   "cell_type": "code",
   "execution_count": 172,
   "id": "560fbaa0",
   "metadata": {},
   "outputs": [],
   "source": [
    "#paths\n",
    "RAW_DATA_PATH='../../data/raw/'+BANK+'_raw_reviews.csv'\n",
    "CLEANED_DATA_PATH='../../data/interim/'+BANK+'_cleaned_reviews.csv'"
   ]
  },
  {
   "cell_type": "markdown",
   "id": "339d89b3",
   "metadata": {},
   "source": [
    "## 📦 2. Data Loading & Overview  <a id= '2-data-loading--overview'></a>"
   ]
  },
  {
   "cell_type": "code",
   "execution_count": 173,
   "id": "0764cf5c",
   "metadata": {},
   "outputs": [
    {
     "name": "stderr",
     "output_type": "stream",
     "text": [
      "INFO:data.load_data:Loading data from: /home/teshager/Documents/10Academy/repositories/projects/customer-experience-analytics-for-fintech-apps/data/raw/BOA_raw_reviews.csv (type=csv)\n"
     ]
    },
    {
     "name": "stderr",
     "output_type": "stream",
     "text": [
      "INFO:data.load_data:Data loaded successfully. Shape: (1000, 10)\n"
     ]
    },
    {
     "data": {
      "text/html": [
       "<div>\n",
       "<style scoped>\n",
       "    .dataframe tbody tr th:only-of-type {\n",
       "        vertical-align: middle;\n",
       "    }\n",
       "\n",
       "    .dataframe tbody tr th {\n",
       "        vertical-align: top;\n",
       "    }\n",
       "\n",
       "    .dataframe thead th {\n",
       "        text-align: right;\n",
       "    }\n",
       "</style>\n",
       "<table border=\"1\" class=\"dataframe\">\n",
       "  <thead>\n",
       "    <tr style=\"text-align: right;\">\n",
       "      <th></th>\n",
       "      <th>reviewId</th>\n",
       "      <th>userName</th>\n",
       "      <th>userImage</th>\n",
       "      <th>content</th>\n",
       "      <th>score</th>\n",
       "      <th>thumbsUpCount</th>\n",
       "      <th>reviewCreatedVersion</th>\n",
       "      <th>at</th>\n",
       "      <th>replyContent</th>\n",
       "      <th>repliedAt</th>\n",
       "    </tr>\n",
       "  </thead>\n",
       "  <tbody>\n",
       "    <tr>\n",
       "      <th>0</th>\n",
       "      <td>937102c6-ae88-419c-994b-80e520faacb8</td>\n",
       "      <td>Phillmon Haftom</td>\n",
       "      <td>https://play-lh.googleusercontent.com/a/ACg8oc...</td>\n",
       "      <td>it's not working</td>\n",
       "      <td>3</td>\n",
       "      <td>0</td>\n",
       "      <td>25.05.03</td>\n",
       "      <td>2025-06-05 11:57:36</td>\n",
       "      <td>NaN</td>\n",
       "      <td>NaN</td>\n",
       "    </tr>\n",
       "    <tr>\n",
       "      <th>1</th>\n",
       "      <td>3559b91c-fad9-4032-bebe-cf99974b9628</td>\n",
       "      <td>Robel Alebachew</td>\n",
       "      <td>https://play-lh.googleusercontent.com/a/ACg8oc...</td>\n",
       "      <td>Hello, I’m facing a problem with the BOA Mobil...</td>\n",
       "      <td>1</td>\n",
       "      <td>0</td>\n",
       "      <td>NaN</td>\n",
       "      <td>2025-06-03 16:21:34</td>\n",
       "      <td>NaN</td>\n",
       "      <td>NaN</td>\n",
       "    </tr>\n",
       "    <tr>\n",
       "      <th>2</th>\n",
       "      <td>10e85f30-540d-4810-ba89-85a7e004480b</td>\n",
       "      <td>Haymanot Anberber</td>\n",
       "      <td>https://play-lh.googleusercontent.com/a/ACg8oc...</td>\n",
       "      <td>exceptional</td>\n",
       "      <td>5</td>\n",
       "      <td>0</td>\n",
       "      <td>NaN</td>\n",
       "      <td>2025-06-03 10:32:35</td>\n",
       "      <td>NaN</td>\n",
       "      <td>NaN</td>\n",
       "    </tr>\n",
       "    <tr>\n",
       "      <th>3</th>\n",
       "      <td>d7f07898-4ba1-47b4-9e8c-a3cc10b1bf0f</td>\n",
       "      <td>Mohamed Abdillahi</td>\n",
       "      <td>https://play-lh.googleusercontent.com/a-/ALV-U...</td>\n",
       "      <td>BoA Mobile good bank</td>\n",
       "      <td>5</td>\n",
       "      <td>0</td>\n",
       "      <td>25.05.03</td>\n",
       "      <td>2025-06-02 14:25:12</td>\n",
       "      <td>NaN</td>\n",
       "      <td>NaN</td>\n",
       "    </tr>\n",
       "    <tr>\n",
       "      <th>4</th>\n",
       "      <td>2ca9480b-ff5f-4b59-952c-5921db83dab2</td>\n",
       "      <td>Ahadu tech</td>\n",
       "      <td>https://play-lh.googleusercontent.com/a-/ALV-U...</td>\n",
       "      <td>this is worest app 24/7 loading</td>\n",
       "      <td>1</td>\n",
       "      <td>0</td>\n",
       "      <td>25.05.03</td>\n",
       "      <td>2025-06-01 15:51:10</td>\n",
       "      <td>NaN</td>\n",
       "      <td>NaN</td>\n",
       "    </tr>\n",
       "  </tbody>\n",
       "</table>\n",
       "</div>"
      ],
      "text/plain": [
       "                               reviewId           userName  \\\n",
       "0  937102c6-ae88-419c-994b-80e520faacb8    Phillmon Haftom   \n",
       "1  3559b91c-fad9-4032-bebe-cf99974b9628    Robel Alebachew   \n",
       "2  10e85f30-540d-4810-ba89-85a7e004480b  Haymanot Anberber   \n",
       "3  d7f07898-4ba1-47b4-9e8c-a3cc10b1bf0f  Mohamed Abdillahi   \n",
       "4  2ca9480b-ff5f-4b59-952c-5921db83dab2         Ahadu tech   \n",
       "\n",
       "                                           userImage  \\\n",
       "0  https://play-lh.googleusercontent.com/a/ACg8oc...   \n",
       "1  https://play-lh.googleusercontent.com/a/ACg8oc...   \n",
       "2  https://play-lh.googleusercontent.com/a/ACg8oc...   \n",
       "3  https://play-lh.googleusercontent.com/a-/ALV-U...   \n",
       "4  https://play-lh.googleusercontent.com/a-/ALV-U...   \n",
       "\n",
       "                                             content  score  thumbsUpCount  \\\n",
       "0                                   it's not working      3              0   \n",
       "1  Hello, I’m facing a problem with the BOA Mobil...      1              0   \n",
       "2                                        exceptional      5              0   \n",
       "3                               BoA Mobile good bank      5              0   \n",
       "4                    this is worest app 24/7 loading      1              0   \n",
       "\n",
       "  reviewCreatedVersion                   at replyContent repliedAt  \n",
       "0             25.05.03  2025-06-05 11:57:36          NaN       NaN  \n",
       "1                  NaN  2025-06-03 16:21:34          NaN       NaN  \n",
       "2                  NaN  2025-06-03 10:32:35          NaN       NaN  \n",
       "3             25.05.03  2025-06-02 14:25:12          NaN       NaN  \n",
       "4             25.05.03  2025-06-01 15:51:10          NaN       NaN  "
      ]
     },
     "execution_count": 173,
     "metadata": {},
     "output_type": "execute_result"
    }
   ],
   "source": [
    "# Load the stock news sentiment data\n",
    "df = load_local_data(RAW_DATA_PATH,)\n",
    "df.head()"
   ]
  },
  {
   "cell_type": "markdown",
   "id": "78a5a158",
   "metadata": {},
   "source": [
    "### Dataset Overview"
   ]
  },
  {
   "cell_type": "code",
   "execution_count": 174,
   "id": "89101fbd",
   "metadata": {},
   "outputs": [
    {
     "data": {
      "text/html": [
       "<div>\n",
       "<style scoped>\n",
       "    .dataframe tbody tr th:only-of-type {\n",
       "        vertical-align: middle;\n",
       "    }\n",
       "\n",
       "    .dataframe tbody tr th {\n",
       "        vertical-align: top;\n",
       "    }\n",
       "\n",
       "    .dataframe thead th {\n",
       "        text-align: right;\n",
       "    }\n",
       "</style>\n",
       "<table border=\"1\" class=\"dataframe\">\n",
       "  <thead>\n",
       "    <tr style=\"text-align: right;\">\n",
       "      <th></th>\n",
       "      <th>reviewId</th>\n",
       "      <th>userName</th>\n",
       "      <th>userImage</th>\n",
       "      <th>content</th>\n",
       "      <th>score</th>\n",
       "      <th>thumbsUpCount</th>\n",
       "      <th>reviewCreatedVersion</th>\n",
       "      <th>at</th>\n",
       "      <th>replyContent</th>\n",
       "      <th>repliedAt</th>\n",
       "    </tr>\n",
       "  </thead>\n",
       "  <tbody>\n",
       "    <tr>\n",
       "      <th>85</th>\n",
       "      <td>1cfcfa11-67f5-4315-9f2d-f47ab27f0910</td>\n",
       "      <td>abrar yasin</td>\n",
       "      <td>https://play-lh.googleusercontent.com/a/ACg8oc...</td>\n",
       "      <td>Wonderfull app</td>\n",
       "      <td>5</td>\n",
       "      <td>0</td>\n",
       "      <td>NaN</td>\n",
       "      <td>2025-03-08 10:23:26</td>\n",
       "      <td>NaN</td>\n",
       "      <td>NaN</td>\n",
       "    </tr>\n",
       "    <tr>\n",
       "      <th>679</th>\n",
       "      <td>9eb34710-ad23-4a4a-81d3-929689a4b1ea</td>\n",
       "      <td>Ebrahim Lulseged</td>\n",
       "      <td>https://play-lh.googleusercontent.com/a/ACg8oc...</td>\n",
       "      <td>Need many improvements</td>\n",
       "      <td>2</td>\n",
       "      <td>0</td>\n",
       "      <td>NaN</td>\n",
       "      <td>2024-04-30 17:07:16</td>\n",
       "      <td>NaN</td>\n",
       "      <td>NaN</td>\n",
       "    </tr>\n",
       "    <tr>\n",
       "      <th>56</th>\n",
       "      <td>1197ad29-5063-4999-888c-589582754caa</td>\n",
       "      <td>Hone Boy</td>\n",
       "      <td>https://play-lh.googleusercontent.com/a/ACg8oc...</td>\n",
       "      <td>after activated the application it not allowed...</td>\n",
       "      <td>1</td>\n",
       "      <td>0</td>\n",
       "      <td>NaN</td>\n",
       "      <td>2025-03-31 23:55:06</td>\n",
       "      <td>NaN</td>\n",
       "      <td>NaN</td>\n",
       "    </tr>\n",
       "    <tr>\n",
       "      <th>893</th>\n",
       "      <td>e46bc4ad-e6b9-4caa-9f1f-abd982779c87</td>\n",
       "      <td>Sentayiw Fessha</td>\n",
       "      <td>https://play-lh.googleusercontent.com/a-/ALV-U...</td>\n",
       "      <td>ስንታየሁ</td>\n",
       "      <td>5</td>\n",
       "      <td>1</td>\n",
       "      <td>24.02.07</td>\n",
       "      <td>2024-02-24 19:14:01</td>\n",
       "      <td>NaN</td>\n",
       "      <td>NaN</td>\n",
       "    </tr>\n",
       "    <tr>\n",
       "      <th>631</th>\n",
       "      <td>e50a418d-ed60-4b67-ad3b-260b80f8d343</td>\n",
       "      <td>Liyu Ayalew</td>\n",
       "      <td>https://play-lh.googleusercontent.com/a/ACg8oc...</td>\n",
       "      <td>Great app than others</td>\n",
       "      <td>5</td>\n",
       "      <td>1</td>\n",
       "      <td>NaN</td>\n",
       "      <td>2024-05-02 21:08:03</td>\n",
       "      <td>NaN</td>\n",
       "      <td>NaN</td>\n",
       "    </tr>\n",
       "    <tr>\n",
       "      <th>16</th>\n",
       "      <td>fe22c72e-7fba-4ae7-9b4f-097bdb51cc61</td>\n",
       "      <td>Nurhussen Mohammed</td>\n",
       "      <td>https://play-lh.googleusercontent.com/a-/ALV-U...</td>\n",
       "      <td>good</td>\n",
       "      <td>5</td>\n",
       "      <td>0</td>\n",
       "      <td>25.05.03</td>\n",
       "      <td>2025-05-20 10:57:13</td>\n",
       "      <td>NaN</td>\n",
       "      <td>NaN</td>\n",
       "    </tr>\n",
       "    <tr>\n",
       "      <th>786</th>\n",
       "      <td>287a4512-6779-4d7b-ab55-fb237935980b</td>\n",
       "      <td>Kefyalew Birara</td>\n",
       "      <td>https://play-lh.googleusercontent.com/a-/ALV-U...</td>\n",
       "      <td>Not work this app ...what is the problem</td>\n",
       "      <td>1</td>\n",
       "      <td>0</td>\n",
       "      <td>NaN</td>\n",
       "      <td>2024-04-20 12:49:04</td>\n",
       "      <td>NaN</td>\n",
       "      <td>NaN</td>\n",
       "    </tr>\n",
       "    <tr>\n",
       "      <th>6</th>\n",
       "      <td>d9172c66-a605-4626-acc6-e1dbca0685cd</td>\n",
       "      <td>Mansour Abdulkadir</td>\n",
       "      <td>https://play-lh.googleusercontent.com/a-/ALV-U...</td>\n",
       "      <td>BoA system is confartable</td>\n",
       "      <td>5</td>\n",
       "      <td>0</td>\n",
       "      <td>25.05.03</td>\n",
       "      <td>2025-06-01 00:47:32</td>\n",
       "      <td>NaN</td>\n",
       "      <td>NaN</td>\n",
       "    </tr>\n",
       "    <tr>\n",
       "      <th>252</th>\n",
       "      <td>5d940978-07d3-41d9-81b1-74867eb724a3</td>\n",
       "      <td>Anteneh Car Sale</td>\n",
       "      <td>https://play-lh.googleusercontent.com/a-/ALV-U...</td>\n",
       "      <td>The App's crash always.. Error.....</td>\n",
       "      <td>3</td>\n",
       "      <td>0</td>\n",
       "      <td>24.07.04</td>\n",
       "      <td>2024-09-27 16:25:54</td>\n",
       "      <td>NaN</td>\n",
       "      <td>NaN</td>\n",
       "    </tr>\n",
       "    <tr>\n",
       "      <th>284</th>\n",
       "      <td>3283f02f-0474-44ec-b7d6-5e90c94d88d4</td>\n",
       "      <td>et spam</td>\n",
       "      <td>https://play-lh.googleusercontent.com/a/ACg8oc...</td>\n",
       "      <td>Awesome application. But lately its crashing e...</td>\n",
       "      <td>4</td>\n",
       "      <td>0</td>\n",
       "      <td>24.07.04</td>\n",
       "      <td>2024-09-05 23:48:22</td>\n",
       "      <td>NaN</td>\n",
       "      <td>NaN</td>\n",
       "    </tr>\n",
       "  </tbody>\n",
       "</table>\n",
       "</div>"
      ],
      "text/plain": [
       "                                 reviewId            userName  \\\n",
       "85   1cfcfa11-67f5-4315-9f2d-f47ab27f0910         abrar yasin   \n",
       "679  9eb34710-ad23-4a4a-81d3-929689a4b1ea    Ebrahim Lulseged   \n",
       "56   1197ad29-5063-4999-888c-589582754caa            Hone Boy   \n",
       "893  e46bc4ad-e6b9-4caa-9f1f-abd982779c87     Sentayiw Fessha   \n",
       "631  e50a418d-ed60-4b67-ad3b-260b80f8d343         Liyu Ayalew   \n",
       "16   fe22c72e-7fba-4ae7-9b4f-097bdb51cc61  Nurhussen Mohammed   \n",
       "786  287a4512-6779-4d7b-ab55-fb237935980b     Kefyalew Birara   \n",
       "6    d9172c66-a605-4626-acc6-e1dbca0685cd  Mansour Abdulkadir   \n",
       "252  5d940978-07d3-41d9-81b1-74867eb724a3    Anteneh Car Sale   \n",
       "284  3283f02f-0474-44ec-b7d6-5e90c94d88d4             et spam   \n",
       "\n",
       "                                             userImage  \\\n",
       "85   https://play-lh.googleusercontent.com/a/ACg8oc...   \n",
       "679  https://play-lh.googleusercontent.com/a/ACg8oc...   \n",
       "56   https://play-lh.googleusercontent.com/a/ACg8oc...   \n",
       "893  https://play-lh.googleusercontent.com/a-/ALV-U...   \n",
       "631  https://play-lh.googleusercontent.com/a/ACg8oc...   \n",
       "16   https://play-lh.googleusercontent.com/a-/ALV-U...   \n",
       "786  https://play-lh.googleusercontent.com/a-/ALV-U...   \n",
       "6    https://play-lh.googleusercontent.com/a-/ALV-U...   \n",
       "252  https://play-lh.googleusercontent.com/a-/ALV-U...   \n",
       "284  https://play-lh.googleusercontent.com/a/ACg8oc...   \n",
       "\n",
       "                                               content  score  thumbsUpCount  \\\n",
       "85                                      Wonderfull app      5              0   \n",
       "679                             Need many improvements      2              0   \n",
       "56   after activated the application it not allowed...      1              0   \n",
       "893                                              ስንታየሁ      5              1   \n",
       "631                              Great app than others      5              1   \n",
       "16                                                good      5              0   \n",
       "786           Not work this app ...what is the problem      1              0   \n",
       "6                            BoA system is confartable      5              0   \n",
       "252                The App's crash always.. Error.....      3              0   \n",
       "284  Awesome application. But lately its crashing e...      4              0   \n",
       "\n",
       "    reviewCreatedVersion                   at replyContent repliedAt  \n",
       "85                   NaN  2025-03-08 10:23:26          NaN       NaN  \n",
       "679                  NaN  2024-04-30 17:07:16          NaN       NaN  \n",
       "56                   NaN  2025-03-31 23:55:06          NaN       NaN  \n",
       "893             24.02.07  2024-02-24 19:14:01          NaN       NaN  \n",
       "631                  NaN  2024-05-02 21:08:03          NaN       NaN  \n",
       "16              25.05.03  2025-05-20 10:57:13          NaN       NaN  \n",
       "786                  NaN  2024-04-20 12:49:04          NaN       NaN  \n",
       "6               25.05.03  2025-06-01 00:47:32          NaN       NaN  \n",
       "252             24.07.04  2024-09-27 16:25:54          NaN       NaN  \n",
       "284             24.07.04  2024-09-05 23:48:22          NaN       NaN  "
      ]
     },
     "execution_count": 174,
     "metadata": {},
     "output_type": "execute_result"
    }
   ],
   "source": [
    "#view sample data\n",
    "df.sample(10)"
   ]
  },
  {
   "cell_type": "code",
   "execution_count": 175,
   "id": "d66401bf",
   "metadata": {},
   "outputs": [
    {
     "data": {
      "text/html": [
       "<div>\n",
       "<style scoped>\n",
       "    .dataframe tbody tr th:only-of-type {\n",
       "        vertical-align: middle;\n",
       "    }\n",
       "\n",
       "    .dataframe tbody tr th {\n",
       "        vertical-align: top;\n",
       "    }\n",
       "\n",
       "    .dataframe thead th {\n",
       "        text-align: right;\n",
       "    }\n",
       "</style>\n",
       "<table border=\"1\" class=\"dataframe\">\n",
       "  <thead>\n",
       "    <tr style=\"text-align: right;\">\n",
       "      <th></th>\n",
       "      <th>reviewId</th>\n",
       "      <th>userName</th>\n",
       "      <th>userImage</th>\n",
       "      <th>content</th>\n",
       "      <th>score</th>\n",
       "      <th>thumbsUpCount</th>\n",
       "      <th>reviewCreatedVersion</th>\n",
       "      <th>at</th>\n",
       "      <th>replyContent</th>\n",
       "      <th>repliedAt</th>\n",
       "    </tr>\n",
       "  </thead>\n",
       "  <tbody>\n",
       "    <tr>\n",
       "      <th>995</th>\n",
       "      <td>7e629e12-154b-4482-a805-90bf721f5011</td>\n",
       "      <td>Sha net</td>\n",
       "      <td>https://play-lh.googleusercontent.com/a/ACg8oc...</td>\n",
       "      <td>I don't have words for your great work.. Reall...</td>\n",
       "      <td>5</td>\n",
       "      <td>30</td>\n",
       "      <td>24.01.09</td>\n",
       "      <td>2024-02-03 19:07:15</td>\n",
       "      <td>NaN</td>\n",
       "      <td>NaN</td>\n",
       "    </tr>\n",
       "    <tr>\n",
       "      <th>996</th>\n",
       "      <td>832b30a2-1ab9-476f-838d-e96b1f50da03</td>\n",
       "      <td>Abebayehu mussa</td>\n",
       "      <td>https://play-lh.googleusercontent.com/a-/ALV-U...</td>\n",
       "      <td>Nice</td>\n",
       "      <td>5</td>\n",
       "      <td>2</td>\n",
       "      <td>24.01.09</td>\n",
       "      <td>2024-02-03 16:46:47</td>\n",
       "      <td>NaN</td>\n",
       "      <td>NaN</td>\n",
       "    </tr>\n",
       "    <tr>\n",
       "      <th>997</th>\n",
       "      <td>000ef73f-978b-4c50-a44a-9c57cbc5c69e</td>\n",
       "      <td>ww</td>\n",
       "      <td>https://play-lh.googleusercontent.com/a/ACg8oc...</td>\n",
       "      <td>A massive improvement from the previous app. M...</td>\n",
       "      <td>5</td>\n",
       "      <td>6</td>\n",
       "      <td>24.01.09</td>\n",
       "      <td>2024-02-03 13:04:16</td>\n",
       "      <td>NaN</td>\n",
       "      <td>NaN</td>\n",
       "    </tr>\n",
       "    <tr>\n",
       "      <th>998</th>\n",
       "      <td>a0cf0ff4-f795-42d9-ada0-e31effdbc5ab</td>\n",
       "      <td>Kassahun Berihun</td>\n",
       "      <td>https://play-lh.googleusercontent.com/a-/ALV-U...</td>\n",
       "      <td>Good</td>\n",
       "      <td>5</td>\n",
       "      <td>2</td>\n",
       "      <td>24.01.09</td>\n",
       "      <td>2024-02-03 12:47:25</td>\n",
       "      <td>NaN</td>\n",
       "      <td>NaN</td>\n",
       "    </tr>\n",
       "    <tr>\n",
       "      <th>999</th>\n",
       "      <td>e6c09bb3-ef33-47b7-99c3-3b6b20ea79b8</td>\n",
       "      <td>Beti Abreham</td>\n",
       "      <td>https://play-lh.googleusercontent.com/a/ACg8oc...</td>\n",
       "      <td>Boa</td>\n",
       "      <td>5</td>\n",
       "      <td>2</td>\n",
       "      <td>NaN</td>\n",
       "      <td>2024-02-03 12:24:09</td>\n",
       "      <td>NaN</td>\n",
       "      <td>NaN</td>\n",
       "    </tr>\n",
       "  </tbody>\n",
       "</table>\n",
       "</div>"
      ],
      "text/plain": [
       "                                 reviewId          userName  \\\n",
       "995  7e629e12-154b-4482-a805-90bf721f5011           Sha net   \n",
       "996  832b30a2-1ab9-476f-838d-e96b1f50da03   Abebayehu mussa   \n",
       "997  000ef73f-978b-4c50-a44a-9c57cbc5c69e                ww   \n",
       "998  a0cf0ff4-f795-42d9-ada0-e31effdbc5ab  Kassahun Berihun   \n",
       "999  e6c09bb3-ef33-47b7-99c3-3b6b20ea79b8      Beti Abreham   \n",
       "\n",
       "                                             userImage  \\\n",
       "995  https://play-lh.googleusercontent.com/a/ACg8oc...   \n",
       "996  https://play-lh.googleusercontent.com/a-/ALV-U...   \n",
       "997  https://play-lh.googleusercontent.com/a/ACg8oc...   \n",
       "998  https://play-lh.googleusercontent.com/a-/ALV-U...   \n",
       "999  https://play-lh.googleusercontent.com/a/ACg8oc...   \n",
       "\n",
       "                                               content  score  thumbsUpCount  \\\n",
       "995  I don't have words for your great work.. Reall...      5             30   \n",
       "996                                               Nice      5              2   \n",
       "997  A massive improvement from the previous app. M...      5              6   \n",
       "998                                               Good      5              2   \n",
       "999                                                Boa      5              2   \n",
       "\n",
       "    reviewCreatedVersion                   at replyContent repliedAt  \n",
       "995             24.01.09  2024-02-03 19:07:15          NaN       NaN  \n",
       "996             24.01.09  2024-02-03 16:46:47          NaN       NaN  \n",
       "997             24.01.09  2024-02-03 13:04:16          NaN       NaN  \n",
       "998             24.01.09  2024-02-03 12:47:25          NaN       NaN  \n",
       "999                  NaN  2024-02-03 12:24:09          NaN       NaN  "
      ]
     },
     "execution_count": 175,
     "metadata": {},
     "output_type": "execute_result"
    }
   ],
   "source": [
    "#see the last rows\n",
    "df.tail()"
   ]
  },
  {
   "cell_type": "code",
   "execution_count": 176,
   "id": "f1f497a6",
   "metadata": {},
   "outputs": [
    {
     "data": {
      "text/plain": [
       "(1000, 10)"
      ]
     },
     "execution_count": 176,
     "metadata": {},
     "output_type": "execute_result"
    }
   ],
   "source": [
    "#shape of the dataset\n",
    "df.shape"
   ]
  },
  {
   "cell_type": "code",
   "execution_count": 177,
   "id": "77cea03a",
   "metadata": {},
   "outputs": [
    {
     "data": {
      "text/plain": [
       "Index(['reviewId', 'userName', 'userImage', 'content', 'score',\n",
       "       'thumbsUpCount', 'reviewCreatedVersion', 'at', 'replyContent',\n",
       "       'repliedAt'],\n",
       "      dtype='object')"
      ]
     },
     "execution_count": 177,
     "metadata": {},
     "output_type": "execute_result"
    }
   ],
   "source": [
    "df.columns"
   ]
  },
  {
   "cell_type": "markdown",
   "id": "9f9972b6",
   "metadata": {},
   "source": [
    "## 📐 3. Data Types & Basic Stats <a id='3-data-types--basic-stats'></a>"
   ]
  },
  {
   "cell_type": "code",
   "execution_count": 178,
   "id": "402fbaf8",
   "metadata": {},
   "outputs": [
    {
     "data": {
      "text/html": [
       "<div>\n",
       "<style scoped>\n",
       "    .dataframe tbody tr th:only-of-type {\n",
       "        vertical-align: middle;\n",
       "    }\n",
       "\n",
       "    .dataframe tbody tr th {\n",
       "        vertical-align: top;\n",
       "    }\n",
       "\n",
       "    .dataframe thead th {\n",
       "        text-align: right;\n",
       "    }\n",
       "</style>\n",
       "<table border=\"1\" class=\"dataframe\">\n",
       "  <thead>\n",
       "    <tr style=\"text-align: right;\">\n",
       "      <th></th>\n",
       "      <th>count</th>\n",
       "      <th>mean</th>\n",
       "      <th>std</th>\n",
       "      <th>min</th>\n",
       "      <th>25%</th>\n",
       "      <th>50%</th>\n",
       "      <th>75%</th>\n",
       "      <th>max</th>\n",
       "    </tr>\n",
       "  </thead>\n",
       "  <tbody>\n",
       "    <tr>\n",
       "      <th>score</th>\n",
       "      <td>1000.0</td>\n",
       "      <td>3.020</td>\n",
       "      <td>1.859855</td>\n",
       "      <td>1.0</td>\n",
       "      <td>1.0</td>\n",
       "      <td>3.0</td>\n",
       "      <td>5.0</td>\n",
       "      <td>5.0</td>\n",
       "    </tr>\n",
       "    <tr>\n",
       "      <th>thumbsUpCount</th>\n",
       "      <td>1000.0</td>\n",
       "      <td>9.131</td>\n",
       "      <td>74.395999</td>\n",
       "      <td>0.0</td>\n",
       "      <td>0.0</td>\n",
       "      <td>1.0</td>\n",
       "      <td>1.0</td>\n",
       "      <td>1810.0</td>\n",
       "    </tr>\n",
       "  </tbody>\n",
       "</table>\n",
       "</div>"
      ],
      "text/plain": [
       "                count   mean        std  min  25%  50%  75%     max\n",
       "score          1000.0  3.020   1.859855  1.0  1.0  3.0  5.0     5.0\n",
       "thumbsUpCount  1000.0  9.131  74.395999  0.0  0.0  1.0  1.0  1810.0"
      ]
     },
     "execution_count": 178,
     "metadata": {},
     "output_type": "execute_result"
    }
   ],
   "source": [
    "#Numerical Columns\n",
    "df.describe().T"
   ]
  },
  {
   "cell_type": "code",
   "execution_count": 179,
   "id": "b4594fc1",
   "metadata": {},
   "outputs": [
    {
     "data": {
      "text/html": [
       "<div>\n",
       "<style scoped>\n",
       "    .dataframe tbody tr th:only-of-type {\n",
       "        vertical-align: middle;\n",
       "    }\n",
       "\n",
       "    .dataframe tbody tr th {\n",
       "        vertical-align: top;\n",
       "    }\n",
       "\n",
       "    .dataframe thead th {\n",
       "        text-align: right;\n",
       "    }\n",
       "</style>\n",
       "<table border=\"1\" class=\"dataframe\">\n",
       "  <thead>\n",
       "    <tr style=\"text-align: right;\">\n",
       "      <th></th>\n",
       "      <th>count</th>\n",
       "      <th>unique</th>\n",
       "      <th>top</th>\n",
       "      <th>freq</th>\n",
       "    </tr>\n",
       "  </thead>\n",
       "  <tbody>\n",
       "    <tr>\n",
       "      <th>reviewId</th>\n",
       "      <td>1000</td>\n",
       "      <td>1000</td>\n",
       "      <td>e6c09bb3-ef33-47b7-99c3-3b6b20ea79b8</td>\n",
       "      <td>1</td>\n",
       "    </tr>\n",
       "    <tr>\n",
       "      <th>userName</th>\n",
       "      <td>1000</td>\n",
       "      <td>994</td>\n",
       "      <td>Kidus Yohannes</td>\n",
       "      <td>2</td>\n",
       "    </tr>\n",
       "    <tr>\n",
       "      <th>userImage</th>\n",
       "      <td>1000</td>\n",
       "      <td>999</td>\n",
       "      <td>https://play-lh.googleusercontent.com/a-/ALV-U...</td>\n",
       "      <td>2</td>\n",
       "    </tr>\n",
       "    <tr>\n",
       "      <th>content</th>\n",
       "      <td>1000</td>\n",
       "      <td>856</td>\n",
       "      <td>Good</td>\n",
       "      <td>43</td>\n",
       "    </tr>\n",
       "    <tr>\n",
       "      <th>reviewCreatedVersion</th>\n",
       "      <td>728</td>\n",
       "      <td>10</td>\n",
       "      <td>24.02.07</td>\n",
       "      <td>146</td>\n",
       "    </tr>\n",
       "    <tr>\n",
       "      <th>at</th>\n",
       "      <td>1000</td>\n",
       "      <td>1000</td>\n",
       "      <td>2024-02-03 12:24:09</td>\n",
       "      <td>1</td>\n",
       "    </tr>\n",
       "    <tr>\n",
       "      <th>replyContent</th>\n",
       "      <td>23</td>\n",
       "      <td>8</td>\n",
       "      <td>Thank you very much. Keep using our app</td>\n",
       "      <td>8</td>\n",
       "    </tr>\n",
       "    <tr>\n",
       "      <th>repliedAt</th>\n",
       "      <td>23</td>\n",
       "      <td>23</td>\n",
       "      <td>2024-02-22 15:40:34</td>\n",
       "      <td>1</td>\n",
       "    </tr>\n",
       "  </tbody>\n",
       "</table>\n",
       "</div>"
      ],
      "text/plain": [
       "                     count unique  \\\n",
       "reviewId              1000   1000   \n",
       "userName              1000    994   \n",
       "userImage             1000    999   \n",
       "content               1000    856   \n",
       "reviewCreatedVersion   728     10   \n",
       "at                    1000   1000   \n",
       "replyContent            23      8   \n",
       "repliedAt               23     23   \n",
       "\n",
       "                                                                    top freq  \n",
       "reviewId                           e6c09bb3-ef33-47b7-99c3-3b6b20ea79b8    1  \n",
       "userName                                                 Kidus Yohannes    2  \n",
       "userImage             https://play-lh.googleusercontent.com/a-/ALV-U...    2  \n",
       "content                                                            Good   43  \n",
       "reviewCreatedVersion                                           24.02.07  146  \n",
       "at                                                  2024-02-03 12:24:09    1  \n",
       "replyContent                    Thank you very much. Keep using our app    8  \n",
       "repliedAt                                           2024-02-22 15:40:34    1  "
      ]
     },
     "execution_count": 179,
     "metadata": {},
     "output_type": "execute_result"
    }
   ],
   "source": [
    "#for columns of object type\n",
    "df.describe(include=['O']).T"
   ]
  },
  {
   "cell_type": "code",
   "execution_count": 180,
   "id": "79b071e8",
   "metadata": {},
   "outputs": [
    {
     "name": "stdout",
     "output_type": "stream",
     "text": [
      "<class 'pandas.core.frame.DataFrame'>\n",
      "RangeIndex: 1000 entries, 0 to 999\n",
      "Data columns (total 10 columns):\n",
      " #   Column                Non-Null Count  Dtype \n",
      "---  ------                --------------  ----- \n",
      " 0   reviewId              1000 non-null   object\n",
      " 1   userName              1000 non-null   object\n",
      " 2   userImage             1000 non-null   object\n",
      " 3   content               1000 non-null   object\n",
      " 4   score                 1000 non-null   int64 \n",
      " 5   thumbsUpCount         1000 non-null   int64 \n",
      " 6   reviewCreatedVersion  728 non-null    object\n",
      " 7   at                    1000 non-null   object\n",
      " 8   replyContent          23 non-null     object\n",
      " 9   repliedAt             23 non-null     object\n",
      "dtypes: int64(2), object(8)\n",
      "memory usage: 78.2+ KB\n"
     ]
    }
   ],
   "source": [
    "# data types of the columns\n",
    "df.info()"
   ]
  },
  {
   "cell_type": "code",
   "execution_count": 181,
   "id": "039465bd",
   "metadata": {},
   "outputs": [
    {
     "data": {
      "text/plain": [
       "reviewId                1000\n",
       "at                      1000\n",
       "userImage                999\n",
       "userName                 994\n",
       "content                  856\n",
       "thumbsUpCount             53\n",
       "repliedAt                 23\n",
       "reviewCreatedVersion      10\n",
       "replyContent               8\n",
       "score                      5\n",
       "dtype: int64"
      ]
     },
     "execution_count": 181,
     "metadata": {},
     "output_type": "execute_result"
    }
   ],
   "source": [
    "#distinct values in each column\n",
    "df.nunique().sort_values(ascending=False)"
   ]
  },
  {
   "cell_type": "markdown",
   "id": "a996f6d5",
   "metadata": {},
   "source": [
    "## 🔍 4. Data Quality Analysis <a id='4-data-quality-analysis'></a>"
   ]
  },
  {
   "cell_type": "code",
   "execution_count": 182,
   "id": "b0295a78",
   "metadata": {},
   "outputs": [],
   "source": [
    "#instantiate the DataQualityUtils class\n",
    "dq=DataQualityUtils(df)"
   ]
  },
  {
   "cell_type": "code",
   "execution_count": 183,
   "id": "f61b87ea",
   "metadata": {},
   "outputs": [
    {
     "data": {
      "text/html": [
       "<div>\n",
       "<style scoped>\n",
       "    .dataframe tbody tr th:only-of-type {\n",
       "        vertical-align: middle;\n",
       "    }\n",
       "\n",
       "    .dataframe tbody tr th {\n",
       "        vertical-align: top;\n",
       "    }\n",
       "\n",
       "    .dataframe thead th {\n",
       "        text-align: right;\n",
       "    }\n",
       "</style>\n",
       "<table border=\"1\" class=\"dataframe\">\n",
       "  <thead>\n",
       "    <tr style=\"text-align: right;\">\n",
       "      <th></th>\n",
       "      <th>#missing_values</th>\n",
       "      <th>percentage</th>\n",
       "    </tr>\n",
       "  </thead>\n",
       "  <tbody>\n",
       "    <tr>\n",
       "      <th>repliedAt</th>\n",
       "      <td>977</td>\n",
       "      <td>97.70%</td>\n",
       "    </tr>\n",
       "    <tr>\n",
       "      <th>replyContent</th>\n",
       "      <td>977</td>\n",
       "      <td>97.70%</td>\n",
       "    </tr>\n",
       "    <tr>\n",
       "      <th>reviewCreatedVersion</th>\n",
       "      <td>272</td>\n",
       "      <td>27.20%</td>\n",
       "    </tr>\n",
       "    <tr>\n",
       "      <th>reviewId</th>\n",
       "      <td>0</td>\n",
       "      <td>0.00%</td>\n",
       "    </tr>\n",
       "    <tr>\n",
       "      <th>userName</th>\n",
       "      <td>0</td>\n",
       "      <td>0.00%</td>\n",
       "    </tr>\n",
       "    <tr>\n",
       "      <th>userImage</th>\n",
       "      <td>0</td>\n",
       "      <td>0.00%</td>\n",
       "    </tr>\n",
       "    <tr>\n",
       "      <th>thumbsUpCount</th>\n",
       "      <td>0</td>\n",
       "      <td>0.00%</td>\n",
       "    </tr>\n",
       "    <tr>\n",
       "      <th>score</th>\n",
       "      <td>0</td>\n",
       "      <td>0.00%</td>\n",
       "    </tr>\n",
       "    <tr>\n",
       "      <th>content</th>\n",
       "      <td>0</td>\n",
       "      <td>0.00%</td>\n",
       "    </tr>\n",
       "    <tr>\n",
       "      <th>at</th>\n",
       "      <td>0</td>\n",
       "      <td>0.00%</td>\n",
       "    </tr>\n",
       "  </tbody>\n",
       "</table>\n",
       "</div>"
      ],
      "text/plain": [
       "                      #missing_values percentage\n",
       "repliedAt                         977     97.70%\n",
       "replyContent                      977     97.70%\n",
       "reviewCreatedVersion              272     27.20%\n",
       "reviewId                            0      0.00%\n",
       "userName                            0      0.00%\n",
       "userImage                           0      0.00%\n",
       "thumbsUpCount                       0      0.00%\n",
       "score                               0      0.00%\n",
       "content                             0      0.00%\n",
       "at                                  0      0.00%"
      ]
     },
     "execution_count": 183,
     "metadata": {},
     "output_type": "execute_result"
    }
   ],
   "source": [
    "#count of missing values per column\n",
    "dq.summary()"
   ]
  },
  {
   "cell_type": "markdown",
   "id": "b4ca61a8",
   "metadata": {},
   "source": [
    "### Missing Values"
   ]
  },
  {
   "cell_type": "code",
   "execution_count": 184,
   "id": "731377ae",
   "metadata": {},
   "outputs": [
    {
     "data": {
      "text/html": [
       "<div>\n",
       "<style scoped>\n",
       "    .dataframe tbody tr th:only-of-type {\n",
       "        vertical-align: middle;\n",
       "    }\n",
       "\n",
       "    .dataframe tbody tr th {\n",
       "        vertical-align: top;\n",
       "    }\n",
       "\n",
       "    .dataframe thead th {\n",
       "        text-align: right;\n",
       "    }\n",
       "</style>\n",
       "<table border=\"1\" class=\"dataframe\">\n",
       "  <thead>\n",
       "    <tr style=\"text-align: right;\">\n",
       "      <th></th>\n",
       "      <th>#missing_values</th>\n",
       "      <th>percentage</th>\n",
       "    </tr>\n",
       "  </thead>\n",
       "  <tbody>\n",
       "    <tr>\n",
       "      <th>replyContent</th>\n",
       "      <td>977</td>\n",
       "      <td>97.70%</td>\n",
       "    </tr>\n",
       "    <tr>\n",
       "      <th>repliedAt</th>\n",
       "      <td>977</td>\n",
       "      <td>97.70%</td>\n",
       "    </tr>\n",
       "    <tr>\n",
       "      <th>reviewCreatedVersion</th>\n",
       "      <td>272</td>\n",
       "      <td>27.20%</td>\n",
       "    </tr>\n",
       "  </tbody>\n",
       "</table>\n",
       "</div>"
      ],
      "text/plain": [
       "                      #missing_values percentage\n",
       "replyContent                      977     97.70%\n",
       "repliedAt                         977     97.70%\n",
       "reviewCreatedVersion              272     27.20%"
      ]
     },
     "execution_count": 184,
     "metadata": {},
     "output_type": "execute_result"
    }
   ],
   "source": [
    "#column with >5% nulls\n",
    "dq.columns_with_significant_missing_values(threshold=5)"
   ]
  },
  {
   "cell_type": "markdown",
   "id": "6ee86483",
   "metadata": {},
   "source": [
    "### Duplicates"
   ]
  },
  {
   "cell_type": "code",
   "execution_count": 185,
   "id": "e1021b8b",
   "metadata": {},
   "outputs": [
    {
     "data": {
      "text/plain": [
       "np.int64(0)"
      ]
     },
     "execution_count": 185,
     "metadata": {},
     "output_type": "execute_result"
    }
   ],
   "source": [
    "#count duplicates\n",
    "dq.count_duplicates()"
   ]
  },
  {
   "cell_type": "code",
   "execution_count": 186,
   "id": "d1690181",
   "metadata": {},
   "outputs": [
    {
     "name": "stdout",
     "output_type": "stream",
     "text": [
      "[INFO] Found 0 duplicated row(s).\n"
     ]
    },
    {
     "data": {
      "text/html": [
       "<div>\n",
       "<style scoped>\n",
       "    .dataframe tbody tr th:only-of-type {\n",
       "        vertical-align: middle;\n",
       "    }\n",
       "\n",
       "    .dataframe tbody tr th {\n",
       "        vertical-align: top;\n",
       "    }\n",
       "\n",
       "    .dataframe thead th {\n",
       "        text-align: right;\n",
       "    }\n",
       "</style>\n",
       "<table border=\"1\" class=\"dataframe\">\n",
       "  <thead>\n",
       "    <tr style=\"text-align: right;\">\n",
       "      <th></th>\n",
       "      <th>reviewId</th>\n",
       "      <th>userName</th>\n",
       "      <th>userImage</th>\n",
       "      <th>content</th>\n",
       "      <th>score</th>\n",
       "      <th>thumbsUpCount</th>\n",
       "      <th>reviewCreatedVersion</th>\n",
       "      <th>at</th>\n",
       "      <th>replyContent</th>\n",
       "      <th>repliedAt</th>\n",
       "    </tr>\n",
       "  </thead>\n",
       "  <tbody>\n",
       "  </tbody>\n",
       "</table>\n",
       "</div>"
      ],
      "text/plain": [
       "Empty DataFrame\n",
       "Columns: [reviewId, userName, userImage, content, score, thumbsUpCount, reviewCreatedVersion, at, replyContent, repliedAt]\n",
       "Index: []"
      ]
     },
     "execution_count": 186,
     "metadata": {},
     "output_type": "execute_result"
    }
   ],
   "source": [
    "#look at the duplicates\n",
    "dq.display_duplicates()"
   ]
  },
  {
   "cell_type": "markdown",
   "id": "cbff01de",
   "metadata": {},
   "source": [
    "### Invalid Values"
   ]
  },
  {
   "cell_type": "code",
   "execution_count": 187,
   "id": "d067cc0e",
   "metadata": {},
   "outputs": [
    {
     "data": {
      "text/plain": [
       "{}"
      ]
     },
     "execution_count": 187,
     "metadata": {},
     "output_type": "execute_result"
    }
   ],
   "source": [
    "dq.find_invalid_values()"
   ]
  },
  {
   "cell_type": "markdown",
   "id": "83468ef5",
   "metadata": {},
   "source": [
    "## 🧹 5. Data Cleaning  <a id='5-data-cleaning'></a>"
   ]
  },
  {
   "cell_type": "code",
   "execution_count": 188,
   "id": "494fc912",
   "metadata": {},
   "outputs": [],
   "source": [
    "#saving the original dataset for later use\n",
    "df_original=df.copy()"
   ]
  },
  {
   "cell_type": "code",
   "execution_count": 189,
   "id": "aea1fc12",
   "metadata": {},
   "outputs": [
    {
     "name": "stdout",
     "output_type": "stream",
     "text": [
      "[INFO] Dropped 0 duplicate row(s).\n"
     ]
    },
    {
     "data": {
      "text/html": [
       "<div>\n",
       "<style scoped>\n",
       "    .dataframe tbody tr th:only-of-type {\n",
       "        vertical-align: middle;\n",
       "    }\n",
       "\n",
       "    .dataframe tbody tr th {\n",
       "        vertical-align: top;\n",
       "    }\n",
       "\n",
       "    .dataframe thead th {\n",
       "        text-align: right;\n",
       "    }\n",
       "</style>\n",
       "<table border=\"1\" class=\"dataframe\">\n",
       "  <thead>\n",
       "    <tr style=\"text-align: right;\">\n",
       "      <th></th>\n",
       "      <th>reviewId</th>\n",
       "      <th>userName</th>\n",
       "      <th>userImage</th>\n",
       "      <th>content</th>\n",
       "      <th>score</th>\n",
       "      <th>thumbsUpCount</th>\n",
       "      <th>reviewCreatedVersion</th>\n",
       "      <th>at</th>\n",
       "      <th>replyContent</th>\n",
       "      <th>repliedAt</th>\n",
       "    </tr>\n",
       "  </thead>\n",
       "  <tbody>\n",
       "    <tr>\n",
       "      <th>29</th>\n",
       "      <td>e4f9ad9a-576a-4bbe-a910-812fd1b7e08a</td>\n",
       "      <td>Amnuel Gashaw Aman</td>\n",
       "      <td>https://play-lh.googleusercontent.com/a-/ALV-U...</td>\n",
       "      <td>good</td>\n",
       "      <td>5</td>\n",
       "      <td>0</td>\n",
       "      <td>NaN</td>\n",
       "      <td>2025-05-06 17:44:32</td>\n",
       "      <td>NaN</td>\n",
       "      <td>NaN</td>\n",
       "    </tr>\n",
       "    <tr>\n",
       "      <th>695</th>\n",
       "      <td>a0ffc2f3-5b01-4f69-b9fa-ebca3e358bce</td>\n",
       "      <td>Amir Mohammed</td>\n",
       "      <td>https://play-lh.googleusercontent.com/a-/ALV-U...</td>\n",
       "      <td>It doesn't function properly!! You don't even ...</td>\n",
       "      <td>1</td>\n",
       "      <td>2</td>\n",
       "      <td>24.04.26</td>\n",
       "      <td>2024-04-29 23:09:32</td>\n",
       "      <td>NaN</td>\n",
       "      <td>NaN</td>\n",
       "    </tr>\n",
       "    <tr>\n",
       "      <th>589</th>\n",
       "      <td>63a101fb-cc46-41f6-a9cc-c494cb516a50</td>\n",
       "      <td>Yordanos Getu</td>\n",
       "      <td>https://play-lh.googleusercontent.com/a/ACg8oc...</td>\n",
       "      <td>Doesn't work properly, keeps closing won't act...</td>\n",
       "      <td>1</td>\n",
       "      <td>0</td>\n",
       "      <td>NaN</td>\n",
       "      <td>2024-05-05 19:15:19</td>\n",
       "      <td>NaN</td>\n",
       "      <td>NaN</td>\n",
       "    </tr>\n",
       "    <tr>\n",
       "      <th>232</th>\n",
       "      <td>e3dac0d5-d198-42ee-8536-2d6fd0365164</td>\n",
       "      <td>Abdu Ahme</td>\n",
       "      <td>https://play-lh.googleusercontent.com/a/ACg8oc...</td>\n",
       "      <td>Best app to me</td>\n",
       "      <td>5</td>\n",
       "      <td>1</td>\n",
       "      <td>24.09.30</td>\n",
       "      <td>2024-10-11 21:16:21</td>\n",
       "      <td>NaN</td>\n",
       "      <td>NaN</td>\n",
       "    </tr>\n",
       "    <tr>\n",
       "      <th>642</th>\n",
       "      <td>699d2980-f449-42c2-bf45-6f892e768961</td>\n",
       "      <td>wondimagegn mekebo</td>\n",
       "      <td>https://play-lh.googleusercontent.com/a/ACg8oc...</td>\n",
       "      <td>Good</td>\n",
       "      <td>3</td>\n",
       "      <td>0</td>\n",
       "      <td>24.04.26</td>\n",
       "      <td>2024-05-02 13:21:00</td>\n",
       "      <td>NaN</td>\n",
       "      <td>NaN</td>\n",
       "    </tr>\n",
       "  </tbody>\n",
       "</table>\n",
       "</div>"
      ],
      "text/plain": [
       "                                 reviewId            userName  \\\n",
       "29   e4f9ad9a-576a-4bbe-a910-812fd1b7e08a  Amnuel Gashaw Aman   \n",
       "695  a0ffc2f3-5b01-4f69-b9fa-ebca3e358bce       Amir Mohammed   \n",
       "589  63a101fb-cc46-41f6-a9cc-c494cb516a50       Yordanos Getu   \n",
       "232  e3dac0d5-d198-42ee-8536-2d6fd0365164           Abdu Ahme   \n",
       "642  699d2980-f449-42c2-bf45-6f892e768961  wondimagegn mekebo   \n",
       "\n",
       "                                             userImage  \\\n",
       "29   https://play-lh.googleusercontent.com/a-/ALV-U...   \n",
       "695  https://play-lh.googleusercontent.com/a-/ALV-U...   \n",
       "589  https://play-lh.googleusercontent.com/a/ACg8oc...   \n",
       "232  https://play-lh.googleusercontent.com/a/ACg8oc...   \n",
       "642  https://play-lh.googleusercontent.com/a/ACg8oc...   \n",
       "\n",
       "                                               content  score  thumbsUpCount  \\\n",
       "29                                                good      5              0   \n",
       "695  It doesn't function properly!! You don't even ...      1              2   \n",
       "589  Doesn't work properly, keeps closing won't act...      1              0   \n",
       "232                                     Best app to me      5              1   \n",
       "642                                               Good      3              0   \n",
       "\n",
       "    reviewCreatedVersion                   at replyContent repliedAt  \n",
       "29                   NaN  2025-05-06 17:44:32          NaN       NaN  \n",
       "695             24.04.26  2024-04-29 23:09:32          NaN       NaN  \n",
       "589                  NaN  2024-05-05 19:15:19          NaN       NaN  \n",
       "232             24.09.30  2024-10-11 21:16:21          NaN       NaN  \n",
       "642             24.04.26  2024-05-02 13:21:00          NaN       NaN  "
      ]
     },
     "execution_count": 189,
     "metadata": {},
     "output_type": "execute_result"
    }
   ],
   "source": [
    "#drop duplicated rows\n",
    "dq.drop_duplicates().sample(5)"
   ]
  },
  {
   "cell_type": "code",
   "execution_count": 190,
   "id": "3d257001",
   "metadata": {},
   "outputs": [
    {
     "name": "stdout",
     "output_type": "stream",
     "text": [
      "[INFO] Found 0 duplicated row(s).\n"
     ]
    },
    {
     "data": {
      "text/html": [
       "<div>\n",
       "<style scoped>\n",
       "    .dataframe tbody tr th:only-of-type {\n",
       "        vertical-align: middle;\n",
       "    }\n",
       "\n",
       "    .dataframe tbody tr th {\n",
       "        vertical-align: top;\n",
       "    }\n",
       "\n",
       "    .dataframe thead th {\n",
       "        text-align: right;\n",
       "    }\n",
       "</style>\n",
       "<table border=\"1\" class=\"dataframe\">\n",
       "  <thead>\n",
       "    <tr style=\"text-align: right;\">\n",
       "      <th></th>\n",
       "      <th>reviewId</th>\n",
       "      <th>userName</th>\n",
       "      <th>userImage</th>\n",
       "      <th>content</th>\n",
       "      <th>score</th>\n",
       "      <th>thumbsUpCount</th>\n",
       "      <th>reviewCreatedVersion</th>\n",
       "      <th>at</th>\n",
       "      <th>replyContent</th>\n",
       "      <th>repliedAt</th>\n",
       "    </tr>\n",
       "  </thead>\n",
       "  <tbody>\n",
       "  </tbody>\n",
       "</table>\n",
       "</div>"
      ],
      "text/plain": [
       "Empty DataFrame\n",
       "Columns: [reviewId, userName, userImage, content, score, thumbsUpCount, reviewCreatedVersion, at, replyContent, repliedAt]\n",
       "Index: []"
      ]
     },
     "execution_count": 190,
     "metadata": {},
     "output_type": "execute_result"
    }
   ],
   "source": [
    "# Check for duplicates again after dropping\n",
    "dq.display_duplicates()"
   ]
  },
  {
   "cell_type": "code",
   "execution_count": 191,
   "id": "62e4215c",
   "metadata": {},
   "outputs": [
    {
     "name": "stdout",
     "output_type": "stream",
     "text": [
      "[INFO] Dropped 0 row(s) with missing values in columns: ['content', 'score']\n"
     ]
    },
    {
     "data": {
      "text/html": [
       "<div>\n",
       "<style scoped>\n",
       "    .dataframe tbody tr th:only-of-type {\n",
       "        vertical-align: middle;\n",
       "    }\n",
       "\n",
       "    .dataframe tbody tr th {\n",
       "        vertical-align: top;\n",
       "    }\n",
       "\n",
       "    .dataframe thead th {\n",
       "        text-align: right;\n",
       "    }\n",
       "</style>\n",
       "<table border=\"1\" class=\"dataframe\">\n",
       "  <thead>\n",
       "    <tr style=\"text-align: right;\">\n",
       "      <th></th>\n",
       "      <th>reviewId</th>\n",
       "      <th>userName</th>\n",
       "      <th>userImage</th>\n",
       "      <th>content</th>\n",
       "      <th>score</th>\n",
       "      <th>thumbsUpCount</th>\n",
       "      <th>reviewCreatedVersion</th>\n",
       "      <th>at</th>\n",
       "      <th>replyContent</th>\n",
       "      <th>repliedAt</th>\n",
       "    </tr>\n",
       "  </thead>\n",
       "  <tbody>\n",
       "    <tr>\n",
       "      <th>571</th>\n",
       "      <td>c20f2730-8f04-4bb5-b0df-0201b263e3e6</td>\n",
       "      <td>Alazar Mulat</td>\n",
       "      <td>https://play-lh.googleusercontent.com/a-/ALV-U...</td>\n",
       "      <td>It's not functional at all</td>\n",
       "      <td>1</td>\n",
       "      <td>1</td>\n",
       "      <td>24.05.07</td>\n",
       "      <td>2024-05-08 17:27:40</td>\n",
       "      <td>NaN</td>\n",
       "      <td>NaN</td>\n",
       "    </tr>\n",
       "    <tr>\n",
       "      <th>40</th>\n",
       "      <td>df1d7402-68cb-4f20-ae7f-d02866690692</td>\n",
       "      <td>Shimelis Keterew</td>\n",
       "      <td>https://play-lh.googleusercontent.com/a/ACg8oc...</td>\n",
       "      <td>አይከፍትም እኮ</td>\n",
       "      <td>1</td>\n",
       "      <td>0</td>\n",
       "      <td>25.03.07</td>\n",
       "      <td>2025-04-17 10:12:16</td>\n",
       "      <td>NaN</td>\n",
       "      <td>NaN</td>\n",
       "    </tr>\n",
       "    <tr>\n",
       "      <th>85</th>\n",
       "      <td>1cfcfa11-67f5-4315-9f2d-f47ab27f0910</td>\n",
       "      <td>abrar yasin</td>\n",
       "      <td>https://play-lh.googleusercontent.com/a/ACg8oc...</td>\n",
       "      <td>Wonderfull app</td>\n",
       "      <td>5</td>\n",
       "      <td>0</td>\n",
       "      <td>NaN</td>\n",
       "      <td>2025-03-08 10:23:26</td>\n",
       "      <td>NaN</td>\n",
       "      <td>NaN</td>\n",
       "    </tr>\n",
       "    <tr>\n",
       "      <th>44</th>\n",
       "      <td>6474e6df-7925-4e06-a67b-944237843b02</td>\n",
       "      <td>Mezemir Haset</td>\n",
       "      <td>https://play-lh.googleusercontent.com/a/ACg8oc...</td>\n",
       "      <td>nice</td>\n",
       "      <td>5</td>\n",
       "      <td>0</td>\n",
       "      <td>NaN</td>\n",
       "      <td>2025-04-09 04:01:08</td>\n",
       "      <td>NaN</td>\n",
       "      <td>NaN</td>\n",
       "    </tr>\n",
       "    <tr>\n",
       "      <th>791</th>\n",
       "      <td>e77d5a08-ede0-4425-b8aa-7e0b27dd07ba</td>\n",
       "      <td>Feti Jemal</td>\n",
       "      <td>https://play-lh.googleusercontent.com/a-/ALV-U...</td>\n",
       "      <td>Hey no working</td>\n",
       "      <td>5</td>\n",
       "      <td>1</td>\n",
       "      <td>24.02.07</td>\n",
       "      <td>2024-04-19 22:02:58</td>\n",
       "      <td>NaN</td>\n",
       "      <td>NaN</td>\n",
       "    </tr>\n",
       "  </tbody>\n",
       "</table>\n",
       "</div>"
      ],
      "text/plain": [
       "                                 reviewId          userName  \\\n",
       "571  c20f2730-8f04-4bb5-b0df-0201b263e3e6      Alazar Mulat   \n",
       "40   df1d7402-68cb-4f20-ae7f-d02866690692  Shimelis Keterew   \n",
       "85   1cfcfa11-67f5-4315-9f2d-f47ab27f0910       abrar yasin   \n",
       "44   6474e6df-7925-4e06-a67b-944237843b02     Mezemir Haset   \n",
       "791  e77d5a08-ede0-4425-b8aa-7e0b27dd07ba        Feti Jemal   \n",
       "\n",
       "                                             userImage  \\\n",
       "571  https://play-lh.googleusercontent.com/a-/ALV-U...   \n",
       "40   https://play-lh.googleusercontent.com/a/ACg8oc...   \n",
       "85   https://play-lh.googleusercontent.com/a/ACg8oc...   \n",
       "44   https://play-lh.googleusercontent.com/a/ACg8oc...   \n",
       "791  https://play-lh.googleusercontent.com/a-/ALV-U...   \n",
       "\n",
       "                        content  score  thumbsUpCount reviewCreatedVersion  \\\n",
       "571  It's not functional at all      1              1             24.05.07   \n",
       "40                    አይከፍትም እኮ      1              0             25.03.07   \n",
       "85               Wonderfull app      5              0                  NaN   \n",
       "44                         nice      5              0                  NaN   \n",
       "791              Hey no working      5              1             24.02.07   \n",
       "\n",
       "                      at replyContent repliedAt  \n",
       "571  2024-05-08 17:27:40          NaN       NaN  \n",
       "40   2025-04-17 10:12:16          NaN       NaN  \n",
       "85   2025-03-08 10:23:26          NaN       NaN  \n",
       "44   2025-04-09 04:01:08          NaN       NaN  \n",
       "791  2024-04-19 22:02:58          NaN       NaN  "
      ]
     },
     "execution_count": 191,
     "metadata": {},
     "output_type": "execute_result"
    }
   ],
   "source": [
    "# Drop rows missing significant columns\n",
    "dq.drop_rows_with_missing_in_columns(['content','score']).sample(5)"
   ]
  },
  {
   "cell_type": "code",
   "execution_count": 192,
   "id": "5761e72c",
   "metadata": {},
   "outputs": [
    {
     "name": "stdout",
     "output_type": "stream",
     "text": [
      "[INFO] No completely empty columns found.\n"
     ]
    }
   ],
   "source": [
    "#drop columns with no data\n",
    "df=dq.drop_empty_columns()"
   ]
  },
  {
   "cell_type": "code",
   "execution_count": 193,
   "id": "9a479df8",
   "metadata": {},
   "outputs": [
    {
     "data": {
      "text/html": [
       "<div>\n",
       "<style scoped>\n",
       "    .dataframe tbody tr th:only-of-type {\n",
       "        vertical-align: middle;\n",
       "    }\n",
       "\n",
       "    .dataframe tbody tr th {\n",
       "        vertical-align: top;\n",
       "    }\n",
       "\n",
       "    .dataframe thead th {\n",
       "        text-align: right;\n",
       "    }\n",
       "</style>\n",
       "<table border=\"1\" class=\"dataframe\">\n",
       "  <thead>\n",
       "    <tr style=\"text-align: right;\">\n",
       "      <th></th>\n",
       "      <th>#missing_values</th>\n",
       "      <th>percentage</th>\n",
       "    </tr>\n",
       "  </thead>\n",
       "  <tbody>\n",
       "    <tr>\n",
       "      <th>replyContent</th>\n",
       "      <td>977</td>\n",
       "      <td>97.70%</td>\n",
       "    </tr>\n",
       "    <tr>\n",
       "      <th>repliedAt</th>\n",
       "      <td>977</td>\n",
       "      <td>97.70%</td>\n",
       "    </tr>\n",
       "    <tr>\n",
       "      <th>reviewCreatedVersion</th>\n",
       "      <td>272</td>\n",
       "      <td>27.20%</td>\n",
       "    </tr>\n",
       "  </tbody>\n",
       "</table>\n",
       "</div>"
      ],
      "text/plain": [
       "                      #missing_values percentage\n",
       "replyContent                      977     97.70%\n",
       "repliedAt                         977     97.70%\n",
       "reviewCreatedVersion              272     27.20%"
      ]
     },
     "execution_count": 193,
     "metadata": {},
     "output_type": "execute_result"
    }
   ],
   "source": [
    "dq.columns_with_significant_missing_values(threshold=5)"
   ]
  },
  {
   "cell_type": "code",
   "execution_count": 194,
   "id": "94d16f85",
   "metadata": {},
   "outputs": [
    {
     "name": "stdout",
     "output_type": "stream",
     "text": [
      "[INFO] Dropped columns: ['reviewId', 'userImage', 'reviewCreatedVersion', 'replyContent', 'repliedAt']\n"
     ]
    }
   ],
   "source": [
    "#drop the reviewid column - it is not useful for analysis\n",
    "df = dq.drop_columns(['reviewId','userImage','reviewCreatedVersion','replyContent','repliedAt'])"
   ]
  },
  {
   "cell_type": "code",
   "execution_count": 195,
   "id": "61565685",
   "metadata": {},
   "outputs": [
    {
     "data": {
      "text/plain": [
       "{}"
      ]
     },
     "execution_count": 195,
     "metadata": {},
     "output_type": "execute_result"
    }
   ],
   "source": [
    "dq.find_invalid_values()"
   ]
  },
  {
   "cell_type": "code",
   "execution_count": 196,
   "id": "84c68105",
   "metadata": {},
   "outputs": [
    {
     "name": "stdout",
     "output_type": "stream",
     "text": [
      "[INFO] Replaced emojis with text equivalents in 'content' column.\n"
     ]
    }
   ],
   "source": [
    "df=dq.replace_emojis_with_text(\"content\")"
   ]
  },
  {
   "cell_type": "code",
   "execution_count": 197,
   "id": "adca3dae",
   "metadata": {},
   "outputs": [],
   "source": [
    "# df=await dq.translate_non_english_text(\"content\")"
   ]
  },
  {
   "cell_type": "code",
   "execution_count": 198,
   "id": "cef4c97c",
   "metadata": {},
   "outputs": [
    {
     "data": {
      "text/plain": [
       "(1000, 5)"
      ]
     },
     "execution_count": 198,
     "metadata": {},
     "output_type": "execute_result"
    }
   ],
   "source": [
    "df.shape"
   ]
  },
  {
   "cell_type": "code",
   "execution_count": 199,
   "id": "da860250",
   "metadata": {},
   "outputs": [
    {
     "name": "stdout",
     "output_type": "stream",
     "text": [
      "[INFO] Dropped 361 non-English rows from 'content' column.\n"
     ]
    }
   ],
   "source": [
    "df=dq.filter_english_text(\"content\")"
   ]
  },
  {
   "cell_type": "markdown",
   "id": "5941313a",
   "metadata": {},
   "source": [
    "### Inconsistencies and Inaccuracies"
   ]
  },
  {
   "cell_type": "code",
   "execution_count": 200,
   "id": "0f13b809",
   "metadata": {},
   "outputs": [],
   "source": [
    "#drop redundancies and clean column names\n",
    "df=dq.drop_redundant_columns()"
   ]
  },
  {
   "cell_type": "code",
   "execution_count": 201,
   "id": "d1f60871",
   "metadata": {},
   "outputs": [],
   "source": [
    "df=dq.convert_columns_to_datetime()"
   ]
  },
  {
   "cell_type": "code",
   "execution_count": 202,
   "id": "5a756656",
   "metadata": {},
   "outputs": [
    {
     "name": "stdout",
     "output_type": "stream",
     "text": [
      "<class 'pandas.core.frame.DataFrame'>\n",
      "Index: 639 entries, 1 to 999\n",
      "Data columns (total 5 columns):\n",
      " #   Column         Non-Null Count  Dtype \n",
      "---  ------         --------------  ----- \n",
      " 0   userName       639 non-null    object\n",
      " 1   content        639 non-null    object\n",
      " 2   score          639 non-null    int64 \n",
      " 3   thumbsUpCount  639 non-null    int64 \n",
      " 4   at             639 non-null    object\n",
      "dtypes: int64(2), object(3)\n",
      "memory usage: 30.0+ KB\n"
     ]
    }
   ],
   "source": [
    "df.info()"
   ]
  },
  {
   "cell_type": "code",
   "execution_count": 203,
   "id": "4d58f6f7",
   "metadata": {},
   "outputs": [
    {
     "data": {
      "text/plain": [
       "Index(['userName', 'content', 'score', 'thumbsUpCount', 'at'], dtype='object')"
      ]
     },
     "execution_count": 203,
     "metadata": {},
     "output_type": "execute_result"
    }
   ],
   "source": [
    "df.columns"
   ]
  },
  {
   "cell_type": "code",
   "execution_count": 204,
   "id": "9cbdc0d5",
   "metadata": {},
   "outputs": [
    {
     "name": "stdout",
     "output_type": "stream",
     "text": [
      "[INFO] Renamed columns: {'content': 'review', 'score': 'rating', 'at': 'date'}\n"
     ]
    }
   ],
   "source": [
    "#  df=df.rename(columns={\"content\": \"review\", \"score\": \"rating\", \"at\": \"date\"}, inplace=True)\n",
    "df=dq.rename_and_prioritize_columns({\"content\": \"review\", \"score\": \"rating\", \"at\": \"date\"})"
   ]
  },
  {
   "cell_type": "code",
   "execution_count": 205,
   "id": "6674e038",
   "metadata": {},
   "outputs": [],
   "source": [
    "df[\"bank\"] = BANK  # add bank name column\n",
    "df[\"source\"] = \"Google Store\"  # add source column"
   ]
  },
  {
   "cell_type": "code",
   "execution_count": 206,
   "id": "0142f406",
   "metadata": {},
   "outputs": [
    {
     "data": {
      "text/html": [
       "<div>\n",
       "<style scoped>\n",
       "    .dataframe tbody tr th:only-of-type {\n",
       "        vertical-align: middle;\n",
       "    }\n",
       "\n",
       "    .dataframe tbody tr th {\n",
       "        vertical-align: top;\n",
       "    }\n",
       "\n",
       "    .dataframe thead th {\n",
       "        text-align: right;\n",
       "    }\n",
       "</style>\n",
       "<table border=\"1\" class=\"dataframe\">\n",
       "  <thead>\n",
       "    <tr style=\"text-align: right;\">\n",
       "      <th></th>\n",
       "      <th>review</th>\n",
       "      <th>rating</th>\n",
       "      <th>date</th>\n",
       "      <th>userName</th>\n",
       "      <th>thumbsUpCount</th>\n",
       "      <th>bank</th>\n",
       "      <th>source</th>\n",
       "    </tr>\n",
       "  </thead>\n",
       "  <tbody>\n",
       "    <tr>\n",
       "      <th>972</th>\n",
       "      <td>I am having a challenge to use the app. The ap...</td>\n",
       "      <td>3</td>\n",
       "      <td>2024-02-06 19:31:28</td>\n",
       "      <td>Mahider Mulugeta</td>\n",
       "      <td>3</td>\n",
       "      <td>BOA</td>\n",
       "      <td>Google Store</td>\n",
       "    </tr>\n",
       "    <tr>\n",
       "      <th>712</th>\n",
       "      <td>The update app is the worest one when i compar...</td>\n",
       "      <td>1</td>\n",
       "      <td>2024-04-28 23:14:58</td>\n",
       "      <td>M A</td>\n",
       "      <td>3</td>\n",
       "      <td>BOA</td>\n",
       "      <td>Google Store</td>\n",
       "    </tr>\n",
       "    <tr>\n",
       "      <th>243</th>\n",
       "      <td>I'm living out of country how may I download a...</td>\n",
       "      <td>1</td>\n",
       "      <td>2024-10-04 05:30:33</td>\n",
       "      <td>Pastor Yirdaw Tessema</td>\n",
       "      <td>1</td>\n",
       "      <td>BOA</td>\n",
       "      <td>Google Store</td>\n",
       "    </tr>\n",
       "    <tr>\n",
       "      <th>784</th>\n",
       "      <td>Very very bad app</td>\n",
       "      <td>1</td>\n",
       "      <td>2024-04-21 09:19:47</td>\n",
       "      <td>Nesrela Rdwan</td>\n",
       "      <td>0</td>\n",
       "      <td>BOA</td>\n",
       "      <td>Google Store</td>\n",
       "    </tr>\n",
       "    <tr>\n",
       "      <th>562</th>\n",
       "      <td>Ethiopia</td>\n",
       "      <td>5</td>\n",
       "      <td>2024-05-09 21:34:00</td>\n",
       "      <td>Abrham King</td>\n",
       "      <td>1</td>\n",
       "      <td>BOA</td>\n",
       "      <td>Google Store</td>\n",
       "    </tr>\n",
       "    <tr>\n",
       "      <th>767</th>\n",
       "      <td>I like this bank by his activity and respect c...</td>\n",
       "      <td>5</td>\n",
       "      <td>2024-04-22 20:01:19</td>\n",
       "      <td>Haylush Haylemaryam</td>\n",
       "      <td>2</td>\n",
       "      <td>BOA</td>\n",
       "      <td>Google Store</td>\n",
       "    </tr>\n",
       "    <tr>\n",
       "      <th>242</th>\n",
       "      <td>Stop telling me what to do with my phone, BOA....</td>\n",
       "      <td>1</td>\n",
       "      <td>2024-10-04 05:55:49</td>\n",
       "      <td>Eyuel Hailu</td>\n",
       "      <td>14</td>\n",
       "      <td>BOA</td>\n",
       "      <td>Google Store</td>\n",
       "    </tr>\n",
       "    <tr>\n",
       "      <th>191</th>\n",
       "      <td>The worst app update ever. Why would you inclu...</td>\n",
       "      <td>1</td>\n",
       "      <td>2024-11-17 22:11:45</td>\n",
       "      <td>Daniel Berhanu</td>\n",
       "      <td>22</td>\n",
       "      <td>BOA</td>\n",
       "      <td>Google Store</td>\n",
       "    </tr>\n",
       "    <tr>\n",
       "      <th>615</th>\n",
       "      <td>This is too poorer than the previous app.</td>\n",
       "      <td>1</td>\n",
       "      <td>2024-05-03 13:38:01</td>\n",
       "      <td>Yonatan Tekle</td>\n",
       "      <td>0</td>\n",
       "      <td>BOA</td>\n",
       "      <td>Google Store</td>\n",
       "    </tr>\n",
       "    <tr>\n",
       "      <th>223</th>\n",
       "      <td>What's up I can't log in, what's wrong</td>\n",
       "      <td>5</td>\n",
       "      <td>2024-10-22 05:57:44</td>\n",
       "      <td>Yordanos Yigzaw</td>\n",
       "      <td>1</td>\n",
       "      <td>BOA</td>\n",
       "      <td>Google Store</td>\n",
       "    </tr>\n",
       "  </tbody>\n",
       "</table>\n",
       "</div>"
      ],
      "text/plain": [
       "                                                review  rating  \\\n",
       "972  I am having a challenge to use the app. The ap...       3   \n",
       "712  The update app is the worest one when i compar...       1   \n",
       "243  I'm living out of country how may I download a...       1   \n",
       "784                                  Very very bad app       1   \n",
       "562                                           Ethiopia       5   \n",
       "767  I like this bank by his activity and respect c...       5   \n",
       "242  Stop telling me what to do with my phone, BOA....       1   \n",
       "191  The worst app update ever. Why would you inclu...       1   \n",
       "615          This is too poorer than the previous app.       1   \n",
       "223             What's up I can't log in, what's wrong       5   \n",
       "\n",
       "                    date               userName  thumbsUpCount bank  \\\n",
       "972  2024-02-06 19:31:28       Mahider Mulugeta              3  BOA   \n",
       "712  2024-04-28 23:14:58                    M A              3  BOA   \n",
       "243  2024-10-04 05:30:33  Pastor Yirdaw Tessema              1  BOA   \n",
       "784  2024-04-21 09:19:47          Nesrela Rdwan              0  BOA   \n",
       "562  2024-05-09 21:34:00            Abrham King              1  BOA   \n",
       "767  2024-04-22 20:01:19    Haylush Haylemaryam              2  BOA   \n",
       "242  2024-10-04 05:55:49            Eyuel Hailu             14  BOA   \n",
       "191  2024-11-17 22:11:45         Daniel Berhanu             22  BOA   \n",
       "615  2024-05-03 13:38:01          Yonatan Tekle              0  BOA   \n",
       "223  2024-10-22 05:57:44        Yordanos Yigzaw              1  BOA   \n",
       "\n",
       "           source  \n",
       "972  Google Store  \n",
       "712  Google Store  \n",
       "243  Google Store  \n",
       "784  Google Store  \n",
       "562  Google Store  \n",
       "767  Google Store  \n",
       "242  Google Store  \n",
       "191  Google Store  \n",
       "615  Google Store  \n",
       "223  Google Store  "
      ]
     },
     "execution_count": 206,
     "metadata": {},
     "output_type": "execute_result"
    }
   ],
   "source": [
    "df.sample(10)"
   ]
  },
  {
   "cell_type": "markdown",
   "id": "62483744",
   "metadata": {},
   "source": [
    "## 6. Analyze & Visualize"
   ]
  },
  {
   "cell_type": "code",
   "execution_count": 207,
   "id": "c746be46",
   "metadata": {},
   "outputs": [],
   "source": [
    "#instantiate the ReviewVisualizer class\n",
    "viz = ReviewVisualizer(df)"
   ]
  },
  {
   "cell_type": "code",
   "execution_count": 208,
   "id": "75ef8025",
   "metadata": {},
   "outputs": [
    {
     "name": "stdout",
     "output_type": "stream",
     "text": [
      "[INFO] Saved plot: plots/wordcloud_reviews.png\n"
     ]
    },
    {
     "data": {
      "image/png": "[encoded data removed]",
      "text/plain": [
       "<Figure size 640x480 with 1 Axes>"
      ]
     },
     "metadata": {},
     "output_type": "display_data"
    }
   ],
   "source": [
    "#Plot a word cloud of the reviews\n",
    "viz.plot_wordcloud()"
   ]
  },
  {
   "cell_type": "code",
   "execution_count": 209,
   "id": "c10709a5",
   "metadata": {},
   "outputs": [
    {
     "name": "stderr",
     "output_type": "stream",
     "text": [
      "INFO:matplotlib.category:Using categorical units to plot a list of strings that are all parsable as floats or dates. If these strings should be plotted as numbers, cast to the appropriate data type before plotting.\n",
      "INFO:matplotlib.category:Using categorical units to plot a list of strings that are all parsable as floats or dates. If these strings should be plotted as numbers, cast to the appropriate data type before plotting.\n"
     ]
    },
    {
     "name": "stdout",
     "output_type": "stream",
     "text": [
      "[INFO] Saved plot: plots/rating_distribution.png\n"
     ]
    },
    {
     "data": {
      "image/png": "[encoded data removed]",
      "text/plain": [
       "<Figure size 640x480 with 1 Axes>"
      ]
     },
     "metadata": {},
     "output_type": "display_data"
    }
   ],
   "source": [
    "# Plot rating distribution\n",
    "viz.plot_rating_distribution()"
   ]
  },
  {
   "cell_type": "code",
   "execution_count": 210,
   "id": "344ee32c",
   "metadata": {},
   "outputs": [
    {
     "name": "stderr",
     "output_type": "stream",
     "text": [
      "INFO:matplotlib.category:Using categorical units to plot a list of strings that are all parsable as floats or dates. If these strings should be plotted as numbers, cast to the appropriate data type before plotting.\n",
      "INFO:matplotlib.category:Using categorical units to plot a list of strings that are all parsable as floats or dates. If these strings should be plotted as numbers, cast to the appropriate data type before plotting.\n"
     ]
    },
    {
     "name": "stdout",
     "output_type": "stream",
     "text": [
      "[INFO] Saved plot: plots/thumbs_up_vs_rating.png\n"
     ]
    },
    {
     "data": {
      "image/png": "[encoded data removed]",
      "text/plain": [
       "<Figure size 640x480 with 1 Axes>"
      ]
     },
     "metadata": {},
     "output_type": "display_data"
    }
   ],
   "source": [
    "#Plot thumbs up against rating\n",
    "viz.plot_thumbs_up_vs_rating()"
   ]
  },
  {
   "cell_type": "code",
   "execution_count": 211,
   "id": "02d0af65",
   "metadata": {},
   "outputs": [
    {
     "name": "stderr",
     "output_type": "stream",
     "text": [
      "INFO:matplotlib.category:Using categorical units to plot a list of strings that are all parsable as floats or dates. If these strings should be plotted as numbers, cast to the appropriate data type before plotting.\n",
      "INFO:matplotlib.category:Using categorical units to plot a list of strings that are all parsable as floats or dates. If these strings should be plotted as numbers, cast to the appropriate data type before plotting.\n"
     ]
    },
    {
     "name": "stdout",
     "output_type": "stream",
     "text": [
      "[INFO] Saved plot: plots/sentiment_vs_rating.png\n"
     ]
    },
    {
     "data": {
      "image/png": "[encoded data removed]",
      "text/plain": [
       "<Figure size 640x480 with 1 Axes>"
      ]
     },
     "metadata": {},
     "output_type": "display_data"
    }
   ],
   "source": [
    "# Plot Sentiment against Ratin\n",
    "viz.plot_sentiment_vs_rating()"
   ]
  },
  {
   "cell_type": "code",
   "execution_count": 212,
   "id": "3dc96de2",
   "metadata": {},
   "outputs": [
    {
     "name": "stdout",
     "output_type": "stream",
     "text": [
      "[INFO] Dropped columns: ['userName', 'thumbsUpCount']\n"
     ]
    }
   ],
   "source": [
    "df=dq.drop_columns(['userName','thumbsUpCount'])"
   ]
  },
  {
   "cell_type": "markdown",
   "id": "d7310f99",
   "metadata": {},
   "source": [
    "### Export Cleaned Data"
   ]
  },
  {
   "cell_type": "code",
   "execution_count": 213,
   "id": "ee5a1371",
   "metadata": {},
   "outputs": [],
   "source": [
    "# Save to csv\n",
    "df.to_csv(CLEANED_DATA_PATH, index=False)"
   ]
  },
  {
   "cell_type": "code",
   "execution_count": 214,
   "id": "f10a8046",
   "metadata": {},
   "outputs": [
    {
     "data": {
      "text/html": [
       "<div>\n",
       "<style scoped>\n",
       "    .dataframe tbody tr th:only-of-type {\n",
       "        vertical-align: middle;\n",
       "    }\n",
       "\n",
       "    .dataframe tbody tr th {\n",
       "        vertical-align: top;\n",
       "    }\n",
       "\n",
       "    .dataframe thead th {\n",
       "        text-align: right;\n",
       "    }\n",
       "</style>\n",
       "<table border=\"1\" class=\"dataframe\">\n",
       "  <thead>\n",
       "    <tr style=\"text-align: right;\">\n",
       "      <th></th>\n",
       "      <th>review</th>\n",
       "      <th>rating</th>\n",
       "      <th>date</th>\n",
       "      <th>bank</th>\n",
       "      <th>source</th>\n",
       "    </tr>\n",
       "  </thead>\n",
       "  <tbody>\n",
       "    <tr>\n",
       "      <th>543</th>\n",
       "      <td>I don't get why this app is developed it is no...</td>\n",
       "      <td>1</td>\n",
       "      <td>2024-05-12 17:48:54</td>\n",
       "      <td>BOA</td>\n",
       "      <td>Google Store</td>\n",
       "    </tr>\n",
       "    <tr>\n",
       "      <th>609</th>\n",
       "      <td>Actually faster</td>\n",
       "      <td>4</td>\n",
       "      <td>2024-05-03 19:45:11</td>\n",
       "      <td>BOA</td>\n",
       "      <td>Google Store</td>\n",
       "    </tr>\n",
       "    <tr>\n",
       "      <th>729</th>\n",
       "      <td>Very old app is disgusting</td>\n",
       "      <td>1</td>\n",
       "      <td>2024-04-25 21:16:19</td>\n",
       "      <td>BOA</td>\n",
       "      <td>Google Store</td>\n",
       "    </tr>\n",
       "    <tr>\n",
       "      <th>166</th>\n",
       "      <td>I’m giving this app one star because there are...</td>\n",
       "      <td>1</td>\n",
       "      <td>2024-12-07 22:40:19</td>\n",
       "      <td>BOA</td>\n",
       "      <td>Google Store</td>\n",
       "    </tr>\n",
       "    <tr>\n",
       "      <th>252</th>\n",
       "      <td>The App's crash always.. Error.....</td>\n",
       "      <td>3</td>\n",
       "      <td>2024-09-27 16:25:54</td>\n",
       "      <td>BOA</td>\n",
       "      <td>Google Store</td>\n",
       "    </tr>\n",
       "    <tr>\n",
       "      <th>25</th>\n",
       "      <td>i entered incorrect security question by mista...</td>\n",
       "      <td>5</td>\n",
       "      <td>2025-05-10 12:44:44</td>\n",
       "      <td>BOA</td>\n",
       "      <td>Google Store</td>\n",
       "    </tr>\n",
       "    <tr>\n",
       "      <th>131</th>\n",
       "      <td>Great</td>\n",
       "      <td>5</td>\n",
       "      <td>2025-01-04 16:59:09</td>\n",
       "      <td>BOA</td>\n",
       "      <td>Google Store</td>\n",
       "    </tr>\n",
       "    <tr>\n",
       "      <th>466</th>\n",
       "      <td>Really Bank</td>\n",
       "      <td>5</td>\n",
       "      <td>2024-06-12 02:58:51</td>\n",
       "      <td>BOA</td>\n",
       "      <td>Google Store</td>\n",
       "    </tr>\n",
       "    <tr>\n",
       "      <th>666</th>\n",
       "      <td>It doesn't work anymore</td>\n",
       "      <td>1</td>\n",
       "      <td>2024-05-01 10:23:02</td>\n",
       "      <td>BOA</td>\n",
       "      <td>Google Store</td>\n",
       "    </tr>\n",
       "    <tr>\n",
       "      <th>793</th>\n",
       "      <td>It's good app tnx for u new update it's very e...</td>\n",
       "      <td>5</td>\n",
       "      <td>2024-04-18 16:02:06</td>\n",
       "      <td>BOA</td>\n",
       "      <td>Google Store</td>\n",
       "    </tr>\n",
       "    <tr>\n",
       "      <th>734</th>\n",
       "      <td>The onky defect is that it is too slow</td>\n",
       "      <td>3</td>\n",
       "      <td>2024-04-25 12:55:44</td>\n",
       "      <td>BOA</td>\n",
       "      <td>Google Store</td>\n",
       "    </tr>\n",
       "    <tr>\n",
       "      <th>972</th>\n",
       "      <td>I am having a challenge to use the app. The ap...</td>\n",
       "      <td>3</td>\n",
       "      <td>2024-02-06 19:31:28</td>\n",
       "      <td>BOA</td>\n",
       "      <td>Google Store</td>\n",
       "    </tr>\n",
       "    <tr>\n",
       "      <th>137</th>\n",
       "      <td>It doesn't work at all.</td>\n",
       "      <td>2</td>\n",
       "      <td>2025-01-02 13:24:09</td>\n",
       "      <td>BOA</td>\n",
       "      <td>Google Store</td>\n",
       "    </tr>\n",
       "    <tr>\n",
       "      <th>878</th>\n",
       "      <td>Always crashes</td>\n",
       "      <td>1</td>\n",
       "      <td>2024-03-02 02:13:38</td>\n",
       "      <td>BOA</td>\n",
       "      <td>Google Store</td>\n",
       "    </tr>\n",
       "    <tr>\n",
       "      <th>945</th>\n",
       "      <td>Was working fine for 2 days then Error the req...</td>\n",
       "      <td>1</td>\n",
       "      <td>2024-02-14 15:22:56</td>\n",
       "      <td>BOA</td>\n",
       "      <td>Google Store</td>\n",
       "    </tr>\n",
       "  </tbody>\n",
       "</table>\n",
       "</div>"
      ],
      "text/plain": [
       "                                                review  rating  \\\n",
       "543  I don't get why this app is developed it is no...       1   \n",
       "609                                    Actually faster       4   \n",
       "729                         Very old app is disgusting       1   \n",
       "166  I’m giving this app one star because there are...       1   \n",
       "252                The App's crash always.. Error.....       3   \n",
       "25   i entered incorrect security question by mista...       5   \n",
       "131                                              Great       5   \n",
       "466                                        Really Bank       5   \n",
       "666                            It doesn't work anymore       1   \n",
       "793  It's good app tnx for u new update it's very e...       5   \n",
       "734             The onky defect is that it is too slow       3   \n",
       "972  I am having a challenge to use the app. The ap...       3   \n",
       "137                            It doesn't work at all.       2   \n",
       "878                                     Always crashes       1   \n",
       "945  Was working fine for 2 days then Error the req...       1   \n",
       "\n",
       "                    date bank        source  \n",
       "543  2024-05-12 17:48:54  BOA  Google Store  \n",
       "609  2024-05-03 19:45:11  BOA  Google Store  \n",
       "729  2024-04-25 21:16:19  BOA  Google Store  \n",
       "166  2024-12-07 22:40:19  BOA  Google Store  \n",
       "252  2024-09-27 16:25:54  BOA  Google Store  \n",
       "25   2025-05-10 12:44:44  BOA  Google Store  \n",
       "131  2025-01-04 16:59:09  BOA  Google Store  \n",
       "466  2024-06-12 02:58:51  BOA  Google Store  \n",
       "666  2024-05-01 10:23:02  BOA  Google Store  \n",
       "793  2024-04-18 16:02:06  BOA  Google Store  \n",
       "734  2024-04-25 12:55:44  BOA  Google Store  \n",
       "972  2024-02-06 19:31:28  BOA  Google Store  \n",
       "137  2025-01-02 13:24:09  BOA  Google Store  \n",
       "878  2024-03-02 02:13:38  BOA  Google Store  \n",
       "945  2024-02-14 15:22:56  BOA  Google Store  "
      ]
     },
     "execution_count": 214,
     "metadata": {},
     "output_type": "execute_result"
    }
   ],
   "source": [
    "df.sample(15)"
   ]
  }
 ],
 "metadata": {
  "kernelspec": {
   "display_name": "venv",
   "language": "python",
   "name": "python3"
  },
  "language_info": {
   "codemirror_mode": {
    "name": "ipython",
    "version": 3
   },
   "file_extension": ".py",
   "mimetype": "text/x-python",
   "name": "python",
   "nbconvert_exporter": "python",
   "pygments_lexer": "ipython3",
   "version": "3.10.12"
  }
 },
 "nbformat": 4,
 "nbformat_minor": 5
}
