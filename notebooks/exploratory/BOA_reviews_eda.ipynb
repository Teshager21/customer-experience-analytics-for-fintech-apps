{
 "cells": [
  {
   "cell_type": "markdown",
   "id": "eaeaf81f",
   "metadata": {},
   "source": [
    "# BANK APP REVIEWS - BOA"
   ]
  },
  {
   "cell_type": "code",
   "execution_count": 1,
   "id": "4aa6f112",
   "metadata": {},
   "outputs": [],
   "source": [
    "#auto loading\n",
    "%load_ext autoreload\n",
    "%autoreload 2"
   ]
  },
  {
   "cell_type": "markdown",
   "id": "f092f420",
   "metadata": {},
   "source": [
    "## 🧱 1. Setup & Imports"
   ]
  },
  {
   "cell_type": "code",
   "execution_count": 2,
   "id": "c11eff5d",
   "metadata": {},
   "outputs": [],
   "source": [
    "import warnings\n",
    "import pandas as pd\n",
    "from data.data_quality_utils import DataQualityUtils\n",
    "from data.load_data import load_local_data\n",
    "from visualization.visualizer import ReviewVisualizer"
   ]
  },
  {
   "cell_type": "code",
   "execution_count": 3,
   "id": "4ba24590",
   "metadata": {},
   "outputs": [],
   "source": [
    "warnings.filterwarnings(\"ignore\")"
   ]
  },
  {
   "cell_type": "code",
   "execution_count": 4,
   "id": "cdf6a238",
   "metadata": {},
   "outputs": [],
   "source": [
    "# variable\n",
    "BANK=\"BOA\""
   ]
  },
  {
   "cell_type": "code",
   "execution_count": 5,
   "id": "560fbaa0",
   "metadata": {},
   "outputs": [],
   "source": [
    "#paths\n",
    "RAW_DATA_PATH='../../data/raw/'+BANK+'_raw_reviews.csv'\n",
    "CLEANED_DATA_PATH='../../data/interim/'+BANK+'_cleaned_reviews.csv'"
   ]
  },
  {
   "cell_type": "markdown",
   "id": "339d89b3",
   "metadata": {},
   "source": [
    "## 📦 2. Data Loading & Overview  <a id= '2-data-loading--overview'></a>"
   ]
  },
  {
   "cell_type": "code",
   "execution_count": 6,
   "id": "0764cf5c",
   "metadata": {},
   "outputs": [
    {
     "name": "stderr",
     "output_type": "stream",
     "text": [
      "INFO:data.load_data:Loading data from: /home/teshager/Documents/10Academy/repositories/projects/customer-experience-analytics-for-fintech-apps/data/raw/BOA_raw_reviews.csv (type=csv)\n",
      "INFO:data.load_data:Data loaded successfully. Shape: (1000, 10)\n"
     ]
    },
    {
     "data": {
      "text/html": [
       "<div>\n",
       "<style scoped>\n",
       "    .dataframe tbody tr th:only-of-type {\n",
       "        vertical-align: middle;\n",
       "    }\n",
       "\n",
       "    .dataframe tbody tr th {\n",
       "        vertical-align: top;\n",
       "    }\n",
       "\n",
       "    .dataframe thead th {\n",
       "        text-align: right;\n",
       "    }\n",
       "</style>\n",
       "<table border=\"1\" class=\"dataframe\">\n",
       "  <thead>\n",
       "    <tr style=\"text-align: right;\">\n",
       "      <th></th>\n",
       "      <th>reviewId</th>\n",
       "      <th>userName</th>\n",
       "      <th>userImage</th>\n",
       "      <th>content</th>\n",
       "      <th>score</th>\n",
       "      <th>thumbsUpCount</th>\n",
       "      <th>reviewCreatedVersion</th>\n",
       "      <th>at</th>\n",
       "      <th>replyContent</th>\n",
       "      <th>repliedAt</th>\n",
       "    </tr>\n",
       "  </thead>\n",
       "  <tbody>\n",
       "    <tr>\n",
       "      <th>0</th>\n",
       "      <td>937102c6-ae88-419c-994b-80e520faacb8</td>\n",
       "      <td>Phillmon Haftom</td>\n",
       "      <td>https://play-lh.googleusercontent.com/a/ACg8oc...</td>\n",
       "      <td>it's not working</td>\n",
       "      <td>3</td>\n",
       "      <td>0</td>\n",
       "      <td>25.05.03</td>\n",
       "      <td>2025-06-05 11:57:36</td>\n",
       "      <td>NaN</td>\n",
       "      <td>NaN</td>\n",
       "    </tr>\n",
       "    <tr>\n",
       "      <th>1</th>\n",
       "      <td>3559b91c-fad9-4032-bebe-cf99974b9628</td>\n",
       "      <td>Robel Alebachew</td>\n",
       "      <td>https://play-lh.googleusercontent.com/a/ACg8oc...</td>\n",
       "      <td>Hello, I’m facing a problem with the BOA Mobil...</td>\n",
       "      <td>1</td>\n",
       "      <td>0</td>\n",
       "      <td>NaN</td>\n",
       "      <td>2025-06-03 16:21:34</td>\n",
       "      <td>NaN</td>\n",
       "      <td>NaN</td>\n",
       "    </tr>\n",
       "    <tr>\n",
       "      <th>2</th>\n",
       "      <td>10e85f30-540d-4810-ba89-85a7e004480b</td>\n",
       "      <td>Haymanot Anberber</td>\n",
       "      <td>https://play-lh.googleusercontent.com/a/ACg8oc...</td>\n",
       "      <td>exceptional</td>\n",
       "      <td>5</td>\n",
       "      <td>0</td>\n",
       "      <td>NaN</td>\n",
       "      <td>2025-06-03 10:32:35</td>\n",
       "      <td>NaN</td>\n",
       "      <td>NaN</td>\n",
       "    </tr>\n",
       "    <tr>\n",
       "      <th>3</th>\n",
       "      <td>d7f07898-4ba1-47b4-9e8c-a3cc10b1bf0f</td>\n",
       "      <td>Mohamed Abdillahi</td>\n",
       "      <td>https://play-lh.googleusercontent.com/a-/ALV-U...</td>\n",
       "      <td>BoA Mobile good bank</td>\n",
       "      <td>5</td>\n",
       "      <td>0</td>\n",
       "      <td>25.05.03</td>\n",
       "      <td>2025-06-02 14:25:12</td>\n",
       "      <td>NaN</td>\n",
       "      <td>NaN</td>\n",
       "    </tr>\n",
       "    <tr>\n",
       "      <th>4</th>\n",
       "      <td>2ca9480b-ff5f-4b59-952c-5921db83dab2</td>\n",
       "      <td>Ahadu tech</td>\n",
       "      <td>https://play-lh.googleusercontent.com/a-/ALV-U...</td>\n",
       "      <td>this is worest app 24/7 loading</td>\n",
       "      <td>1</td>\n",
       "      <td>0</td>\n",
       "      <td>25.05.03</td>\n",
       "      <td>2025-06-01 15:51:10</td>\n",
       "      <td>NaN</td>\n",
       "      <td>NaN</td>\n",
       "    </tr>\n",
       "  </tbody>\n",
       "</table>\n",
       "</div>"
      ],
      "text/plain": [
       "                               reviewId           userName  \\\n",
       "0  937102c6-ae88-419c-994b-80e520faacb8    Phillmon Haftom   \n",
       "1  3559b91c-fad9-4032-bebe-cf99974b9628    Robel Alebachew   \n",
       "2  10e85f30-540d-4810-ba89-85a7e004480b  Haymanot Anberber   \n",
       "3  d7f07898-4ba1-47b4-9e8c-a3cc10b1bf0f  Mohamed Abdillahi   \n",
       "4  2ca9480b-ff5f-4b59-952c-5921db83dab2         Ahadu tech   \n",
       "\n",
       "                                           userImage  \\\n",
       "0  https://play-lh.googleusercontent.com/a/ACg8oc...   \n",
       "1  https://play-lh.googleusercontent.com/a/ACg8oc...   \n",
       "2  https://play-lh.googleusercontent.com/a/ACg8oc...   \n",
       "3  https://play-lh.googleusercontent.com/a-/ALV-U...   \n",
       "4  https://play-lh.googleusercontent.com/a-/ALV-U...   \n",
       "\n",
       "                                             content  score  thumbsUpCount  \\\n",
       "0                                   it's not working      3              0   \n",
       "1  Hello, I’m facing a problem with the BOA Mobil...      1              0   \n",
       "2                                        exceptional      5              0   \n",
       "3                               BoA Mobile good bank      5              0   \n",
       "4                    this is worest app 24/7 loading      1              0   \n",
       "\n",
       "  reviewCreatedVersion                   at replyContent repliedAt  \n",
       "0             25.05.03  2025-06-05 11:57:36          NaN       NaN  \n",
       "1                  NaN  2025-06-03 16:21:34          NaN       NaN  \n",
       "2                  NaN  2025-06-03 10:32:35          NaN       NaN  \n",
       "3             25.05.03  2025-06-02 14:25:12          NaN       NaN  \n",
       "4             25.05.03  2025-06-01 15:51:10          NaN       NaN  "
      ]
     },
     "execution_count": 6,
     "metadata": {},
     "output_type": "execute_result"
    }
   ],
   "source": [
    "# Load the stock news sentiment data\n",
    "df = load_local_data(RAW_DATA_PATH,)\n",
    "df.head()"
   ]
  },
  {
   "cell_type": "markdown",
   "id": "78a5a158",
   "metadata": {},
   "source": [
    "### Dataset Overview"
   ]
  },
  {
   "cell_type": "code",
   "execution_count": 7,
   "id": "89101fbd",
   "metadata": {},
   "outputs": [
    {
     "data": {
      "text/html": [
       "<div>\n",
       "<style scoped>\n",
       "    .dataframe tbody tr th:only-of-type {\n",
       "        vertical-align: middle;\n",
       "    }\n",
       "\n",
       "    .dataframe tbody tr th {\n",
       "        vertical-align: top;\n",
       "    }\n",
       "\n",
       "    .dataframe thead th {\n",
       "        text-align: right;\n",
       "    }\n",
       "</style>\n",
       "<table border=\"1\" class=\"dataframe\">\n",
       "  <thead>\n",
       "    <tr style=\"text-align: right;\">\n",
       "      <th></th>\n",
       "      <th>reviewId</th>\n",
       "      <th>userName</th>\n",
       "      <th>userImage</th>\n",
       "      <th>content</th>\n",
       "      <th>score</th>\n",
       "      <th>thumbsUpCount</th>\n",
       "      <th>reviewCreatedVersion</th>\n",
       "      <th>at</th>\n",
       "      <th>replyContent</th>\n",
       "      <th>repliedAt</th>\n",
       "    </tr>\n",
       "  </thead>\n",
       "  <tbody>\n",
       "    <tr>\n",
       "      <th>994</th>\n",
       "      <td>737fc8d2-f0d5-4f60-9b45-fdd2a3ad0f16</td>\n",
       "      <td>Abay Technology and Logistics Solution PLC</td>\n",
       "      <td>https://play-lh.googleusercontent.com/a/ACg8oc...</td>\n",
       "      <td>Well done</td>\n",
       "      <td>5</td>\n",
       "      <td>2</td>\n",
       "      <td>NaN</td>\n",
       "      <td>2024-02-03 21:50:56</td>\n",
       "      <td>NaN</td>\n",
       "      <td>NaN</td>\n",
       "    </tr>\n",
       "    <tr>\n",
       "      <th>806</th>\n",
       "      <td>bd509db9-9cea-4b04-8776-6aaad5914a84</td>\n",
       "      <td>Estifanos Hailu</td>\n",
       "      <td>https://play-lh.googleusercontent.com/a-/ALV-U...</td>\n",
       "      <td>The app is not showing my balance or any trans...</td>\n",
       "      <td>1</td>\n",
       "      <td>1</td>\n",
       "      <td>24.02.07</td>\n",
       "      <td>2024-04-13 17:21:44</td>\n",
       "      <td>NaN</td>\n",
       "      <td>NaN</td>\n",
       "    </tr>\n",
       "    <tr>\n",
       "      <th>610</th>\n",
       "      <td>4fef53fb-1b5d-4262-b097-1436650e85b4</td>\n",
       "      <td>Abel Girma</td>\n",
       "      <td>https://play-lh.googleusercontent.com/a/ACg8oc...</td>\n",
       "      <td>I prefer the earlier version. This updated app...</td>\n",
       "      <td>4</td>\n",
       "      <td>18</td>\n",
       "      <td>24.04.26</td>\n",
       "      <td>2024-05-03 18:19:24</td>\n",
       "      <td>NaN</td>\n",
       "      <td>NaN</td>\n",
       "    </tr>\n",
       "    <tr>\n",
       "      <th>316</th>\n",
       "      <td>b9ddd42d-164a-41e5-b5cd-55dd14cfbd8c</td>\n",
       "      <td>Yonas Desalegn</td>\n",
       "      <td>https://play-lh.googleusercontent.com/a-/ALV-U...</td>\n",
       "      <td>Mostly not working 😑</td>\n",
       "      <td>1</td>\n",
       "      <td>0</td>\n",
       "      <td>24.07.04</td>\n",
       "      <td>2024-08-14 12:29:24</td>\n",
       "      <td>NaN</td>\n",
       "      <td>NaN</td>\n",
       "    </tr>\n",
       "    <tr>\n",
       "      <th>94</th>\n",
       "      <td>12f08f68-da19-4974-8086-304a40091d72</td>\n",
       "      <td>Mahlet Fassil</td>\n",
       "      <td>https://play-lh.googleusercontent.com/a/ACg8oc...</td>\n",
       "      <td>Very poor proformance</td>\n",
       "      <td>1</td>\n",
       "      <td>0</td>\n",
       "      <td>24.11.22</td>\n",
       "      <td>2025-03-01 23:02:44</td>\n",
       "      <td>NaN</td>\n",
       "      <td>NaN</td>\n",
       "    </tr>\n",
       "    <tr>\n",
       "      <th>921</th>\n",
       "      <td>248376cc-09ca-4121-92f9-f1502ecf7de2</td>\n",
       "      <td>babi yalem</td>\n",
       "      <td>https://play-lh.googleusercontent.com/a-/ALV-U...</td>\n",
       "      <td>It was good and more secured mb app but this n...</td>\n",
       "      <td>5</td>\n",
       "      <td>3</td>\n",
       "      <td>24.02.07</td>\n",
       "      <td>2024-02-19 07:58:40</td>\n",
       "      <td>NaN</td>\n",
       "      <td>NaN</td>\n",
       "    </tr>\n",
       "    <tr>\n",
       "      <th>953</th>\n",
       "      <td>a3f239e6-b1c6-4910-8d4d-5db544802d31</td>\n",
       "      <td>muna bayou</td>\n",
       "      <td>https://play-lh.googleusercontent.com/a-/ALV-U...</td>\n",
       "      <td>The app does not work well from abroad, there ...</td>\n",
       "      <td>1</td>\n",
       "      <td>75</td>\n",
       "      <td>24.02.07</td>\n",
       "      <td>2024-02-12 16:10:57</td>\n",
       "      <td>NaN</td>\n",
       "      <td>NaN</td>\n",
       "    </tr>\n",
       "    <tr>\n",
       "      <th>384</th>\n",
       "      <td>01c3d316-3dbc-4e5c-9a71-8ed4fecc7233</td>\n",
       "      <td>Aymen Seid</td>\n",
       "      <td>https://play-lh.googleusercontent.com/a/ACg8oc...</td>\n",
       "      <td>screenshot isn't working, Please modify it</td>\n",
       "      <td>2</td>\n",
       "      <td>0</td>\n",
       "      <td>24.07.04</td>\n",
       "      <td>2024-07-22 17:38:15</td>\n",
       "      <td>NaN</td>\n",
       "      <td>NaN</td>\n",
       "    </tr>\n",
       "    <tr>\n",
       "      <th>267</th>\n",
       "      <td>c33b61e9-53db-4349-9ffb-a0d8a5a59051</td>\n",
       "      <td>Ermiyas Argaw</td>\n",
       "      <td>https://play-lh.googleusercontent.com/a-/ALV-U...</td>\n",
       "      <td>How many hours should I wait after transferrin...</td>\n",
       "      <td>1</td>\n",
       "      <td>0</td>\n",
       "      <td>24.07.04</td>\n",
       "      <td>2024-09-15 20:36:11</td>\n",
       "      <td>NaN</td>\n",
       "      <td>NaN</td>\n",
       "    </tr>\n",
       "    <tr>\n",
       "      <th>643</th>\n",
       "      <td>a31479ac-6324-4757-8381-6b40cebbde69</td>\n",
       "      <td>SHABEELLE GROUP</td>\n",
       "      <td>https://play-lh.googleusercontent.com/a/ACg8oc...</td>\n",
       "      <td>best</td>\n",
       "      <td>5</td>\n",
       "      <td>1</td>\n",
       "      <td>NaN</td>\n",
       "      <td>2024-05-02 12:35:04</td>\n",
       "      <td>NaN</td>\n",
       "      <td>NaN</td>\n",
       "    </tr>\n",
       "  </tbody>\n",
       "</table>\n",
       "</div>"
      ],
      "text/plain": [
       "                                 reviewId  \\\n",
       "994  737fc8d2-f0d5-4f60-9b45-fdd2a3ad0f16   \n",
       "806  bd509db9-9cea-4b04-8776-6aaad5914a84   \n",
       "610  4fef53fb-1b5d-4262-b097-1436650e85b4   \n",
       "316  b9ddd42d-164a-41e5-b5cd-55dd14cfbd8c   \n",
       "94   12f08f68-da19-4974-8086-304a40091d72   \n",
       "921  248376cc-09ca-4121-92f9-f1502ecf7de2   \n",
       "953  a3f239e6-b1c6-4910-8d4d-5db544802d31   \n",
       "384  01c3d316-3dbc-4e5c-9a71-8ed4fecc7233   \n",
       "267  c33b61e9-53db-4349-9ffb-a0d8a5a59051   \n",
       "643  a31479ac-6324-4757-8381-6b40cebbde69   \n",
       "\n",
       "                                       userName  \\\n",
       "994  Abay Technology and Logistics Solution PLC   \n",
       "806                             Estifanos Hailu   \n",
       "610                                  Abel Girma   \n",
       "316                              Yonas Desalegn   \n",
       "94                                Mahlet Fassil   \n",
       "921                                  babi yalem   \n",
       "953                                  muna bayou   \n",
       "384                                  Aymen Seid   \n",
       "267                               Ermiyas Argaw   \n",
       "643                             SHABEELLE GROUP   \n",
       "\n",
       "                                             userImage  \\\n",
       "994  https://play-lh.googleusercontent.com/a/ACg8oc...   \n",
       "806  https://play-lh.googleusercontent.com/a-/ALV-U...   \n",
       "610  https://play-lh.googleusercontent.com/a/ACg8oc...   \n",
       "316  https://play-lh.googleusercontent.com/a-/ALV-U...   \n",
       "94   https://play-lh.googleusercontent.com/a/ACg8oc...   \n",
       "921  https://play-lh.googleusercontent.com/a-/ALV-U...   \n",
       "953  https://play-lh.googleusercontent.com/a-/ALV-U...   \n",
       "384  https://play-lh.googleusercontent.com/a/ACg8oc...   \n",
       "267  https://play-lh.googleusercontent.com/a-/ALV-U...   \n",
       "643  https://play-lh.googleusercontent.com/a/ACg8oc...   \n",
       "\n",
       "                                               content  score  thumbsUpCount  \\\n",
       "994                                          Well done      5              2   \n",
       "806  The app is not showing my balance or any trans...      1              1   \n",
       "610  I prefer the earlier version. This updated app...      4             18   \n",
       "316                               Mostly not working 😑      1              0   \n",
       "94                               Very poor proformance      1              0   \n",
       "921  It was good and more secured mb app but this n...      5              3   \n",
       "953  The app does not work well from abroad, there ...      1             75   \n",
       "384         screenshot isn't working, Please modify it      2              0   \n",
       "267  How many hours should I wait after transferrin...      1              0   \n",
       "643                                               best      5              1   \n",
       "\n",
       "    reviewCreatedVersion                   at replyContent repliedAt  \n",
       "994                  NaN  2024-02-03 21:50:56          NaN       NaN  \n",
       "806             24.02.07  2024-04-13 17:21:44          NaN       NaN  \n",
       "610             24.04.26  2024-05-03 18:19:24          NaN       NaN  \n",
       "316             24.07.04  2024-08-14 12:29:24          NaN       NaN  \n",
       "94              24.11.22  2025-03-01 23:02:44          NaN       NaN  \n",
       "921             24.02.07  2024-02-19 07:58:40          NaN       NaN  \n",
       "953             24.02.07  2024-02-12 16:10:57          NaN       NaN  \n",
       "384             24.07.04  2024-07-22 17:38:15          NaN       NaN  \n",
       "267             24.07.04  2024-09-15 20:36:11          NaN       NaN  \n",
       "643                  NaN  2024-05-02 12:35:04          NaN       NaN  "
      ]
     },
     "execution_count": 7,
     "metadata": {},
     "output_type": "execute_result"
    }
   ],
   "source": [
    "#view sample data\n",
    "df.sample(10)"
   ]
  },
  {
   "cell_type": "code",
   "execution_count": 8,
   "id": "d66401bf",
   "metadata": {},
   "outputs": [
    {
     "data": {
      "text/html": [
       "<div>\n",
       "<style scoped>\n",
       "    .dataframe tbody tr th:only-of-type {\n",
       "        vertical-align: middle;\n",
       "    }\n",
       "\n",
       "    .dataframe tbody tr th {\n",
       "        vertical-align: top;\n",
       "    }\n",
       "\n",
       "    .dataframe thead th {\n",
       "        text-align: right;\n",
       "    }\n",
       "</style>\n",
       "<table border=\"1\" class=\"dataframe\">\n",
       "  <thead>\n",
       "    <tr style=\"text-align: right;\">\n",
       "      <th></th>\n",
       "      <th>reviewId</th>\n",
       "      <th>userName</th>\n",
       "      <th>userImage</th>\n",
       "      <th>content</th>\n",
       "      <th>score</th>\n",
       "      <th>thumbsUpCount</th>\n",
       "      <th>reviewCreatedVersion</th>\n",
       "      <th>at</th>\n",
       "      <th>replyContent</th>\n",
       "      <th>repliedAt</th>\n",
       "    </tr>\n",
       "  </thead>\n",
       "  <tbody>\n",
       "    <tr>\n",
       "      <th>995</th>\n",
       "      <td>7e629e12-154b-4482-a805-90bf721f5011</td>\n",
       "      <td>Sha net</td>\n",
       "      <td>https://play-lh.googleusercontent.com/a/ACg8oc...</td>\n",
       "      <td>I don't have words for your great work.. Reall...</td>\n",
       "      <td>5</td>\n",
       "      <td>30</td>\n",
       "      <td>24.01.09</td>\n",
       "      <td>2024-02-03 19:07:15</td>\n",
       "      <td>NaN</td>\n",
       "      <td>NaN</td>\n",
       "    </tr>\n",
       "    <tr>\n",
       "      <th>996</th>\n",
       "      <td>832b30a2-1ab9-476f-838d-e96b1f50da03</td>\n",
       "      <td>Abebayehu mussa</td>\n",
       "      <td>https://play-lh.googleusercontent.com/a-/ALV-U...</td>\n",
       "      <td>Nice</td>\n",
       "      <td>5</td>\n",
       "      <td>2</td>\n",
       "      <td>24.01.09</td>\n",
       "      <td>2024-02-03 16:46:47</td>\n",
       "      <td>NaN</td>\n",
       "      <td>NaN</td>\n",
       "    </tr>\n",
       "    <tr>\n",
       "      <th>997</th>\n",
       "      <td>000ef73f-978b-4c50-a44a-9c57cbc5c69e</td>\n",
       "      <td>ww</td>\n",
       "      <td>https://play-lh.googleusercontent.com/a/ACg8oc...</td>\n",
       "      <td>A massive improvement from the previous app. M...</td>\n",
       "      <td>5</td>\n",
       "      <td>6</td>\n",
       "      <td>24.01.09</td>\n",
       "      <td>2024-02-03 13:04:16</td>\n",
       "      <td>NaN</td>\n",
       "      <td>NaN</td>\n",
       "    </tr>\n",
       "    <tr>\n",
       "      <th>998</th>\n",
       "      <td>a0cf0ff4-f795-42d9-ada0-e31effdbc5ab</td>\n",
       "      <td>Kassahun Berihun</td>\n",
       "      <td>https://play-lh.googleusercontent.com/a-/ALV-U...</td>\n",
       "      <td>Good</td>\n",
       "      <td>5</td>\n",
       "      <td>2</td>\n",
       "      <td>24.01.09</td>\n",
       "      <td>2024-02-03 12:47:25</td>\n",
       "      <td>NaN</td>\n",
       "      <td>NaN</td>\n",
       "    </tr>\n",
       "    <tr>\n",
       "      <th>999</th>\n",
       "      <td>e6c09bb3-ef33-47b7-99c3-3b6b20ea79b8</td>\n",
       "      <td>Beti Abreham</td>\n",
       "      <td>https://play-lh.googleusercontent.com/a/ACg8oc...</td>\n",
       "      <td>Boa</td>\n",
       "      <td>5</td>\n",
       "      <td>2</td>\n",
       "      <td>NaN</td>\n",
       "      <td>2024-02-03 12:24:09</td>\n",
       "      <td>NaN</td>\n",
       "      <td>NaN</td>\n",
       "    </tr>\n",
       "  </tbody>\n",
       "</table>\n",
       "</div>"
      ],
      "text/plain": [
       "                                 reviewId          userName  \\\n",
       "995  7e629e12-154b-4482-a805-90bf721f5011           Sha net   \n",
       "996  832b30a2-1ab9-476f-838d-e96b1f50da03   Abebayehu mussa   \n",
       "997  000ef73f-978b-4c50-a44a-9c57cbc5c69e                ww   \n",
       "998  a0cf0ff4-f795-42d9-ada0-e31effdbc5ab  Kassahun Berihun   \n",
       "999  e6c09bb3-ef33-47b7-99c3-3b6b20ea79b8      Beti Abreham   \n",
       "\n",
       "                                             userImage  \\\n",
       "995  https://play-lh.googleusercontent.com/a/ACg8oc...   \n",
       "996  https://play-lh.googleusercontent.com/a-/ALV-U...   \n",
       "997  https://play-lh.googleusercontent.com/a/ACg8oc...   \n",
       "998  https://play-lh.googleusercontent.com/a-/ALV-U...   \n",
       "999  https://play-lh.googleusercontent.com/a/ACg8oc...   \n",
       "\n",
       "                                               content  score  thumbsUpCount  \\\n",
       "995  I don't have words for your great work.. Reall...      5             30   \n",
       "996                                               Nice      5              2   \n",
       "997  A massive improvement from the previous app. M...      5              6   \n",
       "998                                               Good      5              2   \n",
       "999                                                Boa      5              2   \n",
       "\n",
       "    reviewCreatedVersion                   at replyContent repliedAt  \n",
       "995             24.01.09  2024-02-03 19:07:15          NaN       NaN  \n",
       "996             24.01.09  2024-02-03 16:46:47          NaN       NaN  \n",
       "997             24.01.09  2024-02-03 13:04:16          NaN       NaN  \n",
       "998             24.01.09  2024-02-03 12:47:25          NaN       NaN  \n",
       "999                  NaN  2024-02-03 12:24:09          NaN       NaN  "
      ]
     },
     "execution_count": 8,
     "metadata": {},
     "output_type": "execute_result"
    }
   ],
   "source": [
    "#see the last rows\n",
    "df.tail()"
   ]
  },
  {
   "cell_type": "code",
   "execution_count": 9,
   "id": "f1f497a6",
   "metadata": {},
   "outputs": [
    {
     "data": {
      "text/plain": [
       "(1000, 10)"
      ]
     },
     "execution_count": 9,
     "metadata": {},
     "output_type": "execute_result"
    }
   ],
   "source": [
    "#shape of the dataset\n",
    "df.shape"
   ]
  },
  {
   "cell_type": "code",
   "execution_count": 10,
   "id": "77cea03a",
   "metadata": {},
   "outputs": [
    {
     "data": {
      "text/plain": [
       "Index(['reviewId', 'userName', 'userImage', 'content', 'score',\n",
       "       'thumbsUpCount', 'reviewCreatedVersion', 'at', 'replyContent',\n",
       "       'repliedAt'],\n",
       "      dtype='object')"
      ]
     },
     "execution_count": 10,
     "metadata": {},
     "output_type": "execute_result"
    }
   ],
   "source": [
    "df.columns"
   ]
  },
  {
   "cell_type": "markdown",
   "id": "9f9972b6",
   "metadata": {},
   "source": [
    "## 📐 3. Data Types & Basic Stats <a id='3-data-types--basic-stats'></a>"
   ]
  },
  {
   "cell_type": "code",
   "execution_count": 11,
   "id": "402fbaf8",
   "metadata": {},
   "outputs": [
    {
     "data": {
      "text/html": [
       "<div>\n",
       "<style scoped>\n",
       "    .dataframe tbody tr th:only-of-type {\n",
       "        vertical-align: middle;\n",
       "    }\n",
       "\n",
       "    .dataframe tbody tr th {\n",
       "        vertical-align: top;\n",
       "    }\n",
       "\n",
       "    .dataframe thead th {\n",
       "        text-align: right;\n",
       "    }\n",
       "</style>\n",
       "<table border=\"1\" class=\"dataframe\">\n",
       "  <thead>\n",
       "    <tr style=\"text-align: right;\">\n",
       "      <th></th>\n",
       "      <th>count</th>\n",
       "      <th>mean</th>\n",
       "      <th>std</th>\n",
       "      <th>min</th>\n",
       "      <th>25%</th>\n",
       "      <th>50%</th>\n",
       "      <th>75%</th>\n",
       "      <th>max</th>\n",
       "    </tr>\n",
       "  </thead>\n",
       "  <tbody>\n",
       "    <tr>\n",
       "      <th>score</th>\n",
       "      <td>1000.0</td>\n",
       "      <td>3.020</td>\n",
       "      <td>1.859855</td>\n",
       "      <td>1.0</td>\n",
       "      <td>1.0</td>\n",
       "      <td>3.0</td>\n",
       "      <td>5.0</td>\n",
       "      <td>5.0</td>\n",
       "    </tr>\n",
       "    <tr>\n",
       "      <th>thumbsUpCount</th>\n",
       "      <td>1000.0</td>\n",
       "      <td>9.131</td>\n",
       "      <td>74.395999</td>\n",
       "      <td>0.0</td>\n",
       "      <td>0.0</td>\n",
       "      <td>1.0</td>\n",
       "      <td>1.0</td>\n",
       "      <td>1810.0</td>\n",
       "    </tr>\n",
       "  </tbody>\n",
       "</table>\n",
       "</div>"
      ],
      "text/plain": [
       "                count   mean        std  min  25%  50%  75%     max\n",
       "score          1000.0  3.020   1.859855  1.0  1.0  3.0  5.0     5.0\n",
       "thumbsUpCount  1000.0  9.131  74.395999  0.0  0.0  1.0  1.0  1810.0"
      ]
     },
     "execution_count": 11,
     "metadata": {},
     "output_type": "execute_result"
    }
   ],
   "source": [
    "#Numerical Columns\n",
    "df.describe().T"
   ]
  },
  {
   "cell_type": "code",
   "execution_count": 12,
   "id": "b4594fc1",
   "metadata": {},
   "outputs": [
    {
     "data": {
      "text/html": [
       "<div>\n",
       "<style scoped>\n",
       "    .dataframe tbody tr th:only-of-type {\n",
       "        vertical-align: middle;\n",
       "    }\n",
       "\n",
       "    .dataframe tbody tr th {\n",
       "        vertical-align: top;\n",
       "    }\n",
       "\n",
       "    .dataframe thead th {\n",
       "        text-align: right;\n",
       "    }\n",
       "</style>\n",
       "<table border=\"1\" class=\"dataframe\">\n",
       "  <thead>\n",
       "    <tr style=\"text-align: right;\">\n",
       "      <th></th>\n",
       "      <th>count</th>\n",
       "      <th>unique</th>\n",
       "      <th>top</th>\n",
       "      <th>freq</th>\n",
       "    </tr>\n",
       "  </thead>\n",
       "  <tbody>\n",
       "    <tr>\n",
       "      <th>reviewId</th>\n",
       "      <td>1000</td>\n",
       "      <td>1000</td>\n",
       "      <td>e6c09bb3-ef33-47b7-99c3-3b6b20ea79b8</td>\n",
       "      <td>1</td>\n",
       "    </tr>\n",
       "    <tr>\n",
       "      <th>userName</th>\n",
       "      <td>1000</td>\n",
       "      <td>994</td>\n",
       "      <td>Kidus Yohannes</td>\n",
       "      <td>2</td>\n",
       "    </tr>\n",
       "    <tr>\n",
       "      <th>userImage</th>\n",
       "      <td>1000</td>\n",
       "      <td>999</td>\n",
       "      <td>https://play-lh.googleusercontent.com/a-/ALV-U...</td>\n",
       "      <td>2</td>\n",
       "    </tr>\n",
       "    <tr>\n",
       "      <th>content</th>\n",
       "      <td>1000</td>\n",
       "      <td>856</td>\n",
       "      <td>Good</td>\n",
       "      <td>43</td>\n",
       "    </tr>\n",
       "    <tr>\n",
       "      <th>reviewCreatedVersion</th>\n",
       "      <td>728</td>\n",
       "      <td>10</td>\n",
       "      <td>24.02.07</td>\n",
       "      <td>146</td>\n",
       "    </tr>\n",
       "    <tr>\n",
       "      <th>at</th>\n",
       "      <td>1000</td>\n",
       "      <td>1000</td>\n",
       "      <td>2024-02-03 12:24:09</td>\n",
       "      <td>1</td>\n",
       "    </tr>\n",
       "    <tr>\n",
       "      <th>replyContent</th>\n",
       "      <td>23</td>\n",
       "      <td>8</td>\n",
       "      <td>Thank you very much. Keep using our app</td>\n",
       "      <td>8</td>\n",
       "    </tr>\n",
       "    <tr>\n",
       "      <th>repliedAt</th>\n",
       "      <td>23</td>\n",
       "      <td>23</td>\n",
       "      <td>2024-02-22 15:40:34</td>\n",
       "      <td>1</td>\n",
       "    </tr>\n",
       "  </tbody>\n",
       "</table>\n",
       "</div>"
      ],
      "text/plain": [
       "                     count unique  \\\n",
       "reviewId              1000   1000   \n",
       "userName              1000    994   \n",
       "userImage             1000    999   \n",
       "content               1000    856   \n",
       "reviewCreatedVersion   728     10   \n",
       "at                    1000   1000   \n",
       "replyContent            23      8   \n",
       "repliedAt               23     23   \n",
       "\n",
       "                                                                    top freq  \n",
       "reviewId                           e6c09bb3-ef33-47b7-99c3-3b6b20ea79b8    1  \n",
       "userName                                                 Kidus Yohannes    2  \n",
       "userImage             https://play-lh.googleusercontent.com/a-/ALV-U...    2  \n",
       "content                                                            Good   43  \n",
       "reviewCreatedVersion                                           24.02.07  146  \n",
       "at                                                  2024-02-03 12:24:09    1  \n",
       "replyContent                    Thank you very much. Keep using our app    8  \n",
       "repliedAt                                           2024-02-22 15:40:34    1  "
      ]
     },
     "execution_count": 12,
     "metadata": {},
     "output_type": "execute_result"
    }
   ],
   "source": [
    "#for columns of object type\n",
    "df.describe(include=['O']).T"
   ]
  },
  {
   "cell_type": "code",
   "execution_count": 13,
   "id": "79b071e8",
   "metadata": {},
   "outputs": [
    {
     "name": "stdout",
     "output_type": "stream",
     "text": [
      "<class 'pandas.core.frame.DataFrame'>\n",
      "RangeIndex: 1000 entries, 0 to 999\n",
      "Data columns (total 10 columns):\n",
      " #   Column                Non-Null Count  Dtype \n",
      "---  ------                --------------  ----- \n",
      " 0   reviewId              1000 non-null   object\n",
      " 1   userName              1000 non-null   object\n",
      " 2   userImage             1000 non-null   object\n",
      " 3   content               1000 non-null   object\n",
      " 4   score                 1000 non-null   int64 \n",
      " 5   thumbsUpCount         1000 non-null   int64 \n",
      " 6   reviewCreatedVersion  728 non-null    object\n",
      " 7   at                    1000 non-null   object\n",
      " 8   replyContent          23 non-null     object\n",
      " 9   repliedAt             23 non-null     object\n",
      "dtypes: int64(2), object(8)\n",
      "memory usage: 78.2+ KB\n"
     ]
    }
   ],
   "source": [
    "# data types of the columns\n",
    "df.info()"
   ]
  },
  {
   "cell_type": "code",
   "execution_count": 14,
   "id": "039465bd",
   "metadata": {},
   "outputs": [
    {
     "data": {
      "text/plain": [
       "reviewId                1000\n",
       "at                      1000\n",
       "userImage                999\n",
       "userName                 994\n",
       "content                  856\n",
       "thumbsUpCount             53\n",
       "repliedAt                 23\n",
       "reviewCreatedVersion      10\n",
       "replyContent               8\n",
       "score                      5\n",
       "dtype: int64"
      ]
     },
     "execution_count": 14,
     "metadata": {},
     "output_type": "execute_result"
    }
   ],
   "source": [
    "#distinct values in each column\n",
    "df.nunique().sort_values(ascending=False)"
   ]
  },
  {
   "cell_type": "markdown",
   "id": "a996f6d5",
   "metadata": {},
   "source": [
    "## 🔍 4. Data Quality Analysis <a id='4-data-quality-analysis'></a>"
   ]
  },
  {
   "cell_type": "code",
   "execution_count": 15,
   "id": "b0295a78",
   "metadata": {},
   "outputs": [],
   "source": [
    "#instantiate the DataQualityUtils class\n",
    "dq=DataQualityUtils(df)"
   ]
  },
  {
   "cell_type": "code",
   "execution_count": 16,
   "id": "f61b87ea",
   "metadata": {},
   "outputs": [
    {
     "data": {
      "text/html": [
       "<div>\n",
       "<style scoped>\n",
       "    .dataframe tbody tr th:only-of-type {\n",
       "        vertical-align: middle;\n",
       "    }\n",
       "\n",
       "    .dataframe tbody tr th {\n",
       "        vertical-align: top;\n",
       "    }\n",
       "\n",
       "    .dataframe thead th {\n",
       "        text-align: right;\n",
       "    }\n",
       "</style>\n",
       "<table border=\"1\" class=\"dataframe\">\n",
       "  <thead>\n",
       "    <tr style=\"text-align: right;\">\n",
       "      <th></th>\n",
       "      <th>#missing_values</th>\n",
       "      <th>percentage</th>\n",
       "    </tr>\n",
       "  </thead>\n",
       "  <tbody>\n",
       "    <tr>\n",
       "      <th>repliedAt</th>\n",
       "      <td>977</td>\n",
       "      <td>97.70%</td>\n",
       "    </tr>\n",
       "    <tr>\n",
       "      <th>replyContent</th>\n",
       "      <td>977</td>\n",
       "      <td>97.70%</td>\n",
       "    </tr>\n",
       "    <tr>\n",
       "      <th>reviewCreatedVersion</th>\n",
       "      <td>272</td>\n",
       "      <td>27.20%</td>\n",
       "    </tr>\n",
       "    <tr>\n",
       "      <th>reviewId</th>\n",
       "      <td>0</td>\n",
       "      <td>0.00%</td>\n",
       "    </tr>\n",
       "    <tr>\n",
       "      <th>userName</th>\n",
       "      <td>0</td>\n",
       "      <td>0.00%</td>\n",
       "    </tr>\n",
       "    <tr>\n",
       "      <th>userImage</th>\n",
       "      <td>0</td>\n",
       "      <td>0.00%</td>\n",
       "    </tr>\n",
       "    <tr>\n",
       "      <th>thumbsUpCount</th>\n",
       "      <td>0</td>\n",
       "      <td>0.00%</td>\n",
       "    </tr>\n",
       "    <tr>\n",
       "      <th>score</th>\n",
       "      <td>0</td>\n",
       "      <td>0.00%</td>\n",
       "    </tr>\n",
       "    <tr>\n",
       "      <th>content</th>\n",
       "      <td>0</td>\n",
       "      <td>0.00%</td>\n",
       "    </tr>\n",
       "    <tr>\n",
       "      <th>at</th>\n",
       "      <td>0</td>\n",
       "      <td>0.00%</td>\n",
       "    </tr>\n",
       "  </tbody>\n",
       "</table>\n",
       "</div>"
      ],
      "text/plain": [
       "                      #missing_values percentage\n",
       "repliedAt                         977     97.70%\n",
       "replyContent                      977     97.70%\n",
       "reviewCreatedVersion              272     27.20%\n",
       "reviewId                            0      0.00%\n",
       "userName                            0      0.00%\n",
       "userImage                           0      0.00%\n",
       "thumbsUpCount                       0      0.00%\n",
       "score                               0      0.00%\n",
       "content                             0      0.00%\n",
       "at                                  0      0.00%"
      ]
     },
     "execution_count": 16,
     "metadata": {},
     "output_type": "execute_result"
    }
   ],
   "source": [
    "#count of missing values per column\n",
    "dq.summary()"
   ]
  },
  {
   "cell_type": "markdown",
   "id": "b4ca61a8",
   "metadata": {},
   "source": [
    "### Missing Values"
   ]
  },
  {
   "cell_type": "code",
   "execution_count": 17,
   "id": "731377ae",
   "metadata": {},
   "outputs": [
    {
     "data": {
      "text/html": [
       "<div>\n",
       "<style scoped>\n",
       "    .dataframe tbody tr th:only-of-type {\n",
       "        vertical-align: middle;\n",
       "    }\n",
       "\n",
       "    .dataframe tbody tr th {\n",
       "        vertical-align: top;\n",
       "    }\n",
       "\n",
       "    .dataframe thead th {\n",
       "        text-align: right;\n",
       "    }\n",
       "</style>\n",
       "<table border=\"1\" class=\"dataframe\">\n",
       "  <thead>\n",
       "    <tr style=\"text-align: right;\">\n",
       "      <th></th>\n",
       "      <th>#missing_values</th>\n",
       "      <th>percentage</th>\n",
       "    </tr>\n",
       "  </thead>\n",
       "  <tbody>\n",
       "    <tr>\n",
       "      <th>replyContent</th>\n",
       "      <td>977</td>\n",
       "      <td>97.70%</td>\n",
       "    </tr>\n",
       "    <tr>\n",
       "      <th>repliedAt</th>\n",
       "      <td>977</td>\n",
       "      <td>97.70%</td>\n",
       "    </tr>\n",
       "    <tr>\n",
       "      <th>reviewCreatedVersion</th>\n",
       "      <td>272</td>\n",
       "      <td>27.20%</td>\n",
       "    </tr>\n",
       "  </tbody>\n",
       "</table>\n",
       "</div>"
      ],
      "text/plain": [
       "                      #missing_values percentage\n",
       "replyContent                      977     97.70%\n",
       "repliedAt                         977     97.70%\n",
       "reviewCreatedVersion              272     27.20%"
      ]
     },
     "execution_count": 17,
     "metadata": {},
     "output_type": "execute_result"
    }
   ],
   "source": [
    "#column with >5% nulls\n",
    "dq.columns_with_significant_missing_values(threshold=5)"
   ]
  },
  {
   "cell_type": "markdown",
   "id": "6ee86483",
   "metadata": {},
   "source": [
    "### Duplicates"
   ]
  },
  {
   "cell_type": "code",
   "execution_count": 18,
   "id": "e1021b8b",
   "metadata": {},
   "outputs": [
    {
     "data": {
      "text/plain": [
       "np.int64(0)"
      ]
     },
     "execution_count": 18,
     "metadata": {},
     "output_type": "execute_result"
    }
   ],
   "source": [
    "#count duplicates\n",
    "dq.count_duplicates()"
   ]
  },
  {
   "cell_type": "code",
   "execution_count": 19,
   "id": "d1690181",
   "metadata": {},
   "outputs": [
    {
     "name": "stdout",
     "output_type": "stream",
     "text": [
      "[INFO] Found 0 duplicated row(s).\n"
     ]
    },
    {
     "data": {
      "text/html": [
       "<div>\n",
       "<style scoped>\n",
       "    .dataframe tbody tr th:only-of-type {\n",
       "        vertical-align: middle;\n",
       "    }\n",
       "\n",
       "    .dataframe tbody tr th {\n",
       "        vertical-align: top;\n",
       "    }\n",
       "\n",
       "    .dataframe thead th {\n",
       "        text-align: right;\n",
       "    }\n",
       "</style>\n",
       "<table border=\"1\" class=\"dataframe\">\n",
       "  <thead>\n",
       "    <tr style=\"text-align: right;\">\n",
       "      <th></th>\n",
       "      <th>reviewId</th>\n",
       "      <th>userName</th>\n",
       "      <th>userImage</th>\n",
       "      <th>content</th>\n",
       "      <th>score</th>\n",
       "      <th>thumbsUpCount</th>\n",
       "      <th>reviewCreatedVersion</th>\n",
       "      <th>at</th>\n",
       "      <th>replyContent</th>\n",
       "      <th>repliedAt</th>\n",
       "    </tr>\n",
       "  </thead>\n",
       "  <tbody>\n",
       "  </tbody>\n",
       "</table>\n",
       "</div>"
      ],
      "text/plain": [
       "Empty DataFrame\n",
       "Columns: [reviewId, userName, userImage, content, score, thumbsUpCount, reviewCreatedVersion, at, replyContent, repliedAt]\n",
       "Index: []"
      ]
     },
     "execution_count": 19,
     "metadata": {},
     "output_type": "execute_result"
    }
   ],
   "source": [
    "#look at the duplicates\n",
    "dq.display_duplicates()"
   ]
  },
  {
   "cell_type": "markdown",
   "id": "cbff01de",
   "metadata": {},
   "source": [
    "### Invalid Values"
   ]
  },
  {
   "cell_type": "code",
   "execution_count": 20,
   "id": "d067cc0e",
   "metadata": {},
   "outputs": [
    {
     "data": {
      "text/plain": [
       "{}"
      ]
     },
     "execution_count": 20,
     "metadata": {},
     "output_type": "execute_result"
    }
   ],
   "source": [
    "dq.find_invalid_values()"
   ]
  },
  {
   "cell_type": "markdown",
   "id": "83468ef5",
   "metadata": {},
   "source": [
    "## 🧹 5. Data Cleaning  <a id='5-data-cleaning'></a>"
   ]
  },
  {
   "cell_type": "code",
   "execution_count": 21,
   "id": "494fc912",
   "metadata": {},
   "outputs": [],
   "source": [
    "#saving the original dataset for later use\n",
    "df_original=df.copy()"
   ]
  },
  {
   "cell_type": "code",
   "execution_count": 22,
   "id": "aea1fc12",
   "metadata": {},
   "outputs": [
    {
     "name": "stdout",
     "output_type": "stream",
     "text": [
      "[INFO] Dropped 0 duplicate row(s).\n"
     ]
    },
    {
     "data": {
      "text/html": [
       "<div>\n",
       "<style scoped>\n",
       "    .dataframe tbody tr th:only-of-type {\n",
       "        vertical-align: middle;\n",
       "    }\n",
       "\n",
       "    .dataframe tbody tr th {\n",
       "        vertical-align: top;\n",
       "    }\n",
       "\n",
       "    .dataframe thead th {\n",
       "        text-align: right;\n",
       "    }\n",
       "</style>\n",
       "<table border=\"1\" class=\"dataframe\">\n",
       "  <thead>\n",
       "    <tr style=\"text-align: right;\">\n",
       "      <th></th>\n",
       "      <th>reviewId</th>\n",
       "      <th>userName</th>\n",
       "      <th>userImage</th>\n",
       "      <th>content</th>\n",
       "      <th>score</th>\n",
       "      <th>thumbsUpCount</th>\n",
       "      <th>reviewCreatedVersion</th>\n",
       "      <th>at</th>\n",
       "      <th>replyContent</th>\n",
       "      <th>repliedAt</th>\n",
       "    </tr>\n",
       "  </thead>\n",
       "  <tbody>\n",
       "    <tr>\n",
       "      <th>149</th>\n",
       "      <td>2e488711-7c0b-4546-b00a-bc58f90177dd</td>\n",
       "      <td>Lemuk</td>\n",
       "      <td>https://play-lh.googleusercontent.com/a-/ALV-U...</td>\n",
       "      <td>አይሰራም ሼም ነው፤</td>\n",
       "      <td>1</td>\n",
       "      <td>0</td>\n",
       "      <td>24.11.22</td>\n",
       "      <td>2024-12-23 17:03:45</td>\n",
       "      <td>NaN</td>\n",
       "      <td>NaN</td>\n",
       "    </tr>\n",
       "    <tr>\n",
       "      <th>595</th>\n",
       "      <td>22c234d6-4551-4e15-a32a-4deefd8ad2aa</td>\n",
       "      <td>Test Hop</td>\n",
       "      <td>https://play-lh.googleusercontent.com/a/ACg8oc...</td>\n",
       "      <td>it's good app</td>\n",
       "      <td>5</td>\n",
       "      <td>2</td>\n",
       "      <td>NaN</td>\n",
       "      <td>2024-05-04 22:43:38</td>\n",
       "      <td>NaN</td>\n",
       "      <td>NaN</td>\n",
       "    </tr>\n",
       "    <tr>\n",
       "      <th>804</th>\n",
       "      <td>a657aab1-f208-418f-b086-26645471127d</td>\n",
       "      <td>bile Tsegaye</td>\n",
       "      <td>https://play-lh.googleusercontent.com/a-/ALV-U...</td>\n",
       "      <td>The best</td>\n",
       "      <td>4</td>\n",
       "      <td>3</td>\n",
       "      <td>24.02.07</td>\n",
       "      <td>2024-04-14 06:58:13</td>\n",
       "      <td>NaN</td>\n",
       "      <td>NaN</td>\n",
       "    </tr>\n",
       "    <tr>\n",
       "      <th>122</th>\n",
       "      <td>bd70c04c-b85f-47ac-b1e8-db0279790bf8</td>\n",
       "      <td>Metalgn N</td>\n",
       "      <td>https://play-lh.googleusercontent.com/a/ACg8oc...</td>\n",
       "      <td>Best</td>\n",
       "      <td>5</td>\n",
       "      <td>1</td>\n",
       "      <td>24.11.22</td>\n",
       "      <td>2025-01-14 11:14:00</td>\n",
       "      <td>NaN</td>\n",
       "      <td>NaN</td>\n",
       "    </tr>\n",
       "    <tr>\n",
       "      <th>686</th>\n",
       "      <td>c10f6f0d-46bb-44fa-893b-c951985d5f00</td>\n",
       "      <td>sam</td>\n",
       "      <td>https://play-lh.googleusercontent.com/a-/ALV-U...</td>\n",
       "      <td>Hello is this new update cuz it keeps kicking ...</td>\n",
       "      <td>3</td>\n",
       "      <td>1</td>\n",
       "      <td>24.04.26</td>\n",
       "      <td>2024-04-30 11:37:33</td>\n",
       "      <td>NaN</td>\n",
       "      <td>NaN</td>\n",
       "    </tr>\n",
       "  </tbody>\n",
       "</table>\n",
       "</div>"
      ],
      "text/plain": [
       "                                 reviewId      userName  \\\n",
       "149  2e488711-7c0b-4546-b00a-bc58f90177dd         Lemuk   \n",
       "595  22c234d6-4551-4e15-a32a-4deefd8ad2aa      Test Hop   \n",
       "804  a657aab1-f208-418f-b086-26645471127d  bile Tsegaye   \n",
       "122  bd70c04c-b85f-47ac-b1e8-db0279790bf8     Metalgn N   \n",
       "686  c10f6f0d-46bb-44fa-893b-c951985d5f00           sam   \n",
       "\n",
       "                                             userImage  \\\n",
       "149  https://play-lh.googleusercontent.com/a-/ALV-U...   \n",
       "595  https://play-lh.googleusercontent.com/a/ACg8oc...   \n",
       "804  https://play-lh.googleusercontent.com/a-/ALV-U...   \n",
       "122  https://play-lh.googleusercontent.com/a/ACg8oc...   \n",
       "686  https://play-lh.googleusercontent.com/a-/ALV-U...   \n",
       "\n",
       "                                               content  score  thumbsUpCount  \\\n",
       "149                                       አይሰራም ሼም ነው፤      1              0   \n",
       "595                                      it's good app      5              2   \n",
       "804                                           The best      4              3   \n",
       "122                                               Best      5              1   \n",
       "686  Hello is this new update cuz it keeps kicking ...      3              1   \n",
       "\n",
       "    reviewCreatedVersion                   at replyContent repliedAt  \n",
       "149             24.11.22  2024-12-23 17:03:45          NaN       NaN  \n",
       "595                  NaN  2024-05-04 22:43:38          NaN       NaN  \n",
       "804             24.02.07  2024-04-14 06:58:13          NaN       NaN  \n",
       "122             24.11.22  2025-01-14 11:14:00          NaN       NaN  \n",
       "686             24.04.26  2024-04-30 11:37:33          NaN       NaN  "
      ]
     },
     "execution_count": 22,
     "metadata": {},
     "output_type": "execute_result"
    }
   ],
   "source": [
    "#drop duplicated rows\n",
    "dq.drop_duplicates().sample(5)"
   ]
  },
  {
   "cell_type": "code",
   "execution_count": 23,
   "id": "3d257001",
   "metadata": {},
   "outputs": [
    {
     "name": "stdout",
     "output_type": "stream",
     "text": [
      "[INFO] Found 0 duplicated row(s).\n"
     ]
    },
    {
     "data": {
      "text/html": [
       "<div>\n",
       "<style scoped>\n",
       "    .dataframe tbody tr th:only-of-type {\n",
       "        vertical-align: middle;\n",
       "    }\n",
       "\n",
       "    .dataframe tbody tr th {\n",
       "        vertical-align: top;\n",
       "    }\n",
       "\n",
       "    .dataframe thead th {\n",
       "        text-align: right;\n",
       "    }\n",
       "</style>\n",
       "<table border=\"1\" class=\"dataframe\">\n",
       "  <thead>\n",
       "    <tr style=\"text-align: right;\">\n",
       "      <th></th>\n",
       "      <th>reviewId</th>\n",
       "      <th>userName</th>\n",
       "      <th>userImage</th>\n",
       "      <th>content</th>\n",
       "      <th>score</th>\n",
       "      <th>thumbsUpCount</th>\n",
       "      <th>reviewCreatedVersion</th>\n",
       "      <th>at</th>\n",
       "      <th>replyContent</th>\n",
       "      <th>repliedAt</th>\n",
       "    </tr>\n",
       "  </thead>\n",
       "  <tbody>\n",
       "  </tbody>\n",
       "</table>\n",
       "</div>"
      ],
      "text/plain": [
       "Empty DataFrame\n",
       "Columns: [reviewId, userName, userImage, content, score, thumbsUpCount, reviewCreatedVersion, at, replyContent, repliedAt]\n",
       "Index: []"
      ]
     },
     "execution_count": 23,
     "metadata": {},
     "output_type": "execute_result"
    }
   ],
   "source": [
    "# Check for duplicates again after dropping\n",
    "dq.display_duplicates()"
   ]
  },
  {
   "cell_type": "code",
   "execution_count": 24,
   "id": "62e4215c",
   "metadata": {},
   "outputs": [
    {
     "name": "stdout",
     "output_type": "stream",
     "text": [
      "[INFO] Dropped 0 row(s) with missing values in columns: ['content', 'score']\n"
     ]
    },
    {
     "data": {
      "text/html": [
       "<div>\n",
       "<style scoped>\n",
       "    .dataframe tbody tr th:only-of-type {\n",
       "        vertical-align: middle;\n",
       "    }\n",
       "\n",
       "    .dataframe tbody tr th {\n",
       "        vertical-align: top;\n",
       "    }\n",
       "\n",
       "    .dataframe thead th {\n",
       "        text-align: right;\n",
       "    }\n",
       "</style>\n",
       "<table border=\"1\" class=\"dataframe\">\n",
       "  <thead>\n",
       "    <tr style=\"text-align: right;\">\n",
       "      <th></th>\n",
       "      <th>reviewId</th>\n",
       "      <th>userName</th>\n",
       "      <th>userImage</th>\n",
       "      <th>content</th>\n",
       "      <th>score</th>\n",
       "      <th>thumbsUpCount</th>\n",
       "      <th>reviewCreatedVersion</th>\n",
       "      <th>at</th>\n",
       "      <th>replyContent</th>\n",
       "      <th>repliedAt</th>\n",
       "    </tr>\n",
       "  </thead>\n",
       "  <tbody>\n",
       "    <tr>\n",
       "      <th>126</th>\n",
       "      <td>94acd1f3-c7e3-493f-9ded-b1f4186ac41b</td>\n",
       "      <td>Osman Ahmed</td>\n",
       "      <td>https://play-lh.googleusercontent.com/a/ACg8oc...</td>\n",
       "      <td>Thank you</td>\n",
       "      <td>5</td>\n",
       "      <td>1</td>\n",
       "      <td>24.11.22</td>\n",
       "      <td>2025-01-10 19:24:54</td>\n",
       "      <td>NaN</td>\n",
       "      <td>NaN</td>\n",
       "    </tr>\n",
       "    <tr>\n",
       "      <th>865</th>\n",
       "      <td>4407f54a-0d93-44b2-87be-59268512ee0e</td>\n",
       "      <td>Ade Jon</td>\n",
       "      <td>https://play-lh.googleusercontent.com/a-/ALV-U...</td>\n",
       "      <td>Waw</td>\n",
       "      <td>1</td>\n",
       "      <td>0</td>\n",
       "      <td>24.02.07</td>\n",
       "      <td>2024-03-08 16:10:02</td>\n",
       "      <td>NaN</td>\n",
       "      <td>NaN</td>\n",
       "    </tr>\n",
       "    <tr>\n",
       "      <th>333</th>\n",
       "      <td>7e4a7ccf-64df-4cbe-9a5b-f92e188de048</td>\n",
       "      <td>Kadija Kamal</td>\n",
       "      <td>https://play-lh.googleusercontent.com/a/ACg8oc...</td>\n",
       "      <td>Gamebela</td>\n",
       "      <td>1</td>\n",
       "      <td>0</td>\n",
       "      <td>NaN</td>\n",
       "      <td>2024-08-08 15:07:21</td>\n",
       "      <td>NaN</td>\n",
       "      <td>NaN</td>\n",
       "    </tr>\n",
       "    <tr>\n",
       "      <th>390</th>\n",
       "      <td>847c4660-1018-4794-9e36-4b361438b6fd</td>\n",
       "      <td>Zemen Kebede</td>\n",
       "      <td>https://play-lh.googleusercontent.com/a/ACg8oc...</td>\n",
       "      <td>Wow</td>\n",
       "      <td>5</td>\n",
       "      <td>1</td>\n",
       "      <td>NaN</td>\n",
       "      <td>2024-07-19 16:21:51</td>\n",
       "      <td>NaN</td>\n",
       "      <td>NaN</td>\n",
       "    </tr>\n",
       "    <tr>\n",
       "      <th>59</th>\n",
       "      <td>e52a6ccb-dc16-472c-84ef-2969c08a9318</td>\n",
       "      <td>Nahom Tesfamikael</td>\n",
       "      <td>https://play-lh.googleusercontent.com/a-/ALV-U...</td>\n",
       "      <td>It can't actively on initialization, it says i...</td>\n",
       "      <td>1</td>\n",
       "      <td>4</td>\n",
       "      <td>25.03.07</td>\n",
       "      <td>2025-03-29 14:29:38</td>\n",
       "      <td>NaN</td>\n",
       "      <td>NaN</td>\n",
       "    </tr>\n",
       "  </tbody>\n",
       "</table>\n",
       "</div>"
      ],
      "text/plain": [
       "                                 reviewId           userName  \\\n",
       "126  94acd1f3-c7e3-493f-9ded-b1f4186ac41b        Osman Ahmed   \n",
       "865  4407f54a-0d93-44b2-87be-59268512ee0e            Ade Jon   \n",
       "333  7e4a7ccf-64df-4cbe-9a5b-f92e188de048       Kadija Kamal   \n",
       "390  847c4660-1018-4794-9e36-4b361438b6fd       Zemen Kebede   \n",
       "59   e52a6ccb-dc16-472c-84ef-2969c08a9318  Nahom Tesfamikael   \n",
       "\n",
       "                                             userImage  \\\n",
       "126  https://play-lh.googleusercontent.com/a/ACg8oc...   \n",
       "865  https://play-lh.googleusercontent.com/a-/ALV-U...   \n",
       "333  https://play-lh.googleusercontent.com/a/ACg8oc...   \n",
       "390  https://play-lh.googleusercontent.com/a/ACg8oc...   \n",
       "59   https://play-lh.googleusercontent.com/a-/ALV-U...   \n",
       "\n",
       "                                               content  score  thumbsUpCount  \\\n",
       "126                                          Thank you      5              1   \n",
       "865                                                Waw      1              0   \n",
       "333                                           Gamebela      1              0   \n",
       "390                                                Wow      5              1   \n",
       "59   It can't actively on initialization, it says i...      1              4   \n",
       "\n",
       "    reviewCreatedVersion                   at replyContent repliedAt  \n",
       "126             24.11.22  2025-01-10 19:24:54          NaN       NaN  \n",
       "865             24.02.07  2024-03-08 16:10:02          NaN       NaN  \n",
       "333                  NaN  2024-08-08 15:07:21          NaN       NaN  \n",
       "390                  NaN  2024-07-19 16:21:51          NaN       NaN  \n",
       "59              25.03.07  2025-03-29 14:29:38          NaN       NaN  "
      ]
     },
     "execution_count": 24,
     "metadata": {},
     "output_type": "execute_result"
    }
   ],
   "source": [
    "# Drop rows missing significant columns\n",
    "dq.drop_rows_with_missing_in_columns(['content','score']).sample(5)"
   ]
  },
  {
   "cell_type": "code",
   "execution_count": 25,
   "id": "5761e72c",
   "metadata": {},
   "outputs": [
    {
     "name": "stdout",
     "output_type": "stream",
     "text": [
      "[INFO] No completely empty columns found.\n"
     ]
    }
   ],
   "source": [
    "#drop columns with no data\n",
    "df=dq.drop_empty_columns()"
   ]
  },
  {
   "cell_type": "code",
   "execution_count": 26,
   "id": "9a479df8",
   "metadata": {},
   "outputs": [
    {
     "data": {
      "text/html": [
       "<div>\n",
       "<style scoped>\n",
       "    .dataframe tbody tr th:only-of-type {\n",
       "        vertical-align: middle;\n",
       "    }\n",
       "\n",
       "    .dataframe tbody tr th {\n",
       "        vertical-align: top;\n",
       "    }\n",
       "\n",
       "    .dataframe thead th {\n",
       "        text-align: right;\n",
       "    }\n",
       "</style>\n",
       "<table border=\"1\" class=\"dataframe\">\n",
       "  <thead>\n",
       "    <tr style=\"text-align: right;\">\n",
       "      <th></th>\n",
       "      <th>#missing_values</th>\n",
       "      <th>percentage</th>\n",
       "    </tr>\n",
       "  </thead>\n",
       "  <tbody>\n",
       "    <tr>\n",
       "      <th>replyContent</th>\n",
       "      <td>977</td>\n",
       "      <td>97.70%</td>\n",
       "    </tr>\n",
       "    <tr>\n",
       "      <th>repliedAt</th>\n",
       "      <td>977</td>\n",
       "      <td>97.70%</td>\n",
       "    </tr>\n",
       "    <tr>\n",
       "      <th>reviewCreatedVersion</th>\n",
       "      <td>272</td>\n",
       "      <td>27.20%</td>\n",
       "    </tr>\n",
       "  </tbody>\n",
       "</table>\n",
       "</div>"
      ],
      "text/plain": [
       "                      #missing_values percentage\n",
       "replyContent                      977     97.70%\n",
       "repliedAt                         977     97.70%\n",
       "reviewCreatedVersion              272     27.20%"
      ]
     },
     "execution_count": 26,
     "metadata": {},
     "output_type": "execute_result"
    }
   ],
   "source": [
    "dq.columns_with_significant_missing_values(threshold=5)"
   ]
  },
  {
   "cell_type": "code",
   "execution_count": 27,
   "id": "94d16f85",
   "metadata": {},
   "outputs": [
    {
     "name": "stdout",
     "output_type": "stream",
     "text": [
      "[INFO] Dropped columns: ['reviewId', 'userImage', 'reviewCreatedVersion', 'replyContent', 'repliedAt']\n"
     ]
    }
   ],
   "source": [
    "#drop the reviewid column - it is not useful for analysis\n",
    "df = dq.drop_columns(['reviewId','userImage','reviewCreatedVersion','replyContent','repliedAt'])"
   ]
  },
  {
   "cell_type": "code",
   "execution_count": 28,
   "id": "61565685",
   "metadata": {},
   "outputs": [
    {
     "data": {
      "text/plain": [
       "{}"
      ]
     },
     "execution_count": 28,
     "metadata": {},
     "output_type": "execute_result"
    }
   ],
   "source": [
    "dq.find_invalid_values()"
   ]
  },
  {
   "cell_type": "code",
   "execution_count": 29,
   "id": "84c68105",
   "metadata": {},
   "outputs": [
    {
     "name": "stdout",
     "output_type": "stream",
     "text": [
      "[INFO] Replaced emojis with text equivalents in 'content' column.\n"
     ]
    }
   ],
   "source": [
    "df=dq.replace_emojis_with_text(\"content\")"
   ]
  },
  {
   "cell_type": "code",
   "execution_count": 30,
   "id": "adca3dae",
   "metadata": {},
   "outputs": [],
   "source": [
    "# df=await dq.translate_non_english_text(\"content\")"
   ]
  },
  {
   "cell_type": "code",
   "execution_count": 31,
   "id": "cef4c97c",
   "metadata": {},
   "outputs": [
    {
     "data": {
      "text/plain": [
       "(1000, 5)"
      ]
     },
     "execution_count": 31,
     "metadata": {},
     "output_type": "execute_result"
    }
   ],
   "source": [
    "df.shape"
   ]
  },
  {
   "cell_type": "code",
   "execution_count": 32,
   "id": "da860250",
   "metadata": {},
   "outputs": [
    {
     "name": "stdout",
     "output_type": "stream",
     "text": [
      "[INFO] Dropped 364 non-English rows from 'content' column.\n"
     ]
    }
   ],
   "source": [
    "df=dq.filter_english_text(\"content\")"
   ]
  },
  {
   "cell_type": "markdown",
   "id": "5941313a",
   "metadata": {},
   "source": [
    "### Inconsistencies and Inaccuracies"
   ]
  },
  {
   "cell_type": "code",
   "execution_count": 33,
   "id": "0f13b809",
   "metadata": {},
   "outputs": [],
   "source": [
    "#drop redundancies and clean column names\n",
    "df=dq.drop_redundant_columns()"
   ]
  },
  {
   "cell_type": "code",
   "execution_count": 34,
   "id": "d1f60871",
   "metadata": {},
   "outputs": [],
   "source": [
    "df=dq.convert_columns_to_datetime()"
   ]
  },
  {
   "cell_type": "code",
   "execution_count": 35,
   "id": "5a756656",
   "metadata": {},
   "outputs": [
    {
     "name": "stdout",
     "output_type": "stream",
     "text": [
      "<class 'pandas.core.frame.DataFrame'>\n",
      "Index: 636 entries, 1 to 999\n",
      "Data columns (total 5 columns):\n",
      " #   Column         Non-Null Count  Dtype \n",
      "---  ------         --------------  ----- \n",
      " 0   userName       636 non-null    object\n",
      " 1   content        636 non-null    object\n",
      " 2   score          636 non-null    int64 \n",
      " 3   thumbsUpCount  636 non-null    int64 \n",
      " 4   at             636 non-null    object\n",
      "dtypes: int64(2), object(3)\n",
      "memory usage: 29.8+ KB\n"
     ]
    }
   ],
   "source": [
    "df.info()"
   ]
  },
  {
   "cell_type": "code",
   "execution_count": 36,
   "id": "4d58f6f7",
   "metadata": {},
   "outputs": [
    {
     "data": {
      "text/plain": [
       "Index(['userName', 'content', 'score', 'thumbsUpCount', 'at'], dtype='object')"
      ]
     },
     "execution_count": 36,
     "metadata": {},
     "output_type": "execute_result"
    }
   ],
   "source": [
    "df.columns"
   ]
  },
  {
   "cell_type": "code",
   "execution_count": 37,
   "id": "9cbdc0d5",
   "metadata": {},
   "outputs": [
    {
     "name": "stdout",
     "output_type": "stream",
     "text": [
      "[INFO] Renamed columns: {'content': 'review', 'score': 'rating', 'at': 'date'}\n"
     ]
    }
   ],
   "source": [
    "#  df=df.rename(columns={\"content\": \"review\", \"score\": \"rating\", \"at\": \"date\"}, inplace=True)\n",
    "df=dq.rename_and_prioritize_columns({\"content\": \"review\", \"score\": \"rating\", \"at\": \"date\"})"
   ]
  },
  {
   "cell_type": "code",
   "execution_count": 38,
   "id": "6674e038",
   "metadata": {},
   "outputs": [],
   "source": [
    "df[\"bank\"] = BANK  # add bank name column\n",
    "df[\"source\"] = \"Google Store\"  # add source column"
   ]
  },
  {
   "cell_type": "code",
   "execution_count": 39,
   "id": "0142f406",
   "metadata": {},
   "outputs": [
    {
     "data": {
      "text/html": [
       "<div>\n",
       "<style scoped>\n",
       "    .dataframe tbody tr th:only-of-type {\n",
       "        vertical-align: middle;\n",
       "    }\n",
       "\n",
       "    .dataframe tbody tr th {\n",
       "        vertical-align: top;\n",
       "    }\n",
       "\n",
       "    .dataframe thead th {\n",
       "        text-align: right;\n",
       "    }\n",
       "</style>\n",
       "<table border=\"1\" class=\"dataframe\">\n",
       "  <thead>\n",
       "    <tr style=\"text-align: right;\">\n",
       "      <th></th>\n",
       "      <th>review</th>\n",
       "      <th>rating</th>\n",
       "      <th>date</th>\n",
       "      <th>userName</th>\n",
       "      <th>thumbsUpCount</th>\n",
       "      <th>bank</th>\n",
       "      <th>source</th>\n",
       "    </tr>\n",
       "  </thead>\n",
       "  <tbody>\n",
       "    <tr>\n",
       "      <th>804</th>\n",
       "      <td>The best</td>\n",
       "      <td>4</td>\n",
       "      <td>2024-04-14 06:58:13</td>\n",
       "      <td>bile Tsegaye</td>\n",
       "      <td>3</td>\n",
       "      <td>BOA</td>\n",
       "      <td>Google Store</td>\n",
       "    </tr>\n",
       "    <tr>\n",
       "      <th>113</th>\n",
       "      <td>I can't dijitalize my atm in the apollo app on...</td>\n",
       "      <td>1</td>\n",
       "      <td>2025-01-22 06:05:22</td>\n",
       "      <td>Mohammed Duri</td>\n",
       "      <td>1</td>\n",
       "      <td>BOA</td>\n",
       "      <td>Google Store</td>\n",
       "    </tr>\n",
       "    <tr>\n",
       "      <th>629</th>\n",
       "      <td>Crash... glitch... crash... blame connection.....</td>\n",
       "      <td>1</td>\n",
       "      <td>2024-05-02 22:59:16</td>\n",
       "      <td>Bereket Aberra</td>\n",
       "      <td>3</td>\n",
       "      <td>BOA</td>\n",
       "      <td>Google Store</td>\n",
       "    </tr>\n",
       "    <tr>\n",
       "      <th>848</th>\n",
       "      <td>When writing amounts z app cannot insert decei...</td>\n",
       "      <td>3</td>\n",
       "      <td>2024-03-20 16:49:19</td>\n",
       "      <td>tilahun yihunie</td>\n",
       "      <td>4</td>\n",
       "      <td>BOA</td>\n",
       "      <td>Google Store</td>\n",
       "    </tr>\n",
       "    <tr>\n",
       "      <th>242</th>\n",
       "      <td>Stop telling me what to do with my phone, BOA....</td>\n",
       "      <td>1</td>\n",
       "      <td>2024-10-04 05:55:49</td>\n",
       "      <td>Eyuel Hailu</td>\n",
       "      <td>14</td>\n",
       "      <td>BOA</td>\n",
       "      <td>Google Store</td>\n",
       "    </tr>\n",
       "    <tr>\n",
       "      <th>673</th>\n",
       "      <td>No feature works correctly. Its always bufferi...</td>\n",
       "      <td>2</td>\n",
       "      <td>2024-04-30 22:39:25</td>\n",
       "      <td>Mulugeta Legesse</td>\n",
       "      <td>0</td>\n",
       "      <td>BOA</td>\n",
       "      <td>Google Store</td>\n",
       "    </tr>\n",
       "    <tr>\n",
       "      <th>980</th>\n",
       "      <td>Simple, fast and easy to use. I had bad experi...</td>\n",
       "      <td>5</td>\n",
       "      <td>2024-02-05 11:58:49</td>\n",
       "      <td>Hailsh Abyssinian</td>\n",
       "      <td>8</td>\n",
       "      <td>BOA</td>\n",
       "      <td>Google Store</td>\n",
       "    </tr>\n",
       "    <tr>\n",
       "      <th>618</th>\n",
       "      <td>The app keeps crashign again and again, i didn...</td>\n",
       "      <td>1</td>\n",
       "      <td>2024-05-03 10:59:07</td>\n",
       "      <td>Ermias Desalegn</td>\n",
       "      <td>2</td>\n",
       "      <td>BOA</td>\n",
       "      <td>Google Store</td>\n",
       "    </tr>\n",
       "    <tr>\n",
       "      <th>903</th>\n",
       "      <td>It is better than before and i like it</td>\n",
       "      <td>5</td>\n",
       "      <td>2024-02-22 21:50:36</td>\n",
       "      <td>sawkem wondimu</td>\n",
       "      <td>2</td>\n",
       "      <td>BOA</td>\n",
       "      <td>Google Store</td>\n",
       "    </tr>\n",
       "    <tr>\n",
       "      <th>699</th>\n",
       "      <td>This new update really sucks.. Can't even get ...</td>\n",
       "      <td>1</td>\n",
       "      <td>2024-04-29 19:59:02</td>\n",
       "      <td>Asier Negassi</td>\n",
       "      <td>4</td>\n",
       "      <td>BOA</td>\n",
       "      <td>Google Store</td>\n",
       "    </tr>\n",
       "  </tbody>\n",
       "</table>\n",
       "</div>"
      ],
      "text/plain": [
       "                                                review  rating  \\\n",
       "804                                           The best       4   \n",
       "113  I can't dijitalize my atm in the apollo app on...       1   \n",
       "629  Crash... glitch... crash... blame connection.....       1   \n",
       "848  When writing amounts z app cannot insert decei...       3   \n",
       "242  Stop telling me what to do with my phone, BOA....       1   \n",
       "673  No feature works correctly. Its always bufferi...       2   \n",
       "980  Simple, fast and easy to use. I had bad experi...       5   \n",
       "618  The app keeps crashign again and again, i didn...       1   \n",
       "903             It is better than before and i like it       5   \n",
       "699  This new update really sucks.. Can't even get ...       1   \n",
       "\n",
       "                    date           userName  thumbsUpCount bank        source  \n",
       "804  2024-04-14 06:58:13       bile Tsegaye              3  BOA  Google Store  \n",
       "113  2025-01-22 06:05:22      Mohammed Duri              1  BOA  Google Store  \n",
       "629  2024-05-02 22:59:16     Bereket Aberra              3  BOA  Google Store  \n",
       "848  2024-03-20 16:49:19    tilahun yihunie              4  BOA  Google Store  \n",
       "242  2024-10-04 05:55:49        Eyuel Hailu             14  BOA  Google Store  \n",
       "673  2024-04-30 22:39:25   Mulugeta Legesse              0  BOA  Google Store  \n",
       "980  2024-02-05 11:58:49  Hailsh Abyssinian              8  BOA  Google Store  \n",
       "618  2024-05-03 10:59:07    Ermias Desalegn              2  BOA  Google Store  \n",
       "903  2024-02-22 21:50:36     sawkem wondimu              2  BOA  Google Store  \n",
       "699  2024-04-29 19:59:02      Asier Negassi              4  BOA  Google Store  "
      ]
     },
     "execution_count": 39,
     "metadata": {},
     "output_type": "execute_result"
    }
   ],
   "source": [
    "df.sample(10)"
   ]
  },
  {
   "cell_type": "markdown",
   "id": "62483744",
   "metadata": {},
   "source": [
    "## 6. Analyze & Visualize"
   ]
  },
  {
   "cell_type": "code",
   "execution_count": 40,
   "id": "c746be46",
   "metadata": {},
   "outputs": [],
   "source": [
    "#instantiate the ReviewVisualizer class\n",
    "viz = ReviewVisualizer(df)"
   ]
  },
  {
   "cell_type": "code",
   "execution_count": 41,
   "id": "75ef8025",
   "metadata": {},
   "outputs": [
    {
     "name": "stdout",
     "output_type": "stream",
     "text": [
      "[INFO] Saved plot: plots/wordcloud_reviews.png\n"
     ]
    },
    {
     "data": {
      "image/png": "[encoded data removed]",
      "text/plain": [
       "<Figure size 640x480 with 1 Axes>"
      ]
     },
     "metadata": {},
     "output_type": "display_data"
    }
   ],
   "source": [
    "#Plot a word cloud of the reviews\n",
    "viz.plot_wordcloud()"
   ]
  },
  {
   "cell_type": "code",
   "execution_count": 42,
   "id": "c10709a5",
   "metadata": {},
   "outputs": [
    {
     "name": "stderr",
     "output_type": "stream",
     "text": [
      "INFO:matplotlib.category:Using categorical units to plot a list of strings that are all parsable as floats or dates. If these strings should be plotted as numbers, cast to the appropriate data type before plotting.\n",
      "INFO:matplotlib.category:Using categorical units to plot a list of strings that are all parsable as floats or dates. If these strings should be plotted as numbers, cast to the appropriate data type before plotting.\n"
     ]
    },
    {
     "name": "stdout",
     "output_type": "stream",
     "text": [
      "[INFO] Saved plot: plots/rating_distribution.png\n"
     ]
    },
    {
     "data": {
      "image/png": "[encoded data removed]",
      "text/plain": [
       "<Figure size 640x480 with 1 Axes>"
      ]
     },
     "metadata": {},
     "output_type": "display_data"
    }
   ],
   "source": [
    "# Plot rating distribution\n",
    "viz.plot_rating_distribution()"
   ]
  },
  {
   "cell_type": "code",
   "execution_count": 43,
   "id": "344ee32c",
   "metadata": {},
   "outputs": [
    {
     "name": "stderr",
     "output_type": "stream",
     "text": [
      "INFO:matplotlib.category:Using categorical units to plot a list of strings that are all parsable as floats or dates. If these strings should be plotted as numbers, cast to the appropriate data type before plotting.\n",
      "INFO:matplotlib.category:Using categorical units to plot a list of strings that are all parsable as floats or dates. If these strings should be plotted as numbers, cast to the appropriate data type before plotting.\n"
     ]
    },
    {
     "name": "stdout",
     "output_type": "stream",
     "text": [
      "[INFO] Saved plot: plots/thumbs_up_vs_rating.png\n"
     ]
    },
    {
     "data": {
      "image/png": "[encoded data removed]",
      "text/plain": [
       "<Figure size 640x480 with 1 Axes>"
      ]
     },
     "metadata": {},
     "output_type": "display_data"
    }
   ],
   "source": [
    "#Plot thumbs up against rating\n",
    "viz.plot_thumbs_up_vs_rating()"
   ]
  },
  {
   "cell_type": "code",
   "execution_count": 44,
   "id": "02d0af65",
   "metadata": {},
   "outputs": [
    {
     "name": "stderr",
     "output_type": "stream",
     "text": [
      "INFO:matplotlib.category:Using categorical units to plot a list of strings that are all parsable as floats or dates. If these strings should be plotted as numbers, cast to the appropriate data type before plotting.\n",
      "INFO:matplotlib.category:Using categorical units to plot a list of strings that are all parsable as floats or dates. If these strings should be plotted as numbers, cast to the appropriate data type before plotting.\n"
     ]
    },
    {
     "name": "stdout",
     "output_type": "stream",
     "text": [
      "[INFO] Saved plot: plots/sentiment_vs_rating.png\n"
     ]
    },
    {
     "data": {
      "image/png": "[encoded data removed]",
      "text/plain": [
       "<Figure size 640x480 with 1 Axes>"
      ]
     },
     "metadata": {},
     "output_type": "display_data"
    }
   ],
   "source": [
    "# Plot Sentiment against Ratin\n",
    "viz.plot_sentiment_vs_rating()"
   ]
  },
  {
   "cell_type": "code",
   "execution_count": 45,
   "id": "3dc96de2",
   "metadata": {},
   "outputs": [
    {
     "name": "stdout",
     "output_type": "stream",
     "text": [
      "[INFO] Dropped columns: ['userName', 'thumbsUpCount']\n"
     ]
    }
   ],
   "source": [
    "df=dq.drop_columns(['userName','thumbsUpCount'])"
   ]
  },
  {
   "cell_type": "markdown",
   "id": "d7310f99",
   "metadata": {},
   "source": [
    "### Export Cleaned Data"
   ]
  },
  {
   "cell_type": "code",
   "execution_count": 46,
   "id": "ee5a1371",
   "metadata": {},
   "outputs": [],
   "source": [
    "# Save to csv\n",
    "df.to_csv(CLEANED_DATA_PATH, index=False)"
   ]
  },
  {
   "cell_type": "code",
   "execution_count": 47,
   "id": "f10a8046",
   "metadata": {},
   "outputs": [
    {
     "data": {
      "text/html": [
       "<div>\n",
       "<style scoped>\n",
       "    .dataframe tbody tr th:only-of-type {\n",
       "        vertical-align: middle;\n",
       "    }\n",
       "\n",
       "    .dataframe tbody tr th {\n",
       "        vertical-align: top;\n",
       "    }\n",
       "\n",
       "    .dataframe thead th {\n",
       "        text-align: right;\n",
       "    }\n",
       "</style>\n",
       "<table border=\"1\" class=\"dataframe\">\n",
       "  <thead>\n",
       "    <tr style=\"text-align: right;\">\n",
       "      <th></th>\n",
       "      <th>review</th>\n",
       "      <th>rating</th>\n",
       "      <th>date</th>\n",
       "      <th>bank</th>\n",
       "      <th>source</th>\n",
       "    </tr>\n",
       "  </thead>\n",
       "  <tbody>\n",
       "    <tr>\n",
       "      <th>137</th>\n",
       "      <td>It doesn't work at all.</td>\n",
       "      <td>2</td>\n",
       "      <td>2025-01-02 13:24:09</td>\n",
       "      <td>BOA</td>\n",
       "      <td>Google Store</td>\n",
       "    </tr>\n",
       "    <tr>\n",
       "      <th>676</th>\n",
       "      <td>Not comfortable with this version. Its hard to...</td>\n",
       "      <td>5</td>\n",
       "      <td>2024-04-30 19:29:53</td>\n",
       "      <td>BOA</td>\n",
       "      <td>Google Store</td>\n",
       "    </tr>\n",
       "    <tr>\n",
       "      <th>154</th>\n",
       "      <td>The forest app ever</td>\n",
       "      <td>1</td>\n",
       "      <td>2024-12-19 11:07:06</td>\n",
       "      <td>BOA</td>\n",
       "      <td>Google Store</td>\n",
       "    </tr>\n",
       "    <tr>\n",
       "      <th>257</th>\n",
       "      <td>It's easy used to operate program and secured</td>\n",
       "      <td>4</td>\n",
       "      <td>2024-09-25 16:00:21</td>\n",
       "      <td>BOA</td>\n",
       "      <td>Google Store</td>\n",
       "    </tr>\n",
       "    <tr>\n",
       "      <th>1</th>\n",
       "      <td>Hello, I’m facing a problem with the BOA Mobil...</td>\n",
       "      <td>1</td>\n",
       "      <td>2025-06-03 16:21:34</td>\n",
       "      <td>BOA</td>\n",
       "      <td>Google Store</td>\n",
       "    </tr>\n",
       "    <tr>\n",
       "      <th>226</th>\n",
       "      <td>Nice to meet you my proud bank in Ethiopia.. I...</td>\n",
       "      <td>5</td>\n",
       "      <td>2024-10-18 21:22:15</td>\n",
       "      <td>BOA</td>\n",
       "      <td>Google Store</td>\n",
       "    </tr>\n",
       "    <tr>\n",
       "      <th>710</th>\n",
       "      <td>With every update the app keeps on getting wor...</td>\n",
       "      <td>1</td>\n",
       "      <td>2024-04-29 01:54:02</td>\n",
       "      <td>BOA</td>\n",
       "      <td>Google Store</td>\n",
       "    </tr>\n",
       "    <tr>\n",
       "      <th>941</th>\n",
       "      <td>Boring</td>\n",
       "      <td>1</td>\n",
       "      <td>2024-02-15 00:28:24</td>\n",
       "      <td>BOA</td>\n",
       "      <td>Google Store</td>\n",
       "    </tr>\n",
       "    <tr>\n",
       "      <th>902</th>\n",
       "      <td>It is easy to use and very fast app</td>\n",
       "      <td>5</td>\n",
       "      <td>2024-02-23 10:05:02</td>\n",
       "      <td>BOA</td>\n",
       "      <td>Google Store</td>\n",
       "    </tr>\n",
       "    <tr>\n",
       "      <th>360</th>\n",
       "      <td>this is so disappointing app disappointed</td>\n",
       "      <td>1</td>\n",
       "      <td>2024-07-31 00:37:56</td>\n",
       "      <td>BOA</td>\n",
       "      <td>Google Store</td>\n",
       "    </tr>\n",
       "    <tr>\n",
       "      <th>36</th>\n",
       "      <td>the app isn't working after it asked me the pa...</td>\n",
       "      <td>3</td>\n",
       "      <td>2025-04-20 21:05:21</td>\n",
       "      <td>BOA</td>\n",
       "      <td>Google Store</td>\n",
       "    </tr>\n",
       "    <tr>\n",
       "      <th>460</th>\n",
       "      <td>Verry nice</td>\n",
       "      <td>5</td>\n",
       "      <td>2024-06-17 13:05:26</td>\n",
       "      <td>BOA</td>\n",
       "      <td>Google Store</td>\n",
       "    </tr>\n",
       "    <tr>\n",
       "      <th>910</th>\n",
       "      <td>It is very bad app. not friendly usable. needs...</td>\n",
       "      <td>1</td>\n",
       "      <td>2024-02-21 16:06:23</td>\n",
       "      <td>BOA</td>\n",
       "      <td>Google Store</td>\n",
       "    </tr>\n",
       "    <tr>\n",
       "      <th>682</th>\n",
       "      <td>Great always great!!!</td>\n",
       "      <td>5</td>\n",
       "      <td>2024-04-30 14:05:48</td>\n",
       "      <td>BOA</td>\n",
       "      <td>Google Store</td>\n",
       "    </tr>\n",
       "    <tr>\n",
       "      <th>855</th>\n",
       "      <td>I couldn't transfer because of bug's its annoy...</td>\n",
       "      <td>1</td>\n",
       "      <td>2024-03-15 18:10:04</td>\n",
       "      <td>BOA</td>\n",
       "      <td>Google Store</td>\n",
       "    </tr>\n",
       "  </tbody>\n",
       "</table>\n",
       "</div>"
      ],
      "text/plain": [
       "                                                review  rating  \\\n",
       "137                            It doesn't work at all.       2   \n",
       "676  Not comfortable with this version. Its hard to...       5   \n",
       "154                                The forest app ever       1   \n",
       "257      It's easy used to operate program and secured       4   \n",
       "1    Hello, I’m facing a problem with the BOA Mobil...       1   \n",
       "226  Nice to meet you my proud bank in Ethiopia.. I...       5   \n",
       "710  With every update the app keeps on getting wor...       1   \n",
       "941                                             Boring       1   \n",
       "902                It is easy to use and very fast app       5   \n",
       "360          this is so disappointing app disappointed       1   \n",
       "36   the app isn't working after it asked me the pa...       3   \n",
       "460                                         Verry nice       5   \n",
       "910  It is very bad app. not friendly usable. needs...       1   \n",
       "682                              Great always great!!!       5   \n",
       "855  I couldn't transfer because of bug's its annoy...       1   \n",
       "\n",
       "                    date bank        source  \n",
       "137  2025-01-02 13:24:09  BOA  Google Store  \n",
       "676  2024-04-30 19:29:53  BOA  Google Store  \n",
       "154  2024-12-19 11:07:06  BOA  Google Store  \n",
       "257  2024-09-25 16:00:21  BOA  Google Store  \n",
       "1    2025-06-03 16:21:34  BOA  Google Store  \n",
       "226  2024-10-18 21:22:15  BOA  Google Store  \n",
       "710  2024-04-29 01:54:02  BOA  Google Store  \n",
       "941  2024-02-15 00:28:24  BOA  Google Store  \n",
       "902  2024-02-23 10:05:02  BOA  Google Store  \n",
       "360  2024-07-31 00:37:56  BOA  Google Store  \n",
       "36   2025-04-20 21:05:21  BOA  Google Store  \n",
       "460  2024-06-17 13:05:26  BOA  Google Store  \n",
       "910  2024-02-21 16:06:23  BOA  Google Store  \n",
       "682  2024-04-30 14:05:48  BOA  Google Store  \n",
       "855  2024-03-15 18:10:04  BOA  Google Store  "
      ]
     },
     "execution_count": 47,
     "metadata": {},
     "output_type": "execute_result"
    }
   ],
   "source": [
    "df.sample(15)"
   ]
  }
 ],
 "metadata": {
  "kernelspec": {
   "display_name": "venv",
   "language": "python",
   "name": "python3"
  },
  "language_info": {
   "codemirror_mode": {
    "name": "ipython",
    "version": 3
   },
   "file_extension": ".py",
   "mimetype": "text/x-python",
   "name": "python",
   "nbconvert_exporter": "python",
   "pygments_lexer": "ipython3",
   "version": "3.10.12"
  }
 },
 "nbformat": 4,
 "nbformat_minor": 5
}
