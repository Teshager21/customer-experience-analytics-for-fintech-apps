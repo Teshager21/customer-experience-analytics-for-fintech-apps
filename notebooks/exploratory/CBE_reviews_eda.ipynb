{
 "cells": [
  {
   "cell_type": "markdown",
   "id": "eaeaf81f",
   "metadata": {},
   "source": [
    "# BANK APP REVIEWS - CBE"
   ]
  },
  {
   "cell_type": "code",
   "execution_count": 1,
   "id": "4aa6f112",
   "metadata": {},
   "outputs": [],
   "source": [
    "#auto loading\n",
    "%load_ext autoreload\n",
    "%autoreload 2"
   ]
  },
  {
   "cell_type": "markdown",
   "id": "f092f420",
   "metadata": {},
   "source": [
    "## 🧱 1. Setup & Imports"
   ]
  },
  {
   "cell_type": "code",
   "execution_count": 2,
   "id": "c11eff5d",
   "metadata": {},
   "outputs": [],
   "source": [
    "import warnings\n",
    "import pandas as pd\n",
    "from data.data_quality_utils import DataQualityUtils\n",
    "from data.load_data import load_local_data\n",
    "from visualization.visualizer import ReviewVisualizer"
   ]
  },
  {
   "cell_type": "code",
   "execution_count": 3,
   "id": "4ba24590",
   "metadata": {},
   "outputs": [],
   "source": [
    "warnings.filterwarnings(\"ignore\")"
   ]
  },
  {
   "cell_type": "code",
   "execution_count": 4,
   "id": "cdf6a238",
   "metadata": {},
   "outputs": [],
   "source": [
    "# variable\n",
    "BANK=\"CBE\""
   ]
  },
  {
   "cell_type": "code",
   "execution_count": 5,
   "id": "560fbaa0",
   "metadata": {},
   "outputs": [],
   "source": [
    "#paths\n",
    "RAW_DATA_PATH='../../data/raw/'+BANK+'_raw_reviews.csv'\n",
    "CLEANED_DATA_PATH='../../data/interim/'+BANK+'_cleaned_reviews.csv'"
   ]
  },
  {
   "cell_type": "markdown",
   "id": "4e675394",
   "metadata": {},
   "source": [
    "### 📌 Project Overview"
   ]
  },
  {
   "cell_type": "markdown",
   "id": "682df3b3",
   "metadata": {},
   "source": [
    "#### CBE APP Reviews\n"
   ]
  },
  {
   "cell_type": "markdown",
   "id": "339d89b3",
   "metadata": {},
   "source": [
    "## 📦 2. Data Loading & Overview  <a id= '2-data-loading--overview'></a>"
   ]
  },
  {
   "cell_type": "code",
   "execution_count": 6,
   "id": "0764cf5c",
   "metadata": {},
   "outputs": [
    {
     "name": "stderr",
     "output_type": "stream",
     "text": [
      "INFO:data.load_data:Loading data from: /home/teshager/Documents/10Academy/repositories/projects/customer-experience-analytics-for-fintech-apps/data/raw/CBE_raw_reviews.csv (type=csv)\n",
      "INFO:data.load_data:Data loaded successfully. Shape: (500, 10)\n"
     ]
    },
    {
     "data": {
      "text/html": [
       "<div>\n",
       "<style scoped>\n",
       "    .dataframe tbody tr th:only-of-type {\n",
       "        vertical-align: middle;\n",
       "    }\n",
       "\n",
       "    .dataframe tbody tr th {\n",
       "        vertical-align: top;\n",
       "    }\n",
       "\n",
       "    .dataframe thead th {\n",
       "        text-align: right;\n",
       "    }\n",
       "</style>\n",
       "<table border=\"1\" class=\"dataframe\">\n",
       "  <thead>\n",
       "    <tr style=\"text-align: right;\">\n",
       "      <th></th>\n",
       "      <th>reviewId</th>\n",
       "      <th>userName</th>\n",
       "      <th>userImage</th>\n",
       "      <th>content</th>\n",
       "      <th>score</th>\n",
       "      <th>thumbsUpCount</th>\n",
       "      <th>reviewCreatedVersion</th>\n",
       "      <th>at</th>\n",
       "      <th>replyContent</th>\n",
       "      <th>repliedAt</th>\n",
       "    </tr>\n",
       "  </thead>\n",
       "  <tbody>\n",
       "    <tr>\n",
       "      <th>0</th>\n",
       "      <td>fce00cda-d71a-486e-a4c2-7479ab7793bc</td>\n",
       "      <td>Abdurahiman Abubaker Hussein</td>\n",
       "      <td>https://play-lh.googleusercontent.com/a/ACg8oc...</td>\n",
       "      <td>best app of finance</td>\n",
       "      <td>5</td>\n",
       "      <td>0</td>\n",
       "      <td>NaN</td>\n",
       "      <td>2025-06-04 07:38:54</td>\n",
       "      <td>NaN</td>\n",
       "      <td>NaN</td>\n",
       "    </tr>\n",
       "    <tr>\n",
       "      <th>1</th>\n",
       "      <td>f543a13e-bc0f-4348-b57f-3a83eb67206c</td>\n",
       "      <td>Milky Yebassa</td>\n",
       "      <td>https://play-lh.googleusercontent.com/a/ACg8oc...</td>\n",
       "      <td>yetemeta</td>\n",
       "      <td>1</td>\n",
       "      <td>0</td>\n",
       "      <td>5.1.0</td>\n",
       "      <td>2025-06-03 21:04:44</td>\n",
       "      <td>NaN</td>\n",
       "      <td>NaN</td>\n",
       "    </tr>\n",
       "    <tr>\n",
       "      <th>2</th>\n",
       "      <td>2470d199-834a-4134-a0f9-8c684ba75491</td>\n",
       "      <td>ENGIDA KEBEDE</td>\n",
       "      <td>https://play-lh.googleusercontent.com/a-/ALV-U...</td>\n",
       "      <td>Engida Kebede Fetera</td>\n",
       "      <td>5</td>\n",
       "      <td>0</td>\n",
       "      <td>5.1.0</td>\n",
       "      <td>2025-06-03 20:20:23</td>\n",
       "      <td>NaN</td>\n",
       "      <td>NaN</td>\n",
       "    </tr>\n",
       "    <tr>\n",
       "      <th>3</th>\n",
       "      <td>4beee0dd-05ad-474c-bdff-0146723f2179</td>\n",
       "      <td>Abel Beyena</td>\n",
       "      <td>https://play-lh.googleusercontent.com/a/ACg8oc...</td>\n",
       "      <td>good</td>\n",
       "      <td>5</td>\n",
       "      <td>0</td>\n",
       "      <td>5.1.0</td>\n",
       "      <td>2025-06-03 11:32:52</td>\n",
       "      <td>NaN</td>\n",
       "      <td>NaN</td>\n",
       "    </tr>\n",
       "    <tr>\n",
       "      <th>4</th>\n",
       "      <td>428e5117-387f-4c9d-b095-3230e3f83a8a</td>\n",
       "      <td>Senayt Weldeslase</td>\n",
       "      <td>https://play-lh.googleusercontent.com/a/ACg8oc...</td>\n",
       "      <td>it is not safety</td>\n",
       "      <td>1</td>\n",
       "      <td>0</td>\n",
       "      <td>5.1.0</td>\n",
       "      <td>2025-06-03 09:14:31</td>\n",
       "      <td>NaN</td>\n",
       "      <td>NaN</td>\n",
       "    </tr>\n",
       "  </tbody>\n",
       "</table>\n",
       "</div>"
      ],
      "text/plain": [
       "                               reviewId                      userName  \\\n",
       "0  fce00cda-d71a-486e-a4c2-7479ab7793bc  Abdurahiman Abubaker Hussein   \n",
       "1  f543a13e-bc0f-4348-b57f-3a83eb67206c                 Milky Yebassa   \n",
       "2  2470d199-834a-4134-a0f9-8c684ba75491                 ENGIDA KEBEDE   \n",
       "3  4beee0dd-05ad-474c-bdff-0146723f2179                   Abel Beyena   \n",
       "4  428e5117-387f-4c9d-b095-3230e3f83a8a             Senayt Weldeslase   \n",
       "\n",
       "                                           userImage               content  \\\n",
       "0  https://play-lh.googleusercontent.com/a/ACg8oc...   best app of finance   \n",
       "1  https://play-lh.googleusercontent.com/a/ACg8oc...              yetemeta   \n",
       "2  https://play-lh.googleusercontent.com/a-/ALV-U...  Engida Kebede Fetera   \n",
       "3  https://play-lh.googleusercontent.com/a/ACg8oc...                  good   \n",
       "4  https://play-lh.googleusercontent.com/a/ACg8oc...      it is not safety   \n",
       "\n",
       "   score  thumbsUpCount reviewCreatedVersion                   at  \\\n",
       "0      5              0                  NaN  2025-06-04 07:38:54   \n",
       "1      1              0                5.1.0  2025-06-03 21:04:44   \n",
       "2      5              0                5.1.0  2025-06-03 20:20:23   \n",
       "3      5              0                5.1.0  2025-06-03 11:32:52   \n",
       "4      1              0                5.1.0  2025-06-03 09:14:31   \n",
       "\n",
       "   replyContent  repliedAt  \n",
       "0           NaN        NaN  \n",
       "1           NaN        NaN  \n",
       "2           NaN        NaN  \n",
       "3           NaN        NaN  \n",
       "4           NaN        NaN  "
      ]
     },
     "execution_count": 6,
     "metadata": {},
     "output_type": "execute_result"
    }
   ],
   "source": [
    "# Load the stock news sentiment data\n",
    "df = load_local_data(RAW_DATA_PATH,)\n",
    "df.head()"
   ]
  },
  {
   "cell_type": "markdown",
   "id": "78a5a158",
   "metadata": {},
   "source": [
    "### Dataset Overview"
   ]
  },
  {
   "cell_type": "code",
   "execution_count": 7,
   "id": "89101fbd",
   "metadata": {},
   "outputs": [
    {
     "data": {
      "text/html": [
       "<div>\n",
       "<style scoped>\n",
       "    .dataframe tbody tr th:only-of-type {\n",
       "        vertical-align: middle;\n",
       "    }\n",
       "\n",
       "    .dataframe tbody tr th {\n",
       "        vertical-align: top;\n",
       "    }\n",
       "\n",
       "    .dataframe thead th {\n",
       "        text-align: right;\n",
       "    }\n",
       "</style>\n",
       "<table border=\"1\" class=\"dataframe\">\n",
       "  <thead>\n",
       "    <tr style=\"text-align: right;\">\n",
       "      <th></th>\n",
       "      <th>reviewId</th>\n",
       "      <th>userName</th>\n",
       "      <th>userImage</th>\n",
       "      <th>content</th>\n",
       "      <th>score</th>\n",
       "      <th>thumbsUpCount</th>\n",
       "      <th>reviewCreatedVersion</th>\n",
       "      <th>at</th>\n",
       "      <th>replyContent</th>\n",
       "      <th>repliedAt</th>\n",
       "    </tr>\n",
       "  </thead>\n",
       "  <tbody>\n",
       "    <tr>\n",
       "      <th>458</th>\n",
       "      <td>3e538d9f-cec3-4f37-ad3d-547d33729ea5</td>\n",
       "      <td>Murad Biru</td>\n",
       "      <td>https://play-lh.googleusercontent.com/a-/ALV-U...</td>\n",
       "      <td>best</td>\n",
       "      <td>5</td>\n",
       "      <td>0</td>\n",
       "      <td>5.1.0</td>\n",
       "      <td>2025-05-23 05:49:33</td>\n",
       "      <td>NaN</td>\n",
       "      <td>NaN</td>\n",
       "    </tr>\n",
       "    <tr>\n",
       "      <th>45</th>\n",
       "      <td>9178649b-de1e-4cda-b5c0-b818fcfb560a</td>\n",
       "      <td>Demlash Demlash</td>\n",
       "      <td>https://play-lh.googleusercontent.com/a/ACg8oc...</td>\n",
       "      <td>wow</td>\n",
       "      <td>4</td>\n",
       "      <td>1</td>\n",
       "      <td>5.1.0</td>\n",
       "      <td>2025-05-24 09:26:38</td>\n",
       "      <td>NaN</td>\n",
       "      <td>NaN</td>\n",
       "    </tr>\n",
       "    <tr>\n",
       "      <th>167</th>\n",
       "      <td>beae4fab-d673-4120-ba42-ea1bf94a737f</td>\n",
       "      <td>Araya Abrham</td>\n",
       "      <td>https://play-lh.googleusercontent.com/a-/ALV-U...</td>\n",
       "      <td>the worst commercial company that fails to do ...</td>\n",
       "      <td>1</td>\n",
       "      <td>1</td>\n",
       "      <td>5.1.0</td>\n",
       "      <td>2025-05-03 11:10:57</td>\n",
       "      <td>NaN</td>\n",
       "      <td>NaN</td>\n",
       "    </tr>\n",
       "    <tr>\n",
       "      <th>211</th>\n",
       "      <td>0c9b996b-a42e-4500-84fa-1d5eb764f490</td>\n",
       "      <td>Abdusalam Mohamad</td>\n",
       "      <td>https://play-lh.googleusercontent.com/a/ACg8oc...</td>\n",
       "      <td>Masha alla</td>\n",
       "      <td>5</td>\n",
       "      <td>0</td>\n",
       "      <td>5.1.0</td>\n",
       "      <td>2025-05-31 14:37:05</td>\n",
       "      <td>NaN</td>\n",
       "      <td>NaN</td>\n",
       "    </tr>\n",
       "    <tr>\n",
       "      <th>122</th>\n",
       "      <td>7fbce453-198b-401e-ab72-5f778309cd92</td>\n",
       "      <td>Reem Khalil</td>\n",
       "      <td>https://play-lh.googleusercontent.com/a-/ALV-U...</td>\n",
       "      <td>Please kindly ask to update the app and allow ...</td>\n",
       "      <td>2</td>\n",
       "      <td>0</td>\n",
       "      <td>NaN</td>\n",
       "      <td>2025-05-14 15:14:19</td>\n",
       "      <td>NaN</td>\n",
       "      <td>NaN</td>\n",
       "    </tr>\n",
       "    <tr>\n",
       "      <th>197</th>\n",
       "      <td>b342c5a9-72f5-4399-8848-01973d4844fe</td>\n",
       "      <td>muktar mohamed</td>\n",
       "      <td>https://play-lh.googleusercontent.com/a-/ALV-U...</td>\n",
       "      <td>super</td>\n",
       "      <td>5</td>\n",
       "      <td>0</td>\n",
       "      <td>5.1.0</td>\n",
       "      <td>2025-04-26 16:12:32</td>\n",
       "      <td>NaN</td>\n",
       "      <td>NaN</td>\n",
       "    </tr>\n",
       "    <tr>\n",
       "      <th>285</th>\n",
       "      <td>5a727b0d-4427-4abe-8e9f-9e36369c849c</td>\n",
       "      <td>Nesredin Seid</td>\n",
       "      <td>https://play-lh.googleusercontent.com/a-/ALV-U...</td>\n",
       "      <td>good app</td>\n",
       "      <td>5</td>\n",
       "      <td>0</td>\n",
       "      <td>5.1.0</td>\n",
       "      <td>2025-05-21 16:20:26</td>\n",
       "      <td>NaN</td>\n",
       "      <td>NaN</td>\n",
       "    </tr>\n",
       "    <tr>\n",
       "      <th>119</th>\n",
       "      <td>9954b052-2fbe-4d52-8a5e-7f92f70b3dd5</td>\n",
       "      <td>Zelalem Tesfaye</td>\n",
       "      <td>https://play-lh.googleusercontent.com/a-/ALV-U...</td>\n",
       "      <td>Good job👍</td>\n",
       "      <td>5</td>\n",
       "      <td>0</td>\n",
       "      <td>5.1.0</td>\n",
       "      <td>2025-05-14 23:26:07</td>\n",
       "      <td>NaN</td>\n",
       "      <td>NaN</td>\n",
       "    </tr>\n",
       "    <tr>\n",
       "      <th>366</th>\n",
       "      <td>beae4fab-d673-4120-ba42-ea1bf94a737f</td>\n",
       "      <td>Araya Abrham</td>\n",
       "      <td>https://play-lh.googleusercontent.com/a-/ALV-U...</td>\n",
       "      <td>the worst commercial company that fails to do ...</td>\n",
       "      <td>1</td>\n",
       "      <td>1</td>\n",
       "      <td>5.1.0</td>\n",
       "      <td>2025-05-03 11:10:57</td>\n",
       "      <td>NaN</td>\n",
       "      <td>NaN</td>\n",
       "    </tr>\n",
       "    <tr>\n",
       "      <th>175</th>\n",
       "      <td>77d6154d-7008-47ba-8d70-2493451352a3</td>\n",
       "      <td>Abdulkarim Abdala</td>\n",
       "      <td>https://play-lh.googleusercontent.com/a-/ALV-U...</td>\n",
       "      <td>Best the best fast</td>\n",
       "      <td>5</td>\n",
       "      <td>0</td>\n",
       "      <td>5.1.0</td>\n",
       "      <td>2025-05-02 17:41:29</td>\n",
       "      <td>NaN</td>\n",
       "      <td>NaN</td>\n",
       "    </tr>\n",
       "  </tbody>\n",
       "</table>\n",
       "</div>"
      ],
      "text/plain": [
       "                                 reviewId           userName  \\\n",
       "458  3e538d9f-cec3-4f37-ad3d-547d33729ea5         Murad Biru   \n",
       "45   9178649b-de1e-4cda-b5c0-b818fcfb560a    Demlash Demlash   \n",
       "167  beae4fab-d673-4120-ba42-ea1bf94a737f       Araya Abrham   \n",
       "211  0c9b996b-a42e-4500-84fa-1d5eb764f490  Abdusalam Mohamad   \n",
       "122  7fbce453-198b-401e-ab72-5f778309cd92        Reem Khalil   \n",
       "197  b342c5a9-72f5-4399-8848-01973d4844fe     muktar mohamed   \n",
       "285  5a727b0d-4427-4abe-8e9f-9e36369c849c      Nesredin Seid   \n",
       "119  9954b052-2fbe-4d52-8a5e-7f92f70b3dd5    Zelalem Tesfaye   \n",
       "366  beae4fab-d673-4120-ba42-ea1bf94a737f       Araya Abrham   \n",
       "175  77d6154d-7008-47ba-8d70-2493451352a3  Abdulkarim Abdala   \n",
       "\n",
       "                                             userImage  \\\n",
       "458  https://play-lh.googleusercontent.com/a-/ALV-U...   \n",
       "45   https://play-lh.googleusercontent.com/a/ACg8oc...   \n",
       "167  https://play-lh.googleusercontent.com/a-/ALV-U...   \n",
       "211  https://play-lh.googleusercontent.com/a/ACg8oc...   \n",
       "122  https://play-lh.googleusercontent.com/a-/ALV-U...   \n",
       "197  https://play-lh.googleusercontent.com/a-/ALV-U...   \n",
       "285  https://play-lh.googleusercontent.com/a-/ALV-U...   \n",
       "119  https://play-lh.googleusercontent.com/a-/ALV-U...   \n",
       "366  https://play-lh.googleusercontent.com/a-/ALV-U...   \n",
       "175  https://play-lh.googleusercontent.com/a-/ALV-U...   \n",
       "\n",
       "                                               content  score  thumbsUpCount  \\\n",
       "458                                               best      5              0   \n",
       "45                                                 wow      4              1   \n",
       "167  the worst commercial company that fails to do ...      1              1   \n",
       "211                                         Masha alla      5              0   \n",
       "122  Please kindly ask to update the app and allow ...      2              0   \n",
       "197                                              super      5              0   \n",
       "285                                           good app      5              0   \n",
       "119                                          Good job👍      5              0   \n",
       "366  the worst commercial company that fails to do ...      1              1   \n",
       "175                                 Best the best fast      5              0   \n",
       "\n",
       "    reviewCreatedVersion                   at  replyContent  repliedAt  \n",
       "458                5.1.0  2025-05-23 05:49:33           NaN        NaN  \n",
       "45                 5.1.0  2025-05-24 09:26:38           NaN        NaN  \n",
       "167                5.1.0  2025-05-03 11:10:57           NaN        NaN  \n",
       "211                5.1.0  2025-05-31 14:37:05           NaN        NaN  \n",
       "122                  NaN  2025-05-14 15:14:19           NaN        NaN  \n",
       "197                5.1.0  2025-04-26 16:12:32           NaN        NaN  \n",
       "285                5.1.0  2025-05-21 16:20:26           NaN        NaN  \n",
       "119                5.1.0  2025-05-14 23:26:07           NaN        NaN  \n",
       "366                5.1.0  2025-05-03 11:10:57           NaN        NaN  \n",
       "175                5.1.0  2025-05-02 17:41:29           NaN        NaN  "
      ]
     },
     "execution_count": 7,
     "metadata": {},
     "output_type": "execute_result"
    }
   ],
   "source": [
    "#view sample data\n",
    "df.sample(10)"
   ]
  },
  {
   "cell_type": "code",
   "execution_count": 8,
   "id": "d66401bf",
   "metadata": {},
   "outputs": [
    {
     "data": {
      "text/html": [
       "<div>\n",
       "<style scoped>\n",
       "    .dataframe tbody tr th:only-of-type {\n",
       "        vertical-align: middle;\n",
       "    }\n",
       "\n",
       "    .dataframe tbody tr th {\n",
       "        vertical-align: top;\n",
       "    }\n",
       "\n",
       "    .dataframe thead th {\n",
       "        text-align: right;\n",
       "    }\n",
       "</style>\n",
       "<table border=\"1\" class=\"dataframe\">\n",
       "  <thead>\n",
       "    <tr style=\"text-align: right;\">\n",
       "      <th></th>\n",
       "      <th>reviewId</th>\n",
       "      <th>userName</th>\n",
       "      <th>userImage</th>\n",
       "      <th>content</th>\n",
       "      <th>score</th>\n",
       "      <th>thumbsUpCount</th>\n",
       "      <th>reviewCreatedVersion</th>\n",
       "      <th>at</th>\n",
       "      <th>replyContent</th>\n",
       "      <th>repliedAt</th>\n",
       "    </tr>\n",
       "  </thead>\n",
       "  <tbody>\n",
       "    <tr>\n",
       "      <th>495</th>\n",
       "      <td>26fd7f14-c17f-4081-8910-45f2008ca145</td>\n",
       "      <td>Ephrem Berhanu</td>\n",
       "      <td>https://play-lh.googleusercontent.com/a/ACg8oc...</td>\n",
       "      <td>the screenshot and the reffresh options are so...</td>\n",
       "      <td>2</td>\n",
       "      <td>0</td>\n",
       "      <td>NaN</td>\n",
       "      <td>2025-05-21 07:02:44</td>\n",
       "      <td>NaN</td>\n",
       "      <td>NaN</td>\n",
       "    </tr>\n",
       "    <tr>\n",
       "      <th>496</th>\n",
       "      <td>b22fe51f-e673-41ae-a625-2f8f1cce76ee</td>\n",
       "      <td>Samuel Solomon</td>\n",
       "      <td>https://play-lh.googleusercontent.com/a-/ALV-U...</td>\n",
       "      <td>poor service</td>\n",
       "      <td>1</td>\n",
       "      <td>0</td>\n",
       "      <td>5.1.0</td>\n",
       "      <td>2025-05-21 00:22:33</td>\n",
       "      <td>NaN</td>\n",
       "      <td>NaN</td>\n",
       "    </tr>\n",
       "    <tr>\n",
       "      <th>497</th>\n",
       "      <td>724eed5b-dd3a-47c2-865c-b6b63437c650</td>\n",
       "      <td>Kal Eldu</td>\n",
       "      <td>https://play-lh.googleusercontent.com/a/ACg8oc...</td>\n",
       "      <td>amazing</td>\n",
       "      <td>5</td>\n",
       "      <td>0</td>\n",
       "      <td>5.1.0</td>\n",
       "      <td>2025-05-20 19:28:06</td>\n",
       "      <td>NaN</td>\n",
       "      <td>NaN</td>\n",
       "    </tr>\n",
       "    <tr>\n",
       "      <th>498</th>\n",
       "      <td>9eff9bee-1e05-4f68-ae9a-2de67b8564bc</td>\n",
       "      <td>Daniel Abera</td>\n",
       "      <td>https://play-lh.googleusercontent.com/a/ACg8oc...</td>\n",
       "      <td>it is reliable and easy to use.</td>\n",
       "      <td>5</td>\n",
       "      <td>0</td>\n",
       "      <td>5.1.0</td>\n",
       "      <td>2025-05-20 17:50:21</td>\n",
       "      <td>NaN</td>\n",
       "      <td>NaN</td>\n",
       "    </tr>\n",
       "    <tr>\n",
       "      <th>499</th>\n",
       "      <td>cdad77fa-fadb-494d-970c-d816e2f6a83d</td>\n",
       "      <td>Yeabfana Berhanu</td>\n",
       "      <td>https://play-lh.googleusercontent.com/a/ACg8oc...</td>\n",
       "      <td>the most annoying mobile banking app I've ever...</td>\n",
       "      <td>1</td>\n",
       "      <td>0</td>\n",
       "      <td>5.1.0</td>\n",
       "      <td>2025-05-20 17:21:51</td>\n",
       "      <td>NaN</td>\n",
       "      <td>NaN</td>\n",
       "    </tr>\n",
       "  </tbody>\n",
       "</table>\n",
       "</div>"
      ],
      "text/plain": [
       "                                 reviewId          userName  \\\n",
       "495  26fd7f14-c17f-4081-8910-45f2008ca145    Ephrem Berhanu   \n",
       "496  b22fe51f-e673-41ae-a625-2f8f1cce76ee    Samuel Solomon   \n",
       "497  724eed5b-dd3a-47c2-865c-b6b63437c650          Kal Eldu   \n",
       "498  9eff9bee-1e05-4f68-ae9a-2de67b8564bc      Daniel Abera   \n",
       "499  cdad77fa-fadb-494d-970c-d816e2f6a83d  Yeabfana Berhanu   \n",
       "\n",
       "                                             userImage  \\\n",
       "495  https://play-lh.googleusercontent.com/a/ACg8oc...   \n",
       "496  https://play-lh.googleusercontent.com/a-/ALV-U...   \n",
       "497  https://play-lh.googleusercontent.com/a/ACg8oc...   \n",
       "498  https://play-lh.googleusercontent.com/a/ACg8oc...   \n",
       "499  https://play-lh.googleusercontent.com/a/ACg8oc...   \n",
       "\n",
       "                                               content  score  thumbsUpCount  \\\n",
       "495  the screenshot and the reffresh options are so...      2              0   \n",
       "496                                       poor service      1              0   \n",
       "497                                            amazing      5              0   \n",
       "498                    it is reliable and easy to use.      5              0   \n",
       "499  the most annoying mobile banking app I've ever...      1              0   \n",
       "\n",
       "    reviewCreatedVersion                   at  replyContent  repliedAt  \n",
       "495                  NaN  2025-05-21 07:02:44           NaN        NaN  \n",
       "496                5.1.0  2025-05-21 00:22:33           NaN        NaN  \n",
       "497                5.1.0  2025-05-20 19:28:06           NaN        NaN  \n",
       "498                5.1.0  2025-05-20 17:50:21           NaN        NaN  \n",
       "499                5.1.0  2025-05-20 17:21:51           NaN        NaN  "
      ]
     },
     "execution_count": 8,
     "metadata": {},
     "output_type": "execute_result"
    }
   ],
   "source": [
    "#see the last rows\n",
    "df.tail()"
   ]
  },
  {
   "cell_type": "code",
   "execution_count": 9,
   "id": "f1f497a6",
   "metadata": {},
   "outputs": [
    {
     "data": {
      "text/plain": [
       "(500, 10)"
      ]
     },
     "execution_count": 9,
     "metadata": {},
     "output_type": "execute_result"
    }
   ],
   "source": [
    "#shape of the dataset\n",
    "df.shape"
   ]
  },
  {
   "cell_type": "code",
   "execution_count": 10,
   "id": "77cea03a",
   "metadata": {},
   "outputs": [
    {
     "data": {
      "text/plain": [
       "Index(['reviewId', 'userName', 'userImage', 'content', 'score',\n",
       "       'thumbsUpCount', 'reviewCreatedVersion', 'at', 'replyContent',\n",
       "       'repliedAt'],\n",
       "      dtype='object')"
      ]
     },
     "execution_count": 10,
     "metadata": {},
     "output_type": "execute_result"
    }
   ],
   "source": [
    "df.columns"
   ]
  },
  {
   "cell_type": "markdown",
   "id": "9f9972b6",
   "metadata": {},
   "source": [
    "## 📐 3. Data Types & Basic Stats <a id='3-data-types--basic-stats'></a>"
   ]
  },
  {
   "cell_type": "code",
   "execution_count": 11,
   "id": "402fbaf8",
   "metadata": {},
   "outputs": [
    {
     "data": {
      "text/html": [
       "<div>\n",
       "<style scoped>\n",
       "    .dataframe tbody tr th:only-of-type {\n",
       "        vertical-align: middle;\n",
       "    }\n",
       "\n",
       "    .dataframe tbody tr th {\n",
       "        vertical-align: top;\n",
       "    }\n",
       "\n",
       "    .dataframe thead th {\n",
       "        text-align: right;\n",
       "    }\n",
       "</style>\n",
       "<table border=\"1\" class=\"dataframe\">\n",
       "  <thead>\n",
       "    <tr style=\"text-align: right;\">\n",
       "      <th></th>\n",
       "      <th>count</th>\n",
       "      <th>mean</th>\n",
       "      <th>std</th>\n",
       "      <th>min</th>\n",
       "      <th>25%</th>\n",
       "      <th>50%</th>\n",
       "      <th>75%</th>\n",
       "      <th>max</th>\n",
       "    </tr>\n",
       "  </thead>\n",
       "  <tbody>\n",
       "    <tr>\n",
       "      <th>score</th>\n",
       "      <td>500.0</td>\n",
       "      <td>4.072</td>\n",
       "      <td>1.543886</td>\n",
       "      <td>1.0</td>\n",
       "      <td>4.0</td>\n",
       "      <td>5.0</td>\n",
       "      <td>5.0</td>\n",
       "      <td>5.0</td>\n",
       "    </tr>\n",
       "    <tr>\n",
       "      <th>thumbsUpCount</th>\n",
       "      <td>500.0</td>\n",
       "      <td>0.336</td>\n",
       "      <td>2.174525</td>\n",
       "      <td>0.0</td>\n",
       "      <td>0.0</td>\n",
       "      <td>0.0</td>\n",
       "      <td>0.0</td>\n",
       "      <td>26.0</td>\n",
       "    </tr>\n",
       "    <tr>\n",
       "      <th>replyContent</th>\n",
       "      <td>0.0</td>\n",
       "      <td>NaN</td>\n",
       "      <td>NaN</td>\n",
       "      <td>NaN</td>\n",
       "      <td>NaN</td>\n",
       "      <td>NaN</td>\n",
       "      <td>NaN</td>\n",
       "      <td>NaN</td>\n",
       "    </tr>\n",
       "    <tr>\n",
       "      <th>repliedAt</th>\n",
       "      <td>0.0</td>\n",
       "      <td>NaN</td>\n",
       "      <td>NaN</td>\n",
       "      <td>NaN</td>\n",
       "      <td>NaN</td>\n",
       "      <td>NaN</td>\n",
       "      <td>NaN</td>\n",
       "      <td>NaN</td>\n",
       "    </tr>\n",
       "  </tbody>\n",
       "</table>\n",
       "</div>"
      ],
      "text/plain": [
       "               count   mean       std  min  25%  50%  75%   max\n",
       "score          500.0  4.072  1.543886  1.0  4.0  5.0  5.0   5.0\n",
       "thumbsUpCount  500.0  0.336  2.174525  0.0  0.0  0.0  0.0  26.0\n",
       "replyContent     0.0    NaN       NaN  NaN  NaN  NaN  NaN   NaN\n",
       "repliedAt        0.0    NaN       NaN  NaN  NaN  NaN  NaN   NaN"
      ]
     },
     "execution_count": 11,
     "metadata": {},
     "output_type": "execute_result"
    }
   ],
   "source": [
    "#Numerical Columns\n",
    "df.describe().T"
   ]
  },
  {
   "cell_type": "code",
   "execution_count": 12,
   "id": "b4594fc1",
   "metadata": {},
   "outputs": [
    {
     "data": {
      "text/html": [
       "<div>\n",
       "<style scoped>\n",
       "    .dataframe tbody tr th:only-of-type {\n",
       "        vertical-align: middle;\n",
       "    }\n",
       "\n",
       "    .dataframe tbody tr th {\n",
       "        vertical-align: top;\n",
       "    }\n",
       "\n",
       "    .dataframe thead th {\n",
       "        text-align: right;\n",
       "    }\n",
       "</style>\n",
       "<table border=\"1\" class=\"dataframe\">\n",
       "  <thead>\n",
       "    <tr style=\"text-align: right;\">\n",
       "      <th></th>\n",
       "      <th>count</th>\n",
       "      <th>unique</th>\n",
       "      <th>top</th>\n",
       "      <th>freq</th>\n",
       "    </tr>\n",
       "  </thead>\n",
       "  <tbody>\n",
       "    <tr>\n",
       "      <th>reviewId</th>\n",
       "      <td>500</td>\n",
       "      <td>201</td>\n",
       "      <td>fce00cda-d71a-486e-a4c2-7479ab7793bc</td>\n",
       "      <td>3</td>\n",
       "    </tr>\n",
       "    <tr>\n",
       "      <th>userName</th>\n",
       "      <td>500</td>\n",
       "      <td>201</td>\n",
       "      <td>Abdurahiman Abubaker Hussein</td>\n",
       "      <td>3</td>\n",
       "    </tr>\n",
       "    <tr>\n",
       "      <th>userImage</th>\n",
       "      <td>500</td>\n",
       "      <td>201</td>\n",
       "      <td>https://play-lh.googleusercontent.com/a/ACg8oc...</td>\n",
       "      <td>3</td>\n",
       "    </tr>\n",
       "    <tr>\n",
       "      <th>content</th>\n",
       "      <td>500</td>\n",
       "      <td>165</td>\n",
       "      <td>good</td>\n",
       "      <td>33</td>\n",
       "    </tr>\n",
       "    <tr>\n",
       "      <th>reviewCreatedVersion</th>\n",
       "      <td>391</td>\n",
       "      <td>4</td>\n",
       "      <td>5.1.0</td>\n",
       "      <td>381</td>\n",
       "    </tr>\n",
       "    <tr>\n",
       "      <th>at</th>\n",
       "      <td>500</td>\n",
       "      <td>201</td>\n",
       "      <td>2025-06-04 07:38:54</td>\n",
       "      <td>3</td>\n",
       "    </tr>\n",
       "  </tbody>\n",
       "</table>\n",
       "</div>"
      ],
      "text/plain": [
       "                     count unique  \\\n",
       "reviewId               500    201   \n",
       "userName               500    201   \n",
       "userImage              500    201   \n",
       "content                500    165   \n",
       "reviewCreatedVersion   391      4   \n",
       "at                     500    201   \n",
       "\n",
       "                                                                    top freq  \n",
       "reviewId                           fce00cda-d71a-486e-a4c2-7479ab7793bc    3  \n",
       "userName                                   Abdurahiman Abubaker Hussein    3  \n",
       "userImage             https://play-lh.googleusercontent.com/a/ACg8oc...    3  \n",
       "content                                                            good   33  \n",
       "reviewCreatedVersion                                              5.1.0  381  \n",
       "at                                                  2025-06-04 07:38:54    3  "
      ]
     },
     "execution_count": 12,
     "metadata": {},
     "output_type": "execute_result"
    }
   ],
   "source": [
    "#for columns of object type\n",
    "df.describe(include=['O']).T"
   ]
  },
  {
   "cell_type": "code",
   "execution_count": 13,
   "id": "79b071e8",
   "metadata": {},
   "outputs": [
    {
     "name": "stdout",
     "output_type": "stream",
     "text": [
      "<class 'pandas.core.frame.DataFrame'>\n",
      "RangeIndex: 500 entries, 0 to 499\n",
      "Data columns (total 10 columns):\n",
      " #   Column                Non-Null Count  Dtype  \n",
      "---  ------                --------------  -----  \n",
      " 0   reviewId              500 non-null    object \n",
      " 1   userName              500 non-null    object \n",
      " 2   userImage             500 non-null    object \n",
      " 3   content               500 non-null    object \n",
      " 4   score                 500 non-null    int64  \n",
      " 5   thumbsUpCount         500 non-null    int64  \n",
      " 6   reviewCreatedVersion  391 non-null    object \n",
      " 7   at                    500 non-null    object \n",
      " 8   replyContent          0 non-null      float64\n",
      " 9   repliedAt             0 non-null      float64\n",
      "dtypes: float64(2), int64(2), object(6)\n",
      "memory usage: 39.2+ KB\n"
     ]
    }
   ],
   "source": [
    "# data types of the columns\n",
    "df.info()"
   ]
  },
  {
   "cell_type": "code",
   "execution_count": 14,
   "id": "039465bd",
   "metadata": {},
   "outputs": [
    {
     "data": {
      "text/plain": [
       "reviewId                201\n",
       "userName                201\n",
       "userImage               201\n",
       "at                      201\n",
       "content                 165\n",
       "thumbsUpCount             7\n",
       "score                     5\n",
       "reviewCreatedVersion      4\n",
       "replyContent              0\n",
       "repliedAt                 0\n",
       "dtype: int64"
      ]
     },
     "execution_count": 14,
     "metadata": {},
     "output_type": "execute_result"
    }
   ],
   "source": [
    "#distinct values in each column\n",
    "df.nunique().sort_values(ascending=False)"
   ]
  },
  {
   "cell_type": "markdown",
   "id": "a996f6d5",
   "metadata": {},
   "source": [
    "## 🔍 4. Data Quality Analysis <a id='4-data-quality-analysis'></a>"
   ]
  },
  {
   "cell_type": "code",
   "execution_count": 15,
   "id": "b0295a78",
   "metadata": {},
   "outputs": [],
   "source": [
    "#instantiate the DataQualityUtils class\n",
    "dq=DataQualityUtils(df)"
   ]
  },
  {
   "cell_type": "code",
   "execution_count": 16,
   "id": "f61b87ea",
   "metadata": {},
   "outputs": [
    {
     "data": {
      "text/html": [
       "<div>\n",
       "<style scoped>\n",
       "    .dataframe tbody tr th:only-of-type {\n",
       "        vertical-align: middle;\n",
       "    }\n",
       "\n",
       "    .dataframe tbody tr th {\n",
       "        vertical-align: top;\n",
       "    }\n",
       "\n",
       "    .dataframe thead th {\n",
       "        text-align: right;\n",
       "    }\n",
       "</style>\n",
       "<table border=\"1\" class=\"dataframe\">\n",
       "  <thead>\n",
       "    <tr style=\"text-align: right;\">\n",
       "      <th></th>\n",
       "      <th>#missing_values</th>\n",
       "      <th>percentage</th>\n",
       "    </tr>\n",
       "  </thead>\n",
       "  <tbody>\n",
       "    <tr>\n",
       "      <th>replyContent</th>\n",
       "      <td>500</td>\n",
       "      <td>100.00%</td>\n",
       "    </tr>\n",
       "    <tr>\n",
       "      <th>repliedAt</th>\n",
       "      <td>500</td>\n",
       "      <td>100.00%</td>\n",
       "    </tr>\n",
       "    <tr>\n",
       "      <th>reviewCreatedVersion</th>\n",
       "      <td>109</td>\n",
       "      <td>21.80%</td>\n",
       "    </tr>\n",
       "    <tr>\n",
       "      <th>reviewId</th>\n",
       "      <td>0</td>\n",
       "      <td>0.00%</td>\n",
       "    </tr>\n",
       "    <tr>\n",
       "      <th>userName</th>\n",
       "      <td>0</td>\n",
       "      <td>0.00%</td>\n",
       "    </tr>\n",
       "    <tr>\n",
       "      <th>userImage</th>\n",
       "      <td>0</td>\n",
       "      <td>0.00%</td>\n",
       "    </tr>\n",
       "    <tr>\n",
       "      <th>content</th>\n",
       "      <td>0</td>\n",
       "      <td>0.00%</td>\n",
       "    </tr>\n",
       "    <tr>\n",
       "      <th>score</th>\n",
       "      <td>0</td>\n",
       "      <td>0.00%</td>\n",
       "    </tr>\n",
       "    <tr>\n",
       "      <th>thumbsUpCount</th>\n",
       "      <td>0</td>\n",
       "      <td>0.00%</td>\n",
       "    </tr>\n",
       "    <tr>\n",
       "      <th>at</th>\n",
       "      <td>0</td>\n",
       "      <td>0.00%</td>\n",
       "    </tr>\n",
       "  </tbody>\n",
       "</table>\n",
       "</div>"
      ],
      "text/plain": [
       "                      #missing_values percentage\n",
       "replyContent                      500    100.00%\n",
       "repliedAt                         500    100.00%\n",
       "reviewCreatedVersion              109     21.80%\n",
       "reviewId                            0      0.00%\n",
       "userName                            0      0.00%\n",
       "userImage                           0      0.00%\n",
       "content                             0      0.00%\n",
       "score                               0      0.00%\n",
       "thumbsUpCount                       0      0.00%\n",
       "at                                  0      0.00%"
      ]
     },
     "execution_count": 16,
     "metadata": {},
     "output_type": "execute_result"
    }
   ],
   "source": [
    "#count of missing values per column\n",
    "dq.summary()"
   ]
  },
  {
   "cell_type": "markdown",
   "id": "b4ca61a8",
   "metadata": {},
   "source": [
    "### Missing Values"
   ]
  },
  {
   "cell_type": "code",
   "execution_count": 17,
   "id": "731377ae",
   "metadata": {},
   "outputs": [
    {
     "data": {
      "text/html": [
       "<div>\n",
       "<style scoped>\n",
       "    .dataframe tbody tr th:only-of-type {\n",
       "        vertical-align: middle;\n",
       "    }\n",
       "\n",
       "    .dataframe tbody tr th {\n",
       "        vertical-align: top;\n",
       "    }\n",
       "\n",
       "    .dataframe thead th {\n",
       "        text-align: right;\n",
       "    }\n",
       "</style>\n",
       "<table border=\"1\" class=\"dataframe\">\n",
       "  <thead>\n",
       "    <tr style=\"text-align: right;\">\n",
       "      <th></th>\n",
       "      <th>#missing_values</th>\n",
       "      <th>percentage</th>\n",
       "    </tr>\n",
       "  </thead>\n",
       "  <tbody>\n",
       "    <tr>\n",
       "      <th>replyContent</th>\n",
       "      <td>500</td>\n",
       "      <td>100.00%</td>\n",
       "    </tr>\n",
       "    <tr>\n",
       "      <th>repliedAt</th>\n",
       "      <td>500</td>\n",
       "      <td>100.00%</td>\n",
       "    </tr>\n",
       "    <tr>\n",
       "      <th>reviewCreatedVersion</th>\n",
       "      <td>109</td>\n",
       "      <td>21.80%</td>\n",
       "    </tr>\n",
       "  </tbody>\n",
       "</table>\n",
       "</div>"
      ],
      "text/plain": [
       "                      #missing_values percentage\n",
       "replyContent                      500    100.00%\n",
       "repliedAt                         500    100.00%\n",
       "reviewCreatedVersion              109     21.80%"
      ]
     },
     "execution_count": 17,
     "metadata": {},
     "output_type": "execute_result"
    }
   ],
   "source": [
    "#column with >5% nulls\n",
    "dq.columns_with_significant_missing_values(threshold=5)"
   ]
  },
  {
   "cell_type": "markdown",
   "id": "6ee86483",
   "metadata": {},
   "source": [
    "### Duplicates"
   ]
  },
  {
   "cell_type": "code",
   "execution_count": 18,
   "id": "e1021b8b",
   "metadata": {},
   "outputs": [
    {
     "data": {
      "text/plain": [
       "298"
      ]
     },
     "execution_count": 18,
     "metadata": {},
     "output_type": "execute_result"
    }
   ],
   "source": [
    "#count duplicates\n",
    "dq.count_duplicates()"
   ]
  },
  {
   "cell_type": "code",
   "execution_count": 19,
   "id": "d1690181",
   "metadata": {},
   "outputs": [
    {
     "name": "stdout",
     "output_type": "stream",
     "text": [
      "[INFO] Found 298 duplicated row(s).\n"
     ]
    },
    {
     "data": {
      "text/html": [
       "<div>\n",
       "<style scoped>\n",
       "    .dataframe tbody tr th:only-of-type {\n",
       "        vertical-align: middle;\n",
       "    }\n",
       "\n",
       "    .dataframe tbody tr th {\n",
       "        vertical-align: top;\n",
       "    }\n",
       "\n",
       "    .dataframe thead th {\n",
       "        text-align: right;\n",
       "    }\n",
       "</style>\n",
       "<table border=\"1\" class=\"dataframe\">\n",
       "  <thead>\n",
       "    <tr style=\"text-align: right;\">\n",
       "      <th></th>\n",
       "      <th>reviewId</th>\n",
       "      <th>userName</th>\n",
       "      <th>userImage</th>\n",
       "      <th>content</th>\n",
       "      <th>score</th>\n",
       "      <th>thumbsUpCount</th>\n",
       "      <th>reviewCreatedVersion</th>\n",
       "      <th>at</th>\n",
       "      <th>replyContent</th>\n",
       "      <th>repliedAt</th>\n",
       "    </tr>\n",
       "  </thead>\n",
       "  <tbody>\n",
       "    <tr>\n",
       "      <th>267</th>\n",
       "      <td>310cffb5-629d-4f32-b55c-aff448ddad2d</td>\n",
       "      <td>Fahmi Aman</td>\n",
       "      <td>https://play-lh.googleusercontent.com/a-/ALV-U...</td>\n",
       "      <td>user-friendly apps.because this app is easy.</td>\n",
       "      <td>5</td>\n",
       "      <td>1</td>\n",
       "      <td>5.1.0</td>\n",
       "      <td>2025-05-22 16:46:03</td>\n",
       "      <td>NaN</td>\n",
       "      <td>NaN</td>\n",
       "    </tr>\n",
       "    <tr>\n",
       "      <th>428</th>\n",
       "      <td>55381137-2212-4d86-9e3b-37b0910b9107</td>\n",
       "      <td>Epheram Teklae</td>\n",
       "      <td>https://play-lh.googleusercontent.com/a/ACg8oc...</td>\n",
       "      <td>good job</td>\n",
       "      <td>5</td>\n",
       "      <td>0</td>\n",
       "      <td>NaN</td>\n",
       "      <td>2025-05-26 12:31:42</td>\n",
       "      <td>NaN</td>\n",
       "      <td>NaN</td>\n",
       "    </tr>\n",
       "    <tr>\n",
       "      <th>270</th>\n",
       "      <td>34d6492b-f6e7-42ed-851a-348ab215c36a</td>\n",
       "      <td>Addisu Adinew</td>\n",
       "      <td>https://play-lh.googleusercontent.com/a-/ALV-U...</td>\n",
       "      <td>sync problem may 22 2025 but the date stack on...</td>\n",
       "      <td>5</td>\n",
       "      <td>0</td>\n",
       "      <td>5.1.0</td>\n",
       "      <td>2025-05-22 16:03:46</td>\n",
       "      <td>NaN</td>\n",
       "      <td>NaN</td>\n",
       "    </tr>\n",
       "    <tr>\n",
       "      <th>492</th>\n",
       "      <td>30cfce0b-7504-425f-89a9-8091ffa24920</td>\n",
       "      <td>Belay Bezabih</td>\n",
       "      <td>https://play-lh.googleusercontent.com/a-/ALV-U...</td>\n",
       "      <td>this app is very useful app,it saves time,and ...</td>\n",
       "      <td>4</td>\n",
       "      <td>1</td>\n",
       "      <td>5.1.0</td>\n",
       "      <td>2025-05-21 11:43:38</td>\n",
       "      <td>NaN</td>\n",
       "      <td>NaN</td>\n",
       "    </tr>\n",
       "    <tr>\n",
       "      <th>377</th>\n",
       "      <td>7dcbcd69-baa0-4c8c-a3a2-4a2cf0d959d1</td>\n",
       "      <td>Zerihun Adugna</td>\n",
       "      <td>https://play-lh.googleusercontent.com/a/ACg8oc...</td>\n",
       "      <td>fast and reliable</td>\n",
       "      <td>5</td>\n",
       "      <td>0</td>\n",
       "      <td>NaN</td>\n",
       "      <td>2025-05-02 17:09:37</td>\n",
       "      <td>NaN</td>\n",
       "      <td>NaN</td>\n",
       "    </tr>\n",
       "    <tr>\n",
       "      <th>359</th>\n",
       "      <td>fb3a4e37-bf12-44d3-842f-06994277596e</td>\n",
       "      <td>Dereje Messelle</td>\n",
       "      <td>https://play-lh.googleusercontent.com/a-/ALV-U...</td>\n",
       "      <td>አዛ</td>\n",
       "      <td>1</td>\n",
       "      <td>0</td>\n",
       "      <td>NaN</td>\n",
       "      <td>2025-05-04 17:41:19</td>\n",
       "      <td>NaN</td>\n",
       "      <td>NaN</td>\n",
       "    </tr>\n",
       "    <tr>\n",
       "      <th>413</th>\n",
       "      <td>8bf4df47-c266-4152-9790-4217143b3a91</td>\n",
       "      <td>Amanuel Gedefaw</td>\n",
       "      <td>https://play-lh.googleusercontent.com/a/ACg8oc...</td>\n",
       "      <td>Recently there is big problem when sending to ...</td>\n",
       "      <td>2</td>\n",
       "      <td>1</td>\n",
       "      <td>5.1.0</td>\n",
       "      <td>2025-05-31 11:30:33</td>\n",
       "      <td>NaN</td>\n",
       "      <td>NaN</td>\n",
       "    </tr>\n",
       "    <tr>\n",
       "      <th>265</th>\n",
       "      <td>beef426f-6270-49b7-9f5a-ae9bc8cc3690</td>\n",
       "      <td>Kaf Delil</td>\n",
       "      <td>https://play-lh.googleusercontent.com/a-/ALV-U...</td>\n",
       "      <td>ok</td>\n",
       "      <td>5</td>\n",
       "      <td>0</td>\n",
       "      <td>5.1.0</td>\n",
       "      <td>2025-05-22 17:50:33</td>\n",
       "      <td>NaN</td>\n",
       "      <td>NaN</td>\n",
       "    </tr>\n",
       "    <tr>\n",
       "      <th>453</th>\n",
       "      <td>a68dfd3a-aaa3-48bc-84b8-842311de1b8c</td>\n",
       "      <td>MUHAMMAD Shifa (Shifa)</td>\n",
       "      <td>https://play-lh.googleusercontent.com/a-/ALV-U...</td>\n",
       "      <td>why you change default network?</td>\n",
       "      <td>5</td>\n",
       "      <td>0</td>\n",
       "      <td>5.1.0</td>\n",
       "      <td>2025-05-23 18:14:51</td>\n",
       "      <td>NaN</td>\n",
       "      <td>NaN</td>\n",
       "    </tr>\n",
       "    <tr>\n",
       "      <th>498</th>\n",
       "      <td>9eff9bee-1e05-4f68-ae9a-2de67b8564bc</td>\n",
       "      <td>Daniel Abera</td>\n",
       "      <td>https://play-lh.googleusercontent.com/a/ACg8oc...</td>\n",
       "      <td>it is reliable and easy to use.</td>\n",
       "      <td>5</td>\n",
       "      <td>0</td>\n",
       "      <td>5.1.0</td>\n",
       "      <td>2025-05-20 17:50:21</td>\n",
       "      <td>NaN</td>\n",
       "      <td>NaN</td>\n",
       "    </tr>\n",
       "  </tbody>\n",
       "</table>\n",
       "</div>"
      ],
      "text/plain": [
       "                                 reviewId                userName  \\\n",
       "267  310cffb5-629d-4f32-b55c-aff448ddad2d              Fahmi Aman   \n",
       "428  55381137-2212-4d86-9e3b-37b0910b9107          Epheram Teklae   \n",
       "270  34d6492b-f6e7-42ed-851a-348ab215c36a           Addisu Adinew   \n",
       "492  30cfce0b-7504-425f-89a9-8091ffa24920           Belay Bezabih   \n",
       "377  7dcbcd69-baa0-4c8c-a3a2-4a2cf0d959d1          Zerihun Adugna   \n",
       "359  fb3a4e37-bf12-44d3-842f-06994277596e         Dereje Messelle   \n",
       "413  8bf4df47-c266-4152-9790-4217143b3a91         Amanuel Gedefaw   \n",
       "265  beef426f-6270-49b7-9f5a-ae9bc8cc3690               Kaf Delil   \n",
       "453  a68dfd3a-aaa3-48bc-84b8-842311de1b8c  MUHAMMAD Shifa (Shifa)   \n",
       "498  9eff9bee-1e05-4f68-ae9a-2de67b8564bc            Daniel Abera   \n",
       "\n",
       "                                             userImage  \\\n",
       "267  https://play-lh.googleusercontent.com/a-/ALV-U...   \n",
       "428  https://play-lh.googleusercontent.com/a/ACg8oc...   \n",
       "270  https://play-lh.googleusercontent.com/a-/ALV-U...   \n",
       "492  https://play-lh.googleusercontent.com/a-/ALV-U...   \n",
       "377  https://play-lh.googleusercontent.com/a/ACg8oc...   \n",
       "359  https://play-lh.googleusercontent.com/a-/ALV-U...   \n",
       "413  https://play-lh.googleusercontent.com/a/ACg8oc...   \n",
       "265  https://play-lh.googleusercontent.com/a-/ALV-U...   \n",
       "453  https://play-lh.googleusercontent.com/a-/ALV-U...   \n",
       "498  https://play-lh.googleusercontent.com/a/ACg8oc...   \n",
       "\n",
       "                                               content  score  thumbsUpCount  \\\n",
       "267       user-friendly apps.because this app is easy.      5              1   \n",
       "428                                           good job      5              0   \n",
       "270  sync problem may 22 2025 but the date stack on...      5              0   \n",
       "492  this app is very useful app,it saves time,and ...      4              1   \n",
       "377                                  fast and reliable      5              0   \n",
       "359                                                 አዛ      1              0   \n",
       "413  Recently there is big problem when sending to ...      2              1   \n",
       "265                                                 ok      5              0   \n",
       "453                    why you change default network?      5              0   \n",
       "498                    it is reliable and easy to use.      5              0   \n",
       "\n",
       "    reviewCreatedVersion                   at  replyContent  repliedAt  \n",
       "267                5.1.0  2025-05-22 16:46:03           NaN        NaN  \n",
       "428                  NaN  2025-05-26 12:31:42           NaN        NaN  \n",
       "270                5.1.0  2025-05-22 16:03:46           NaN        NaN  \n",
       "492                5.1.0  2025-05-21 11:43:38           NaN        NaN  \n",
       "377                  NaN  2025-05-02 17:09:37           NaN        NaN  \n",
       "359                  NaN  2025-05-04 17:41:19           NaN        NaN  \n",
       "413                5.1.0  2025-05-31 11:30:33           NaN        NaN  \n",
       "265                5.1.0  2025-05-22 17:50:33           NaN        NaN  \n",
       "453                5.1.0  2025-05-23 18:14:51           NaN        NaN  \n",
       "498                5.1.0  2025-05-20 17:50:21           NaN        NaN  "
      ]
     },
     "execution_count": 19,
     "metadata": {},
     "output_type": "execute_result"
    }
   ],
   "source": [
    "#look at the duplicates\n",
    "dq.display_duplicates().sample(10)"
   ]
  },
  {
   "cell_type": "markdown",
   "id": "cbff01de",
   "metadata": {},
   "source": [
    "### Invalid Values"
   ]
  },
  {
   "cell_type": "code",
   "execution_count": 20,
   "id": "d067cc0e",
   "metadata": {},
   "outputs": [
    {
     "data": {
      "text/plain": [
       "{}"
      ]
     },
     "execution_count": 20,
     "metadata": {},
     "output_type": "execute_result"
    }
   ],
   "source": [
    "dq.find_invalid_values()"
   ]
  },
  {
   "cell_type": "markdown",
   "id": "83468ef5",
   "metadata": {},
   "source": [
    "## 🧹 5. Data Cleaning  <a id='5-data-cleaning'></a>"
   ]
  },
  {
   "cell_type": "code",
   "execution_count": 21,
   "id": "494fc912",
   "metadata": {},
   "outputs": [],
   "source": [
    "#saving the original dataset for later use\n",
    "df_original=df.copy()"
   ]
  },
  {
   "cell_type": "code",
   "execution_count": 22,
   "id": "aea1fc12",
   "metadata": {},
   "outputs": [
    {
     "name": "stdout",
     "output_type": "stream",
     "text": [
      "[INFO] Dropped 298 duplicate row(s).\n"
     ]
    },
    {
     "data": {
      "text/html": [
       "<div>\n",
       "<style scoped>\n",
       "    .dataframe tbody tr th:only-of-type {\n",
       "        vertical-align: middle;\n",
       "    }\n",
       "\n",
       "    .dataframe tbody tr th {\n",
       "        vertical-align: top;\n",
       "    }\n",
       "\n",
       "    .dataframe thead th {\n",
       "        text-align: right;\n",
       "    }\n",
       "</style>\n",
       "<table border=\"1\" class=\"dataframe\">\n",
       "  <thead>\n",
       "    <tr style=\"text-align: right;\">\n",
       "      <th></th>\n",
       "      <th>reviewId</th>\n",
       "      <th>userName</th>\n",
       "      <th>userImage</th>\n",
       "      <th>content</th>\n",
       "      <th>score</th>\n",
       "      <th>thumbsUpCount</th>\n",
       "      <th>reviewCreatedVersion</th>\n",
       "      <th>at</th>\n",
       "      <th>replyContent</th>\n",
       "      <th>repliedAt</th>\n",
       "    </tr>\n",
       "  </thead>\n",
       "  <tbody>\n",
       "    <tr>\n",
       "      <th>175</th>\n",
       "      <td>77d6154d-7008-47ba-8d70-2493451352a3</td>\n",
       "      <td>Abdulkarim Abdala</td>\n",
       "      <td>https://play-lh.googleusercontent.com/a-/ALV-U...</td>\n",
       "      <td>Best the best fast</td>\n",
       "      <td>5</td>\n",
       "      <td>0</td>\n",
       "      <td>5.1.0</td>\n",
       "      <td>2025-05-02 17:41:29</td>\n",
       "      <td>NaN</td>\n",
       "      <td>NaN</td>\n",
       "    </tr>\n",
       "    <tr>\n",
       "      <th>20</th>\n",
       "      <td>aa3d99be-ecdc-4651-ad1e-347f0f8cd3e2</td>\n",
       "      <td>Haider Sadik</td>\n",
       "      <td>https://play-lh.googleusercontent.com/a/ACg8oc...</td>\n",
       "      <td>yes good</td>\n",
       "      <td>5</td>\n",
       "      <td>0</td>\n",
       "      <td>5.1.0</td>\n",
       "      <td>2025-05-28 15:56:18</td>\n",
       "      <td>NaN</td>\n",
       "      <td>NaN</td>\n",
       "    </tr>\n",
       "    <tr>\n",
       "      <th>12</th>\n",
       "      <td>0c9b996b-a42e-4500-84fa-1d5eb764f490</td>\n",
       "      <td>Abdusalam Mohamad</td>\n",
       "      <td>https://play-lh.googleusercontent.com/a/ACg8oc...</td>\n",
       "      <td>Masha alla</td>\n",
       "      <td>5</td>\n",
       "      <td>0</td>\n",
       "      <td>5.1.0</td>\n",
       "      <td>2025-05-31 14:37:05</td>\n",
       "      <td>NaN</td>\n",
       "      <td>NaN</td>\n",
       "    </tr>\n",
       "    <tr>\n",
       "      <th>54</th>\n",
       "      <td>2938c3f2-fa9c-4847-98e1-b0bfc57cb614</td>\n",
       "      <td>Abdul Jalil</td>\n",
       "      <td>https://play-lh.googleusercontent.com/a-/ALV-U...</td>\n",
       "      <td>very nice 👍</td>\n",
       "      <td>5</td>\n",
       "      <td>0</td>\n",
       "      <td>5.1.0</td>\n",
       "      <td>2025-05-23 17:27:51</td>\n",
       "      <td>NaN</td>\n",
       "      <td>NaN</td>\n",
       "    </tr>\n",
       "    <tr>\n",
       "      <th>187</th>\n",
       "      <td>8096ea90-64d7-4416-9558-1f7b7ca73cde</td>\n",
       "      <td>Tefera Tekle</td>\n",
       "      <td>https://play-lh.googleusercontent.com/a-/ALV-U...</td>\n",
       "      <td>It crashes frequently</td>\n",
       "      <td>4</td>\n",
       "      <td>0</td>\n",
       "      <td>5.1.0</td>\n",
       "      <td>2025-04-30 07:14:38</td>\n",
       "      <td>NaN</td>\n",
       "      <td>NaN</td>\n",
       "    </tr>\n",
       "  </tbody>\n",
       "</table>\n",
       "</div>"
      ],
      "text/plain": [
       "                                 reviewId           userName  \\\n",
       "175  77d6154d-7008-47ba-8d70-2493451352a3  Abdulkarim Abdala   \n",
       "20   aa3d99be-ecdc-4651-ad1e-347f0f8cd3e2       Haider Sadik   \n",
       "12   0c9b996b-a42e-4500-84fa-1d5eb764f490  Abdusalam Mohamad   \n",
       "54   2938c3f2-fa9c-4847-98e1-b0bfc57cb614        Abdul Jalil   \n",
       "187  8096ea90-64d7-4416-9558-1f7b7ca73cde       Tefera Tekle   \n",
       "\n",
       "                                             userImage                content  \\\n",
       "175  https://play-lh.googleusercontent.com/a-/ALV-U...     Best the best fast   \n",
       "20   https://play-lh.googleusercontent.com/a/ACg8oc...               yes good   \n",
       "12   https://play-lh.googleusercontent.com/a/ACg8oc...             Masha alla   \n",
       "54   https://play-lh.googleusercontent.com/a-/ALV-U...            very nice 👍   \n",
       "187  https://play-lh.googleusercontent.com/a-/ALV-U...  It crashes frequently   \n",
       "\n",
       "     score  thumbsUpCount reviewCreatedVersion                   at  \\\n",
       "175      5              0                5.1.0  2025-05-02 17:41:29   \n",
       "20       5              0                5.1.0  2025-05-28 15:56:18   \n",
       "12       5              0                5.1.0  2025-05-31 14:37:05   \n",
       "54       5              0                5.1.0  2025-05-23 17:27:51   \n",
       "187      4              0                5.1.0  2025-04-30 07:14:38   \n",
       "\n",
       "     replyContent  repliedAt  \n",
       "175           NaN        NaN  \n",
       "20            NaN        NaN  \n",
       "12            NaN        NaN  \n",
       "54            NaN        NaN  \n",
       "187           NaN        NaN  "
      ]
     },
     "execution_count": 22,
     "metadata": {},
     "output_type": "execute_result"
    }
   ],
   "source": [
    "#drop duplicated rows\n",
    "dq.drop_duplicates().sample(5)"
   ]
  },
  {
   "cell_type": "code",
   "execution_count": 23,
   "id": "3d257001",
   "metadata": {},
   "outputs": [
    {
     "name": "stdout",
     "output_type": "stream",
     "text": [
      "[INFO] Found 0 duplicated row(s).\n"
     ]
    },
    {
     "data": {
      "text/html": [
       "<div>\n",
       "<style scoped>\n",
       "    .dataframe tbody tr th:only-of-type {\n",
       "        vertical-align: middle;\n",
       "    }\n",
       "\n",
       "    .dataframe tbody tr th {\n",
       "        vertical-align: top;\n",
       "    }\n",
       "\n",
       "    .dataframe thead th {\n",
       "        text-align: right;\n",
       "    }\n",
       "</style>\n",
       "<table border=\"1\" class=\"dataframe\">\n",
       "  <thead>\n",
       "    <tr style=\"text-align: right;\">\n",
       "      <th></th>\n",
       "      <th>reviewId</th>\n",
       "      <th>userName</th>\n",
       "      <th>userImage</th>\n",
       "      <th>content</th>\n",
       "      <th>score</th>\n",
       "      <th>thumbsUpCount</th>\n",
       "      <th>reviewCreatedVersion</th>\n",
       "      <th>at</th>\n",
       "      <th>replyContent</th>\n",
       "      <th>repliedAt</th>\n",
       "    </tr>\n",
       "  </thead>\n",
       "  <tbody>\n",
       "  </tbody>\n",
       "</table>\n",
       "</div>"
      ],
      "text/plain": [
       "Empty DataFrame\n",
       "Columns: [reviewId, userName, userImage, content, score, thumbsUpCount, reviewCreatedVersion, at, replyContent, repliedAt]\n",
       "Index: []"
      ]
     },
     "execution_count": 23,
     "metadata": {},
     "output_type": "execute_result"
    }
   ],
   "source": [
    "# Check for duplicates again after dropping\n",
    "dq.display_duplicates()"
   ]
  },
  {
   "cell_type": "code",
   "execution_count": 24,
   "id": "62e4215c",
   "metadata": {},
   "outputs": [
    {
     "name": "stdout",
     "output_type": "stream",
     "text": [
      "[INFO] Dropped 0 row(s) with missing values in columns: ['content', 'score']\n"
     ]
    },
    {
     "data": {
      "text/html": [
       "<div>\n",
       "<style scoped>\n",
       "    .dataframe tbody tr th:only-of-type {\n",
       "        vertical-align: middle;\n",
       "    }\n",
       "\n",
       "    .dataframe tbody tr th {\n",
       "        vertical-align: top;\n",
       "    }\n",
       "\n",
       "    .dataframe thead th {\n",
       "        text-align: right;\n",
       "    }\n",
       "</style>\n",
       "<table border=\"1\" class=\"dataframe\">\n",
       "  <thead>\n",
       "    <tr style=\"text-align: right;\">\n",
       "      <th></th>\n",
       "      <th>reviewId</th>\n",
       "      <th>userName</th>\n",
       "      <th>userImage</th>\n",
       "      <th>content</th>\n",
       "      <th>score</th>\n",
       "      <th>thumbsUpCount</th>\n",
       "      <th>reviewCreatedVersion</th>\n",
       "      <th>at</th>\n",
       "      <th>replyContent</th>\n",
       "      <th>repliedAt</th>\n",
       "    </tr>\n",
       "  </thead>\n",
       "  <tbody>\n",
       "    <tr>\n",
       "      <th>78</th>\n",
       "      <td>f52e56b1-7c66-4e8f-942d-06f23ea3ecae</td>\n",
       "      <td>Kal</td>\n",
       "      <td>https://play-lh.googleusercontent.com/a/ACg8oc...</td>\n",
       "      <td>oldie</td>\n",
       "      <td>1</td>\n",
       "      <td>0</td>\n",
       "      <td>5.1.0</td>\n",
       "      <td>2025-05-22 00:55:50</td>\n",
       "      <td>NaN</td>\n",
       "      <td>NaN</td>\n",
       "    </tr>\n",
       "    <tr>\n",
       "      <th>50</th>\n",
       "      <td>dad4e463-c5b1-47bc-a193-84741470825e</td>\n",
       "      <td>Fami Hussen</td>\n",
       "      <td>https://play-lh.googleusercontent.com/a-/ALV-U...</td>\n",
       "      <td>accessible to using</td>\n",
       "      <td>5</td>\n",
       "      <td>0</td>\n",
       "      <td>5.1.0</td>\n",
       "      <td>2025-05-23 23:26:13</td>\n",
       "      <td>NaN</td>\n",
       "      <td>NaN</td>\n",
       "    </tr>\n",
       "    <tr>\n",
       "      <th>184</th>\n",
       "      <td>8e47f061-c03d-477d-83d7-9e9ef8fbd85f</td>\n",
       "      <td>abu ismail</td>\n",
       "      <td>https://play-lh.googleusercontent.com/a/ACg8oc...</td>\n",
       "      <td>not bad not good</td>\n",
       "      <td>1</td>\n",
       "      <td>0</td>\n",
       "      <td>5.1.0</td>\n",
       "      <td>2025-05-02 14:57:44</td>\n",
       "      <td>NaN</td>\n",
       "      <td>NaN</td>\n",
       "    </tr>\n",
       "    <tr>\n",
       "      <th>58</th>\n",
       "      <td>3e538d9f-cec3-4f37-ad3d-547d33729ea5</td>\n",
       "      <td>Murad Biru</td>\n",
       "      <td>https://play-lh.googleusercontent.com/a-/ALV-U...</td>\n",
       "      <td>best</td>\n",
       "      <td>5</td>\n",
       "      <td>0</td>\n",
       "      <td>5.1.0</td>\n",
       "      <td>2025-05-23 05:49:33</td>\n",
       "      <td>NaN</td>\n",
       "      <td>NaN</td>\n",
       "    </tr>\n",
       "    <tr>\n",
       "      <th>144</th>\n",
       "      <td>684fd27d-fb21-4f26-a3a2-2df5c05d35b8</td>\n",
       "      <td>Shafi Kedir</td>\n",
       "      <td>https://play-lh.googleusercontent.com/a/ACg8oc...</td>\n",
       "      <td>All service of Mobile Banking</td>\n",
       "      <td>5</td>\n",
       "      <td>0</td>\n",
       "      <td>NaN</td>\n",
       "      <td>2025-05-06 15:35:31</td>\n",
       "      <td>NaN</td>\n",
       "      <td>NaN</td>\n",
       "    </tr>\n",
       "  </tbody>\n",
       "</table>\n",
       "</div>"
      ],
      "text/plain": [
       "                                 reviewId     userName  \\\n",
       "78   f52e56b1-7c66-4e8f-942d-06f23ea3ecae          Kal   \n",
       "50   dad4e463-c5b1-47bc-a193-84741470825e  Fami Hussen   \n",
       "184  8e47f061-c03d-477d-83d7-9e9ef8fbd85f   abu ismail   \n",
       "58   3e538d9f-cec3-4f37-ad3d-547d33729ea5   Murad Biru   \n",
       "144  684fd27d-fb21-4f26-a3a2-2df5c05d35b8  Shafi Kedir   \n",
       "\n",
       "                                             userImage  \\\n",
       "78   https://play-lh.googleusercontent.com/a/ACg8oc...   \n",
       "50   https://play-lh.googleusercontent.com/a-/ALV-U...   \n",
       "184  https://play-lh.googleusercontent.com/a/ACg8oc...   \n",
       "58   https://play-lh.googleusercontent.com/a-/ALV-U...   \n",
       "144  https://play-lh.googleusercontent.com/a/ACg8oc...   \n",
       "\n",
       "                           content  score  thumbsUpCount reviewCreatedVersion  \\\n",
       "78                           oldie      1              0                5.1.0   \n",
       "50             accessible to using      5              0                5.1.0   \n",
       "184               not bad not good      1              0                5.1.0   \n",
       "58                            best      5              0                5.1.0   \n",
       "144  All service of Mobile Banking      5              0                  NaN   \n",
       "\n",
       "                      at  replyContent  repliedAt  \n",
       "78   2025-05-22 00:55:50           NaN        NaN  \n",
       "50   2025-05-23 23:26:13           NaN        NaN  \n",
       "184  2025-05-02 14:57:44           NaN        NaN  \n",
       "58   2025-05-23 05:49:33           NaN        NaN  \n",
       "144  2025-05-06 15:35:31           NaN        NaN  "
      ]
     },
     "execution_count": 24,
     "metadata": {},
     "output_type": "execute_result"
    }
   ],
   "source": [
    "# Drop rows missing significant columns\n",
    "dq.drop_rows_with_missing_in_columns(['content','score']).sample(5)"
   ]
  },
  {
   "cell_type": "code",
   "execution_count": 25,
   "id": "5761e72c",
   "metadata": {},
   "outputs": [
    {
     "name": "stdout",
     "output_type": "stream",
     "text": [
      "[INFO] Dropping 2 empty column(s): ['replyContent', 'repliedAt']\n"
     ]
    }
   ],
   "source": [
    "#drop columns with no data\n",
    "df=dq.drop_empty_columns()"
   ]
  },
  {
   "cell_type": "code",
   "execution_count": 26,
   "id": "94d16f85",
   "metadata": {},
   "outputs": [
    {
     "name": "stdout",
     "output_type": "stream",
     "text": [
      "[INFO] Dropped columns: ['reviewId', 'userImage', 'reviewCreatedVersion']\n"
     ]
    }
   ],
   "source": [
    "#drop the reviewid column - it is not useful for analysis\n",
    "df = dq.drop_columns(['reviewId','userImage','reviewCreatedVersion'])"
   ]
  },
  {
   "cell_type": "code",
   "execution_count": 27,
   "id": "61565685",
   "metadata": {},
   "outputs": [
    {
     "data": {
      "text/plain": [
       "{}"
      ]
     },
     "execution_count": 27,
     "metadata": {},
     "output_type": "execute_result"
    }
   ],
   "source": [
    "dq.find_invalid_values()"
   ]
  },
  {
   "cell_type": "code",
   "execution_count": 28,
   "id": "84c68105",
   "metadata": {},
   "outputs": [
    {
     "name": "stdout",
     "output_type": "stream",
     "text": [
      "[INFO] Replaced emojis with text equivalents in 'content' column.\n"
     ]
    }
   ],
   "source": [
    "df=dq.replace_emojis_with_text(\"content\")"
   ]
  },
  {
   "cell_type": "code",
   "execution_count": 29,
   "id": "adca3dae",
   "metadata": {},
   "outputs": [
    {
     "name": "stderr",
     "output_type": "stream",
     "text": [
      "INFO:httpx:HTTP Request: GET https://translate.googleapis.com/translate_a/single?client=gtx&sl=fr&tl=en&hl=en&dt=at&dt=bd&dt=ex&dt=ld&dt=md&dt=qca&dt=rw&dt=rm&dt=ss&dt=t&ie=UTF-8&oe=UTF-8&otf=1&ssel=0&tsel=0&tk=xxxx&q=best+app \"HTTP/2 200 OK\"\n",
      "INFO:httpx:HTTP Request: GET https://translate.googleapis.com/translate_a/single?client=gtx&sl=af&tl=en&hl=en&dt=at&dt=bd&dt=ex&dt=ld&dt=md&dt=qca&dt=rw&dt=rm&dt=ss&dt=t&ie=UTF-8&oe=UTF-8&otf=1&ssel=0&tsel=0&tk=xxxx&q=Awesome+bank \"HTTP/2 200 OK\"\n",
      "INFO:httpx:HTTP Request: GET https://translate.googleapis.com/translate_a/single?client=gtx&sl=so&tl=en&hl=en&dt=at&dt=bd&dt=ex&dt=ld&dt=md&dt=qca&dt=rw&dt=rm&dt=ss&dt=t&ie=UTF-8&oe=UTF-8&otf=1&ssel=0&tsel=0&tk=xxxx&q=malkaamuu+Jiidhaa+Namoo \"HTTP/2 200 OK\"\n",
      "INFO:httpx:HTTP Request: GET https://translate.googleapis.com/translate_a/single?client=gtx&sl=sl&tl=en&hl=en&dt=at&dt=bd&dt=ex&dt=ld&dt=md&dt=qca&dt=rw&dt=rm&dt=ss&dt=t&ie=UTF-8&oe=UTF-8&otf=1&ssel=0&tsel=0&tk=xxxx&q=i+love+it+love+love \"HTTP/2 200 OK\"\n",
      "INFO:httpx:HTTP Request: GET https://translate.googleapis.com/translate_a/single?client=gtx&sl=cs&tl=en&hl=en&dt=at&dt=bd&dt=ex&dt=ld&dt=md&dt=qca&dt=rw&dt=rm&dt=ss&dt=t&ie=UTF-8&oe=UTF-8&otf=1&ssel=0&tsel=0&tk=xxxx&q=very+nice \"HTTP/2 200 OK\"\n",
      "INFO:httpx:HTTP Request: GET https://translate.googleapis.com/translate_a/single?client=gtx&sl=af&tl=en&hl=en&dt=at&dt=bd&dt=ex&dt=ld&dt=md&dt=qca&dt=rw&dt=rm&dt=ss&dt=t&ie=UTF-8&oe=UTF-8&otf=1&ssel=0&tsel=0&tk=xxxx&q=Awosome%21%21%21 \"HTTP/2 200 OK\"\n",
      "INFO:httpx:HTTP Request: GET https://translate.googleapis.com/translate_a/single?client=gtx&sl=sk&tl=en&hl=en&dt=at&dt=bd&dt=ex&dt=ld&dt=md&dt=qca&dt=rw&dt=rm&dt=ss&dt=t&ie=UTF-8&oe=UTF-8&otf=1&ssel=0&tsel=0&tk=xxxx&q=ok \"HTTP/2 200 OK\"\n",
      "INFO:httpx:HTTP Request: GET https://translate.googleapis.com/translate_a/single?client=gtx&sl=tr&tl=en&hl=en&dt=at&dt=bd&dt=ex&dt=ld&dt=md&dt=qca&dt=rw&dt=rm&dt=ss&dt=t&ie=UTF-8&oe=UTF-8&otf=1&ssel=0&tsel=0&tk=xxxx&q=Cbe+mobile+banking \"HTTP/2 200 OK\"\n",
      "INFO:httpx:HTTP Request: GET https://translate.googleapis.com/translate_a/single?client=gtx&sl=so&tl=en&hl=en&dt=at&dt=bd&dt=ex&dt=ld&dt=md&dt=qca&dt=rw&dt=rm&dt=ss&dt=t&ie=UTF-8&oe=UTF-8&otf=1&ssel=0&tsel=0&tk=xxxx&q=good \"HTTP/2 200 OK\"\n",
      "INFO:httpx:HTTP Request: GET https://translate.googleapis.com/translate_a/single?client=gtx&sl=so&tl=en&hl=en&dt=at&dt=bd&dt=ex&dt=ld&dt=md&dt=qca&dt=rw&dt=rm&dt=ss&dt=t&ie=UTF-8&oe=UTF-8&otf=1&ssel=0&tsel=0&tk=xxxx&q=Masha+alla \"HTTP/2 200 OK\"\n",
      "INFO:httpx:HTTP Request: GET https://translate.googleapis.com/translate_a/single?client=gtx&sl=ro&tl=en&hl=en&dt=at&dt=bd&dt=ex&dt=ld&dt=md&dt=qca&dt=rw&dt=rm&dt=ss&dt=t&ie=UTF-8&oe=UTF-8&otf=1&ssel=0&tsel=0&tk=xxxx&q=Nice%21 \"HTTP/2 200 OK\"\n",
      "INFO:httpx:HTTP Request: GET https://translate.googleapis.com/translate_a/single?client=gtx&sl=so&tl=en&hl=en&dt=at&dt=bd&dt=ex&dt=ld&dt=md&dt=qca&dt=rw&dt=rm&dt=ss&dt=t&ie=UTF-8&oe=UTF-8&otf=1&ssel=0&tsel=0&tk=xxxx&q=yes+good \"HTTP/2 200 OK\"\n",
      "INFO:httpx:HTTP Request: GET https://translate.googleapis.com/translate_a/single?client=gtx&sl=ro&tl=en&hl=en&dt=at&dt=bd&dt=ex&dt=ld&dt=md&dt=qca&dt=rw&dt=rm&dt=ss&dt=t&ie=UTF-8&oe=UTF-8&otf=1&ssel=0&tsel=0&tk=xxxx&q=curse+curse+curse+curse+network \"HTTP/2 200 OK\"\n",
      "INFO:httpx:HTTP Request: GET https://translate.googleapis.com/translate_a/single?client=gtx&sl=pl&tl=en&hl=en&dt=at&dt=bd&dt=ex&dt=ld&dt=md&dt=qca&dt=rw&dt=rm&dt=ss&dt=t&ie=UTF-8&oe=UTF-8&otf=1&ssel=0&tsel=0&tk=xxxx&q=nice \"HTTP/2 200 OK\"\n",
      "INFO:httpx:HTTP Request: GET https://translate.googleapis.com/translate_a/single?client=gtx&sl=so&tl=en&hl=en&dt=at&dt=bd&dt=ex&dt=ld&dt=md&dt=qca&dt=rw&dt=rm&dt=ss&dt=t&ie=UTF-8&oe=UTF-8&otf=1&ssel=0&tsel=0&tk=xxxx&q=Good \"HTTP/2 200 OK\"\n",
      "INFO:httpx:HTTP Request: GET https://translate.googleapis.com/translate_a/single?client=gtx&sl=af&tl=en&hl=en&dt=at&dt=bd&dt=ex&dt=ld&dt=md&dt=qca&dt=rw&dt=rm&dt=ss&dt=t&ie=UTF-8&oe=UTF-8&otf=1&ssel=0&tsel=0&tk=xxxx&q=best \"HTTP/2 200 OK\"\n",
      "INFO:httpx:HTTP Request: GET https://translate.googleapis.com/translate_a/single?client=gtx&sl=fr&tl=en&hl=en&dt=at&dt=bd&dt=ex&dt=ld&dt=md&dt=qca&dt=rw&dt=rm&dt=ss&dt=t&ie=UTF-8&oe=UTF-8&otf=1&ssel=0&tsel=0&tk=xxxx&q=best+app \"HTTP/2 200 OK\"\n",
      "INFO:httpx:HTTP Request: GET https://translate.googleapis.com/translate_a/single?client=gtx&sl=es&tl=en&hl=en&dt=at&dt=bd&dt=ex&dt=ld&dt=md&dt=qca&dt=rw&dt=rm&dt=ss&dt=t&ie=UTF-8&oe=UTF-8&otf=1&ssel=0&tsel=0&tk=xxxx&q=Ronaldo \"HTTP/2 200 OK\"\n",
      "INFO:httpx:HTTP Request: GET https://translate.googleapis.com/translate_a/single?client=gtx&sl=af&tl=en&hl=en&dt=at&dt=bd&dt=ex&dt=ld&dt=md&dt=qca&dt=rw&dt=rm&dt=ss&dt=t&ie=UTF-8&oe=UTF-8&otf=1&ssel=0&tsel=0&tk=xxxx&q=it+is+sooo+good \"HTTP/2 200 OK\"\n",
      "INFO:httpx:HTTP Request: GET https://translate.googleapis.com/translate_a/single?client=gtx&sl=sk&tl=en&hl=en&dt=at&dt=bd&dt=ex&dt=ld&dt=md&dt=qca&dt=rw&dt=rm&dt=ss&dt=t&ie=UTF-8&oe=UTF-8&otf=1&ssel=0&tsel=0&tk=xxxx&q=ok \"HTTP/2 200 OK\"\n",
      "INFO:httpx:HTTP Request: GET https://translate.googleapis.com/translate_a/single?client=gtx&sl=no&tl=en&hl=en&dt=at&dt=bd&dt=ex&dt=ld&dt=md&dt=qca&dt=rw&dt=rm&dt=ss&dt=t&ie=UTF-8&oe=UTF-8&otf=1&ssel=0&tsel=0&tk=xxxx&q=I+like+it \"HTTP/2 200 OK\"\n",
      "INFO:httpx:HTTP Request: GET https://translate.googleapis.com/translate_a/single?client=gtx&sl=so&tl=en&hl=en&dt=at&dt=bd&dt=ex&dt=ld&dt=md&dt=qca&dt=rw&dt=rm&dt=ss&dt=t&ie=UTF-8&oe=UTF-8&otf=1&ssel=0&tsel=0&tk=xxxx&q=good \"HTTP/2 200 OK\"\n",
      "INFO:httpx:HTTP Request: GET https://translate.googleapis.com/translate_a/single?client=gtx&sl=it&tl=en&hl=en&dt=at&dt=bd&dt=ex&dt=ld&dt=md&dt=qca&dt=rw&dt=rm&dt=ss&dt=t&ie=UTF-8&oe=UTF-8&otf=1&ssel=0&tsel=0&tk=xxxx&q=nice+fast+app \"HTTP/2 200 OK\"\n",
      "INFO:httpx:HTTP Request: GET https://translate.googleapis.com/translate_a/single?client=gtx&sl=so&tl=en&hl=en&dt=at&dt=bd&dt=ex&dt=ld&dt=md&dt=qca&dt=rw&dt=rm&dt=ss&dt=t&ie=UTF-8&oe=UTF-8&otf=1&ssel=0&tsel=0&tk=xxxx&q=good \"HTTP/2 200 OK\"\n",
      "INFO:httpx:HTTP Request: GET https://translate.googleapis.com/translate_a/single?client=gtx&sl=af&tl=en&hl=en&dt=at&dt=bd&dt=ex&dt=ld&dt=md&dt=qca&dt=rw&dt=rm&dt=ss&dt=t&ie=UTF-8&oe=UTF-8&otf=1&ssel=0&tsel=0&tk=xxxx&q=best \"HTTP/2 200 OK\"\n",
      "INFO:httpx:HTTP Request: GET https://translate.googleapis.com/translate_a/single?client=gtx&sl=so&tl=en&hl=en&dt=at&dt=bd&dt=ex&dt=ld&dt=md&dt=qca&dt=rw&dt=rm&dt=ss&dt=t&ie=UTF-8&oe=UTF-8&otf=1&ssel=0&tsel=0&tk=xxxx&q=hojii+bonsaadha \"HTTP/2 200 OK\"\n",
      "INFO:httpx:HTTP Request: GET https://translate.googleapis.com/translate_a/single?client=gtx&sl=sk&tl=en&hl=en&dt=at&dt=bd&dt=ex&dt=ld&dt=md&dt=qca&dt=rw&dt=rm&dt=ss&dt=t&ie=UTF-8&oe=UTF-8&otf=1&ssel=0&tsel=0&tk=xxxx&q=ok \"HTTP/2 200 OK\"\n",
      "INFO:httpx:HTTP Request: GET https://translate.googleapis.com/translate_a/single?client=gtx&sl=sk&tl=en&hl=en&dt=at&dt=bd&dt=ex&dt=ld&dt=md&dt=qca&dt=rw&dt=rm&dt=ss&dt=t&ie=UTF-8&oe=UTF-8&otf=1&ssel=0&tsel=0&tk=xxxx&q=ok \"HTTP/2 200 OK\"\n",
      "INFO:httpx:HTTP Request: GET https://translate.googleapis.com/translate_a/single?client=gtx&sl=fr&tl=en&hl=en&dt=at&dt=bd&dt=ex&dt=ld&dt=md&dt=qca&dt=rw&dt=rm&dt=ss&dt=t&ie=UTF-8&oe=UTF-8&otf=1&ssel=0&tsel=0&tk=xxxx&q=update+issue \"HTTP/2 200 OK\"\n",
      "INFO:httpx:HTTP Request: GET https://translate.googleapis.com/translate_a/single?client=gtx&sl=af&tl=en&hl=en&dt=at&dt=bd&dt=ex&dt=ld&dt=md&dt=qca&dt=rw&dt=rm&dt=ss&dt=t&ie=UTF-8&oe=UTF-8&otf=1&ssel=0&tsel=0&tk=xxxx&q=its+not+working+over+safari+network \"HTTP/2 200 OK\"\n",
      "INFO:httpx:HTTP Request: GET https://translate.googleapis.com/translate_a/single?client=gtx&sl=af&tl=en&hl=en&dt=at&dt=bd&dt=ex&dt=ld&dt=md&dt=qca&dt=rw&dt=rm&dt=ss&dt=t&ie=UTF-8&oe=UTF-8&otf=1&ssel=0&tsel=0&tk=xxxx&q=oldie \"HTTP/2 200 OK\"\n",
      "INFO:httpx:HTTP Request: GET https://translate.googleapis.com/translate_a/single?client=gtx&sl=af&tl=en&hl=en&dt=at&dt=bd&dt=ex&dt=ld&dt=md&dt=qca&dt=rw&dt=rm&dt=ss&dt=t&ie=UTF-8&oe=UTF-8&otf=1&ssel=0&tsel=0&tk=xxxx&q=it+doesn%27t+work \"HTTP/2 200 OK\"\n",
      "INFO:httpx:HTTP Request: GET https://translate.googleapis.com/translate_a/single?client=gtx&sl=af&tl=en&hl=en&dt=at&dt=bd&dt=ex&dt=ld&dt=md&dt=qca&dt=rw&dt=rm&dt=ss&dt=t&ie=UTF-8&oe=UTF-8&otf=1&ssel=0&tsel=0&tk=xxxx&q=best \"HTTP/2 200 OK\"\n",
      "INFO:httpx:HTTP Request: GET https://translate.googleapis.com/translate_a/single?client=gtx&sl=sk&tl=en&hl=en&dt=at&dt=bd&dt=ex&dt=ld&dt=md&dt=qca&dt=rw&dt=rm&dt=ss&dt=t&ie=UTF-8&oe=UTF-8&otf=1&ssel=0&tsel=0&tk=xxxx&q=ok \"HTTP/2 200 OK\"\n",
      "INFO:httpx:HTTP Request: GET https://translate.googleapis.com/translate_a/single?client=gtx&sl=fr&tl=en&hl=en&dt=at&dt=bd&dt=ex&dt=ld&dt=md&dt=qca&dt=rw&dt=rm&dt=ss&dt=t&ie=UTF-8&oe=UTF-8&otf=1&ssel=0&tsel=0&tk=xxxx&q=best+app \"HTTP/2 200 OK\"\n",
      "INFO:httpx:HTTP Request: GET https://translate.googleapis.com/translate_a/single?client=gtx&sl=af&tl=en&hl=en&dt=at&dt=bd&dt=ex&dt=ld&dt=md&dt=qca&dt=rw&dt=rm&dt=ss&dt=t&ie=UTF-8&oe=UTF-8&otf=1&ssel=0&tsel=0&tk=xxxx&q=best \"HTTP/2 200 OK\"\n",
      "INFO:httpx:HTTP Request: GET https://translate.googleapis.com/translate_a/single?client=gtx&sl=tr&tl=en&hl=en&dt=at&dt=bd&dt=ex&dt=ld&dt=md&dt=qca&dt=rw&dt=rm&dt=ss&dt=t&ie=UTF-8&oe=UTF-8&otf=1&ssel=0&tsel=0&tk=xxxx&q=Yes+Yes \"HTTP/2 200 OK\"\n",
      "INFO:httpx:HTTP Request: GET https://translate.googleapis.com/translate_a/single?client=gtx&sl=so&tl=en&hl=en&dt=at&dt=bd&dt=ex&dt=ld&dt=md&dt=qca&dt=rw&dt=rm&dt=ss&dt=t&ie=UTF-8&oe=UTF-8&otf=1&ssel=0&tsel=0&tk=xxxx&q=good \"HTTP/2 200 OK\"\n",
      "INFO:httpx:HTTP Request: GET https://translate.googleapis.com/translate_a/single?client=gtx&sl=pl&tl=en&hl=en&dt=at&dt=bd&dt=ex&dt=ld&dt=md&dt=qca&dt=rw&dt=rm&dt=ss&dt=t&ie=UTF-8&oe=UTF-8&otf=1&ssel=0&tsel=0&tk=xxxx&q=wow \"HTTP/2 200 OK\"\n",
      "INFO:httpx:HTTP Request: GET https://translate.googleapis.com/translate_a/single?client=gtx&sl=pl&tl=en&hl=en&dt=at&dt=bd&dt=ex&dt=ld&dt=md&dt=qca&dt=rw&dt=rm&dt=ss&dt=t&ie=UTF-8&oe=UTF-8&otf=1&ssel=0&tsel=0&tk=xxxx&q=nice \"HTTP/2 200 OK\"\n",
      "INFO:httpx:HTTP Request: GET https://translate.googleapis.com/translate_a/single?client=gtx&sl=so&tl=en&hl=en&dt=at&dt=bd&dt=ex&dt=ld&dt=md&dt=qca&dt=rw&dt=rm&dt=ss&dt=t&ie=UTF-8&oe=UTF-8&otf=1&ssel=0&tsel=0&tk=xxxx&q=good \"HTTP/2 200 OK\"\n",
      "INFO:httpx:HTTP Request: GET https://translate.googleapis.com/translate_a/single?client=gtx&sl=fi&tl=en&hl=en&dt=at&dt=bd&dt=ex&dt=ld&dt=md&dt=qca&dt=rw&dt=rm&dt=ss&dt=t&ie=UTF-8&oe=UTF-8&otf=1&ssel=0&tsel=0&tk=xxxx&q=happy \"HTTP/2 200 OK\"\n",
      "INFO:httpx:HTTP Request: GET https://translate.googleapis.com/translate_a/single?client=gtx&sl=so&tl=en&hl=en&dt=at&dt=bd&dt=ex&dt=ld&dt=md&dt=qca&dt=rw&dt=rm&dt=ss&dt=t&ie=UTF-8&oe=UTF-8&otf=1&ssel=0&tsel=0&tk=xxxx&q=NICE+bank \"HTTP/2 200 OK\"\n",
      "INFO:httpx:HTTP Request: GET https://translate.googleapis.com/translate_a/single?client=gtx&sl=de&tl=en&hl=en&dt=at&dt=bd&dt=ex&dt=ld&dt=md&dt=qca&dt=rw&dt=rm&dt=ss&dt=t&ie=UTF-8&oe=UTF-8&otf=1&ssel=0&tsel=0&tk=xxxx&q=Best \"HTTP/2 200 OK\"\n",
      "INFO:httpx:HTTP Request: GET https://translate.googleapis.com/translate_a/single?client=gtx&sl=pl&tl=en&hl=en&dt=at&dt=bd&dt=ex&dt=ld&dt=md&dt=qca&dt=rw&dt=rm&dt=ss&dt=t&ie=UTF-8&oe=UTF-8&otf=1&ssel=0&tsel=0&tk=xxxx&q=wow \"HTTP/2 200 OK\"\n",
      "INFO:httpx:HTTP Request: GET https://translate.googleapis.com/translate_a/single?client=gtx&sl=so&tl=en&hl=en&dt=at&dt=bd&dt=ex&dt=ld&dt=md&dt=qca&dt=rw&dt=rm&dt=ss&dt=t&ie=UTF-8&oe=UTF-8&otf=1&ssel=0&tsel=0&tk=xxxx&q=good \"HTTP/2 200 OK\"\n",
      "INFO:httpx:HTTP Request: GET https://translate.googleapis.com/translate_a/single?client=gtx&sl=so&tl=en&hl=en&dt=at&dt=bd&dt=ex&dt=ld&dt=md&dt=qca&dt=rw&dt=rm&dt=ss&dt=t&ie=UTF-8&oe=UTF-8&otf=1&ssel=0&tsel=0&tk=xxxx&q=woxe+harimo+ribiso \"HTTP/2 200 OK\"\n",
      "INFO:httpx:HTTP Request: GET https://translate.googleapis.com/translate_a/single?client=gtx&sl=so&tl=en&hl=en&dt=at&dt=bd&dt=ex&dt=ld&dt=md&dt=qca&dt=rw&dt=rm&dt=ss&dt=t&ie=UTF-8&oe=UTF-8&otf=1&ssel=0&tsel=0&tk=xxxx&q=good \"HTTP/2 200 OK\"\n",
      "INFO:httpx:HTTP Request: GET https://translate.googleapis.com/translate_a/single?client=gtx&sl=so&tl=en&hl=en&dt=at&dt=bd&dt=ex&dt=ld&dt=md&dt=qca&dt=rw&dt=rm&dt=ss&dt=t&ie=UTF-8&oe=UTF-8&otf=1&ssel=0&tsel=0&tk=xxxx&q=Good+job \"HTTP/2 200 OK\"\n",
      "INFO:httpx:HTTP Request: GET https://translate.googleapis.com/translate_a/single?client=gtx&sl=so&tl=en&hl=en&dt=at&dt=bd&dt=ex&dt=ld&dt=md&dt=qca&dt=rw&dt=rm&dt=ss&dt=t&ie=UTF-8&oe=UTF-8&otf=1&ssel=0&tsel=0&tk=xxxx&q=good \"HTTP/2 200 OK\"\n",
      "INFO:httpx:HTTP Request: GET https://translate.googleapis.com/translate_a/single?client=gtx&sl=so&tl=en&hl=en&dt=at&dt=bd&dt=ex&dt=ld&dt=md&dt=qca&dt=rw&dt=rm&dt=ss&dt=t&ie=UTF-8&oe=UTF-8&otf=1&ssel=0&tsel=0&tk=xxxx&q=good \"HTTP/2 200 OK\"\n",
      "INFO:httpx:HTTP Request: GET https://translate.googleapis.com/translate_a/single?client=gtx&sl=so&tl=en&hl=en&dt=at&dt=bd&dt=ex&dt=ld&dt=md&dt=qca&dt=rw&dt=rm&dt=ss&dt=t&ie=UTF-8&oe=UTF-8&otf=1&ssel=0&tsel=0&tk=xxxx&q=good \"HTTP/2 200 OK\"\n",
      "INFO:httpx:HTTP Request: GET https://translate.googleapis.com/translate_a/single?client=gtx&sl=so&tl=en&hl=en&dt=at&dt=bd&dt=ex&dt=ld&dt=md&dt=qca&dt=rw&dt=rm&dt=ss&dt=t&ie=UTF-8&oe=UTF-8&otf=1&ssel=0&tsel=0&tk=xxxx&q=good \"HTTP/2 200 OK\"\n",
      "INFO:httpx:HTTP Request: GET https://translate.googleapis.com/translate_a/single?client=gtx&sl=pl&tl=en&hl=en&dt=at&dt=bd&dt=ex&dt=ld&dt=md&dt=qca&dt=rw&dt=rm&dt=ss&dt=t&ie=UTF-8&oe=UTF-8&otf=1&ssel=0&tsel=0&tk=xxxx&q=wow \"HTTP/2 200 OK\"\n",
      "INFO:httpx:HTTP Request: GET https://translate.googleapis.com/translate_a/single?client=gtx&sl=af&tl=en&hl=en&dt=at&dt=bd&dt=ex&dt=ld&dt=md&dt=qca&dt=rw&dt=rm&dt=ss&dt=t&ie=UTF-8&oe=UTF-8&otf=1&ssel=0&tsel=0&tk=xxxx&q=verygood \"HTTP/2 200 OK\"\n",
      "INFO:httpx:HTTP Request: GET https://translate.googleapis.com/translate_a/single?client=gtx&sl=pl&tl=en&hl=en&dt=at&dt=bd&dt=ex&dt=ld&dt=md&dt=qca&dt=rw&dt=rm&dt=ss&dt=t&ie=UTF-8&oe=UTF-8&otf=1&ssel=0&tsel=0&tk=xxxx&q=nice \"HTTP/2 200 OK\"\n",
      "INFO:httpx:HTTP Request: GET https://translate.googleapis.com/translate_a/single?client=gtx&sl=pl&tl=en&hl=en&dt=at&dt=bd&dt=ex&dt=ld&dt=md&dt=qca&dt=rw&dt=rm&dt=ss&dt=t&ie=UTF-8&oe=UTF-8&otf=1&ssel=0&tsel=0&tk=xxxx&q=nice \"HTTP/2 200 OK\"\n",
      "INFO:httpx:HTTP Request: GET https://translate.googleapis.com/translate_a/single?client=gtx&sl=af&tl=en&hl=en&dt=at&dt=bd&dt=ex&dt=ld&dt=md&dt=qca&dt=rw&dt=rm&dt=ss&dt=t&ie=UTF-8&oe=UTF-8&otf=1&ssel=0&tsel=0&tk=xxxx&q=very+good \"HTTP/2 200 OK\"\n",
      "INFO:httpx:HTTP Request: GET https://translate.googleapis.com/translate_a/single?client=gtx&sl=so&tl=en&hl=en&dt=at&dt=bd&dt=ex&dt=ld&dt=md&dt=qca&dt=rw&dt=rm&dt=ss&dt=t&ie=UTF-8&oe=UTF-8&otf=1&ssel=0&tsel=0&tk=xxxx&q=good \"HTTP/2 200 OK\"\n",
      "INFO:httpx:HTTP Request: GET https://translate.googleapis.com/translate_a/single?client=gtx&sl=de&tl=en&hl=en&dt=at&dt=bd&dt=ex&dt=ld&dt=md&dt=qca&dt=rw&dt=rm&dt=ss&dt=t&ie=UTF-8&oe=UTF-8&otf=1&ssel=0&tsel=0&tk=xxxx&q=Best \"HTTP/2 200 OK\"\n",
      "INFO:httpx:HTTP Request: GET https://translate.googleapis.com/translate_a/single?client=gtx&sl=sk&tl=en&hl=en&dt=at&dt=bd&dt=ex&dt=ld&dt=md&dt=qca&dt=rw&dt=rm&dt=ss&dt=t&ie=UTF-8&oe=UTF-8&otf=1&ssel=0&tsel=0&tk=xxxx&q=ok \"HTTP/2 200 OK\"\n",
      "INFO:httpx:HTTP Request: GET https://translate.googleapis.com/translate_a/single?client=gtx&sl=sk&tl=en&hl=en&dt=at&dt=bd&dt=ex&dt=ld&dt=md&dt=qca&dt=rw&dt=rm&dt=ss&dt=t&ie=UTF-8&oe=UTF-8&otf=1&ssel=0&tsel=0&tk=xxxx&q=ok \"HTTP/2 200 OK\"\n",
      "INFO:httpx:HTTP Request: GET https://translate.googleapis.com/translate_a/single?client=gtx&sl=so&tl=en&hl=en&dt=at&dt=bd&dt=ex&dt=ld&dt=md&dt=qca&dt=rw&dt=rm&dt=ss&dt=t&ie=UTF-8&oe=UTF-8&otf=1&ssel=0&tsel=0&tk=xxxx&q=good \"HTTP/2 200 OK\"\n",
      "INFO:httpx:HTTP Request: GET https://translate.googleapis.com/translate_a/single?client=gtx&sl=fa&tl=en&hl=en&dt=at&dt=bd&dt=ex&dt=ld&dt=md&dt=qca&dt=rw&dt=rm&dt=ss&dt=t&ie=UTF-8&oe=UTF-8&otf=1&ssel=0&tsel=0&tk=xxxx&q=%D9%85%D9%85%D8%AA%D8%A7%D8%B2+%D8%AC%D8%AF%D8%A7 \"HTTP/2 200 OK\"\n",
      "INFO:httpx:HTTP Request: GET https://translate.googleapis.com/translate_a/single?client=gtx&sl=so&tl=en&hl=en&dt=at&dt=bd&dt=ex&dt=ld&dt=md&dt=qca&dt=rw&dt=rm&dt=ss&dt=t&ie=UTF-8&oe=UTF-8&otf=1&ssel=0&tsel=0&tk=xxxx&q=good \"HTTP/2 200 OK\"\n",
      "INFO:httpx:HTTP Request: GET https://translate.googleapis.com/translate_a/single?client=gtx&sl=fr&tl=en&hl=en&dt=at&dt=bd&dt=ex&dt=ld&dt=md&dt=qca&dt=rw&dt=rm&dt=ss&dt=t&ie=UTF-8&oe=UTF-8&otf=1&ssel=0&tsel=0&tk=xxxx&q=Unreliable%21 \"HTTP/2 200 OK\"\n",
      "INFO:httpx:HTTP Request: GET https://translate.googleapis.com/translate_a/single?client=gtx&sl=af&tl=en&hl=en&dt=at&dt=bd&dt=ex&dt=ld&dt=md&dt=qca&dt=rw&dt=rm&dt=ss&dt=t&ie=UTF-8&oe=UTF-8&otf=1&ssel=0&tsel=0&tk=xxxx&q=not+bad+not+good \"HTTP/2 200 OK\"\n",
      "INFO:httpx:HTTP Request: GET https://translate.googleapis.com/translate_a/single?client=gtx&sl=so&tl=en&hl=en&dt=at&dt=bd&dt=ex&dt=ld&dt=md&dt=qca&dt=rw&dt=rm&dt=ss&dt=t&ie=UTF-8&oe=UTF-8&otf=1&ssel=0&tsel=0&tk=xxxx&q=Nuree+mahamud \"HTTP/2 200 OK\"\n",
      "INFO:httpx:HTTP Request: GET https://translate.googleapis.com/translate_a/single?client=gtx&sl=ro&tl=en&hl=en&dt=at&dt=bd&dt=ex&dt=ld&dt=md&dt=qca&dt=rw&dt=rm&dt=ss&dt=t&ie=UTF-8&oe=UTF-8&otf=1&ssel=0&tsel=0&tk=xxxx&q=super \"HTTP/2 200 OK\"\n",
      "INFO:httpx:HTTP Request: GET https://translate.googleapis.com/translate_a/single?client=gtx&sl=so&tl=en&hl=en&dt=at&dt=bd&dt=ex&dt=ld&dt=md&dt=qca&dt=rw&dt=rm&dt=ss&dt=t&ie=UTF-8&oe=UTF-8&otf=1&ssel=0&tsel=0&tk=xxxx&q=good \"HTTP/2 200 OK\"\n",
      "INFO:httpx:HTTP Request: GET https://translate.googleapis.com/translate_a/single?client=gtx&sl=ro&tl=en&hl=en&dt=at&dt=bd&dt=ex&dt=ld&dt=md&dt=qca&dt=rw&dt=rm&dt=ss&dt=t&ie=UTF-8&oe=UTF-8&otf=1&ssel=0&tsel=0&tk=xxxx&q=trustful \"HTTP/2 200 OK\"\n",
      "INFO:httpx:HTTP Request: GET https://translate.googleapis.com/translate_a/single?client=gtx&sl=ca&tl=en&hl=en&dt=at&dt=bd&dt=ex&dt=ld&dt=md&dt=qca&dt=rw&dt=rm&dt=ss&dt=t&ie=UTF-8&oe=UTF-8&otf=1&ssel=0&tsel=0&tk=xxxx&q=excellent \"HTTP/2 200 OK\"\n",
      "INFO:httpx:HTTP Request: GET https://translate.googleapis.com/translate_a/single?client=gtx&sl=et&tl=en&hl=en&dt=at&dt=bd&dt=ex&dt=ld&dt=md&dt=qca&dt=rw&dt=rm&dt=ss&dt=t&ie=UTF-8&oe=UTF-8&otf=1&ssel=0&tsel=0&tk=xxxx&q=I+like \"HTTP/2 200 OK\"\n",
      "INFO:httpx:HTTP Request: GET https://translate.googleapis.com/translate_a/single?client=gtx&sl=tl&tl=en&hl=en&dt=at&dt=bd&dt=ex&dt=ld&dt=md&dt=qca&dt=rw&dt=rm&dt=ss&dt=t&ie=UTF-8&oe=UTF-8&otf=1&ssel=0&tsel=0&tk=xxxx&q=amazing+apps \"HTTP/2 200 OK\"\n",
      "INFO:httpx:HTTP Request: GET https://translate.googleapis.com/translate_a/single?client=gtx&sl=so&tl=en&hl=en&dt=at&dt=bd&dt=ex&dt=ld&dt=md&dt=qca&dt=rw&dt=rm&dt=ss&dt=t&ie=UTF-8&oe=UTF-8&otf=1&ssel=0&tsel=0&tk=xxxx&q=CBE+mobilr+bankg \"HTTP/2 200 OK\"\n",
      "INFO:httpx:HTTP Request: GET https://translate.googleapis.com/translate_a/single?client=gtx&sl=et&tl=en&hl=en&dt=at&dt=bd&dt=ex&dt=ld&dt=md&dt=qca&dt=rw&dt=rm&dt=ss&dt=t&ie=UTF-8&oe=UTF-8&otf=1&ssel=0&tsel=0&tk=xxxx&q=abinet+kutafo \"HTTP/2 200 OK\"\n",
      "INFO:httpx:HTTP Request: GET https://translate.googleapis.com/translate_a/single?client=gtx&sl=tr&tl=en&hl=en&dt=at&dt=bd&dt=ex&dt=ld&dt=md&dt=qca&dt=rw&dt=rm&dt=ss&dt=t&ie=UTF-8&oe=UTF-8&otf=1&ssel=0&tsel=0&tk=xxxx&q=yetemeta \"HTTP/2 200 OK\"\n",
      "INFO:httpx:HTTP Request: GET https://translate.googleapis.com/translate_a/single?client=gtx&sl=so&tl=en&hl=en&dt=at&dt=bd&dt=ex&dt=ld&dt=md&dt=qca&dt=rw&dt=rm&dt=ss&dt=t&ie=UTF-8&oe=UTF-8&otf=1&ssel=0&tsel=0&tk=xxxx&q=good+job \"HTTP/2 200 OK\"\n",
      "INFO:httpx:HTTP Request: GET https://translate.googleapis.com/translate_a/single?client=gtx&sl=it&tl=en&hl=en&dt=at&dt=bd&dt=ex&dt=ld&dt=md&dt=qca&dt=rw&dt=rm&dt=ss&dt=t&ie=UTF-8&oe=UTF-8&otf=1&ssel=0&tsel=0&tk=xxxx&q=nice+app \"HTTP/2 200 OK\"\n",
      "INFO:httpx:HTTP Request: GET https://translate.googleapis.com/translate_a/single?client=gtx&sl=sq&tl=en&hl=en&dt=at&dt=bd&dt=ex&dt=ld&dt=md&dt=qca&dt=rw&dt=rm&dt=ss&dt=t&ie=UTF-8&oe=UTF-8&otf=1&ssel=0&tsel=0&tk=xxxx&q=i+like+the+app \"HTTP/2 200 OK\"\n",
      "INFO:httpx:HTTP Request: GET https://translate.googleapis.com/translate_a/single?client=gtx&sl=it&tl=en&hl=en&dt=at&dt=bd&dt=ex&dt=ld&dt=md&dt=qca&dt=rw&dt=rm&dt=ss&dt=t&ie=UTF-8&oe=UTF-8&otf=1&ssel=0&tsel=0&tk=xxxx&q=Fantastic \"HTTP/2 200 OK\"\n",
      "INFO:httpx:HTTP Request: GET https://translate.googleapis.com/translate_a/single?client=gtx&sl=no&tl=en&hl=en&dt=at&dt=bd&dt=ex&dt=ld&dt=md&dt=qca&dt=rw&dt=rm&dt=ss&dt=t&ie=UTF-8&oe=UTF-8&otf=1&ssel=0&tsel=0&tk=xxxx&q=best+app. \"HTTP/2 200 OK\"\n",
      "INFO:httpx:HTTP Request: GET https://translate.googleapis.com/translate_a/single?client=gtx&sl=nl&tl=en&hl=en&dt=at&dt=bd&dt=ex&dt=ld&dt=md&dt=qca&dt=rw&dt=rm&dt=ss&dt=t&ie=UTF-8&oe=UTF-8&otf=1&ssel=0&tsel=0&tk=xxxx&q=needs+improvement \"HTTP/2 200 OK\"\n",
      "INFO:httpx:HTTP Request: GET https://translate.googleapis.com/translate_a/single?client=gtx&sl=cy&tl=en&hl=en&dt=at&dt=bd&dt=ex&dt=ld&dt=md&dt=qca&dt=rw&dt=rm&dt=ss&dt=t&ie=UTF-8&oe=UTF-8&otf=1&ssel=0&tsel=0&tk=xxxx&q=goid \"HTTP/2 200 OK\"\n",
      "INFO:httpx:HTTP Request: GET https://translate.googleapis.com/translate_a/single?client=gtx&sl=af&tl=en&hl=en&dt=at&dt=bd&dt=ex&dt=ld&dt=md&dt=qca&dt=rw&dt=rm&dt=ss&dt=t&ie=UTF-8&oe=UTF-8&otf=1&ssel=0&tsel=0&tk=xxxx&q=Engida+Kebede+Fetera \"HTTP/2 200 OK\"\n",
      "INFO:httpx:HTTP Request: GET https://translate.googleapis.com/translate_a/single?client=gtx&sl=ca&tl=en&hl=en&dt=at&dt=bd&dt=ex&dt=ld&dt=md&dt=qca&dt=rw&dt=rm&dt=ss&dt=t&ie=UTF-8&oe=UTF-8&otf=1&ssel=0&tsel=0&tk=xxxx&q=excellent \"HTTP/2 200 OK\"\n",
      "INFO:httpx:HTTP Request: GET https://translate.googleapis.com/translate_a/single?client=gtx&sl=da&tl=en&hl=en&dt=at&dt=bd&dt=ex&dt=ld&dt=md&dt=qca&dt=rw&dt=rm&dt=ss&dt=t&ie=UTF-8&oe=UTF-8&otf=1&ssel=0&tsel=0&tk=xxxx&q=better+service \"HTTP/2 200 OK\"\n",
      "INFO:httpx:HTTP Request: GET https://translate.googleapis.com/translate_a/single?client=gtx&sl=ca&tl=en&hl=en&dt=at&dt=bd&dt=ex&dt=ld&dt=md&dt=qca&dt=rw&dt=rm&dt=ss&dt=t&ie=UTF-8&oe=UTF-8&otf=1&ssel=0&tsel=0&tk=xxxx&q=excellent \"HTTP/2 200 OK\"\n",
      "INFO:httpx:HTTP Request: GET https://translate.googleapis.com/translate_a/single?client=gtx&sl=ca&tl=en&hl=en&dt=at&dt=bd&dt=ex&dt=ld&dt=md&dt=qca&dt=rw&dt=rm&dt=ss&dt=t&ie=UTF-8&oe=UTF-8&otf=1&ssel=0&tsel=0&tk=xxxx&q=Eliasmels \"HTTP/2 200 OK\"\n",
      "INFO:httpx:HTTP Request: GET https://translate.googleapis.com/translate_a/single?client=gtx&sl=sw&tl=en&hl=en&dt=at&dt=bd&dt=ex&dt=ld&dt=md&dt=qca&dt=rw&dt=rm&dt=ss&dt=t&ie=UTF-8&oe=UTF-8&otf=1&ssel=0&tsel=0&tk=xxxx&q=amazing \"HTTP/2 200 OK\"\n"
     ]
    }
   ],
   "source": [
    "df=await dq.translate_non_english_text(\"content\")"
   ]
  },
  {
   "cell_type": "code",
   "execution_count": 30,
   "id": "cef4c97c",
   "metadata": {},
   "outputs": [
    {
     "data": {
      "text/plain": [
       "(202, 5)"
      ]
     },
     "execution_count": 30,
     "metadata": {},
     "output_type": "execute_result"
    }
   ],
   "source": [
    "df.shape"
   ]
  },
  {
   "cell_type": "markdown",
   "id": "5941313a",
   "metadata": {},
   "source": [
    "### Inconsistencies and Inaccuracies"
   ]
  },
  {
   "cell_type": "code",
   "execution_count": 31,
   "id": "0f13b809",
   "metadata": {},
   "outputs": [],
   "source": [
    "#drop redundancies and clean column names\n",
    "df=dq.drop_redundant_columns()"
   ]
  },
  {
   "cell_type": "code",
   "execution_count": 32,
   "id": "d1f60871",
   "metadata": {},
   "outputs": [],
   "source": [
    "df=dq.convert_columns_to_datetime()"
   ]
  },
  {
   "cell_type": "code",
   "execution_count": 33,
   "id": "5a756656",
   "metadata": {},
   "outputs": [
    {
     "name": "stdout",
     "output_type": "stream",
     "text": [
      "<class 'pandas.core.frame.DataFrame'>\n",
      "Index: 202 entries, 0 to 411\n",
      "Data columns (total 5 columns):\n",
      " #   Column         Non-Null Count  Dtype \n",
      "---  ------         --------------  ----- \n",
      " 0   userName       202 non-null    object\n",
      " 1   content        202 non-null    object\n",
      " 2   score          202 non-null    int64 \n",
      " 3   thumbsUpCount  202 non-null    int64 \n",
      " 4   at             202 non-null    object\n",
      "dtypes: int64(2), object(3)\n",
      "memory usage: 9.5+ KB\n"
     ]
    }
   ],
   "source": [
    "df.info()"
   ]
  },
  {
   "cell_type": "code",
   "execution_count": 34,
   "id": "4d58f6f7",
   "metadata": {},
   "outputs": [
    {
     "data": {
      "text/plain": [
       "Index(['userName', 'content', 'score', 'thumbsUpCount', 'at'], dtype='object')"
      ]
     },
     "execution_count": 34,
     "metadata": {},
     "output_type": "execute_result"
    }
   ],
   "source": [
    "df.columns"
   ]
  },
  {
   "cell_type": "code",
   "execution_count": 35,
   "id": "9cbdc0d5",
   "metadata": {},
   "outputs": [
    {
     "name": "stdout",
     "output_type": "stream",
     "text": [
      "[INFO] Renamed columns: {'content': 'review', 'score': 'rating', 'at': 'date'}\n"
     ]
    }
   ],
   "source": [
    "#  df=df.rename(columns={\"content\": \"review\", \"score\": \"rating\", \"at\": \"date\"}, inplace=True)\n",
    "df=dq.rename_and_prioritize_columns({\"content\": \"review\", \"score\": \"rating\", \"at\": \"date\"})"
   ]
  },
  {
   "cell_type": "code",
   "execution_count": 36,
   "id": "6674e038",
   "metadata": {},
   "outputs": [],
   "source": [
    "df[\"bank\"] = BANK  # add bank name column"
   ]
  },
  {
   "cell_type": "code",
   "execution_count": 37,
   "id": "0142f406",
   "metadata": {},
   "outputs": [
    {
     "data": {
      "text/html": [
       "<div>\n",
       "<style scoped>\n",
       "    .dataframe tbody tr th:only-of-type {\n",
       "        vertical-align: middle;\n",
       "    }\n",
       "\n",
       "    .dataframe tbody tr th {\n",
       "        vertical-align: top;\n",
       "    }\n",
       "\n",
       "    .dataframe thead th {\n",
       "        text-align: right;\n",
       "    }\n",
       "</style>\n",
       "<table border=\"1\" class=\"dataframe\">\n",
       "  <thead>\n",
       "    <tr style=\"text-align: right;\">\n",
       "      <th></th>\n",
       "      <th>review</th>\n",
       "      <th>rating</th>\n",
       "      <th>date</th>\n",
       "      <th>userName</th>\n",
       "      <th>thumbsUpCount</th>\n",
       "      <th>bank</th>\n",
       "    </tr>\n",
       "  </thead>\n",
       "  <tbody>\n",
       "    <tr>\n",
       "      <th>169</th>\n",
       "      <td>Very good app. but disappointed by general ces...</td>\n",
       "      <td>5</td>\n",
       "      <td>2025-05-02 21:48:08</td>\n",
       "      <td>Mebratu Mathewos</td>\n",
       "      <td>1</td>\n",
       "      <td>CBE</td>\n",
       "    </tr>\n",
       "    <tr>\n",
       "      <th>75</th>\n",
       "      <td>I like</td>\n",
       "      <td>5</td>\n",
       "      <td>2025-05-22 02:52:56</td>\n",
       "      <td>Mame Mame</td>\n",
       "      <td>0</td>\n",
       "      <td>CBE</td>\n",
       "    </tr>\n",
       "    <tr>\n",
       "      <th>85</th>\n",
       "      <td>very nice app for android phone</td>\n",
       "      <td>5</td>\n",
       "      <td>2025-05-21 17:28:54</td>\n",
       "      <td>Abdule Yube</td>\n",
       "      <td>0</td>\n",
       "      <td>CBE</td>\n",
       "    </tr>\n",
       "    <tr>\n",
       "      <th>49</th>\n",
       "      <td>Fantastic</td>\n",
       "      <td>5</td>\n",
       "      <td>2025-05-23 23:51:45</td>\n",
       "      <td>Mikiyas Mereke</td>\n",
       "      <td>0</td>\n",
       "      <td>CBE</td>\n",
       "    </tr>\n",
       "    <tr>\n",
       "      <th>88</th>\n",
       "      <td>በጣም ከርፋፋ</td>\n",
       "      <td>1</td>\n",
       "      <td>2025-05-21 14:37:48</td>\n",
       "      <td>Lele Apostle</td>\n",
       "      <td>0</td>\n",
       "      <td>CBE</td>\n",
       "    </tr>\n",
       "    <tr>\n",
       "      <th>134</th>\n",
       "      <td>Am sorry but what does developer mode do to th...</td>\n",
       "      <td>1</td>\n",
       "      <td>2025-05-08 19:55:11</td>\n",
       "      <td>Fraol0 (Main)</td>\n",
       "      <td>0</td>\n",
       "      <td>CBE</td>\n",
       "    </tr>\n",
       "    <tr>\n",
       "      <th>152</th>\n",
       "      <td>If any developer is reading this please fix th...</td>\n",
       "      <td>1</td>\n",
       "      <td>2025-05-05 21:48:43</td>\n",
       "      <td>Nahom M</td>\n",
       "      <td>1</td>\n",
       "      <td>CBE</td>\n",
       "    </tr>\n",
       "    <tr>\n",
       "      <th>155</th>\n",
       "      <td>wow</td>\n",
       "      <td>1</td>\n",
       "      <td>2025-05-05 12:25:17</td>\n",
       "      <td>KINGO A</td>\n",
       "      <td>0</td>\n",
       "      <td>CBE</td>\n",
       "    </tr>\n",
       "    <tr>\n",
       "      <th>194</th>\n",
       "      <td>I need support you</td>\n",
       "      <td>5</td>\n",
       "      <td>2025-04-27 00:36:30</td>\n",
       "      <td>Zeeynii Ahmad</td>\n",
       "      <td>0</td>\n",
       "      <td>CBE</td>\n",
       "    </tr>\n",
       "    <tr>\n",
       "      <th>4</th>\n",
       "      <td>it is not safety</td>\n",
       "      <td>1</td>\n",
       "      <td>2025-06-03 09:14:31</td>\n",
       "      <td>Senayt Weldeslase</td>\n",
       "      <td>0</td>\n",
       "      <td>CBE</td>\n",
       "    </tr>\n",
       "  </tbody>\n",
       "</table>\n",
       "</div>"
      ],
      "text/plain": [
       "                                                review  rating  \\\n",
       "169  Very good app. but disappointed by general ces...       5   \n",
       "75                                              I like       5   \n",
       "85                     very nice app for android phone       5   \n",
       "49                                           Fantastic       5   \n",
       "88                                            በጣም ከርፋፋ       1   \n",
       "134  Am sorry but what does developer mode do to th...       1   \n",
       "152  If any developer is reading this please fix th...       1   \n",
       "155                                                wow       1   \n",
       "194                                 I need support you       5   \n",
       "4                                     it is not safety       1   \n",
       "\n",
       "                    date           userName  thumbsUpCount bank  \n",
       "169  2025-05-02 21:48:08   Mebratu Mathewos              1  CBE  \n",
       "75   2025-05-22 02:52:56          Mame Mame              0  CBE  \n",
       "85   2025-05-21 17:28:54        Abdule Yube              0  CBE  \n",
       "49   2025-05-23 23:51:45     Mikiyas Mereke              0  CBE  \n",
       "88   2025-05-21 14:37:48       Lele Apostle              0  CBE  \n",
       "134  2025-05-08 19:55:11      Fraol0 (Main)              0  CBE  \n",
       "152  2025-05-05 21:48:43            Nahom M              1  CBE  \n",
       "155  2025-05-05 12:25:17            KINGO A              0  CBE  \n",
       "194  2025-04-27 00:36:30      Zeeynii Ahmad              0  CBE  \n",
       "4    2025-06-03 09:14:31  Senayt Weldeslase              0  CBE  "
      ]
     },
     "execution_count": 37,
     "metadata": {},
     "output_type": "execute_result"
    }
   ],
   "source": [
    "df.sample(10)"
   ]
  },
  {
   "cell_type": "markdown",
   "id": "e3217eeb",
   "metadata": {},
   "source": [
    "### Export Cleaned Data"
   ]
  },
  {
   "cell_type": "code",
   "execution_count": 38,
   "id": "623c157b",
   "metadata": {},
   "outputs": [],
   "source": [
    "# Save to csv\n",
    "df.to_csv(CLEANED_DATA_PATH, index=False)"
   ]
  },
  {
   "cell_type": "markdown",
   "id": "62483744",
   "metadata": {},
   "source": [
    "## 6. Analyze & Visualize"
   ]
  },
  {
   "cell_type": "code",
   "execution_count": 39,
   "id": "c746be46",
   "metadata": {},
   "outputs": [],
   "source": [
    "#instantiate the ReviewVisualizer class\n",
    "viz = ReviewVisualizer(df)"
   ]
  },
  {
   "cell_type": "code",
   "execution_count": 40,
   "id": "75ef8025",
   "metadata": {},
   "outputs": [
    {
     "name": "stdout",
     "output_type": "stream",
     "text": [
      "[INFO] Saved plot: plots/wordcloud_reviews.png\n"
     ]
    },
    {
     "data": {
      "image/png": "[encoded data removed]",
      "text/plain": [
       "<Figure size 640x480 with 1 Axes>"
      ]
     },
     "metadata": {},
     "output_type": "display_data"
    }
   ],
   "source": [
    "#Plot a word cloud of the reviews\n",
    "viz.plot_wordcloud()"
   ]
  },
  {
   "cell_type": "code",
   "execution_count": 41,
   "id": "c10709a5",
   "metadata": {},
   "outputs": [
    {
     "name": "stderr",
     "output_type": "stream",
     "text": [
      "INFO:matplotlib.category:Using categorical units to plot a list of strings that are all parsable as floats or dates. If these strings should be plotted as numbers, cast to the appropriate data type before plotting.\n",
      "INFO:matplotlib.category:Using categorical units to plot a list of strings that are all parsable as floats or dates. If these strings should be plotted as numbers, cast to the appropriate data type before plotting.\n"
     ]
    },
    {
     "name": "stdout",
     "output_type": "stream",
     "text": [
      "[INFO] Saved plot: plots/rating_distribution.png\n"
     ]
    },
    {
     "data": {
      "image/png": "[encoded data removed]",
      "text/plain": [
       "<Figure size 640x480 with 1 Axes>"
      ]
     },
     "metadata": {},
     "output_type": "display_data"
    }
   ],
   "source": [
    "# Plot rating distribution\n",
    "viz.plot_rating_distribution()"
   ]
  },
  {
   "cell_type": "code",
   "execution_count": 42,
   "id": "344ee32c",
   "metadata": {},
   "outputs": [
    {
     "name": "stderr",
     "output_type": "stream",
     "text": [
      "INFO:matplotlib.category:Using categorical units to plot a list of strings that are all parsable as floats or dates. If these strings should be plotted as numbers, cast to the appropriate data type before plotting.\n",
      "INFO:matplotlib.category:Using categorical units to plot a list of strings that are all parsable as floats or dates. If these strings should be plotted as numbers, cast to the appropriate data type before plotting.\n"
     ]
    },
    {
     "name": "stdout",
     "output_type": "stream",
     "text": [
      "[INFO] Saved plot: plots/thumbs_up_vs_rating.png\n"
     ]
    },
    {
     "data": {
      "image/png": "[encoded data removed]",
      "text/plain": [
       "<Figure size 640x480 with 1 Axes>"
      ]
     },
     "metadata": {},
     "output_type": "display_data"
    }
   ],
   "source": [
    "#Plot thumbs up against rating\n",
    "viz.plot_thumbs_up_vs_rating()"
   ]
  },
  {
   "cell_type": "code",
   "execution_count": 43,
   "id": "02d0af65",
   "metadata": {},
   "outputs": [
    {
     "name": "stderr",
     "output_type": "stream",
     "text": [
      "INFO:matplotlib.category:Using categorical units to plot a list of strings that are all parsable as floats or dates. If these strings should be plotted as numbers, cast to the appropriate data type before plotting.\n",
      "INFO:matplotlib.category:Using categorical units to plot a list of strings that are all parsable as floats or dates. If these strings should be plotted as numbers, cast to the appropriate data type before plotting.\n"
     ]
    },
    {
     "name": "stdout",
     "output_type": "stream",
     "text": [
      "[INFO] Saved plot: plots/sentiment_vs_rating.png\n"
     ]
    },
    {
     "data": {
      "image/png": "[encoded data removed]",
      "text/plain": [
       "<Figure size 640x480 with 1 Axes>"
      ]
     },
     "metadata": {},
     "output_type": "display_data"
    }
   ],
   "source": [
    "# Plot Sentiment against Ratin\n",
    "viz.plot_sentiment_vs_rating()"
   ]
  },
  {
   "cell_type": "code",
   "execution_count": 44,
   "id": "f10a8046",
   "metadata": {},
   "outputs": [
    {
     "data": {
      "text/html": [
       "<div>\n",
       "<style scoped>\n",
       "    .dataframe tbody tr th:only-of-type {\n",
       "        vertical-align: middle;\n",
       "    }\n",
       "\n",
       "    .dataframe tbody tr th {\n",
       "        vertical-align: top;\n",
       "    }\n",
       "\n",
       "    .dataframe thead th {\n",
       "        text-align: right;\n",
       "    }\n",
       "</style>\n",
       "<table border=\"1\" class=\"dataframe\">\n",
       "  <thead>\n",
       "    <tr style=\"text-align: right;\">\n",
       "      <th></th>\n",
       "      <th>review</th>\n",
       "      <th>rating</th>\n",
       "      <th>date</th>\n",
       "      <th>userName</th>\n",
       "      <th>thumbsUpCount</th>\n",
       "      <th>bank</th>\n",
       "    </tr>\n",
       "  </thead>\n",
       "  <tbody>\n",
       "    <tr>\n",
       "      <th>399</th>\n",
       "      <td>the Best</td>\n",
       "      <td>1</td>\n",
       "      <td>2025-04-26 11:51:19</td>\n",
       "      <td>Gazany Hhh</td>\n",
       "      <td>0</td>\n",
       "      <td>CBE</td>\n",
       "    </tr>\n",
       "    <tr>\n",
       "      <th>14</th>\n",
       "      <td>Better Service</td>\n",
       "      <td>5</td>\n",
       "      <td>2025-05-31 07:28:05</td>\n",
       "      <td>Mule Doni</td>\n",
       "      <td>0</td>\n",
       "      <td>CBE</td>\n",
       "    </tr>\n",
       "    <tr>\n",
       "      <th>130</th>\n",
       "      <td>This app don't have self activation only you h...</td>\n",
       "      <td>1</td>\n",
       "      <td>2025-05-10 07:15:08</td>\n",
       "      <td>Nuredin Muhammed</td>\n",
       "      <td>1</td>\n",
       "      <td>CBE</td>\n",
       "    </tr>\n",
       "    <tr>\n",
       "      <th>11</th>\n",
       "      <td>this app has developed in a very good ways but...</td>\n",
       "      <td>5</td>\n",
       "      <td>2025-05-31 21:21:18</td>\n",
       "      <td>Mac Meshesha</td>\n",
       "      <td>26</td>\n",
       "      <td>CBE</td>\n",
       "    </tr>\n",
       "    <tr>\n",
       "      <th>188</th>\n",
       "      <td>the best</td>\n",
       "      <td>5</td>\n",
       "      <td>2025-04-28 20:52:10</td>\n",
       "      <td>Harun Taha</td>\n",
       "      <td>0</td>\n",
       "      <td>CBE</td>\n",
       "    </tr>\n",
       "    <tr>\n",
       "      <th>128</th>\n",
       "      <td>Funds transferred from the same bank do not re...</td>\n",
       "      <td>3</td>\n",
       "      <td>2025-05-11 11:04:05</td>\n",
       "      <td>Michael M</td>\n",
       "      <td>1</td>\n",
       "      <td>CBE</td>\n",
       "    </tr>\n",
       "    <tr>\n",
       "      <th>411</th>\n",
       "      <td>this app has developed in a very good ways but...</td>\n",
       "      <td>5</td>\n",
       "      <td>2025-05-31 21:21:18</td>\n",
       "      <td>Mac Meshesha</td>\n",
       "      <td>25</td>\n",
       "      <td>CBE</td>\n",
       "    </tr>\n",
       "    <tr>\n",
       "      <th>22</th>\n",
       "      <td>i like everything of this app</td>\n",
       "      <td>5</td>\n",
       "      <td>2025-05-27 21:34:01</td>\n",
       "      <td>Melese Mekonnen Taf</td>\n",
       "      <td>0</td>\n",
       "      <td>CBE</td>\n",
       "    </tr>\n",
       "    <tr>\n",
       "      <th>5</th>\n",
       "      <td>Nice Bank</td>\n",
       "      <td>5</td>\n",
       "      <td>2025-06-03 08:42:36</td>\n",
       "      <td>alem haylay</td>\n",
       "      <td>0</td>\n",
       "      <td>CBE</td>\n",
       "    </tr>\n",
       "    <tr>\n",
       "      <th>83</th>\n",
       "      <td>Best app</td>\n",
       "      <td>5</td>\n",
       "      <td>2025-05-21 19:19:48</td>\n",
       "      <td>Lali Teshome</td>\n",
       "      <td>0</td>\n",
       "      <td>CBE</td>\n",
       "    </tr>\n",
       "    <tr>\n",
       "      <th>32</th>\n",
       "      <td>thankyou every one</td>\n",
       "      <td>5</td>\n",
       "      <td>2025-05-25 14:10:07</td>\n",
       "      <td>andamlak bada</td>\n",
       "      <td>0</td>\n",
       "      <td>CBE</td>\n",
       "    </tr>\n",
       "    <tr>\n",
       "      <th>51</th>\n",
       "      <td>In like it</td>\n",
       "      <td>4</td>\n",
       "      <td>2025-05-23 20:14:08</td>\n",
       "      <td>Kira G (K)</td>\n",
       "      <td>0</td>\n",
       "      <td>CBE</td>\n",
       "    </tr>\n",
       "    <tr>\n",
       "      <th>175</th>\n",
       "      <td>Best the best fast</td>\n",
       "      <td>5</td>\n",
       "      <td>2025-05-02 17:41:29</td>\n",
       "      <td>Abdulkarim Abdala</td>\n",
       "      <td>0</td>\n",
       "      <td>CBE</td>\n",
       "    </tr>\n",
       "    <tr>\n",
       "      <th>73</th>\n",
       "      <td>I hate this app annoyed</td>\n",
       "      <td>1</td>\n",
       "      <td>2025-05-22 12:27:49</td>\n",
       "      <td>Samuel Girma</td>\n",
       "      <td>0</td>\n",
       "      <td>CBE</td>\n",
       "    </tr>\n",
       "    <tr>\n",
       "      <th>75</th>\n",
       "      <td>I like</td>\n",
       "      <td>5</td>\n",
       "      <td>2025-05-22 02:52:56</td>\n",
       "      <td>Mame Mame</td>\n",
       "      <td>0</td>\n",
       "      <td>CBE</td>\n",
       "    </tr>\n",
       "  </tbody>\n",
       "</table>\n",
       "</div>"
      ],
      "text/plain": [
       "                                                review  rating  \\\n",
       "399                                           the Best       1   \n",
       "14                                      Better Service       5   \n",
       "130  This app don't have self activation only you h...       1   \n",
       "11   this app has developed in a very good ways but...       5   \n",
       "188                                           the best       5   \n",
       "128  Funds transferred from the same bank do not re...       3   \n",
       "411  this app has developed in a very good ways but...       5   \n",
       "22                       i like everything of this app       5   \n",
       "5                                            Nice Bank       5   \n",
       "83                                            Best app       5   \n",
       "32                                  thankyou every one       5   \n",
       "51                                          In like it       4   \n",
       "175                                 Best the best fast       5   \n",
       "73                             I hate this app annoyed       1   \n",
       "75                                              I like       5   \n",
       "\n",
       "                    date             userName  thumbsUpCount bank  \n",
       "399  2025-04-26 11:51:19           Gazany Hhh              0  CBE  \n",
       "14   2025-05-31 07:28:05            Mule Doni              0  CBE  \n",
       "130  2025-05-10 07:15:08     Nuredin Muhammed              1  CBE  \n",
       "11   2025-05-31 21:21:18         Mac Meshesha             26  CBE  \n",
       "188  2025-04-28 20:52:10           Harun Taha              0  CBE  \n",
       "128  2025-05-11 11:04:05            Michael M              1  CBE  \n",
       "411  2025-05-31 21:21:18         Mac Meshesha             25  CBE  \n",
       "22   2025-05-27 21:34:01  Melese Mekonnen Taf              0  CBE  \n",
       "5    2025-06-03 08:42:36          alem haylay              0  CBE  \n",
       "83   2025-05-21 19:19:48         Lali Teshome              0  CBE  \n",
       "32   2025-05-25 14:10:07        andamlak bada              0  CBE  \n",
       "51   2025-05-23 20:14:08           Kira G (K)              0  CBE  \n",
       "175  2025-05-02 17:41:29    Abdulkarim Abdala              0  CBE  \n",
       "73   2025-05-22 12:27:49         Samuel Girma              0  CBE  \n",
       "75   2025-05-22 02:52:56            Mame Mame              0  CBE  "
      ]
     },
     "execution_count": 44,
     "metadata": {},
     "output_type": "execute_result"
    }
   ],
   "source": [
    "df.sample(15)"
   ]
  }
 ],
 "metadata": {
  "kernelspec": {
   "display_name": "venv",
   "language": "python",
   "name": "python3"
  },
  "language_info": {
   "codemirror_mode": {
    "name": "ipython",
    "version": 3
   },
   "file_extension": ".py",
   "mimetype": "text/x-python",
   "name": "python",
   "nbconvert_exporter": "python",
   "pygments_lexer": "ipython3",
   "version": "3.10.12"
  }
 },
 "nbformat": 4,
 "nbformat_minor": 5
}
