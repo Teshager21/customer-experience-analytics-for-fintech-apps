{
 "cells": [
  {
   "cell_type": "markdown",
   "id": "eaeaf81f",
   "metadata": {},
   "source": [
    "# BANK APP REVIEWS - DASHEN"
   ]
  },
  {
   "cell_type": "code",
   "execution_count": 284,
   "id": "4aa6f112",
   "metadata": {},
   "outputs": [
    {
     "name": "stdout",
     "output_type": "stream",
     "text": [
      "The autoreload extension is already loaded. To reload it, use:\n",
      "  %reload_ext autoreload\n"
     ]
    }
   ],
   "source": [
    "#auto loading\n",
    "%load_ext autoreload\n",
    "%autoreload 2"
   ]
  },
  {
   "cell_type": "markdown",
   "id": "f092f420",
   "metadata": {},
   "source": [
    "## 🧱 1. Setup & Imports"
   ]
  },
  {
   "cell_type": "code",
   "execution_count": 285,
   "id": "c11eff5d",
   "metadata": {},
   "outputs": [],
   "source": [
    "import warnings\n",
    "import pandas as pd\n",
    "from data.data_quality_utils import DataQualityUtils\n",
    "from data.load_data import load_local_data\n",
    "from visualization.visualizer import ReviewVisualizer"
   ]
  },
  {
   "cell_type": "code",
   "execution_count": 286,
   "id": "4ba24590",
   "metadata": {},
   "outputs": [],
   "source": [
    "warnings.filterwarnings(\"ignore\")"
   ]
  },
  {
   "cell_type": "code",
   "execution_count": 287,
   "id": "cdf6a238",
   "metadata": {},
   "outputs": [],
   "source": [
    "# variable\n",
    "BANK=\"Dashen\""
   ]
  },
  {
   "cell_type": "code",
   "execution_count": 288,
   "id": "560fbaa0",
   "metadata": {},
   "outputs": [],
   "source": [
    "#paths\n",
    "RAW_DATA_PATH='../../data/raw/'+BANK+'_raw_reviews.csv'\n",
    "CLEANED_DATA_PATH='../../data/interim/'+BANK+'_cleaned_reviews.csv'"
   ]
  },
  {
   "cell_type": "markdown",
   "id": "339d89b3",
   "metadata": {},
   "source": [
    "## 📦 2. Data Loading & Overview  <a id= '2-data-loading--overview'></a>"
   ]
  },
  {
   "cell_type": "code",
   "execution_count": 289,
   "id": "0764cf5c",
   "metadata": {},
   "outputs": [
    {
     "name": "stderr",
     "output_type": "stream",
     "text": [
      "INFO:data.load_data:Loading data from: /home/teshager/Documents/10Academy/repositories/projects/customer-experience-analytics-for-fintech-apps/data/raw/Dashen_raw_reviews.csv (type=csv)\n",
      "INFO:data.load_data:Data loaded successfully. Shape: (449, 10)\n"
     ]
    },
    {
     "data": {
      "text/html": [
       "<div>\n",
       "<style scoped>\n",
       "    .dataframe tbody tr th:only-of-type {\n",
       "        vertical-align: middle;\n",
       "    }\n",
       "\n",
       "    .dataframe tbody tr th {\n",
       "        vertical-align: top;\n",
       "    }\n",
       "\n",
       "    .dataframe thead th {\n",
       "        text-align: right;\n",
       "    }\n",
       "</style>\n",
       "<table border=\"1\" class=\"dataframe\">\n",
       "  <thead>\n",
       "    <tr style=\"text-align: right;\">\n",
       "      <th></th>\n",
       "      <th>reviewId</th>\n",
       "      <th>userName</th>\n",
       "      <th>userImage</th>\n",
       "      <th>content</th>\n",
       "      <th>score</th>\n",
       "      <th>thumbsUpCount</th>\n",
       "      <th>reviewCreatedVersion</th>\n",
       "      <th>at</th>\n",
       "      <th>replyContent</th>\n",
       "      <th>repliedAt</th>\n",
       "    </tr>\n",
       "  </thead>\n",
       "  <tbody>\n",
       "    <tr>\n",
       "      <th>0</th>\n",
       "      <td>6ece1f5e-55f2-404d-b980-1cb45823180f</td>\n",
       "      <td>Masersha</td>\n",
       "      <td>https://play-lh.googleusercontent.com/a/ACg8oc...</td>\n",
       "      <td>መቸሸጠ</td>\n",
       "      <td>5</td>\n",
       "      <td>0</td>\n",
       "      <td>1.0.16</td>\n",
       "      <td>2025-06-03 19:40:31</td>\n",
       "      <td>NaN</td>\n",
       "      <td>NaN</td>\n",
       "    </tr>\n",
       "    <tr>\n",
       "      <th>1</th>\n",
       "      <td>765ff69f-5274-45c5-985b-81b8d01e1874</td>\n",
       "      <td>Koki Mulugeta</td>\n",
       "      <td>https://play-lh.googleusercontent.com/a/ACg8oc...</td>\n",
       "      <td>wow</td>\n",
       "      <td>5</td>\n",
       "      <td>0</td>\n",
       "      <td>NaN</td>\n",
       "      <td>2025-06-03 17:30:11</td>\n",
       "      <td>NaN</td>\n",
       "      <td>NaN</td>\n",
       "    </tr>\n",
       "    <tr>\n",
       "      <th>2</th>\n",
       "      <td>7db66b6a-a044-43f1-a7ad-ea8a10815548</td>\n",
       "      <td>Badhasa Dassaalany</td>\n",
       "      <td>https://play-lh.googleusercontent.com/a/ACg8oc...</td>\n",
       "      <td>gadaa</td>\n",
       "      <td>5</td>\n",
       "      <td>0</td>\n",
       "      <td>1.0.16</td>\n",
       "      <td>2025-06-01 17:10:53</td>\n",
       "      <td>NaN</td>\n",
       "      <td>NaN</td>\n",
       "    </tr>\n",
       "    <tr>\n",
       "      <th>3</th>\n",
       "      <td>caf4a80c-85db-4b49-ab9c-a0b55e152317</td>\n",
       "      <td>Nebiyu Getachew Mamo</td>\n",
       "      <td>https://play-lh.googleusercontent.com/a-/ALV-U...</td>\n",
       "      <td>Massive upgrade from the Amole app.</td>\n",
       "      <td>5</td>\n",
       "      <td>0</td>\n",
       "      <td>1.0.16</td>\n",
       "      <td>2025-05-31 23:04:04</td>\n",
       "      <td>NaN</td>\n",
       "      <td>NaN</td>\n",
       "    </tr>\n",
       "    <tr>\n",
       "      <th>4</th>\n",
       "      <td>2c5df026-16eb-4d6b-a044-acf4103d1c36</td>\n",
       "      <td>Mudin said</td>\n",
       "      <td>https://play-lh.googleusercontent.com/a-/ALV-U...</td>\n",
       "      <td>good</td>\n",
       "      <td>4</td>\n",
       "      <td>0</td>\n",
       "      <td>1.0.16</td>\n",
       "      <td>2025-05-31 22:39:35</td>\n",
       "      <td>NaN</td>\n",
       "      <td>NaN</td>\n",
       "    </tr>\n",
       "  </tbody>\n",
       "</table>\n",
       "</div>"
      ],
      "text/plain": [
       "                               reviewId              userName  \\\n",
       "0  6ece1f5e-55f2-404d-b980-1cb45823180f              Masersha   \n",
       "1  765ff69f-5274-45c5-985b-81b8d01e1874         Koki Mulugeta   \n",
       "2  7db66b6a-a044-43f1-a7ad-ea8a10815548    Badhasa Dassaalany   \n",
       "3  caf4a80c-85db-4b49-ab9c-a0b55e152317  Nebiyu Getachew Mamo   \n",
       "4  2c5df026-16eb-4d6b-a044-acf4103d1c36            Mudin said   \n",
       "\n",
       "                                           userImage  \\\n",
       "0  https://play-lh.googleusercontent.com/a/ACg8oc...   \n",
       "1  https://play-lh.googleusercontent.com/a/ACg8oc...   \n",
       "2  https://play-lh.googleusercontent.com/a/ACg8oc...   \n",
       "3  https://play-lh.googleusercontent.com/a-/ALV-U...   \n",
       "4  https://play-lh.googleusercontent.com/a-/ALV-U...   \n",
       "\n",
       "                               content  score  thumbsUpCount  \\\n",
       "0                                 መቸሸጠ      5              0   \n",
       "1                                  wow      5              0   \n",
       "2                                gadaa      5              0   \n",
       "3  Massive upgrade from the Amole app.      5              0   \n",
       "4                                 good      4              0   \n",
       "\n",
       "  reviewCreatedVersion                   at  replyContent  repliedAt  \n",
       "0               1.0.16  2025-06-03 19:40:31           NaN        NaN  \n",
       "1                  NaN  2025-06-03 17:30:11           NaN        NaN  \n",
       "2               1.0.16  2025-06-01 17:10:53           NaN        NaN  \n",
       "3               1.0.16  2025-05-31 23:04:04           NaN        NaN  \n",
       "4               1.0.16  2025-05-31 22:39:35           NaN        NaN  "
      ]
     },
     "execution_count": 289,
     "metadata": {},
     "output_type": "execute_result"
    }
   ],
   "source": [
    "# Load the stock news sentiment data\n",
    "df = load_local_data(RAW_DATA_PATH,)\n",
    "df.head()"
   ]
  },
  {
   "cell_type": "markdown",
   "id": "78a5a158",
   "metadata": {},
   "source": [
    "### Dataset Overview"
   ]
  },
  {
   "cell_type": "code",
   "execution_count": 290,
   "id": "89101fbd",
   "metadata": {},
   "outputs": [
    {
     "data": {
      "text/html": [
       "<div>\n",
       "<style scoped>\n",
       "    .dataframe tbody tr th:only-of-type {\n",
       "        vertical-align: middle;\n",
       "    }\n",
       "\n",
       "    .dataframe tbody tr th {\n",
       "        vertical-align: top;\n",
       "    }\n",
       "\n",
       "    .dataframe thead th {\n",
       "        text-align: right;\n",
       "    }\n",
       "</style>\n",
       "<table border=\"1\" class=\"dataframe\">\n",
       "  <thead>\n",
       "    <tr style=\"text-align: right;\">\n",
       "      <th></th>\n",
       "      <th>reviewId</th>\n",
       "      <th>userName</th>\n",
       "      <th>userImage</th>\n",
       "      <th>content</th>\n",
       "      <th>score</th>\n",
       "      <th>thumbsUpCount</th>\n",
       "      <th>reviewCreatedVersion</th>\n",
       "      <th>at</th>\n",
       "      <th>replyContent</th>\n",
       "      <th>repliedAt</th>\n",
       "    </tr>\n",
       "  </thead>\n",
       "  <tbody>\n",
       "    <tr>\n",
       "      <th>365</th>\n",
       "      <td>faee3a15-6fa8-46e8-9196-55a9a99e7a7e</td>\n",
       "      <td>Habtamu Kebede</td>\n",
       "      <td>https://play-lh.googleusercontent.com/a/ACg8oc...</td>\n",
       "      <td>All good we need more</td>\n",
       "      <td>3</td>\n",
       "      <td>1</td>\n",
       "      <td>1.0.6</td>\n",
       "      <td>2025-01-31 08:58:16</td>\n",
       "      <td>NaN</td>\n",
       "      <td>NaN</td>\n",
       "    </tr>\n",
       "    <tr>\n",
       "      <th>175</th>\n",
       "      <td>fdcc34cc-699d-46ba-bcde-69f82e340aa4</td>\n",
       "      <td>Tensae Mulugeta</td>\n",
       "      <td>https://play-lh.googleusercontent.com/a-/ALV-U...</td>\n",
       "      <td>easy &amp;,simple to use</td>\n",
       "      <td>5</td>\n",
       "      <td>2</td>\n",
       "      <td>1.0.15</td>\n",
       "      <td>2025-04-21 14:06:30</td>\n",
       "      <td>NaN</td>\n",
       "      <td>NaN</td>\n",
       "    </tr>\n",
       "    <tr>\n",
       "      <th>95</th>\n",
       "      <td>4041a84a-1399-4b47-86dd-a7f048978f43</td>\n",
       "      <td>firaol fekade</td>\n",
       "      <td>https://play-lh.googleusercontent.com/a-/ALV-U...</td>\n",
       "      <td>execellent</td>\n",
       "      <td>5</td>\n",
       "      <td>1</td>\n",
       "      <td>1.0.14</td>\n",
       "      <td>2025-04-24 09:23:20</td>\n",
       "      <td>NaN</td>\n",
       "      <td>NaN</td>\n",
       "    </tr>\n",
       "    <tr>\n",
       "      <th>287</th>\n",
       "      <td>d91ffd3d-5e49-4bee-9cea-553bbc87a371</td>\n",
       "      <td>Chef eshetu abera</td>\n",
       "      <td>https://play-lh.googleusercontent.com/a-/ALV-U...</td>\n",
       "      <td>በጣም ቅልል ያለ አፕ በርቱልን ለአጠቃቀም ምቹ</td>\n",
       "      <td>5</td>\n",
       "      <td>2</td>\n",
       "      <td>1.0.14</td>\n",
       "      <td>2025-03-22 12:23:39</td>\n",
       "      <td>NaN</td>\n",
       "      <td>NaN</td>\n",
       "    </tr>\n",
       "    <tr>\n",
       "      <th>229</th>\n",
       "      <td>50117391-aa47-4c25-b9fa-bda3a861d922</td>\n",
       "      <td>Zerihun Belay</td>\n",
       "      <td>https://play-lh.googleusercontent.com/a/ACg8oc...</td>\n",
       "      <td>I love it. one of the best mobile banking app ...</td>\n",
       "      <td>5</td>\n",
       "      <td>3</td>\n",
       "      <td>1.0.15</td>\n",
       "      <td>2025-04-21 11:16:54</td>\n",
       "      <td>NaN</td>\n",
       "      <td>NaN</td>\n",
       "    </tr>\n",
       "    <tr>\n",
       "      <th>424</th>\n",
       "      <td>f86b4755-e62d-4f13-86f5-adf5bdf4105a</td>\n",
       "      <td>Tsegaye Kelbesa</td>\n",
       "      <td>https://play-lh.googleusercontent.com/a/ACg8oc...</td>\n",
       "      <td>Always one step a head!</td>\n",
       "      <td>5</td>\n",
       "      <td>4</td>\n",
       "      <td>1.0.1</td>\n",
       "      <td>2025-01-15 10:26:27</td>\n",
       "      <td>NaN</td>\n",
       "      <td>NaN</td>\n",
       "    </tr>\n",
       "    <tr>\n",
       "      <th>399</th>\n",
       "      <td>4082204a-22e9-4568-93dc-2e4f572a0a35</td>\n",
       "      <td>Meba Abiye</td>\n",
       "      <td>https://play-lh.googleusercontent.com/a/ACg8oc...</td>\n",
       "      <td>Pro max</td>\n",
       "      <td>5</td>\n",
       "      <td>7</td>\n",
       "      <td>NaN</td>\n",
       "      <td>2025-01-17 08:04:15</td>\n",
       "      <td>NaN</td>\n",
       "      <td>NaN</td>\n",
       "    </tr>\n",
       "    <tr>\n",
       "      <th>163</th>\n",
       "      <td>867ceac0-2b05-4261-86c0-093b58ea0553</td>\n",
       "      <td>Eden Kidane</td>\n",
       "      <td>https://play-lh.googleusercontent.com/a-/ALV-U...</td>\n",
       "      <td>It keep my time to pay my bills and I generate...</td>\n",
       "      <td>5</td>\n",
       "      <td>2</td>\n",
       "      <td>NaN</td>\n",
       "      <td>2025-04-21 14:50:46</td>\n",
       "      <td>NaN</td>\n",
       "      <td>NaN</td>\n",
       "    </tr>\n",
       "    <tr>\n",
       "      <th>269</th>\n",
       "      <td>0af7f66d-ac1b-46c8-866a-afbed0f5ed57</td>\n",
       "      <td>Yishak Abraham</td>\n",
       "      <td>https://play-lh.googleusercontent.com/a/ACg8oc...</td>\n",
       "      <td>why does it ask me for both pin and opt even t...</td>\n",
       "      <td>2</td>\n",
       "      <td>1</td>\n",
       "      <td>1.0.14</td>\n",
       "      <td>2025-04-02 15:02:36</td>\n",
       "      <td>NaN</td>\n",
       "      <td>NaN</td>\n",
       "    </tr>\n",
       "    <tr>\n",
       "      <th>335</th>\n",
       "      <td>62a49d95-3dee-4d62-9b5a-cceff329af48</td>\n",
       "      <td>Hiruy</td>\n",
       "      <td>https://play-lh.googleusercontent.com/a/ACg8oc...</td>\n",
       "      <td>Dashen Super app is secure, very easy to use a...</td>\n",
       "      <td>5</td>\n",
       "      <td>6</td>\n",
       "      <td>1.0.7</td>\n",
       "      <td>2025-02-14 11:46:51</td>\n",
       "      <td>NaN</td>\n",
       "      <td>NaN</td>\n",
       "    </tr>\n",
       "  </tbody>\n",
       "</table>\n",
       "</div>"
      ],
      "text/plain": [
       "                                 reviewId           userName  \\\n",
       "365  faee3a15-6fa8-46e8-9196-55a9a99e7a7e     Habtamu Kebede   \n",
       "175  fdcc34cc-699d-46ba-bcde-69f82e340aa4    Tensae Mulugeta   \n",
       "95   4041a84a-1399-4b47-86dd-a7f048978f43      firaol fekade   \n",
       "287  d91ffd3d-5e49-4bee-9cea-553bbc87a371  Chef eshetu abera   \n",
       "229  50117391-aa47-4c25-b9fa-bda3a861d922      Zerihun Belay   \n",
       "424  f86b4755-e62d-4f13-86f5-adf5bdf4105a    Tsegaye Kelbesa   \n",
       "399  4082204a-22e9-4568-93dc-2e4f572a0a35         Meba Abiye   \n",
       "163  867ceac0-2b05-4261-86c0-093b58ea0553        Eden Kidane   \n",
       "269  0af7f66d-ac1b-46c8-866a-afbed0f5ed57     Yishak Abraham   \n",
       "335  62a49d95-3dee-4d62-9b5a-cceff329af48              Hiruy   \n",
       "\n",
       "                                             userImage  \\\n",
       "365  https://play-lh.googleusercontent.com/a/ACg8oc...   \n",
       "175  https://play-lh.googleusercontent.com/a-/ALV-U...   \n",
       "95   https://play-lh.googleusercontent.com/a-/ALV-U...   \n",
       "287  https://play-lh.googleusercontent.com/a-/ALV-U...   \n",
       "229  https://play-lh.googleusercontent.com/a/ACg8oc...   \n",
       "424  https://play-lh.googleusercontent.com/a/ACg8oc...   \n",
       "399  https://play-lh.googleusercontent.com/a/ACg8oc...   \n",
       "163  https://play-lh.googleusercontent.com/a-/ALV-U...   \n",
       "269  https://play-lh.googleusercontent.com/a/ACg8oc...   \n",
       "335  https://play-lh.googleusercontent.com/a/ACg8oc...   \n",
       "\n",
       "                                               content  score  thumbsUpCount  \\\n",
       "365                              All good we need more      3              1   \n",
       "175                               easy &,simple to use      5              2   \n",
       "95                                          execellent      5              1   \n",
       "287                      በጣም ቅልል ያለ አፕ በርቱልን ለአጠቃቀም ምቹ      5              2   \n",
       "229  I love it. one of the best mobile banking app ...      5              3   \n",
       "424                            Always one step a head!      5              4   \n",
       "399                                            Pro max      5              7   \n",
       "163  It keep my time to pay my bills and I generate...      5              2   \n",
       "269  why does it ask me for both pin and opt even t...      2              1   \n",
       "335  Dashen Super app is secure, very easy to use a...      5              6   \n",
       "\n",
       "    reviewCreatedVersion                   at  replyContent  repliedAt  \n",
       "365                1.0.6  2025-01-31 08:58:16           NaN        NaN  \n",
       "175               1.0.15  2025-04-21 14:06:30           NaN        NaN  \n",
       "95                1.0.14  2025-04-24 09:23:20           NaN        NaN  \n",
       "287               1.0.14  2025-03-22 12:23:39           NaN        NaN  \n",
       "229               1.0.15  2025-04-21 11:16:54           NaN        NaN  \n",
       "424                1.0.1  2025-01-15 10:26:27           NaN        NaN  \n",
       "399                  NaN  2025-01-17 08:04:15           NaN        NaN  \n",
       "163                  NaN  2025-04-21 14:50:46           NaN        NaN  \n",
       "269               1.0.14  2025-04-02 15:02:36           NaN        NaN  \n",
       "335                1.0.7  2025-02-14 11:46:51           NaN        NaN  "
      ]
     },
     "execution_count": 290,
     "metadata": {},
     "output_type": "execute_result"
    }
   ],
   "source": [
    "#view sample data\n",
    "df.sample(10)"
   ]
  },
  {
   "cell_type": "code",
   "execution_count": 291,
   "id": "d66401bf",
   "metadata": {},
   "outputs": [
    {
     "data": {
      "text/html": [
       "<div>\n",
       "<style scoped>\n",
       "    .dataframe tbody tr th:only-of-type {\n",
       "        vertical-align: middle;\n",
       "    }\n",
       "\n",
       "    .dataframe tbody tr th {\n",
       "        vertical-align: top;\n",
       "    }\n",
       "\n",
       "    .dataframe thead th {\n",
       "        text-align: right;\n",
       "    }\n",
       "</style>\n",
       "<table border=\"1\" class=\"dataframe\">\n",
       "  <thead>\n",
       "    <tr style=\"text-align: right;\">\n",
       "      <th></th>\n",
       "      <th>reviewId</th>\n",
       "      <th>userName</th>\n",
       "      <th>userImage</th>\n",
       "      <th>content</th>\n",
       "      <th>score</th>\n",
       "      <th>thumbsUpCount</th>\n",
       "      <th>reviewCreatedVersion</th>\n",
       "      <th>at</th>\n",
       "      <th>replyContent</th>\n",
       "      <th>repliedAt</th>\n",
       "    </tr>\n",
       "  </thead>\n",
       "  <tbody>\n",
       "    <tr>\n",
       "      <th>444</th>\n",
       "      <td>650ad650-9821-4bda-a43f-88fec69ab680</td>\n",
       "      <td>Geresu Ku</td>\n",
       "      <td>https://play-lh.googleusercontent.com/a-/ALV-U...</td>\n",
       "      <td>Best</td>\n",
       "      <td>5</td>\n",
       "      <td>5</td>\n",
       "      <td>NaN</td>\n",
       "      <td>2025-01-13 21:11:58</td>\n",
       "      <td>NaN</td>\n",
       "      <td>NaN</td>\n",
       "    </tr>\n",
       "    <tr>\n",
       "      <th>445</th>\n",
       "      <td>cad7278a-410d-4eed-805d-d1a942009cc3</td>\n",
       "      <td>TSEGAW WORKIE</td>\n",
       "      <td>https://play-lh.googleusercontent.com/a/ACg8oc...</td>\n",
       "      <td>Waw Great and innovated,user friendly, always ...</td>\n",
       "      <td>5</td>\n",
       "      <td>27</td>\n",
       "      <td>1.0.1</td>\n",
       "      <td>2025-01-13 21:01:12</td>\n",
       "      <td>NaN</td>\n",
       "      <td>NaN</td>\n",
       "    </tr>\n",
       "    <tr>\n",
       "      <th>446</th>\n",
       "      <td>b92aaec0-99b9-49ac-ae55-03c04a52aec5</td>\n",
       "      <td>Kemal Keyire</td>\n",
       "      <td>https://play-lh.googleusercontent.com/a-/ALV-U...</td>\n",
       "      <td>It's Best waww 🙏</td>\n",
       "      <td>5</td>\n",
       "      <td>15</td>\n",
       "      <td>1.0.1</td>\n",
       "      <td>2025-01-13 09:37:19</td>\n",
       "      <td>NaN</td>\n",
       "      <td>NaN</td>\n",
       "    </tr>\n",
       "    <tr>\n",
       "      <th>447</th>\n",
       "      <td>7ed6c112-916c-44c2-b0ae-af2ff9d8c58f</td>\n",
       "      <td>Anwarf ahmed</td>\n",
       "      <td>https://play-lh.googleusercontent.com/a/ACg8oc...</td>\n",
       "      <td>Always one step ahead</td>\n",
       "      <td>5</td>\n",
       "      <td>22</td>\n",
       "      <td>1.0.1</td>\n",
       "      <td>2025-01-13 09:15:03</td>\n",
       "      <td>NaN</td>\n",
       "      <td>NaN</td>\n",
       "    </tr>\n",
       "    <tr>\n",
       "      <th>448</th>\n",
       "      <td>60f2b9c0-9fc9-49d9-97c8-7c1f9aca05fe</td>\n",
       "      <td>Abdulmejid Abdela</td>\n",
       "      <td>https://play-lh.googleusercontent.com/a-/ALV-U...</td>\n",
       "      <td>Like Me, I Hope It Works Better Than Before.</td>\n",
       "      <td>5</td>\n",
       "      <td>18</td>\n",
       "      <td>1.0.0</td>\n",
       "      <td>2025-01-11 11:36:49</td>\n",
       "      <td>NaN</td>\n",
       "      <td>NaN</td>\n",
       "    </tr>\n",
       "  </tbody>\n",
       "</table>\n",
       "</div>"
      ],
      "text/plain": [
       "                                 reviewId           userName  \\\n",
       "444  650ad650-9821-4bda-a43f-88fec69ab680          Geresu Ku   \n",
       "445  cad7278a-410d-4eed-805d-d1a942009cc3      TSEGAW WORKIE   \n",
       "446  b92aaec0-99b9-49ac-ae55-03c04a52aec5       Kemal Keyire   \n",
       "447  7ed6c112-916c-44c2-b0ae-af2ff9d8c58f       Anwarf ahmed   \n",
       "448  60f2b9c0-9fc9-49d9-97c8-7c1f9aca05fe  Abdulmejid Abdela   \n",
       "\n",
       "                                             userImage  \\\n",
       "444  https://play-lh.googleusercontent.com/a-/ALV-U...   \n",
       "445  https://play-lh.googleusercontent.com/a/ACg8oc...   \n",
       "446  https://play-lh.googleusercontent.com/a-/ALV-U...   \n",
       "447  https://play-lh.googleusercontent.com/a/ACg8oc...   \n",
       "448  https://play-lh.googleusercontent.com/a-/ALV-U...   \n",
       "\n",
       "                                               content  score  thumbsUpCount  \\\n",
       "444                                               Best      5              5   \n",
       "445  Waw Great and innovated,user friendly, always ...      5             27   \n",
       "446                                   It's Best waww 🙏      5             15   \n",
       "447                              Always one step ahead      5             22   \n",
       "448       Like Me, I Hope It Works Better Than Before.      5             18   \n",
       "\n",
       "    reviewCreatedVersion                   at  replyContent  repliedAt  \n",
       "444                  NaN  2025-01-13 21:11:58           NaN        NaN  \n",
       "445                1.0.1  2025-01-13 21:01:12           NaN        NaN  \n",
       "446                1.0.1  2025-01-13 09:37:19           NaN        NaN  \n",
       "447                1.0.1  2025-01-13 09:15:03           NaN        NaN  \n",
       "448                1.0.0  2025-01-11 11:36:49           NaN        NaN  "
      ]
     },
     "execution_count": 291,
     "metadata": {},
     "output_type": "execute_result"
    }
   ],
   "source": [
    "#see the last rows\n",
    "df.tail()"
   ]
  },
  {
   "cell_type": "code",
   "execution_count": 292,
   "id": "f1f497a6",
   "metadata": {},
   "outputs": [
    {
     "data": {
      "text/plain": [
       "(449, 10)"
      ]
     },
     "execution_count": 292,
     "metadata": {},
     "output_type": "execute_result"
    }
   ],
   "source": [
    "#shape of the dataset\n",
    "df.shape"
   ]
  },
  {
   "cell_type": "code",
   "execution_count": 293,
   "id": "77cea03a",
   "metadata": {},
   "outputs": [
    {
     "data": {
      "text/plain": [
       "Index(['reviewId', 'userName', 'userImage', 'content', 'score',\n",
       "       'thumbsUpCount', 'reviewCreatedVersion', 'at', 'replyContent',\n",
       "       'repliedAt'],\n",
       "      dtype='object')"
      ]
     },
     "execution_count": 293,
     "metadata": {},
     "output_type": "execute_result"
    }
   ],
   "source": [
    "df.columns"
   ]
  },
  {
   "cell_type": "markdown",
   "id": "9f9972b6",
   "metadata": {},
   "source": [
    "## 📐 3. Data Types & Basic Stats <a id='3-data-types--basic-stats'></a>"
   ]
  },
  {
   "cell_type": "code",
   "execution_count": 294,
   "id": "402fbaf8",
   "metadata": {},
   "outputs": [
    {
     "data": {
      "text/html": [
       "<div>\n",
       "<style scoped>\n",
       "    .dataframe tbody tr th:only-of-type {\n",
       "        vertical-align: middle;\n",
       "    }\n",
       "\n",
       "    .dataframe tbody tr th {\n",
       "        vertical-align: top;\n",
       "    }\n",
       "\n",
       "    .dataframe thead th {\n",
       "        text-align: right;\n",
       "    }\n",
       "</style>\n",
       "<table border=\"1\" class=\"dataframe\">\n",
       "  <thead>\n",
       "    <tr style=\"text-align: right;\">\n",
       "      <th></th>\n",
       "      <th>count</th>\n",
       "      <th>mean</th>\n",
       "      <th>std</th>\n",
       "      <th>min</th>\n",
       "      <th>25%</th>\n",
       "      <th>50%</th>\n",
       "      <th>75%</th>\n",
       "      <th>max</th>\n",
       "    </tr>\n",
       "  </thead>\n",
       "  <tbody>\n",
       "    <tr>\n",
       "      <th>score</th>\n",
       "      <td>449.0</td>\n",
       "      <td>4.478842</td>\n",
       "      <td>1.199003</td>\n",
       "      <td>1.0</td>\n",
       "      <td>5.0</td>\n",
       "      <td>5.0</td>\n",
       "      <td>5.0</td>\n",
       "      <td>5.0</td>\n",
       "    </tr>\n",
       "    <tr>\n",
       "      <th>thumbsUpCount</th>\n",
       "      <td>449.0</td>\n",
       "      <td>7.073497</td>\n",
       "      <td>23.428109</td>\n",
       "      <td>0.0</td>\n",
       "      <td>2.0</td>\n",
       "      <td>2.0</td>\n",
       "      <td>4.0</td>\n",
       "      <td>226.0</td>\n",
       "    </tr>\n",
       "    <tr>\n",
       "      <th>replyContent</th>\n",
       "      <td>0.0</td>\n",
       "      <td>NaN</td>\n",
       "      <td>NaN</td>\n",
       "      <td>NaN</td>\n",
       "      <td>NaN</td>\n",
       "      <td>NaN</td>\n",
       "      <td>NaN</td>\n",
       "      <td>NaN</td>\n",
       "    </tr>\n",
       "    <tr>\n",
       "      <th>repliedAt</th>\n",
       "      <td>0.0</td>\n",
       "      <td>NaN</td>\n",
       "      <td>NaN</td>\n",
       "      <td>NaN</td>\n",
       "      <td>NaN</td>\n",
       "      <td>NaN</td>\n",
       "      <td>NaN</td>\n",
       "      <td>NaN</td>\n",
       "    </tr>\n",
       "  </tbody>\n",
       "</table>\n",
       "</div>"
      ],
      "text/plain": [
       "               count      mean        std  min  25%  50%  75%    max\n",
       "score          449.0  4.478842   1.199003  1.0  5.0  5.0  5.0    5.0\n",
       "thumbsUpCount  449.0  7.073497  23.428109  0.0  2.0  2.0  4.0  226.0\n",
       "replyContent     0.0       NaN        NaN  NaN  NaN  NaN  NaN    NaN\n",
       "repliedAt        0.0       NaN        NaN  NaN  NaN  NaN  NaN    NaN"
      ]
     },
     "execution_count": 294,
     "metadata": {},
     "output_type": "execute_result"
    }
   ],
   "source": [
    "#Numerical Columns\n",
    "df.describe().T"
   ]
  },
  {
   "cell_type": "code",
   "execution_count": 295,
   "id": "b4594fc1",
   "metadata": {},
   "outputs": [
    {
     "data": {
      "text/html": [
       "<div>\n",
       "<style scoped>\n",
       "    .dataframe tbody tr th:only-of-type {\n",
       "        vertical-align: middle;\n",
       "    }\n",
       "\n",
       "    .dataframe tbody tr th {\n",
       "        vertical-align: top;\n",
       "    }\n",
       "\n",
       "    .dataframe thead th {\n",
       "        text-align: right;\n",
       "    }\n",
       "</style>\n",
       "<table border=\"1\" class=\"dataframe\">\n",
       "  <thead>\n",
       "    <tr style=\"text-align: right;\">\n",
       "      <th></th>\n",
       "      <th>count</th>\n",
       "      <th>unique</th>\n",
       "      <th>top</th>\n",
       "      <th>freq</th>\n",
       "    </tr>\n",
       "  </thead>\n",
       "  <tbody>\n",
       "    <tr>\n",
       "      <th>reviewId</th>\n",
       "      <td>449</td>\n",
       "      <td>449</td>\n",
       "      <td>6ece1f5e-55f2-404d-b980-1cb45823180f</td>\n",
       "      <td>1</td>\n",
       "    </tr>\n",
       "    <tr>\n",
       "      <th>userName</th>\n",
       "      <td>449</td>\n",
       "      <td>449</td>\n",
       "      <td>Masersha</td>\n",
       "      <td>1</td>\n",
       "    </tr>\n",
       "    <tr>\n",
       "      <th>userImage</th>\n",
       "      <td>449</td>\n",
       "      <td>449</td>\n",
       "      <td>https://play-lh.googleusercontent.com/a/ACg8oc...</td>\n",
       "      <td>1</td>\n",
       "    </tr>\n",
       "    <tr>\n",
       "      <th>content</th>\n",
       "      <td>449</td>\n",
       "      <td>408</td>\n",
       "      <td>good</td>\n",
       "      <td>11</td>\n",
       "    </tr>\n",
       "    <tr>\n",
       "      <th>reviewCreatedVersion</th>\n",
       "      <td>358</td>\n",
       "      <td>11</td>\n",
       "      <td>1.0.14</td>\n",
       "      <td>100</td>\n",
       "    </tr>\n",
       "    <tr>\n",
       "      <th>at</th>\n",
       "      <td>449</td>\n",
       "      <td>449</td>\n",
       "      <td>2025-06-03 19:40:31</td>\n",
       "      <td>1</td>\n",
       "    </tr>\n",
       "  </tbody>\n",
       "</table>\n",
       "</div>"
      ],
      "text/plain": [
       "                     count unique  \\\n",
       "reviewId               449    449   \n",
       "userName               449    449   \n",
       "userImage              449    449   \n",
       "content                449    408   \n",
       "reviewCreatedVersion   358     11   \n",
       "at                     449    449   \n",
       "\n",
       "                                                                    top freq  \n",
       "reviewId                           6ece1f5e-55f2-404d-b980-1cb45823180f    1  \n",
       "userName                                                       Masersha    1  \n",
       "userImage             https://play-lh.googleusercontent.com/a/ACg8oc...    1  \n",
       "content                                                            good   11  \n",
       "reviewCreatedVersion                                             1.0.14  100  \n",
       "at                                                  2025-06-03 19:40:31    1  "
      ]
     },
     "execution_count": 295,
     "metadata": {},
     "output_type": "execute_result"
    }
   ],
   "source": [
    "#for columns of object type\n",
    "df.describe(include=['O']).T"
   ]
  },
  {
   "cell_type": "code",
   "execution_count": 296,
   "id": "79b071e8",
   "metadata": {},
   "outputs": [
    {
     "name": "stdout",
     "output_type": "stream",
     "text": [
      "<class 'pandas.core.frame.DataFrame'>\n",
      "RangeIndex: 449 entries, 0 to 448\n",
      "Data columns (total 10 columns):\n",
      " #   Column                Non-Null Count  Dtype  \n",
      "---  ------                --------------  -----  \n",
      " 0   reviewId              449 non-null    object \n",
      " 1   userName              449 non-null    object \n",
      " 2   userImage             449 non-null    object \n",
      " 3   content               449 non-null    object \n",
      " 4   score                 449 non-null    int64  \n",
      " 5   thumbsUpCount         449 non-null    int64  \n",
      " 6   reviewCreatedVersion  358 non-null    object \n",
      " 7   at                    449 non-null    object \n",
      " 8   replyContent          0 non-null      float64\n",
      " 9   repliedAt             0 non-null      float64\n",
      "dtypes: float64(2), int64(2), object(6)\n",
      "memory usage: 35.2+ KB\n"
     ]
    }
   ],
   "source": [
    "# data types of the columns\n",
    "df.info()"
   ]
  },
  {
   "cell_type": "code",
   "execution_count": 297,
   "id": "039465bd",
   "metadata": {},
   "outputs": [
    {
     "data": {
      "text/plain": [
       "reviewId                449\n",
       "userName                449\n",
       "userImage               449\n",
       "at                      449\n",
       "content                 408\n",
       "thumbsUpCount            37\n",
       "reviewCreatedVersion     11\n",
       "score                     5\n",
       "replyContent              0\n",
       "repliedAt                 0\n",
       "dtype: int64"
      ]
     },
     "execution_count": 297,
     "metadata": {},
     "output_type": "execute_result"
    }
   ],
   "source": [
    "#distinct values in each column\n",
    "df.nunique().sort_values(ascending=False)"
   ]
  },
  {
   "cell_type": "markdown",
   "id": "a996f6d5",
   "metadata": {},
   "source": [
    "## 🔍 4. Data Quality Analysis <a id='4-data-quality-analysis'></a>"
   ]
  },
  {
   "cell_type": "code",
   "execution_count": 298,
   "id": "b0295a78",
   "metadata": {},
   "outputs": [],
   "source": [
    "#instantiate the DataQualityUtils class\n",
    "dq=DataQualityUtils(df)"
   ]
  },
  {
   "cell_type": "code",
   "execution_count": 299,
   "id": "f61b87ea",
   "metadata": {},
   "outputs": [
    {
     "data": {
      "text/html": [
       "<div>\n",
       "<style scoped>\n",
       "    .dataframe tbody tr th:only-of-type {\n",
       "        vertical-align: middle;\n",
       "    }\n",
       "\n",
       "    .dataframe tbody tr th {\n",
       "        vertical-align: top;\n",
       "    }\n",
       "\n",
       "    .dataframe thead th {\n",
       "        text-align: right;\n",
       "    }\n",
       "</style>\n",
       "<table border=\"1\" class=\"dataframe\">\n",
       "  <thead>\n",
       "    <tr style=\"text-align: right;\">\n",
       "      <th></th>\n",
       "      <th>#missing_values</th>\n",
       "      <th>percentage</th>\n",
       "    </tr>\n",
       "  </thead>\n",
       "  <tbody>\n",
       "    <tr>\n",
       "      <th>replyContent</th>\n",
       "      <td>449</td>\n",
       "      <td>100.00%</td>\n",
       "    </tr>\n",
       "    <tr>\n",
       "      <th>repliedAt</th>\n",
       "      <td>449</td>\n",
       "      <td>100.00%</td>\n",
       "    </tr>\n",
       "    <tr>\n",
       "      <th>reviewCreatedVersion</th>\n",
       "      <td>91</td>\n",
       "      <td>20.27%</td>\n",
       "    </tr>\n",
       "    <tr>\n",
       "      <th>reviewId</th>\n",
       "      <td>0</td>\n",
       "      <td>0.00%</td>\n",
       "    </tr>\n",
       "    <tr>\n",
       "      <th>userName</th>\n",
       "      <td>0</td>\n",
       "      <td>0.00%</td>\n",
       "    </tr>\n",
       "    <tr>\n",
       "      <th>userImage</th>\n",
       "      <td>0</td>\n",
       "      <td>0.00%</td>\n",
       "    </tr>\n",
       "    <tr>\n",
       "      <th>content</th>\n",
       "      <td>0</td>\n",
       "      <td>0.00%</td>\n",
       "    </tr>\n",
       "    <tr>\n",
       "      <th>score</th>\n",
       "      <td>0</td>\n",
       "      <td>0.00%</td>\n",
       "    </tr>\n",
       "    <tr>\n",
       "      <th>thumbsUpCount</th>\n",
       "      <td>0</td>\n",
       "      <td>0.00%</td>\n",
       "    </tr>\n",
       "    <tr>\n",
       "      <th>at</th>\n",
       "      <td>0</td>\n",
       "      <td>0.00%</td>\n",
       "    </tr>\n",
       "  </tbody>\n",
       "</table>\n",
       "</div>"
      ],
      "text/plain": [
       "                      #missing_values percentage\n",
       "replyContent                      449    100.00%\n",
       "repliedAt                         449    100.00%\n",
       "reviewCreatedVersion               91     20.27%\n",
       "reviewId                            0      0.00%\n",
       "userName                            0      0.00%\n",
       "userImage                           0      0.00%\n",
       "content                             0      0.00%\n",
       "score                               0      0.00%\n",
       "thumbsUpCount                       0      0.00%\n",
       "at                                  0      0.00%"
      ]
     },
     "execution_count": 299,
     "metadata": {},
     "output_type": "execute_result"
    }
   ],
   "source": [
    "#count of missing values per column\n",
    "dq.summary()"
   ]
  },
  {
   "cell_type": "markdown",
   "id": "b4ca61a8",
   "metadata": {},
   "source": [
    "### Missing Values"
   ]
  },
  {
   "cell_type": "code",
   "execution_count": 300,
   "id": "731377ae",
   "metadata": {},
   "outputs": [
    {
     "data": {
      "text/html": [
       "<div>\n",
       "<style scoped>\n",
       "    .dataframe tbody tr th:only-of-type {\n",
       "        vertical-align: middle;\n",
       "    }\n",
       "\n",
       "    .dataframe tbody tr th {\n",
       "        vertical-align: top;\n",
       "    }\n",
       "\n",
       "    .dataframe thead th {\n",
       "        text-align: right;\n",
       "    }\n",
       "</style>\n",
       "<table border=\"1\" class=\"dataframe\">\n",
       "  <thead>\n",
       "    <tr style=\"text-align: right;\">\n",
       "      <th></th>\n",
       "      <th>#missing_values</th>\n",
       "      <th>percentage</th>\n",
       "    </tr>\n",
       "  </thead>\n",
       "  <tbody>\n",
       "    <tr>\n",
       "      <th>replyContent</th>\n",
       "      <td>449</td>\n",
       "      <td>100.00%</td>\n",
       "    </tr>\n",
       "    <tr>\n",
       "      <th>repliedAt</th>\n",
       "      <td>449</td>\n",
       "      <td>100.00%</td>\n",
       "    </tr>\n",
       "    <tr>\n",
       "      <th>reviewCreatedVersion</th>\n",
       "      <td>91</td>\n",
       "      <td>20.27%</td>\n",
       "    </tr>\n",
       "  </tbody>\n",
       "</table>\n",
       "</div>"
      ],
      "text/plain": [
       "                      #missing_values percentage\n",
       "replyContent                      449    100.00%\n",
       "repliedAt                         449    100.00%\n",
       "reviewCreatedVersion               91     20.27%"
      ]
     },
     "execution_count": 300,
     "metadata": {},
     "output_type": "execute_result"
    }
   ],
   "source": [
    "#column with >5% nulls\n",
    "dq.columns_with_significant_missing_values(threshold=5)"
   ]
  },
  {
   "cell_type": "markdown",
   "id": "6ee86483",
   "metadata": {},
   "source": [
    "### Duplicates"
   ]
  },
  {
   "cell_type": "code",
   "execution_count": 301,
   "id": "e1021b8b",
   "metadata": {},
   "outputs": [
    {
     "data": {
      "text/plain": [
       "0"
      ]
     },
     "execution_count": 301,
     "metadata": {},
     "output_type": "execute_result"
    }
   ],
   "source": [
    "#count duplicates\n",
    "dq.count_duplicates()"
   ]
  },
  {
   "cell_type": "code",
   "execution_count": 302,
   "id": "d1690181",
   "metadata": {},
   "outputs": [
    {
     "name": "stdout",
     "output_type": "stream",
     "text": [
      "[INFO] Found 0 duplicated row(s).\n"
     ]
    },
    {
     "data": {
      "text/html": [
       "<div>\n",
       "<style scoped>\n",
       "    .dataframe tbody tr th:only-of-type {\n",
       "        vertical-align: middle;\n",
       "    }\n",
       "\n",
       "    .dataframe tbody tr th {\n",
       "        vertical-align: top;\n",
       "    }\n",
       "\n",
       "    .dataframe thead th {\n",
       "        text-align: right;\n",
       "    }\n",
       "</style>\n",
       "<table border=\"1\" class=\"dataframe\">\n",
       "  <thead>\n",
       "    <tr style=\"text-align: right;\">\n",
       "      <th></th>\n",
       "      <th>reviewId</th>\n",
       "      <th>userName</th>\n",
       "      <th>userImage</th>\n",
       "      <th>content</th>\n",
       "      <th>score</th>\n",
       "      <th>thumbsUpCount</th>\n",
       "      <th>reviewCreatedVersion</th>\n",
       "      <th>at</th>\n",
       "      <th>replyContent</th>\n",
       "      <th>repliedAt</th>\n",
       "    </tr>\n",
       "  </thead>\n",
       "  <tbody>\n",
       "  </tbody>\n",
       "</table>\n",
       "</div>"
      ],
      "text/plain": [
       "Empty DataFrame\n",
       "Columns: [reviewId, userName, userImage, content, score, thumbsUpCount, reviewCreatedVersion, at, replyContent, repliedAt]\n",
       "Index: []"
      ]
     },
     "execution_count": 302,
     "metadata": {},
     "output_type": "execute_result"
    }
   ],
   "source": [
    "#look at the duplicates\n",
    "dq.display_duplicates()"
   ]
  },
  {
   "cell_type": "markdown",
   "id": "cbff01de",
   "metadata": {},
   "source": [
    "### Invalid Values"
   ]
  },
  {
   "cell_type": "code",
   "execution_count": 303,
   "id": "d067cc0e",
   "metadata": {},
   "outputs": [
    {
     "data": {
      "text/plain": [
       "{}"
      ]
     },
     "execution_count": 303,
     "metadata": {},
     "output_type": "execute_result"
    }
   ],
   "source": [
    "dq.find_invalid_values()"
   ]
  },
  {
   "cell_type": "markdown",
   "id": "83468ef5",
   "metadata": {},
   "source": [
    "## 🧹 5. Data Cleaning  <a id='5-data-cleaning'></a>"
   ]
  },
  {
   "cell_type": "code",
   "execution_count": 304,
   "id": "494fc912",
   "metadata": {},
   "outputs": [],
   "source": [
    "#saving the original dataset for later use\n",
    "df_original=df.copy()"
   ]
  },
  {
   "cell_type": "code",
   "execution_count": 305,
   "id": "aea1fc12",
   "metadata": {},
   "outputs": [
    {
     "name": "stdout",
     "output_type": "stream",
     "text": [
      "[INFO] Dropped 0 duplicate row(s).\n"
     ]
    },
    {
     "data": {
      "text/html": [
       "<div>\n",
       "<style scoped>\n",
       "    .dataframe tbody tr th:only-of-type {\n",
       "        vertical-align: middle;\n",
       "    }\n",
       "\n",
       "    .dataframe tbody tr th {\n",
       "        vertical-align: top;\n",
       "    }\n",
       "\n",
       "    .dataframe thead th {\n",
       "        text-align: right;\n",
       "    }\n",
       "</style>\n",
       "<table border=\"1\" class=\"dataframe\">\n",
       "  <thead>\n",
       "    <tr style=\"text-align: right;\">\n",
       "      <th></th>\n",
       "      <th>reviewId</th>\n",
       "      <th>userName</th>\n",
       "      <th>userImage</th>\n",
       "      <th>content</th>\n",
       "      <th>score</th>\n",
       "      <th>thumbsUpCount</th>\n",
       "      <th>reviewCreatedVersion</th>\n",
       "      <th>at</th>\n",
       "      <th>replyContent</th>\n",
       "      <th>repliedAt</th>\n",
       "    </tr>\n",
       "  </thead>\n",
       "  <tbody>\n",
       "    <tr>\n",
       "      <th>394</th>\n",
       "      <td>55ef171b-bb1b-4c01-9341-6a5a4f13aee1</td>\n",
       "      <td>Bealem Yigrmachew</td>\n",
       "      <td>https://play-lh.googleusercontent.com/a/ACg8oc...</td>\n",
       "      <td>Wow</td>\n",
       "      <td>5</td>\n",
       "      <td>2</td>\n",
       "      <td>1.0.4</td>\n",
       "      <td>2025-01-17 22:14:07</td>\n",
       "      <td>NaN</td>\n",
       "      <td>NaN</td>\n",
       "    </tr>\n",
       "    <tr>\n",
       "      <th>233</th>\n",
       "      <td>1806822b-7539-4ec1-bb6e-52d6a9786ee0</td>\n",
       "      <td>MAM HAR</td>\n",
       "      <td>https://play-lh.googleusercontent.com/a/ACg8oc...</td>\n",
       "      <td>waw no idea the best app.</td>\n",
       "      <td>5</td>\n",
       "      <td>2</td>\n",
       "      <td>1.0.15</td>\n",
       "      <td>2025-04-19 20:43:26</td>\n",
       "      <td>NaN</td>\n",
       "      <td>NaN</td>\n",
       "    </tr>\n",
       "    <tr>\n",
       "      <th>375</th>\n",
       "      <td>567e36a0-fcd9-486a-88aa-11f24f5b1af0</td>\n",
       "      <td>Ruth G</td>\n",
       "      <td>https://play-lh.googleusercontent.com/a-/ALV-U...</td>\n",
       "      <td>The first 3 star review is me</td>\n",
       "      <td>3</td>\n",
       "      <td>19</td>\n",
       "      <td>NaN</td>\n",
       "      <td>2025-01-25 14:59:37</td>\n",
       "      <td>NaN</td>\n",
       "      <td>NaN</td>\n",
       "    </tr>\n",
       "    <tr>\n",
       "      <th>447</th>\n",
       "      <td>7ed6c112-916c-44c2-b0ae-af2ff9d8c58f</td>\n",
       "      <td>Anwarf ahmed</td>\n",
       "      <td>https://play-lh.googleusercontent.com/a/ACg8oc...</td>\n",
       "      <td>Always one step ahead</td>\n",
       "      <td>5</td>\n",
       "      <td>22</td>\n",
       "      <td>1.0.1</td>\n",
       "      <td>2025-01-13 09:15:03</td>\n",
       "      <td>NaN</td>\n",
       "      <td>NaN</td>\n",
       "    </tr>\n",
       "    <tr>\n",
       "      <th>411</th>\n",
       "      <td>e086d148-c7f9-4c2e-ac5f-187b86b5f2f5</td>\n",
       "      <td>tesfaye shibiru</td>\n",
       "      <td>https://play-lh.googleusercontent.com/a/ACg8oc...</td>\n",
       "      <td>Great!</td>\n",
       "      <td>5</td>\n",
       "      <td>3</td>\n",
       "      <td>1.0.4</td>\n",
       "      <td>2025-01-15 21:37:03</td>\n",
       "      <td>NaN</td>\n",
       "      <td>NaN</td>\n",
       "    </tr>\n",
       "  </tbody>\n",
       "</table>\n",
       "</div>"
      ],
      "text/plain": [
       "                                 reviewId           userName  \\\n",
       "394  55ef171b-bb1b-4c01-9341-6a5a4f13aee1  Bealem Yigrmachew   \n",
       "233  1806822b-7539-4ec1-bb6e-52d6a9786ee0            MAM HAR   \n",
       "375  567e36a0-fcd9-486a-88aa-11f24f5b1af0             Ruth G   \n",
       "447  7ed6c112-916c-44c2-b0ae-af2ff9d8c58f       Anwarf ahmed   \n",
       "411  e086d148-c7f9-4c2e-ac5f-187b86b5f2f5    tesfaye shibiru   \n",
       "\n",
       "                                             userImage  \\\n",
       "394  https://play-lh.googleusercontent.com/a/ACg8oc...   \n",
       "233  https://play-lh.googleusercontent.com/a/ACg8oc...   \n",
       "375  https://play-lh.googleusercontent.com/a-/ALV-U...   \n",
       "447  https://play-lh.googleusercontent.com/a/ACg8oc...   \n",
       "411  https://play-lh.googleusercontent.com/a/ACg8oc...   \n",
       "\n",
       "                           content  score  thumbsUpCount reviewCreatedVersion  \\\n",
       "394                            Wow      5              2                1.0.4   \n",
       "233      waw no idea the best app.      5              2               1.0.15   \n",
       "375  The first 3 star review is me      3             19                  NaN   \n",
       "447          Always one step ahead      5             22                1.0.1   \n",
       "411                         Great!      5              3                1.0.4   \n",
       "\n",
       "                      at  replyContent  repliedAt  \n",
       "394  2025-01-17 22:14:07           NaN        NaN  \n",
       "233  2025-04-19 20:43:26           NaN        NaN  \n",
       "375  2025-01-25 14:59:37           NaN        NaN  \n",
       "447  2025-01-13 09:15:03           NaN        NaN  \n",
       "411  2025-01-15 21:37:03           NaN        NaN  "
      ]
     },
     "execution_count": 305,
     "metadata": {},
     "output_type": "execute_result"
    }
   ],
   "source": [
    "#drop duplicated rows\n",
    "dq.drop_duplicates().sample(5)"
   ]
  },
  {
   "cell_type": "code",
   "execution_count": 306,
   "id": "3d257001",
   "metadata": {},
   "outputs": [
    {
     "name": "stdout",
     "output_type": "stream",
     "text": [
      "[INFO] Found 0 duplicated row(s).\n"
     ]
    },
    {
     "data": {
      "text/html": [
       "<div>\n",
       "<style scoped>\n",
       "    .dataframe tbody tr th:only-of-type {\n",
       "        vertical-align: middle;\n",
       "    }\n",
       "\n",
       "    .dataframe tbody tr th {\n",
       "        vertical-align: top;\n",
       "    }\n",
       "\n",
       "    .dataframe thead th {\n",
       "        text-align: right;\n",
       "    }\n",
       "</style>\n",
       "<table border=\"1\" class=\"dataframe\">\n",
       "  <thead>\n",
       "    <tr style=\"text-align: right;\">\n",
       "      <th></th>\n",
       "      <th>reviewId</th>\n",
       "      <th>userName</th>\n",
       "      <th>userImage</th>\n",
       "      <th>content</th>\n",
       "      <th>score</th>\n",
       "      <th>thumbsUpCount</th>\n",
       "      <th>reviewCreatedVersion</th>\n",
       "      <th>at</th>\n",
       "      <th>replyContent</th>\n",
       "      <th>repliedAt</th>\n",
       "    </tr>\n",
       "  </thead>\n",
       "  <tbody>\n",
       "  </tbody>\n",
       "</table>\n",
       "</div>"
      ],
      "text/plain": [
       "Empty DataFrame\n",
       "Columns: [reviewId, userName, userImage, content, score, thumbsUpCount, reviewCreatedVersion, at, replyContent, repliedAt]\n",
       "Index: []"
      ]
     },
     "execution_count": 306,
     "metadata": {},
     "output_type": "execute_result"
    }
   ],
   "source": [
    "# Check for duplicates again after dropping\n",
    "dq.display_duplicates()"
   ]
  },
  {
   "cell_type": "code",
   "execution_count": 307,
   "id": "62e4215c",
   "metadata": {},
   "outputs": [
    {
     "name": "stdout",
     "output_type": "stream",
     "text": [
      "[INFO] Dropped 0 row(s) with missing values in columns: ['content', 'score']\n"
     ]
    },
    {
     "data": {
      "text/html": [
       "<div>\n",
       "<style scoped>\n",
       "    .dataframe tbody tr th:only-of-type {\n",
       "        vertical-align: middle;\n",
       "    }\n",
       "\n",
       "    .dataframe tbody tr th {\n",
       "        vertical-align: top;\n",
       "    }\n",
       "\n",
       "    .dataframe thead th {\n",
       "        text-align: right;\n",
       "    }\n",
       "</style>\n",
       "<table border=\"1\" class=\"dataframe\">\n",
       "  <thead>\n",
       "    <tr style=\"text-align: right;\">\n",
       "      <th></th>\n",
       "      <th>reviewId</th>\n",
       "      <th>userName</th>\n",
       "      <th>userImage</th>\n",
       "      <th>content</th>\n",
       "      <th>score</th>\n",
       "      <th>thumbsUpCount</th>\n",
       "      <th>reviewCreatedVersion</th>\n",
       "      <th>at</th>\n",
       "      <th>replyContent</th>\n",
       "      <th>repliedAt</th>\n",
       "    </tr>\n",
       "  </thead>\n",
       "  <tbody>\n",
       "    <tr>\n",
       "      <th>70</th>\n",
       "      <td>0472c5b5-9fd3-49be-80f6-cca83ad918e5</td>\n",
       "      <td>Adilyassin dema</td>\n",
       "      <td>https://play-lh.googleusercontent.com/a-/ALV-U...</td>\n",
       "      <td>faster than this version</td>\n",
       "      <td>5</td>\n",
       "      <td>1</td>\n",
       "      <td>1.0.15</td>\n",
       "      <td>2025-05-01 04:20:47</td>\n",
       "      <td>NaN</td>\n",
       "      <td>NaN</td>\n",
       "    </tr>\n",
       "    <tr>\n",
       "      <th>295</th>\n",
       "      <td>043ba0ce-d496-4f1c-bcf7-ae23c275d5a6</td>\n",
       "      <td>wase berihun</td>\n",
       "      <td>https://play-lh.googleusercontent.com/a/ACg8oc...</td>\n",
       "      <td>best ever digital banking sector essay for und...</td>\n",
       "      <td>5</td>\n",
       "      <td>3</td>\n",
       "      <td>1.0.14</td>\n",
       "      <td>2025-03-19 13:46:08</td>\n",
       "      <td>NaN</td>\n",
       "      <td>NaN</td>\n",
       "    </tr>\n",
       "    <tr>\n",
       "      <th>340</th>\n",
       "      <td>c6d8d045-ccb6-427d-9e8b-3b8937445a28</td>\n",
       "      <td>Addisu Wolde</td>\n",
       "      <td>https://play-lh.googleusercontent.com/a/ACg8oc...</td>\n",
       "      <td>ፍጥነቱ በጣም አሪፍ ነው! እና ቀለል ያለ ነው ! ነገር ግን ተጨማሪ ወደ...</td>\n",
       "      <td>4</td>\n",
       "      <td>1</td>\n",
       "      <td>1.0.4</td>\n",
       "      <td>2025-02-12 22:04:57</td>\n",
       "      <td>NaN</td>\n",
       "      <td>NaN</td>\n",
       "    </tr>\n",
       "    <tr>\n",
       "      <th>158</th>\n",
       "      <td>d41af5b1-8acf-4f66-9d54-e14316bf489d</td>\n",
       "      <td>Tekletsadik A Tesfa</td>\n",
       "      <td>https://play-lh.googleusercontent.com/a-/ALV-U...</td>\n",
       "      <td>Dashen Bank Super App is fast, reliable, and s...</td>\n",
       "      <td>5</td>\n",
       "      <td>2</td>\n",
       "      <td>NaN</td>\n",
       "      <td>2025-04-21 15:16:09</td>\n",
       "      <td>NaN</td>\n",
       "      <td>NaN</td>\n",
       "    </tr>\n",
       "    <tr>\n",
       "      <th>371</th>\n",
       "      <td>9b86685f-1b04-4481-baa8-f84646df2433</td>\n",
       "      <td>befikadu abebe</td>\n",
       "      <td>https://play-lh.googleusercontent.com/a-/ALV-U...</td>\n",
       "      <td>Best</td>\n",
       "      <td>5</td>\n",
       "      <td>2</td>\n",
       "      <td>1.0.4</td>\n",
       "      <td>2025-01-29 11:16:30</td>\n",
       "      <td>NaN</td>\n",
       "      <td>NaN</td>\n",
       "    </tr>\n",
       "  </tbody>\n",
       "</table>\n",
       "</div>"
      ],
      "text/plain": [
       "                                 reviewId             userName  \\\n",
       "70   0472c5b5-9fd3-49be-80f6-cca83ad918e5      Adilyassin dema   \n",
       "295  043ba0ce-d496-4f1c-bcf7-ae23c275d5a6         wase berihun   \n",
       "340  c6d8d045-ccb6-427d-9e8b-3b8937445a28         Addisu Wolde   \n",
       "158  d41af5b1-8acf-4f66-9d54-e14316bf489d  Tekletsadik A Tesfa   \n",
       "371  9b86685f-1b04-4481-baa8-f84646df2433       befikadu abebe   \n",
       "\n",
       "                                             userImage  \\\n",
       "70   https://play-lh.googleusercontent.com/a-/ALV-U...   \n",
       "295  https://play-lh.googleusercontent.com/a/ACg8oc...   \n",
       "340  https://play-lh.googleusercontent.com/a/ACg8oc...   \n",
       "158  https://play-lh.googleusercontent.com/a-/ALV-U...   \n",
       "371  https://play-lh.googleusercontent.com/a-/ALV-U...   \n",
       "\n",
       "                                               content  score  thumbsUpCount  \\\n",
       "70                            faster than this version      5              1   \n",
       "295  best ever digital banking sector essay for und...      5              3   \n",
       "340  ፍጥነቱ በጣም አሪፍ ነው! እና ቀለል ያለ ነው ! ነገር ግን ተጨማሪ ወደ...      4              1   \n",
       "158  Dashen Bank Super App is fast, reliable, and s...      5              2   \n",
       "371                                               Best      5              2   \n",
       "\n",
       "    reviewCreatedVersion                   at  replyContent  repliedAt  \n",
       "70                1.0.15  2025-05-01 04:20:47           NaN        NaN  \n",
       "295               1.0.14  2025-03-19 13:46:08           NaN        NaN  \n",
       "340                1.0.4  2025-02-12 22:04:57           NaN        NaN  \n",
       "158                  NaN  2025-04-21 15:16:09           NaN        NaN  \n",
       "371                1.0.4  2025-01-29 11:16:30           NaN        NaN  "
      ]
     },
     "execution_count": 307,
     "metadata": {},
     "output_type": "execute_result"
    }
   ],
   "source": [
    "# Drop rows missing significant columns\n",
    "dq.drop_rows_with_missing_in_columns(['content','score']).sample(5)"
   ]
  },
  {
   "cell_type": "code",
   "execution_count": 308,
   "id": "5761e72c",
   "metadata": {},
   "outputs": [
    {
     "name": "stdout",
     "output_type": "stream",
     "text": [
      "[INFO] Dropping 2 empty column(s): ['replyContent', 'repliedAt']\n"
     ]
    }
   ],
   "source": [
    "#drop columns with no data\n",
    "df=dq.drop_empty_columns()"
   ]
  },
  {
   "cell_type": "code",
   "execution_count": 309,
   "id": "94d16f85",
   "metadata": {},
   "outputs": [
    {
     "name": "stdout",
     "output_type": "stream",
     "text": [
      "[INFO] Dropped columns: ['reviewId', 'userImage', 'reviewCreatedVersion']\n"
     ]
    }
   ],
   "source": [
    "#drop the reviewid column - it is not useful for analysis\n",
    "df = dq.drop_columns(['reviewId','userImage','reviewCreatedVersion'])"
   ]
  },
  {
   "cell_type": "code",
   "execution_count": 310,
   "id": "61565685",
   "metadata": {},
   "outputs": [
    {
     "data": {
      "text/plain": [
       "{}"
      ]
     },
     "execution_count": 310,
     "metadata": {},
     "output_type": "execute_result"
    }
   ],
   "source": [
    "dq.find_invalid_values()"
   ]
  },
  {
   "cell_type": "code",
   "execution_count": 311,
   "id": "84c68105",
   "metadata": {},
   "outputs": [
    {
     "name": "stdout",
     "output_type": "stream",
     "text": [
      "[INFO] Replaced emojis with text equivalents in 'content' column.\n"
     ]
    }
   ],
   "source": [
    "df=dq.replace_emojis_with_text(\"content\")"
   ]
  },
  {
   "cell_type": "code",
   "execution_count": 312,
   "id": "adca3dae",
   "metadata": {},
   "outputs": [
    {
     "name": "stderr",
     "output_type": "stream",
     "text": [
      "INFO:httpx:HTTP Request: GET https://translate.googleapis.com/translate_a/single?client=gtx&sl=pl&tl=en&hl=en&dt=at&dt=bd&dt=ex&dt=ld&dt=md&dt=qca&dt=rw&dt=rm&dt=ss&dt=t&ie=UTF-8&oe=UTF-8&otf=1&ssel=0&tsel=0&tk=xxxx&q=wow \"HTTP/2 200 OK\"\n",
      "INFO:httpx:HTTP Request: GET https://translate.googleapis.com/translate_a/single?client=gtx&sl=pl&tl=en&hl=en&dt=at&dt=bd&dt=ex&dt=ld&dt=md&dt=qca&dt=rw&dt=rm&dt=ss&dt=t&ie=UTF-8&oe=UTF-8&otf=1&ssel=0&tsel=0&tk=xxxx&q=wow \"HTTP/2 200 OK\"\n",
      "INFO:httpx:HTTP Request: GET https://translate.googleapis.com/translate_a/single?client=gtx&sl=pl&tl=en&hl=en&dt=at&dt=bd&dt=ex&dt=ld&dt=md&dt=qca&dt=rw&dt=rm&dt=ss&dt=t&ie=UTF-8&oe=UTF-8&otf=1&ssel=0&tsel=0&tk=xxxx&q=wowwwe+app \"HTTP/2 200 OK\"\n",
      "INFO:httpx:HTTP Request: GET https://translate.googleapis.com/translate_a/single?client=gtx&sl=so&tl=en&hl=en&dt=at&dt=bd&dt=ex&dt=ld&dt=md&dt=qca&dt=rw&dt=rm&dt=ss&dt=t&ie=UTF-8&oe=UTF-8&otf=1&ssel=0&tsel=0&tk=xxxx&q=gadaa \"HTTP/2 200 OK\"\n",
      "INFO:httpx:HTTP Request: GET https://translate.googleapis.com/translate_a/single?client=gtx&sl=so&tl=en&hl=en&dt=at&dt=bd&dt=ex&dt=ld&dt=md&dt=qca&dt=rw&dt=rm&dt=ss&dt=t&ie=UTF-8&oe=UTF-8&otf=1&ssel=0&tsel=0&tk=xxxx&q=good \"HTTP/2 200 OK\"\n",
      "INFO:httpx:HTTP Request: GET https://translate.googleapis.com/translate_a/single?client=gtx&sl=pl&tl=en&hl=en&dt=at&dt=bd&dt=ex&dt=ld&dt=md&dt=qca&dt=rw&dt=rm&dt=ss&dt=t&ie=UTF-8&oe=UTF-8&otf=1&ssel=0&tsel=0&tk=xxxx&q=Wow \"HTTP/2 200 OK\"\n",
      "INFO:httpx:HTTP Request: GET https://translate.googleapis.com/translate_a/single?client=gtx&sl=so&tl=en&hl=en&dt=at&dt=bd&dt=ex&dt=ld&dt=md&dt=qca&dt=rw&dt=rm&dt=ss&dt=t&ie=UTF-8&oe=UTF-8&otf=1&ssel=0&tsel=0&tk=xxxx&q=good \"HTTP/2 200 OK\"\n",
      "INFO:httpx:HTTP Request: GET https://translate.googleapis.com/translate_a/single?client=gtx&sl=so&tl=en&hl=en&dt=at&dt=bd&dt=ex&dt=ld&dt=md&dt=qca&dt=rw&dt=rm&dt=ss&dt=t&ie=UTF-8&oe=UTF-8&otf=1&ssel=0&tsel=0&tk=xxxx&q=good \"HTTP/2 200 OK\"\n",
      "INFO:httpx:HTTP Request: GET https://translate.googleapis.com/translate_a/single?client=gtx&sl=it&tl=en&hl=en&dt=at&dt=bd&dt=ex&dt=ld&dt=md&dt=qca&dt=rw&dt=rm&dt=ss&dt=t&ie=UTF-8&oe=UTF-8&otf=1&ssel=0&tsel=0&tk=xxxx&q=nice+application \"HTTP/2 200 OK\"\n",
      "INFO:httpx:HTTP Request: GET https://translate.googleapis.com/translate_a/single?client=gtx&sl=no&tl=en&hl=en&dt=at&dt=bd&dt=ex&dt=ld&dt=md&dt=qca&dt=rw&dt=rm&dt=ss&dt=t&ie=UTF-8&oe=UTF-8&otf=1&ssel=0&tsel=0&tk=xxxx&q=useless+app+ever+loading+take+long \"HTTP/2 200 OK\"\n",
      "INFO:httpx:HTTP Request: GET https://translate.googleapis.com/translate_a/single?client=gtx&sl=sw&tl=en&hl=en&dt=at&dt=bd&dt=ex&dt=ld&dt=md&dt=qca&dt=rw&dt=rm&dt=ss&dt=t&ie=UTF-8&oe=UTF-8&otf=1&ssel=0&tsel=0&tk=xxxx&q=Wawww \"HTTP/2 200 OK\"\n",
      "INFO:httpx:HTTP Request: GET https://translate.googleapis.com/translate_a/single?client=gtx&sl=pl&tl=en&hl=en&dt=at&dt=bd&dt=ex&dt=ld&dt=md&dt=qca&dt=rw&dt=rm&dt=ss&dt=t&ie=UTF-8&oe=UTF-8&otf=1&ssel=0&tsel=0&tk=xxxx&q=wow \"HTTP/2 200 OK\"\n",
      "INFO:httpx:HTTP Request: GET https://translate.googleapis.com/translate_a/single?client=gtx&sl=so&tl=en&hl=en&dt=at&dt=bd&dt=ex&dt=ld&dt=md&dt=qca&dt=rw&dt=rm&dt=ss&dt=t&ie=UTF-8&oe=UTF-8&otf=1&ssel=0&tsel=0&tk=xxxx&q=good \"HTTP/2 200 OK\"\n",
      "INFO:httpx:HTTP Request: GET https://translate.googleapis.com/translate_a/single?client=gtx&sl=so&tl=en&hl=en&dt=at&dt=bd&dt=ex&dt=ld&dt=md&dt=qca&dt=rw&dt=rm&dt=ss&dt=t&ie=UTF-8&oe=UTF-8&otf=1&ssel=0&tsel=0&tk=xxxx&q=good \"HTTP/2 200 OK\"\n",
      "INFO:httpx:HTTP Request: GET https://translate.googleapis.com/translate_a/single?client=gtx&sl=tl&tl=en&hl=en&dt=at&dt=bd&dt=ex&dt=ld&dt=md&dt=qca&dt=rw&dt=rm&dt=ss&dt=t&ie=UTF-8&oe=UTF-8&otf=1&ssel=0&tsel=0&tk=xxxx&q=always+lagging \"HTTP/2 200 OK\"\n",
      "INFO:httpx:HTTP Request: GET https://translate.googleapis.com/translate_a/single?client=gtx&sl=af&tl=en&hl=en&dt=at&dt=bd&dt=ex&dt=ld&dt=md&dt=qca&dt=rw&dt=rm&dt=ss&dt=t&ie=UTF-8&oe=UTF-8&otf=1&ssel=0&tsel=0&tk=xxxx&q=awesome+app+keep+going \"HTTP/2 200 OK\"\n",
      "INFO:httpx:HTTP Request: GET https://translate.googleapis.com/translate_a/single?client=gtx&sl=hu&tl=en&hl=en&dt=at&dt=bd&dt=ex&dt=ld&dt=md&dt=qca&dt=rw&dt=rm&dt=ss&dt=t&ie=UTF-8&oe=UTF-8&otf=1&ssel=0&tsel=0&tk=xxxx&q=Totally+amazing \"HTTP/2 200 OK\"\n",
      "INFO:httpx:HTTP Request: GET https://translate.googleapis.com/translate_a/single?client=gtx&sl=ro&tl=en&hl=en&dt=at&dt=bd&dt=ex&dt=ld&dt=md&dt=qca&dt=rw&dt=rm&dt=ss&dt=t&ie=UTF-8&oe=UTF-8&otf=1&ssel=0&tsel=0&tk=xxxx&q=super \"HTTP/2 200 OK\"\n",
      "INFO:httpx:HTTP Request: GET https://translate.googleapis.com/translate_a/single?client=gtx&sl=so&tl=en&hl=en&dt=at&dt=bd&dt=ex&dt=ld&dt=md&dt=qca&dt=rw&dt=rm&dt=ss&dt=t&ie=UTF-8&oe=UTF-8&otf=1&ssel=0&tsel=0&tk=xxxx&q=Good \"HTTP/2 200 OK\"\n",
      "INFO:httpx:HTTP Request: GET https://translate.googleapis.com/translate_a/single?client=gtx&sl=pl&tl=en&hl=en&dt=at&dt=bd&dt=ex&dt=ld&dt=md&dt=qca&dt=rw&dt=rm&dt=ss&dt=t&ie=UTF-8&oe=UTF-8&otf=1&ssel=0&tsel=0&tk=xxxx&q=nice \"HTTP/2 200 OK\"\n",
      "INFO:httpx:HTTP Request: GET https://translate.googleapis.com/translate_a/single?client=gtx&sl=pl&tl=en&hl=en&dt=at&dt=bd&dt=ex&dt=ld&dt=md&dt=qca&dt=rw&dt=rm&dt=ss&dt=t&ie=UTF-8&oe=UTF-8&otf=1&ssel=0&tsel=0&tk=xxxx&q=wow \"HTTP/2 200 OK\"\n",
      "INFO:httpx:HTTP Request: GET https://translate.googleapis.com/translate_a/single?client=gtx&sl=it&tl=en&hl=en&dt=at&dt=bd&dt=ex&dt=ld&dt=md&dt=qca&dt=rw&dt=rm&dt=ss&dt=t&ie=UTF-8&oe=UTF-8&otf=1&ssel=0&tsel=0&tk=xxxx&q=fast \"HTTP/2 200 OK\"\n",
      "INFO:httpx:HTTP Request: GET https://translate.googleapis.com/translate_a/single?client=gtx&sl=so&tl=en&hl=en&dt=at&dt=bd&dt=ex&dt=ld&dt=md&dt=qca&dt=rw&dt=rm&dt=ss&dt=t&ie=UTF-8&oe=UTF-8&otf=1&ssel=0&tsel=0&tk=xxxx&q=good \"HTTP/2 200 OK\"\n",
      "INFO:httpx:HTTP Request: GET https://translate.googleapis.com/translate_a/single?client=gtx&sl=pl&tl=en&hl=en&dt=at&dt=bd&dt=ex&dt=ld&dt=md&dt=qca&dt=rw&dt=rm&dt=ss&dt=t&ie=UTF-8&oe=UTF-8&otf=1&ssel=0&tsel=0&tk=xxxx&q=nice \"HTTP/2 200 OK\"\n",
      "INFO:httpx:HTTP Request: GET https://translate.googleapis.com/translate_a/single?client=gtx&sl=de&tl=en&hl=en&dt=at&dt=bd&dt=ex&dt=ld&dt=md&dt=qca&dt=rw&dt=rm&dt=ss&dt=t&ie=UTF-8&oe=UTF-8&otf=1&ssel=0&tsel=0&tk=xxxx&q=Best+App \"HTTP/2 200 OK\"\n",
      "INFO:httpx:HTTP Request: GET https://translate.googleapis.com/translate_a/single?client=gtx&sl=sw&tl=en&hl=en&dt=at&dt=bd&dt=ex&dt=ld&dt=md&dt=qca&dt=rw&dt=rm&dt=ss&dt=t&ie=UTF-8&oe=UTF-8&otf=1&ssel=0&tsel=0&tk=xxxx&q=waw \"HTTP/2 200 OK\"\n",
      "INFO:httpx:HTTP Request: GET https://translate.googleapis.com/translate_a/single?client=gtx&sl=nl&tl=en&hl=en&dt=at&dt=bd&dt=ex&dt=ld&dt=md&dt=qca&dt=rw&dt=rm&dt=ss&dt=t&ie=UTF-8&oe=UTF-8&otf=1&ssel=0&tsel=0&tk=xxxx&q=best+app \"HTTP/2 200 OK\"\n",
      "INFO:httpx:HTTP Request: GET https://translate.googleapis.com/translate_a/single?client=gtx&sl=ro&tl=en&hl=en&dt=at&dt=bd&dt=ex&dt=ld&dt=md&dt=qca&dt=rw&dt=rm&dt=ss&dt=t&ie=UTF-8&oe=UTF-8&otf=1&ssel=0&tsel=0&tk=xxxx&q=great \"HTTP/2 200 OK\"\n",
      "INFO:httpx:HTTP Request: GET https://translate.googleapis.com/translate_a/single?client=gtx&sl=lv&tl=en&hl=en&dt=at&dt=bd&dt=ex&dt=ld&dt=md&dt=qca&dt=rw&dt=rm&dt=ss&dt=t&ie=UTF-8&oe=UTF-8&otf=1&ssel=0&tsel=0&tk=xxxx&q=pis \"HTTP/2 200 OK\"\n",
      "INFO:httpx:HTTP Request: GET https://translate.googleapis.com/translate_a/single?client=gtx&sl=ca&tl=en&hl=en&dt=at&dt=bd&dt=ex&dt=ld&dt=md&dt=qca&dt=rw&dt=rm&dt=ss&dt=t&ie=UTF-8&oe=UTF-8&otf=1&ssel=0&tsel=0&tk=xxxx&q=execellent \"HTTP/2 200 OK\"\n",
      "INFO:httpx:HTTP Request: GET https://translate.googleapis.com/translate_a/single?client=gtx&sl=fr&tl=en&hl=en&dt=at&dt=bd&dt=ex&dt=ld&dt=md&dt=qca&dt=rw&dt=rm&dt=ss&dt=t&ie=UTF-8&oe=UTF-8&otf=1&ssel=0&tsel=0&tk=xxxx&q=best+app \"HTTP/2 200 OK\"\n",
      "INFO:httpx:HTTP Request: GET https://translate.googleapis.com/translate_a/single?client=gtx&sl=sk&tl=en&hl=en&dt=at&dt=bd&dt=ex&dt=ld&dt=md&dt=qca&dt=rw&dt=rm&dt=ss&dt=t&ie=UTF-8&oe=UTF-8&otf=1&ssel=0&tsel=0&tk=xxxx&q=ok \"HTTP/2 200 OK\"\n",
      "INFO:httpx:HTTP Request: GET https://translate.googleapis.com/translate_a/single?client=gtx&sl=fr&tl=en&hl=en&dt=at&dt=bd&dt=ex&dt=ld&dt=md&dt=qca&dt=rw&dt=rm&dt=ss&dt=t&ie=UTF-8&oe=UTF-8&otf=1&ssel=0&tsel=0&tk=xxxx&q=Excellent+app. \"HTTP/2 200 OK\"\n",
      "INFO:httpx:HTTP Request: GET https://translate.googleapis.com/translate_a/single?client=gtx&sl=nl&tl=en&hl=en&dt=at&dt=bd&dt=ex&dt=ld&dt=md&dt=qca&dt=rw&dt=rm&dt=ss&dt=t&ie=UTF-8&oe=UTF-8&otf=1&ssel=0&tsel=0&tk=xxxx&q=Too+best \"HTTP/2 200 OK\"\n",
      "INFO:httpx:HTTP Request: GET https://translate.googleapis.com/translate_a/single?client=gtx&sl=no&tl=en&hl=en&dt=at&dt=bd&dt=ex&dt=ld&dt=md&dt=qca&dt=rw&dt=rm&dt=ss&dt=t&ie=UTF-8&oe=UTF-8&otf=1&ssel=0&tsel=0&tk=xxxx&q=excellent+mobile+banking+app \"HTTP/2 200 OK\"\n",
      "INFO:httpx:HTTP Request: GET https://translate.googleapis.com/translate_a/single?client=gtx&sl=id&tl=en&hl=en&dt=at&dt=bd&dt=ex&dt=ld&dt=md&dt=qca&dt=rw&dt=rm&dt=ss&dt=t&ie=UTF-8&oe=UTF-8&otf=1&ssel=0&tsel=0&tk=xxxx&q=Superb \"HTTP/2 200 OK\"\n",
      "INFO:httpx:HTTP Request: GET https://translate.googleapis.com/translate_a/single?client=gtx&sl=de&tl=en&hl=en&dt=at&dt=bd&dt=ex&dt=ld&dt=md&dt=qca&dt=rw&dt=rm&dt=ss&dt=t&ie=UTF-8&oe=UTF-8&otf=1&ssel=0&tsel=0&tk=xxxx&q=Best+App%21 \"HTTP/2 200 OK\"\n",
      "INFO:httpx:HTTP Request: GET https://translate.googleapis.com/translate_a/single?client=gtx&sl=so&tl=en&hl=en&dt=at&dt=bd&dt=ex&dt=ld&dt=md&dt=qca&dt=rw&dt=rm&dt=ss&dt=t&ie=UTF-8&oe=UTF-8&otf=1&ssel=0&tsel=0&tk=xxxx&q=good \"HTTP/2 200 OK\"\n",
      "INFO:httpx:HTTP Request: GET https://translate.googleapis.com/translate_a/single?client=gtx&sl=ro&tl=en&hl=en&dt=at&dt=bd&dt=ex&dt=ld&dt=md&dt=qca&dt=rw&dt=rm&dt=ss&dt=t&ie=UTF-8&oe=UTF-8&otf=1&ssel=0&tsel=0&tk=xxxx&q=Nice \"HTTP/2 200 OK\"\n",
      "INFO:httpx:HTTP Request: GET https://translate.googleapis.com/translate_a/single?client=gtx&sl=af&tl=en&hl=en&dt=at&dt=bd&dt=ex&dt=ld&dt=md&dt=qca&dt=rw&dt=rm&dt=ss&dt=t&ie=UTF-8&oe=UTF-8&otf=1&ssel=0&tsel=0&tk=xxxx&q=best \"HTTP/2 200 OK\"\n",
      "INFO:httpx:HTTP Request: GET https://translate.googleapis.com/translate_a/single?client=gtx&sl=pl&tl=en&hl=en&dt=at&dt=bd&dt=ex&dt=ld&dt=md&dt=qca&dt=rw&dt=rm&dt=ss&dt=t&ie=UTF-8&oe=UTF-8&otf=1&ssel=0&tsel=0&tk=xxxx&q=nice \"HTTP/2 200 OK\"\n",
      "INFO:httpx:HTTP Request: GET https://translate.googleapis.com/translate_a/single?client=gtx&sl=so&tl=en&hl=en&dt=at&dt=bd&dt=ex&dt=ld&dt=md&dt=qca&dt=rw&dt=rm&dt=ss&dt=t&ie=UTF-8&oe=UTF-8&otf=1&ssel=0&tsel=0&tk=xxxx&q=good \"HTTP/2 200 OK\"\n",
      "INFO:httpx:HTTP Request: GET https://translate.googleapis.com/translate_a/single?client=gtx&sl=sk&tl=en&hl=en&dt=at&dt=bd&dt=ex&dt=ld&dt=md&dt=qca&dt=rw&dt=rm&dt=ss&dt=t&ie=UTF-8&oe=UTF-8&otf=1&ssel=0&tsel=0&tk=xxxx&q=ok \"HTTP/2 200 OK\"\n",
      "INFO:httpx:HTTP Request: GET https://translate.googleapis.com/translate_a/single?client=gtx&sl=so&tl=en&hl=en&dt=at&dt=bd&dt=ex&dt=ld&dt=md&dt=qca&dt=rw&dt=rm&dt=ss&dt=t&ie=UTF-8&oe=UTF-8&otf=1&ssel=0&tsel=0&tk=xxxx&q=good \"HTTP/2 200 OK\"\n",
      "INFO:httpx:HTTP Request: GET https://translate.googleapis.com/translate_a/single?client=gtx&sl=it&tl=en&hl=en&dt=at&dt=bd&dt=ex&dt=ld&dt=md&dt=qca&dt=rw&dt=rm&dt=ss&dt=t&ie=UTF-8&oe=UTF-8&otf=1&ssel=0&tsel=0&tk=xxxx&q=nice+application \"HTTP/2 200 OK\"\n",
      "INFO:httpx:HTTP Request: GET https://translate.googleapis.com/translate_a/single?client=gtx&sl=pl&tl=en&hl=en&dt=at&dt=bd&dt=ex&dt=ld&dt=md&dt=qca&dt=rw&dt=rm&dt=ss&dt=t&ie=UTF-8&oe=UTF-8&otf=1&ssel=0&tsel=0&tk=xxxx&q=nic \"HTTP/2 200 OK\"\n",
      "INFO:httpx:HTTP Request: GET https://translate.googleapis.com/translate_a/single?client=gtx&sl=so&tl=en&hl=en&dt=at&dt=bd&dt=ex&dt=ld&dt=md&dt=qca&dt=rw&dt=rm&dt=ss&dt=t&ie=UTF-8&oe=UTF-8&otf=1&ssel=0&tsel=0&tk=xxxx&q=Good \"HTTP/2 200 OK\"\n",
      "INFO:httpx:HTTP Request: GET https://translate.googleapis.com/translate_a/single?client=gtx&sl=so&tl=en&hl=en&dt=at&dt=bd&dt=ex&dt=ld&dt=md&dt=qca&dt=rw&dt=rm&dt=ss&dt=t&ie=UTF-8&oe=UTF-8&otf=1&ssel=0&tsel=0&tk=xxxx&q=Good \"HTTP/2 200 OK\"\n",
      "INFO:httpx:HTTP Request: GET https://translate.googleapis.com/translate_a/single?client=gtx&sl=so&tl=en&hl=en&dt=at&dt=bd&dt=ex&dt=ld&dt=md&dt=qca&dt=rw&dt=rm&dt=ss&dt=t&ie=UTF-8&oe=UTF-8&otf=1&ssel=0&tsel=0&tk=xxxx&q=Good \"HTTP/2 200 OK\"\n",
      "INFO:httpx:HTTP Request: GET https://translate.googleapis.com/translate_a/single?client=gtx&sl=sv&tl=en&hl=en&dt=at&dt=bd&dt=ex&dt=ld&dt=md&dt=qca&dt=rw&dt=rm&dt=ss&dt=t&ie=UTF-8&oe=UTF-8&otf=1&ssel=0&tsel=0&tk=xxxx&q=Super+smart+app. \"HTTP/2 200 OK\"\n",
      "INFO:httpx:HTTP Request: GET https://translate.googleapis.com/translate_a/single?client=gtx&sl=af&tl=en&hl=en&dt=at&dt=bd&dt=ex&dt=ld&dt=md&dt=qca&dt=rw&dt=rm&dt=ss&dt=t&ie=UTF-8&oe=UTF-8&otf=1&ssel=0&tsel=0&tk=xxxx&q=best \"HTTP/2 200 OK\"\n",
      "INFO:httpx:HTTP Request: GET https://translate.googleapis.com/translate_a/single?client=gtx&sl=so&tl=en&hl=en&dt=at&dt=bd&dt=ex&dt=ld&dt=md&dt=qca&dt=rw&dt=rm&dt=ss&dt=t&ie=UTF-8&oe=UTF-8&otf=1&ssel=0&tsel=0&tk=xxxx&q=Good \"HTTP/2 200 OK\"\n",
      "INFO:httpx:HTTP Request: GET https://translate.googleapis.com/translate_a/single?client=gtx&sl=af&tl=en&hl=en&dt=at&dt=bd&dt=ex&dt=ld&dt=md&dt=qca&dt=rw&dt=rm&dt=ss&dt=t&ie=UTF-8&oe=UTF-8&otf=1&ssel=0&tsel=0&tk=xxxx&q=Ok \"HTTP/2 200 OK\"\n",
      "INFO:httpx:HTTP Request: GET https://translate.googleapis.com/translate_a/single?client=gtx&sl=cy&tl=en&hl=en&dt=at&dt=bd&dt=ex&dt=ld&dt=md&dt=qca&dt=rw&dt=rm&dt=ss&dt=t&ie=UTF-8&oe=UTF-8&otf=1&ssel=0&tsel=0&tk=xxxx&q=All+good+we+need+more \"HTTP/2 200 OK\"\n",
      "INFO:httpx:HTTP Request: GET https://translate.googleapis.com/translate_a/single?client=gtx&sl=ro&tl=en&hl=en&dt=at&dt=bd&dt=ex&dt=ld&dt=md&dt=qca&dt=rw&dt=rm&dt=ss&dt=t&ie=UTF-8&oe=UTF-8&otf=1&ssel=0&tsel=0&tk=xxxx&q=Nice \"HTTP/2 200 OK\"\n",
      "INFO:httpx:HTTP Request: GET https://translate.googleapis.com/translate_a/single?client=gtx&sl=af&tl=en&hl=en&dt=at&dt=bd&dt=ex&dt=ld&dt=md&dt=qca&dt=rw&dt=rm&dt=ss&dt=t&ie=UTF-8&oe=UTF-8&otf=1&ssel=0&tsel=0&tk=xxxx&q=Is+not+working \"HTTP/2 200 OK\"\n",
      "INFO:httpx:HTTP Request: GET https://translate.googleapis.com/translate_a/single?client=gtx&sl=so&tl=en&hl=en&dt=at&dt=bd&dt=ex&dt=ld&dt=md&dt=qca&dt=rw&dt=rm&dt=ss&dt=t&ie=UTF-8&oe=UTF-8&otf=1&ssel=0&tsel=0&tk=xxxx&q=good \"HTTP/2 200 OK\"\n",
      "INFO:httpx:HTTP Request: GET https://translate.googleapis.com/translate_a/single?client=gtx&sl=it&tl=en&hl=en&dt=at&dt=bd&dt=ex&dt=ld&dt=md&dt=qca&dt=rw&dt=rm&dt=ss&dt=t&ie=UTF-8&oe=UTF-8&otf=1&ssel=0&tsel=0&tk=xxxx&q=Fantastic \"HTTP/2 200 OK\"\n",
      "INFO:httpx:HTTP Request: GET https://translate.googleapis.com/translate_a/single?client=gtx&sl=pl&tl=en&hl=en&dt=at&dt=bd&dt=ex&dt=ld&dt=md&dt=qca&dt=rw&dt=rm&dt=ss&dt=t&ie=UTF-8&oe=UTF-8&otf=1&ssel=0&tsel=0&tk=xxxx&q=wow \"HTTP/2 200 OK\"\n",
      "INFO:httpx:HTTP Request: GET https://translate.googleapis.com/translate_a/single?client=gtx&sl=de&tl=en&hl=en&dt=at&dt=bd&dt=ex&dt=ld&dt=md&dt=qca&dt=rw&dt=rm&dt=ss&dt=t&ie=UTF-8&oe=UTF-8&otf=1&ssel=0&tsel=0&tk=xxxx&q=Game+changer \"HTTP/2 200 OK\"\n",
      "INFO:httpx:HTTP Request: GET https://translate.googleapis.com/translate_a/single?client=gtx&sl=so&tl=en&hl=en&dt=at&dt=bd&dt=ex&dt=ld&dt=md&dt=qca&dt=rw&dt=rm&dt=ss&dt=t&ie=UTF-8&oe=UTF-8&otf=1&ssel=0&tsel=0&tk=xxxx&q=bad. \"HTTP/2 200 OK\"\n",
      "INFO:httpx:HTTP Request: GET https://translate.googleapis.com/translate_a/single?client=gtx&sl=pl&tl=en&hl=en&dt=at&dt=bd&dt=ex&dt=ld&dt=md&dt=qca&dt=rw&dt=rm&dt=ss&dt=t&ie=UTF-8&oe=UTF-8&otf=1&ssel=0&tsel=0&tk=xxxx&q=wowslnwoooo+wowwww+amazing+%21%21%21%21%21%21%21%21 \"HTTP/2 200 OK\"\n",
      "INFO:httpx:HTTP Request: GET https://translate.googleapis.com/translate_a/single?client=gtx&sl=cs&tl=en&hl=en&dt=at&dt=bd&dt=ex&dt=ld&dt=md&dt=qca&dt=rw&dt=rm&dt=ss&dt=t&ie=UTF-8&oe=UTF-8&otf=1&ssel=0&tsel=0&tk=xxxx&q=very+nice \"HTTP/2 200 OK\"\n",
      "INFO:httpx:HTTP Request: GET https://translate.googleapis.com/translate_a/single?client=gtx&sl=so&tl=en&hl=en&dt=at&dt=bd&dt=ex&dt=ld&dt=md&dt=qca&dt=rw&dt=rm&dt=ss&dt=t&ie=UTF-8&oe=UTF-8&otf=1&ssel=0&tsel=0&tk=xxxx&q=good \"HTTP/2 200 OK\"\n",
      "INFO:httpx:HTTP Request: GET https://translate.googleapis.com/translate_a/single?client=gtx&sl=it&tl=en&hl=en&dt=at&dt=bd&dt=ex&dt=ld&dt=md&dt=qca&dt=rw&dt=rm&dt=ss&dt=t&ie=UTF-8&oe=UTF-8&otf=1&ssel=0&tsel=0&tk=xxxx&q=nice+app \"HTTP/2 200 OK\"\n",
      "INFO:httpx:HTTP Request: GET https://translate.googleapis.com/translate_a/single?client=gtx&sl=fr&tl=en&hl=en&dt=at&dt=bd&dt=ex&dt=ld&dt=md&dt=qca&dt=rw&dt=rm&dt=ss&dt=t&ie=UTF-8&oe=UTF-8&otf=1&ssel=0&tsel=0&tk=xxxx&q=best+experiences \"HTTP/2 200 OK\"\n",
      "INFO:httpx:HTTP Request: GET https://translate.googleapis.com/translate_a/single?client=gtx&sl=de&tl=en&hl=en&dt=at&dt=bd&dt=ex&dt=ld&dt=md&dt=qca&dt=rw&dt=rm&dt=ss&dt=t&ie=UTF-8&oe=UTF-8&otf=1&ssel=0&tsel=0&tk=xxxx&q=Best \"HTTP/2 200 OK\"\n",
      "INFO:httpx:HTTP Request: GET https://translate.googleapis.com/translate_a/single?client=gtx&sl=so&tl=en&hl=en&dt=at&dt=bd&dt=ex&dt=ld&dt=md&dt=qca&dt=rw&dt=rm&dt=ss&dt=t&ie=UTF-8&oe=UTF-8&otf=1&ssel=0&tsel=0&tk=xxxx&q=Good \"HTTP/2 200 OK\"\n",
      "INFO:httpx:HTTP Request: GET https://translate.googleapis.com/translate_a/single?client=gtx&sl=ca&tl=en&hl=en&dt=at&dt=bd&dt=ex&dt=ld&dt=md&dt=qca&dt=rw&dt=rm&dt=ss&dt=t&ie=UTF-8&oe=UTF-8&otf=1&ssel=0&tsel=0&tk=xxxx&q=Excellent \"HTTP/2 200 OK\"\n",
      "INFO:httpx:HTTP Request: GET https://translate.googleapis.com/translate_a/single?client=gtx&sl=de&tl=en&hl=en&dt=at&dt=bd&dt=ex&dt=ld&dt=md&dt=qca&dt=rw&dt=rm&dt=ss&dt=t&ie=UTF-8&oe=UTF-8&otf=1&ssel=0&tsel=0&tk=xxxx&q=no+one+dashen+yichlal \"HTTP/2 200 OK\"\n",
      "INFO:httpx:HTTP Request: GET https://translate.googleapis.com/translate_a/single?client=gtx&sl=it&tl=en&hl=en&dt=at&dt=bd&dt=ex&dt=ld&dt=md&dt=qca&dt=rw&dt=rm&dt=ss&dt=t&ie=UTF-8&oe=UTF-8&otf=1&ssel=0&tsel=0&tk=xxxx&q=Fantastic+app \"HTTP/2 200 OK\"\n",
      "INFO:httpx:HTTP Request: GET https://translate.googleapis.com/translate_a/single?client=gtx&sl=so&tl=en&hl=en&dt=at&dt=bd&dt=ex&dt=ld&dt=md&dt=qca&dt=rw&dt=rm&dt=ss&dt=t&ie=UTF-8&oe=UTF-8&otf=1&ssel=0&tsel=0&tk=xxxx&q=Good \"HTTP/2 200 OK\"\n",
      "INFO:httpx:HTTP Request: GET https://translate.googleapis.com/translate_a/single?client=gtx&sl=fr&tl=en&hl=en&dt=at&dt=bd&dt=ex&dt=ld&dt=md&dt=qca&dt=rw&dt=rm&dt=ss&dt=t&ie=UTF-8&oe=UTF-8&otf=1&ssel=0&tsel=0&tk=xxxx&q=Excellent+app \"HTTP/2 200 OK\"\n",
      "INFO:httpx:HTTP Request: GET https://translate.googleapis.com/translate_a/single?client=gtx&sl=nl&tl=en&hl=en&dt=at&dt=bd&dt=ex&dt=ld&dt=md&dt=qca&dt=rw&dt=rm&dt=ss&dt=t&ie=UTF-8&oe=UTF-8&otf=1&ssel=0&tsel=0&tk=xxxx&q=it%27s+amazing+app+i+have+seen+ever \"HTTP/2 200 OK\"\n",
      "INFO:httpx:HTTP Request: GET https://translate.googleapis.com/translate_a/single?client=gtx&sl=so&tl=en&hl=en&dt=at&dt=bd&dt=ex&dt=ld&dt=md&dt=qca&dt=rw&dt=rm&dt=ss&dt=t&ie=UTF-8&oe=UTF-8&otf=1&ssel=0&tsel=0&tk=xxxx&q=Baankii+daashin+baankii+hudna+galeessa+galatoomaa+isinii+woliin+jirra+Godina+jimmaa+magaalaa+Aggaaroo+irraa+Muaz+Abamecha+Abamilki \"HTTP/2 200 OK\"\n",
      "INFO:httpx:HTTP Request: GET https://translate.googleapis.com/translate_a/single?client=gtx&sl=af&tl=en&hl=en&dt=at&dt=bd&dt=ex&dt=ld&dt=md&dt=qca&dt=rw&dt=rm&dt=ss&dt=t&ie=UTF-8&oe=UTF-8&otf=1&ssel=0&tsel=0&tk=xxxx&q=It+doesn%27t+work \"HTTP/2 200 OK\"\n",
      "INFO:httpx:HTTP Request: GET https://translate.googleapis.com/translate_a/single?client=gtx&sl=fr&tl=en&hl=en&dt=at&dt=bd&dt=ex&dt=ld&dt=md&dt=qca&dt=rw&dt=rm&dt=ss&dt=t&ie=UTF-8&oe=UTF-8&otf=1&ssel=0&tsel=0&tk=xxxx&q=Best+app \"HTTP/2 200 OK\"\n",
      "INFO:httpx:HTTP Request: GET https://translate.googleapis.com/translate_a/single?client=gtx&sl=fr&tl=en&hl=en&dt=at&dt=bd&dt=ex&dt=ld&dt=md&dt=qca&dt=rw&dt=rm&dt=ss&dt=t&ie=UTF-8&oe=UTF-8&otf=1&ssel=0&tsel=0&tk=xxxx&q=Gret+experience \"HTTP/2 200 OK\"\n",
      "INFO:httpx:HTTP Request: GET https://translate.googleapis.com/translate_a/single?client=gtx&sl=de&tl=en&hl=en&dt=at&dt=bd&dt=ex&dt=ld&dt=md&dt=qca&dt=rw&dt=rm&dt=ss&dt=t&ie=UTF-8&oe=UTF-8&otf=1&ssel=0&tsel=0&tk=xxxx&q=Best \"HTTP/2 200 OK\"\n",
      "INFO:httpx:HTTP Request: GET https://translate.googleapis.com/translate_a/single?client=gtx&sl=af&tl=en&hl=en&dt=at&dt=bd&dt=ex&dt=ld&dt=md&dt=qca&dt=rw&dt=rm&dt=ss&dt=t&ie=UTF-8&oe=UTF-8&otf=1&ssel=0&tsel=0&tk=xxxx&q=Ok \"HTTP/2 200 OK\"\n",
      "INFO:httpx:HTTP Request: GET https://translate.googleapis.com/translate_a/single?client=gtx&sl=lv&tl=en&hl=en&dt=at&dt=bd&dt=ex&dt=ld&dt=md&dt=qca&dt=rw&dt=rm&dt=ss&dt=t&ie=UTF-8&oe=UTF-8&otf=1&ssel=0&tsel=0&tk=xxxx&q=%E1%88%B5%E1%88%9D+%E1%89%A5%E1%89%BB+smug \"HTTP/2 200 OK\"\n",
      "INFO:httpx:HTTP Request: GET https://translate.googleapis.com/translate_a/single?client=gtx&sl=et&tl=en&hl=en&dt=at&dt=bd&dt=ex&dt=ld&dt=md&dt=qca&dt=rw&dt=rm&dt=ss&dt=t&ie=UTF-8&oe=UTF-8&otf=1&ssel=0&tsel=0&tk=xxxx&q=betam+mirt+Ena+betam+le+atikakem+kelel+Yale+Ena+michu+application+nw \"HTTP/2 200 OK\"\n",
      "INFO:httpx:HTTP Request: GET https://translate.googleapis.com/translate_a/single?client=gtx&sl=tl&tl=en&hl=en&dt=at&dt=bd&dt=ex&dt=ld&dt=md&dt=qca&dt=rw&dt=rm&dt=ss&dt=t&ie=UTF-8&oe=UTF-8&otf=1&ssel=0&tsel=0&tk=xxxx&q=it%27s+samart \"HTTP/2 200 OK\"\n",
      "INFO:httpx:HTTP Request: GET https://translate.googleapis.com/translate_a/single?client=gtx&sl=cs&tl=en&hl=en&dt=at&dt=bd&dt=ex&dt=ld&dt=md&dt=qca&dt=rw&dt=rm&dt=ss&dt=t&ie=UTF-8&oe=UTF-8&otf=1&ssel=0&tsel=0&tk=xxxx&q=very+nice \"HTTP/2 200 OK\"\n",
      "INFO:httpx:HTTP Request: GET https://translate.googleapis.com/translate_a/single?client=gtx&sl=sw&tl=en&hl=en&dt=at&dt=bd&dt=ex&dt=ld&dt=md&dt=qca&dt=rw&dt=rm&dt=ss&dt=t&ie=UTF-8&oe=UTF-8&otf=1&ssel=0&tsel=0&tk=xxxx&q=Amazing \"HTTP/2 200 OK\"\n",
      "INFO:httpx:HTTP Request: GET https://translate.googleapis.com/translate_a/single?client=gtx&sl=pl&tl=en&hl=en&dt=at&dt=bd&dt=ex&dt=ld&dt=md&dt=qca&dt=rw&dt=rm&dt=ss&dt=t&ie=UTF-8&oe=UTF-8&otf=1&ssel=0&tsel=0&tk=xxxx&q=Wow \"HTTP/2 200 OK\"\n",
      "INFO:httpx:HTTP Request: GET https://translate.googleapis.com/translate_a/single?client=gtx&sl=fr&tl=en&hl=en&dt=at&dt=bd&dt=ex&dt=ld&dt=md&dt=qca&dt=rw&dt=rm&dt=ss&dt=t&ie=UTF-8&oe=UTF-8&otf=1&ssel=0&tsel=0&tk=xxxx&q=Excellent+app. \"HTTP/2 200 OK\"\n",
      "INFO:httpx:HTTP Request: GET https://translate.googleapis.com/translate_a/single?client=gtx&sl=fr&tl=en&hl=en&dt=at&dt=bd&dt=ex&dt=ld&dt=md&dt=qca&dt=rw&dt=rm&dt=ss&dt=t&ie=UTF-8&oe=UTF-8&otf=1&ssel=0&tsel=0&tk=xxxx&q=Best+app. \"HTTP/2 200 OK\"\n",
      "INFO:httpx:HTTP Request: GET https://translate.googleapis.com/translate_a/single?client=gtx&sl=pl&tl=en&hl=en&dt=at&dt=bd&dt=ex&dt=ld&dt=md&dt=qca&dt=rw&dt=rm&dt=ss&dt=t&ie=UTF-8&oe=UTF-8&otf=1&ssel=0&tsel=0&tk=xxxx&q=Wow \"HTTP/2 200 OK\"\n",
      "INFO:httpx:HTTP Request: GET https://translate.googleapis.com/translate_a/single?client=gtx&sl=ro&tl=en&hl=en&dt=at&dt=bd&dt=ex&dt=ld&dt=md&dt=qca&dt=rw&dt=rm&dt=ss&dt=t&ie=UTF-8&oe=UTF-8&otf=1&ssel=0&tsel=0&tk=xxxx&q=Nice \"HTTP/2 200 OK\"\n",
      "INFO:httpx:HTTP Request: GET https://translate.googleapis.com/translate_a/single?client=gtx&sl=fr&tl=en&hl=en&dt=at&dt=bd&dt=ex&dt=ld&dt=md&dt=qca&dt=rw&dt=rm&dt=ss&dt=t&ie=UTF-8&oe=UTF-8&otf=1&ssel=0&tsel=0&tk=xxxx&q=Best+app \"HTTP/2 200 OK\"\n",
      "INFO:httpx:HTTP Request: GET https://translate.googleapis.com/translate_a/single?client=gtx&sl=de&tl=en&hl=en&dt=at&dt=bd&dt=ex&dt=ld&dt=md&dt=qca&dt=rw&dt=rm&dt=ss&dt=t&ie=UTF-8&oe=UTF-8&otf=1&ssel=0&tsel=0&tk=xxxx&q=ALWAYS+ONE+STEP+AHEAD \"HTTP/2 200 OK\"\n",
      "INFO:httpx:HTTP Request: GET https://translate.googleapis.com/translate_a/single?client=gtx&sl=nl&tl=en&hl=en&dt=at&dt=bd&dt=ex&dt=ld&dt=md&dt=qca&dt=rw&dt=rm&dt=ss&dt=t&ie=UTF-8&oe=UTF-8&otf=1&ssel=0&tsel=0&tk=xxxx&q=Needs+some+improvement \"HTTP/2 200 OK\"\n",
      "INFO:httpx:HTTP Request: GET https://translate.googleapis.com/translate_a/single?client=gtx&sl=de&tl=en&hl=en&dt=at&dt=bd&dt=ex&dt=ld&dt=md&dt=qca&dt=rw&dt=rm&dt=ss&dt=t&ie=UTF-8&oe=UTF-8&otf=1&ssel=0&tsel=0&tk=xxxx&q=Best \"HTTP/2 200 OK\"\n",
      "INFO:httpx:HTTP Request: GET https://translate.googleapis.com/translate_a/single?client=gtx&sl=nl&tl=en&hl=en&dt=at&dt=bd&dt=ex&dt=ld&dt=md&dt=qca&dt=rw&dt=rm&dt=ss&dt=t&ie=UTF-8&oe=UTF-8&otf=1&ssel=0&tsel=0&tk=xxxx&q=best+app+I+have+ever+seen \"HTTP/2 200 OK\"\n",
      "INFO:httpx:HTTP Request: GET https://translate.googleapis.com/translate_a/single?client=gtx&sl=nl&tl=en&hl=en&dt=at&dt=bd&dt=ex&dt=ld&dt=md&dt=qca&dt=rw&dt=rm&dt=ss&dt=t&ie=UTF-8&oe=UTF-8&otf=1&ssel=0&tsel=0&tk=xxxx&q=Convenient%21 \"HTTP/2 200 OK\"\n",
      "INFO:httpx:HTTP Request: GET https://translate.googleapis.com/translate_a/single?client=gtx&sl=nl&tl=en&hl=en&dt=at&dt=bd&dt=ex&dt=ld&dt=md&dt=qca&dt=rw&dt=rm&dt=ss&dt=t&ie=UTF-8&oe=UTF-8&otf=1&ssel=0&tsel=0&tk=xxxx&q=keep+it+up%21 \"HTTP/2 200 OK\"\n",
      "INFO:httpx:HTTP Request: GET https://translate.googleapis.com/translate_a/single?client=gtx&sl=nl&tl=en&hl=en&dt=at&dt=bd&dt=ex&dt=ld&dt=md&dt=qca&dt=rw&dt=rm&dt=ss&dt=t&ie=UTF-8&oe=UTF-8&otf=1&ssel=0&tsel=0&tk=xxxx&q=Gud+app+kegza+ga+mezmn+endze+new+aind+ermjh+kedme+nachu+hlam \"HTTP/2 200 OK\"\n",
      "INFO:httpx:HTTP Request: GET https://translate.googleapis.com/translate_a/single?client=gtx&sl=nl&tl=en&hl=en&dt=at&dt=bd&dt=ex&dt=ld&dt=md&dt=qca&dt=rw&dt=rm&dt=ss&dt=t&ie=UTF-8&oe=UTF-8&otf=1&ssel=0&tsel=0&tk=xxxx&q=its+best \"HTTP/2 200 OK\"\n",
      "INFO:httpx:HTTP Request: GET https://translate.googleapis.com/translate_a/single?client=gtx&sl=nl&tl=en&hl=en&dt=at&dt=bd&dt=ex&dt=ld&dt=md&dt=qca&dt=rw&dt=rm&dt=ss&dt=t&ie=UTF-8&oe=UTF-8&otf=1&ssel=0&tsel=0&tk=xxxx&q=its+best \"HTTP/2 200 OK\"\n",
      "INFO:httpx:HTTP Request: GET https://translate.googleapis.com/translate_a/single?client=gtx&sl=it&tl=en&hl=en&dt=at&dt=bd&dt=ex&dt=ld&dt=md&dt=qca&dt=rw&dt=rm&dt=ss&dt=t&ie=UTF-8&oe=UTF-8&otf=1&ssel=0&tsel=0&tk=xxxx&q=Amazing+super+app \"HTTP/2 200 OK\"\n",
      "INFO:httpx:HTTP Request: GET https://translate.googleapis.com/translate_a/single?client=gtx&sl=pt&tl=en&hl=en&dt=at&dt=bd&dt=ex&dt=ld&dt=md&dt=qca&dt=rw&dt=rm&dt=ss&dt=t&ie=UTF-8&oe=UTF-8&otf=1&ssel=0&tsel=0&tk=xxxx&q=Pro+max \"HTTP/2 200 OK\"\n",
      "INFO:httpx:HTTP Request: GET https://translate.googleapis.com/translate_a/single?client=gtx&sl=ro&tl=en&hl=en&dt=at&dt=bd&dt=ex&dt=ld&dt=md&dt=qca&dt=rw&dt=rm&dt=ss&dt=t&ie=UTF-8&oe=UTF-8&otf=1&ssel=0&tsel=0&tk=xxxx&q=nic+app \"HTTP/2 200 OK\"\n",
      "INFO:httpx:HTTP Request: GET https://translate.googleapis.com/translate_a/single?client=gtx&sl=ro&tl=en&hl=en&dt=at&dt=bd&dt=ex&dt=ld&dt=md&dt=qca&dt=rw&dt=rm&dt=ss&dt=t&ie=UTF-8&oe=UTF-8&otf=1&ssel=0&tsel=0&tk=xxxx&q=real+super+up \"HTTP/2 200 OK\"\n",
      "INFO:httpx:HTTP Request: GET https://translate.googleapis.com/translate_a/single?client=gtx&sl=de&tl=en&hl=en&dt=at&dt=bd&dt=ex&dt=ld&dt=md&dt=qca&dt=rw&dt=rm&dt=ss&dt=t&ie=UTF-8&oe=UTF-8&otf=1&ssel=0&tsel=0&tk=xxxx&q=Best \"HTTP/2 200 OK\"\n",
      "INFO:httpx:HTTP Request: GET https://translate.googleapis.com/translate_a/single?client=gtx&sl=es&tl=en&hl=en&dt=at&dt=bd&dt=ex&dt=ld&dt=md&dt=qca&dt=rw&dt=rm&dt=ss&dt=t&ie=UTF-8&oe=UTF-8&otf=1&ssel=0&tsel=0&tk=xxxx&q=Very+convenient \"HTTP/2 200 OK\"\n",
      "INFO:httpx:HTTP Request: GET https://translate.googleapis.com/translate_a/single?client=gtx&sl=de&tl=en&hl=en&dt=at&dt=bd&dt=ex&dt=ld&dt=md&dt=qca&dt=rw&dt=rm&dt=ss&dt=t&ie=UTF-8&oe=UTF-8&otf=1&ssel=0&tsel=0&tk=xxxx&q=Faster+and+userfriendly \"HTTP/2 200 OK\"\n",
      "INFO:httpx:HTTP Request: GET https://translate.googleapis.com/translate_a/single?client=gtx&sl=pl&tl=en&hl=en&dt=at&dt=bd&dt=ex&dt=ld&dt=md&dt=qca&dt=rw&dt=rm&dt=ss&dt=t&ie=UTF-8&oe=UTF-8&otf=1&ssel=0&tsel=0&tk=xxxx&q=wow+apo \"HTTP/2 200 OK\"\n",
      "INFO:httpx:HTTP Request: GET https://translate.googleapis.com/translate_a/single?client=gtx&sl=de&tl=en&hl=en&dt=at&dt=bd&dt=ex&dt=ld&dt=md&dt=qca&dt=rw&dt=rm&dt=ss&dt=t&ie=UTF-8&oe=UTF-8&otf=1&ssel=0&tsel=0&tk=xxxx&q=Great+App+Well+done+Dashen+Bank \"HTTP/2 200 OK\"\n",
      "INFO:httpx:HTTP Request: GET https://translate.googleapis.com/translate_a/single?client=gtx&sl=de&tl=en&hl=en&dt=at&dt=bd&dt=ex&dt=ld&dt=md&dt=qca&dt=rw&dt=rm&dt=ss&dt=t&ie=UTF-8&oe=UTF-8&otf=1&ssel=0&tsel=0&tk=xxxx&q=Wow+Dashen+Super+App \"HTTP/2 200 OK\"\n",
      "INFO:httpx:HTTP Request: GET https://translate.googleapis.com/translate_a/single?client=gtx&sl=fi&tl=en&hl=en&dt=at&dt=bd&dt=ex&dt=ld&dt=md&dt=qca&dt=rw&dt=rm&dt=ss&dt=t&ie=UTF-8&oe=UTF-8&otf=1&ssel=0&tsel=0&tk=xxxx&q=tanku \"HTTP/2 200 OK\"\n",
      "INFO:httpx:HTTP Request: GET https://translate.googleapis.com/translate_a/single?client=gtx&sl=af&tl=en&hl=en&dt=at&dt=bd&dt=ex&dt=ld&dt=md&dt=qca&dt=rw&dt=rm&dt=ss&dt=t&ie=UTF-8&oe=UTF-8&otf=1&ssel=0&tsel=0&tk=xxxx&q=Wow%21+like+his+name+Super+App... \"HTTP/2 200 OK\"\n",
      "INFO:httpx:HTTP Request: GET https://translate.googleapis.com/translate_a/single?client=gtx&sl=af&tl=en&hl=en&dt=at&dt=bd&dt=ex&dt=ld&dt=md&dt=qca&dt=rw&dt=rm&dt=ss&dt=t&ie=UTF-8&oe=UTF-8&otf=1&ssel=0&tsel=0&tk=xxxx&q=it%27s+Be+Come+Busy+%26not+working+good \"HTTP/2 200 OK\"\n",
      "INFO:httpx:HTTP Request: GET https://translate.googleapis.com/translate_a/single?client=gtx&sl=so&tl=en&hl=en&dt=at&dt=bd&dt=ex&dt=ld&dt=md&dt=qca&dt=rw&dt=rm&dt=ss&dt=t&ie=UTF-8&oe=UTF-8&otf=1&ssel=0&tsel=0&tk=xxxx&q=goood \"HTTP/2 200 OK\"\n",
      "INFO:httpx:HTTP Request: GET https://translate.googleapis.com/translate_a/single?client=gtx&sl=so&tl=en&hl=en&dt=at&dt=bd&dt=ex&dt=ld&dt=md&dt=qca&dt=rw&dt=rm&dt=ss&dt=t&ie=UTF-8&oe=UTF-8&otf=1&ssel=0&tsel=0&tk=xxxx&q=V+good \"HTTP/2 200 OK\"\n",
      "INFO:httpx:HTTP Request: GET https://translate.googleapis.com/translate_a/single?client=gtx&sl=so&tl=en&hl=en&dt=at&dt=bd&dt=ex&dt=ld&dt=md&dt=qca&dt=rw&dt=rm&dt=ss&dt=t&ie=UTF-8&oe=UTF-8&otf=1&ssel=0&tsel=0&tk=xxxx&q=No+good \"HTTP/2 200 OK\"\n",
      "INFO:httpx:HTTP Request: GET https://translate.googleapis.com/translate_a/single?client=gtx&sl=sw&tl=en&hl=en&dt=at&dt=bd&dt=ex&dt=ld&dt=md&dt=qca&dt=rw&dt=rm&dt=ss&dt=t&ie=UTF-8&oe=UTF-8&otf=1&ssel=0&tsel=0&tk=xxxx&q=Wow+amazing+app \"HTTP/2 200 OK\"\n",
      "INFO:httpx:HTTP Request: GET https://translate.googleapis.com/translate_a/single?client=gtx&sl=ca&tl=en&hl=en&dt=at&dt=bd&dt=ex&dt=ld&dt=md&dt=qca&dt=rw&dt=rm&dt=ss&dt=t&ie=UTF-8&oe=UTF-8&otf=1&ssel=0&tsel=0&tk=xxxx&q=perfect \"HTTP/2 200 OK\"\n"
     ]
    }
   ],
   "source": [
    "df=await dq.translate_non_english_text(\"content\")"
   ]
  },
  {
   "cell_type": "code",
   "execution_count": 313,
   "id": "cef4c97c",
   "metadata": {},
   "outputs": [
    {
     "data": {
      "text/plain": [
       "(449, 5)"
      ]
     },
     "execution_count": 313,
     "metadata": {},
     "output_type": "execute_result"
    }
   ],
   "source": [
    "df.shape"
   ]
  },
  {
   "cell_type": "code",
   "execution_count": 315,
   "id": "3c84ebb1",
   "metadata": {},
   "outputs": [
    {
     "name": "stdout",
     "output_type": "stream",
     "text": [
      "[INFO] Dropped 4 non-English rows from 'content' column.\n"
     ]
    }
   ],
   "source": [
    "df=dq.filter_english_text('content')"
   ]
  },
  {
   "cell_type": "markdown",
   "id": "5941313a",
   "metadata": {},
   "source": [
    "### Inconsistencies and Inaccuracies"
   ]
  },
  {
   "cell_type": "code",
   "execution_count": 316,
   "id": "0f13b809",
   "metadata": {},
   "outputs": [],
   "source": [
    "#drop redundancies and clean column names\n",
    "df=dq.drop_redundant_columns()"
   ]
  },
  {
   "cell_type": "code",
   "execution_count": 317,
   "id": "d1f60871",
   "metadata": {},
   "outputs": [],
   "source": [
    "df=dq.convert_columns_to_datetime()"
   ]
  },
  {
   "cell_type": "code",
   "execution_count": 318,
   "id": "5a756656",
   "metadata": {},
   "outputs": [
    {
     "name": "stdout",
     "output_type": "stream",
     "text": [
      "<class 'pandas.core.frame.DataFrame'>\n",
      "Index: 327 entries, 3 to 448\n",
      "Data columns (total 5 columns):\n",
      " #   Column         Non-Null Count  Dtype \n",
      "---  ------         --------------  ----- \n",
      " 0   userName       327 non-null    object\n",
      " 1   content        327 non-null    object\n",
      " 2   score          327 non-null    int64 \n",
      " 3   thumbsUpCount  327 non-null    int64 \n",
      " 4   at             327 non-null    object\n",
      "dtypes: int64(2), object(3)\n",
      "memory usage: 15.3+ KB\n"
     ]
    }
   ],
   "source": [
    "df.info()"
   ]
  },
  {
   "cell_type": "code",
   "execution_count": 319,
   "id": "4d58f6f7",
   "metadata": {},
   "outputs": [
    {
     "data": {
      "text/plain": [
       "Index(['userName', 'content', 'score', 'thumbsUpCount', 'at'], dtype='object')"
      ]
     },
     "execution_count": 319,
     "metadata": {},
     "output_type": "execute_result"
    }
   ],
   "source": [
    "df.columns"
   ]
  },
  {
   "cell_type": "code",
   "execution_count": 320,
   "id": "9cbdc0d5",
   "metadata": {},
   "outputs": [
    {
     "name": "stdout",
     "output_type": "stream",
     "text": [
      "[INFO] Renamed columns: {'content': 'review', 'score': 'rating', 'at': 'date'}\n"
     ]
    }
   ],
   "source": [
    "#  df=df.rename(columns={\"content\": \"review\", \"score\": \"rating\", \"at\": \"date\"}, inplace=True)\n",
    "df=dq.rename_and_prioritize_columns({\"content\": \"review\", \"score\": \"rating\", \"at\": \"date\"})"
   ]
  },
  {
   "cell_type": "code",
   "execution_count": 321,
   "id": "6674e038",
   "metadata": {},
   "outputs": [],
   "source": [
    "df[\"bank\"] = BANK  # add bank name column\n",
    "df[\"source\"] = \"Google Store\"  # add source column"
   ]
  },
  {
   "cell_type": "code",
   "execution_count": 322,
   "id": "0142f406",
   "metadata": {},
   "outputs": [
    {
     "data": {
      "text/html": [
       "<div>\n",
       "<style scoped>\n",
       "    .dataframe tbody tr th:only-of-type {\n",
       "        vertical-align: middle;\n",
       "    }\n",
       "\n",
       "    .dataframe tbody tr th {\n",
       "        vertical-align: top;\n",
       "    }\n",
       "\n",
       "    .dataframe thead th {\n",
       "        text-align: right;\n",
       "    }\n",
       "</style>\n",
       "<table border=\"1\" class=\"dataframe\">\n",
       "  <thead>\n",
       "    <tr style=\"text-align: right;\">\n",
       "      <th></th>\n",
       "      <th>review</th>\n",
       "      <th>rating</th>\n",
       "      <th>date</th>\n",
       "      <th>userName</th>\n",
       "      <th>thumbsUpCount</th>\n",
       "      <th>bank</th>\n",
       "      <th>source</th>\n",
       "    </tr>\n",
       "  </thead>\n",
       "  <tbody>\n",
       "    <tr>\n",
       "      <th>308</th>\n",
       "      <td>Greately improved since it was released! I rea...</td>\n",
       "      <td>5</td>\n",
       "      <td>2025-03-10 13:06:34</td>\n",
       "      <td>Nebiyou Fasil</td>\n",
       "      <td>56</td>\n",
       "      <td>Dashen</td>\n",
       "      <td>Google Store</td>\n",
       "    </tr>\n",
       "    <tr>\n",
       "      <th>123</th>\n",
       "      <td>A powerful, local solution that rivals any glo...</td>\n",
       "      <td>5</td>\n",
       "      <td>2025-04-22 08:05:12</td>\n",
       "      <td>eden Tesfaye</td>\n",
       "      <td>3</td>\n",
       "      <td>Dashen</td>\n",
       "      <td>Google Store</td>\n",
       "    </tr>\n",
       "    <tr>\n",
       "      <th>43</th>\n",
       "      <td>its my choice</td>\n",
       "      <td>5</td>\n",
       "      <td>2025-05-15 21:15:44</td>\n",
       "      <td>TESFA Dagne</td>\n",
       "      <td>0</td>\n",
       "      <td>Dashen</td>\n",
       "      <td>Google Store</td>\n",
       "    </tr>\n",
       "    <tr>\n",
       "      <th>5</th>\n",
       "      <td>very good for this app</td>\n",
       "      <td>5</td>\n",
       "      <td>2025-05-31 21:03:18</td>\n",
       "      <td>Tamiru Mamo</td>\n",
       "      <td>0</td>\n",
       "      <td>Dashen</td>\n",
       "      <td>Google Store</td>\n",
       "    </tr>\n",
       "    <tr>\n",
       "      <th>183</th>\n",
       "      <td>The app keeps getting better with every update...</td>\n",
       "      <td>5</td>\n",
       "      <td>2025-04-21 13:17:43</td>\n",
       "      <td>Hiwi Alex</td>\n",
       "      <td>5</td>\n",
       "      <td>Dashen</td>\n",
       "      <td>Google Store</td>\n",
       "    </tr>\n",
       "    <tr>\n",
       "      <th>143</th>\n",
       "      <td>one of the best digital platforms I’ve used! F...</td>\n",
       "      <td>5</td>\n",
       "      <td>2025-04-21 17:40:32</td>\n",
       "      <td>firaol Gosa</td>\n",
       "      <td>4</td>\n",
       "      <td>Dashen</td>\n",
       "      <td>Google Store</td>\n",
       "    </tr>\n",
       "    <tr>\n",
       "      <th>89</th>\n",
       "      <td>It is one of the best app ever use it and do it</td>\n",
       "      <td>5</td>\n",
       "      <td>2025-04-26 11:22:42</td>\n",
       "      <td>Muluken Nega</td>\n",
       "      <td>1</td>\n",
       "      <td>Dashen</td>\n",
       "      <td>Google Store</td>\n",
       "    </tr>\n",
       "    <tr>\n",
       "      <th>337</th>\n",
       "      <td>It's Amazing App I Have Seen Ever</td>\n",
       "      <td>5</td>\n",
       "      <td>2025-02-13 22:00:54</td>\n",
       "      <td>Amanuel Teklay</td>\n",
       "      <td>3</td>\n",
       "      <td>Dashen</td>\n",
       "      <td>Google Store</td>\n",
       "    </tr>\n",
       "    <tr>\n",
       "      <th>274</th>\n",
       "      <td>wallahi very fantastic Bank</td>\n",
       "      <td>5</td>\n",
       "      <td>2025-03-31 17:29:06</td>\n",
       "      <td>Masud Rabi</td>\n",
       "      <td>2</td>\n",
       "      <td>Dashen</td>\n",
       "      <td>Google Store</td>\n",
       "    </tr>\n",
       "    <tr>\n",
       "      <th>182</th>\n",
       "      <td>Dashen Bank Super App is a game-changer! The u...</td>\n",
       "      <td>5</td>\n",
       "      <td>2025-04-21 13:23:07</td>\n",
       "      <td>Endale G/selassie</td>\n",
       "      <td>6</td>\n",
       "      <td>Dashen</td>\n",
       "      <td>Google Store</td>\n",
       "    </tr>\n",
       "  </tbody>\n",
       "</table>\n",
       "</div>"
      ],
      "text/plain": [
       "                                                review  rating  \\\n",
       "308  Greately improved since it was released! I rea...       5   \n",
       "123  A powerful, local solution that rivals any glo...       5   \n",
       "43                                       its my choice       5   \n",
       "5                               very good for this app       5   \n",
       "183  The app keeps getting better with every update...       5   \n",
       "143  one of the best digital platforms I’ve used! F...       5   \n",
       "89     It is one of the best app ever use it and do it       5   \n",
       "337                  It's Amazing App I Have Seen Ever       5   \n",
       "274                        wallahi very fantastic Bank       5   \n",
       "182  Dashen Bank Super App is a game-changer! The u...       5   \n",
       "\n",
       "                    date           userName  thumbsUpCount    bank  \\\n",
       "308  2025-03-10 13:06:34      Nebiyou Fasil             56  Dashen   \n",
       "123  2025-04-22 08:05:12       eden Tesfaye              3  Dashen   \n",
       "43   2025-05-15 21:15:44        TESFA Dagne              0  Dashen   \n",
       "5    2025-05-31 21:03:18        Tamiru Mamo              0  Dashen   \n",
       "183  2025-04-21 13:17:43          Hiwi Alex              5  Dashen   \n",
       "143  2025-04-21 17:40:32        firaol Gosa              4  Dashen   \n",
       "89   2025-04-26 11:22:42       Muluken Nega              1  Dashen   \n",
       "337  2025-02-13 22:00:54     Amanuel Teklay              3  Dashen   \n",
       "274  2025-03-31 17:29:06         Masud Rabi              2  Dashen   \n",
       "182  2025-04-21 13:23:07  Endale G/selassie              6  Dashen   \n",
       "\n",
       "           source  \n",
       "308  Google Store  \n",
       "123  Google Store  \n",
       "43   Google Store  \n",
       "5    Google Store  \n",
       "183  Google Store  \n",
       "143  Google Store  \n",
       "89   Google Store  \n",
       "337  Google Store  \n",
       "274  Google Store  \n",
       "182  Google Store  "
      ]
     },
     "execution_count": 322,
     "metadata": {},
     "output_type": "execute_result"
    }
   ],
   "source": [
    "df.sample(10)"
   ]
  },
  {
   "cell_type": "markdown",
   "id": "62483744",
   "metadata": {},
   "source": [
    "## 6. Analyze & Visualize"
   ]
  },
  {
   "cell_type": "code",
   "execution_count": 323,
   "id": "c746be46",
   "metadata": {},
   "outputs": [],
   "source": [
    "#instantiate the ReviewVisualizer class\n",
    "viz = ReviewVisualizer(df)"
   ]
  },
  {
   "cell_type": "code",
   "execution_count": 324,
   "id": "75ef8025",
   "metadata": {},
   "outputs": [
    {
     "name": "stdout",
     "output_type": "stream",
     "text": [
      "[INFO] Saved plot: plots/wordcloud_reviews.png\n"
     ]
    },
    {
     "data": {
      "image/png": "[encoded data removed]",
      "text/plain": [
       "<Figure size 640x480 with 1 Axes>"
      ]
     },
     "metadata": {},
     "output_type": "display_data"
    }
   ],
   "source": [
    "#Plot a word cloud of the reviews\n",
    "viz.plot_wordcloud()"
   ]
  },
  {
   "cell_type": "code",
   "execution_count": 325,
   "id": "c10709a5",
   "metadata": {},
   "outputs": [
    {
     "name": "stderr",
     "output_type": "stream",
     "text": [
      "INFO:matplotlib.category:Using categorical units to plot a list of strings that are all parsable as floats or dates. If these strings should be plotted as numbers, cast to the appropriate data type before plotting.\n",
      "INFO:matplotlib.category:Using categorical units to plot a list of strings that are all parsable as floats or dates. If these strings should be plotted as numbers, cast to the appropriate data type before plotting.\n"
     ]
    },
    {
     "name": "stdout",
     "output_type": "stream",
     "text": [
      "[INFO] Saved plot: plots/rating_distribution.png\n"
     ]
    },
    {
     "data": {
      "image/png": "[encoded data removed]",
      "text/plain": [
       "<Figure size 640x480 with 1 Axes>"
      ]
     },
     "metadata": {},
     "output_type": "display_data"
    }
   ],
   "source": [
    "# Plot rating distribution\n",
    "viz.plot_rating_distribution()"
   ]
  },
  {
   "cell_type": "code",
   "execution_count": 326,
   "id": "344ee32c",
   "metadata": {},
   "outputs": [
    {
     "name": "stderr",
     "output_type": "stream",
     "text": [
      "INFO:matplotlib.category:Using categorical units to plot a list of strings that are all parsable as floats or dates. If these strings should be plotted as numbers, cast to the appropriate data type before plotting.\n",
      "INFO:matplotlib.category:Using categorical units to plot a list of strings that are all parsable as floats or dates. If these strings should be plotted as numbers, cast to the appropriate data type before plotting.\n"
     ]
    },
    {
     "name": "stdout",
     "output_type": "stream",
     "text": [
      "[INFO] Saved plot: plots/thumbs_up_vs_rating.png\n"
     ]
    },
    {
     "data": {
      "image/png": "[encoded data removed]",
      "text/plain": [
       "<Figure size 640x480 with 1 Axes>"
      ]
     },
     "metadata": {},
     "output_type": "display_data"
    }
   ],
   "source": [
    "#Plot thumbs up against rating\n",
    "viz.plot_thumbs_up_vs_rating()"
   ]
  },
  {
   "cell_type": "code",
   "execution_count": 327,
   "id": "02d0af65",
   "metadata": {},
   "outputs": [
    {
     "name": "stderr",
     "output_type": "stream",
     "text": [
      "INFO:matplotlib.category:Using categorical units to plot a list of strings that are all parsable as floats or dates. If these strings should be plotted as numbers, cast to the appropriate data type before plotting.\n",
      "INFO:matplotlib.category:Using categorical units to plot a list of strings that are all parsable as floats or dates. If these strings should be plotted as numbers, cast to the appropriate data type before plotting.\n"
     ]
    },
    {
     "name": "stdout",
     "output_type": "stream",
     "text": [
      "[INFO] Saved plot: plots/sentiment_vs_rating.png\n"
     ]
    },
    {
     "data": {
      "image/png": "[encoded data removed]",
      "text/plain": [
       "<Figure size 640x480 with 1 Axes>"
      ]
     },
     "metadata": {},
     "output_type": "display_data"
    }
   ],
   "source": [
    "# Plot Sentiment against Ratin\n",
    "viz.plot_sentiment_vs_rating()"
   ]
  },
  {
   "cell_type": "code",
   "execution_count": 328,
   "id": "12c34499",
   "metadata": {},
   "outputs": [
    {
     "name": "stdout",
     "output_type": "stream",
     "text": [
      "[INFO] Dropped columns: ['userName', 'thumbsUpCount']\n"
     ]
    }
   ],
   "source": [
    "df=dq.drop_columns(['userName','thumbsUpCount'])"
   ]
  },
  {
   "cell_type": "markdown",
   "id": "ec823589",
   "metadata": {},
   "source": [
    "### Export Cleaned Data"
   ]
  },
  {
   "cell_type": "code",
   "execution_count": 329,
   "id": "a8267438",
   "metadata": {},
   "outputs": [],
   "source": [
    "# Save to csv\n",
    "df.to_csv(CLEANED_DATA_PATH, index=False)"
   ]
  },
  {
   "cell_type": "code",
   "execution_count": 330,
   "id": "f10a8046",
   "metadata": {},
   "outputs": [
    {
     "data": {
      "text/html": [
       "<div>\n",
       "<style scoped>\n",
       "    .dataframe tbody tr th:only-of-type {\n",
       "        vertical-align: middle;\n",
       "    }\n",
       "\n",
       "    .dataframe tbody tr th {\n",
       "        vertical-align: top;\n",
       "    }\n",
       "\n",
       "    .dataframe thead th {\n",
       "        text-align: right;\n",
       "    }\n",
       "</style>\n",
       "<table border=\"1\" class=\"dataframe\">\n",
       "  <thead>\n",
       "    <tr style=\"text-align: right;\">\n",
       "      <th></th>\n",
       "      <th>review</th>\n",
       "      <th>rating</th>\n",
       "      <th>date</th>\n",
       "      <th>bank</th>\n",
       "      <th>source</th>\n",
       "    </tr>\n",
       "  </thead>\n",
       "  <tbody>\n",
       "    <tr>\n",
       "      <th>155</th>\n",
       "      <td>The Dashen supperapp is a revolutionary advanc...</td>\n",
       "      <td>5</td>\n",
       "      <td>2025-04-21 15:40:34</td>\n",
       "      <td>Dashen</td>\n",
       "      <td>Google Store</td>\n",
       "    </tr>\n",
       "    <tr>\n",
       "      <th>421</th>\n",
       "      <td>U can't create account</td>\n",
       "      <td>1</td>\n",
       "      <td>2025-01-15 11:08:21</td>\n",
       "      <td>Dashen</td>\n",
       "      <td>Google Store</td>\n",
       "    </tr>\n",
       "    <tr>\n",
       "      <th>167</th>\n",
       "      <td>This Is An Amazing App with Uniqe Quality,Easy...</td>\n",
       "      <td>5</td>\n",
       "      <td>2025-04-21 14:39:18</td>\n",
       "      <td>Dashen</td>\n",
       "      <td>Google Store</td>\n",
       "    </tr>\n",
       "    <tr>\n",
       "      <th>246</th>\n",
       "      <td>It's bad for the connection and too many days ...</td>\n",
       "      <td>1</td>\n",
       "      <td>2025-04-12 16:59:05</td>\n",
       "      <td>Dashen</td>\n",
       "      <td>Google Store</td>\n",
       "    </tr>\n",
       "    <tr>\n",
       "      <th>130</th>\n",
       "      <td>A proudly Ethiopia innovation that delivers be...</td>\n",
       "      <td>5</td>\n",
       "      <td>2025-04-21 22:21:45</td>\n",
       "      <td>Dashen</td>\n",
       "      <td>Google Store</td>\n",
       "    </tr>\n",
       "    <tr>\n",
       "      <th>206</th>\n",
       "      <td>it is the most amazing mobile app</td>\n",
       "      <td>5</td>\n",
       "      <td>2025-04-21 11:40:59</td>\n",
       "      <td>Dashen</td>\n",
       "      <td>Google Store</td>\n",
       "    </tr>\n",
       "    <tr>\n",
       "      <th>110</th>\n",
       "      <td>i love this app esp 3 click that make e-commer...</td>\n",
       "      <td>5</td>\n",
       "      <td>2025-04-22 13:24:34</td>\n",
       "      <td>Dashen</td>\n",
       "      <td>Google Store</td>\n",
       "    </tr>\n",
       "    <tr>\n",
       "      <th>148</th>\n",
       "      <td>Super Easy To Use and Fast Transaction.</td>\n",
       "      <td>5</td>\n",
       "      <td>2025-04-21 16:28:55</td>\n",
       "      <td>Dashen</td>\n",
       "      <td>Google Store</td>\n",
       "    </tr>\n",
       "    <tr>\n",
       "      <th>365</th>\n",
       "      <td>All Good We Need More</td>\n",
       "      <td>3</td>\n",
       "      <td>2025-01-31 08:58:16</td>\n",
       "      <td>Dashen</td>\n",
       "      <td>Google Store</td>\n",
       "    </tr>\n",
       "    <tr>\n",
       "      <th>196</th>\n",
       "      <td>easiness to use with fast response time</td>\n",
       "      <td>5</td>\n",
       "      <td>2025-04-21 12:01:20</td>\n",
       "      <td>Dashen</td>\n",
       "      <td>Google Store</td>\n",
       "    </tr>\n",
       "    <tr>\n",
       "      <th>280</th>\n",
       "      <td>Nice Application</td>\n",
       "      <td>4</td>\n",
       "      <td>2025-03-27 16:12:42</td>\n",
       "      <td>Dashen</td>\n",
       "      <td>Google Store</td>\n",
       "    </tr>\n",
       "    <tr>\n",
       "      <th>248</th>\n",
       "      <td>The app is not working properly, I have been u...</td>\n",
       "      <td>1</td>\n",
       "      <td>2025-04-10 12:42:10</td>\n",
       "      <td>Dashen</td>\n",
       "      <td>Google Store</td>\n",
       "    </tr>\n",
       "    <tr>\n",
       "      <th>278</th>\n",
       "      <td>I’ve been using the Dashen Bank Super App for ...</td>\n",
       "      <td>5</td>\n",
       "      <td>2025-03-28 09:30:54</td>\n",
       "      <td>Dashen</td>\n",
       "      <td>Google Store</td>\n",
       "    </tr>\n",
       "    <tr>\n",
       "      <th>170</th>\n",
       "      <td>A solid step forward by Dashen Bank. The Super...</td>\n",
       "      <td>5</td>\n",
       "      <td>2025-04-21 14:16:45</td>\n",
       "      <td>Dashen</td>\n",
       "      <td>Google Store</td>\n",
       "    </tr>\n",
       "    <tr>\n",
       "      <th>65</th>\n",
       "      <td>I am highly excited by using this application ...</td>\n",
       "      <td>5</td>\n",
       "      <td>2025-05-03 15:53:37</td>\n",
       "      <td>Dashen</td>\n",
       "      <td>Google Store</td>\n",
       "    </tr>\n",
       "  </tbody>\n",
       "</table>\n",
       "</div>"
      ],
      "text/plain": [
       "                                                review  rating  \\\n",
       "155  The Dashen supperapp is a revolutionary advanc...       5   \n",
       "421                             U can't create account       1   \n",
       "167  This Is An Amazing App with Uniqe Quality,Easy...       5   \n",
       "246  It's bad for the connection and too many days ...       1   \n",
       "130  A proudly Ethiopia innovation that delivers be...       5   \n",
       "206                  it is the most amazing mobile app       5   \n",
       "110  i love this app esp 3 click that make e-commer...       5   \n",
       "148            Super Easy To Use and Fast Transaction.       5   \n",
       "365                              All Good We Need More       3   \n",
       "196            easiness to use with fast response time       5   \n",
       "280                                   Nice Application       4   \n",
       "248  The app is not working properly, I have been u...       1   \n",
       "278  I’ve been using the Dashen Bank Super App for ...       5   \n",
       "170  A solid step forward by Dashen Bank. The Super...       5   \n",
       "65   I am highly excited by using this application ...       5   \n",
       "\n",
       "                    date    bank        source  \n",
       "155  2025-04-21 15:40:34  Dashen  Google Store  \n",
       "421  2025-01-15 11:08:21  Dashen  Google Store  \n",
       "167  2025-04-21 14:39:18  Dashen  Google Store  \n",
       "246  2025-04-12 16:59:05  Dashen  Google Store  \n",
       "130  2025-04-21 22:21:45  Dashen  Google Store  \n",
       "206  2025-04-21 11:40:59  Dashen  Google Store  \n",
       "110  2025-04-22 13:24:34  Dashen  Google Store  \n",
       "148  2025-04-21 16:28:55  Dashen  Google Store  \n",
       "365  2025-01-31 08:58:16  Dashen  Google Store  \n",
       "196  2025-04-21 12:01:20  Dashen  Google Store  \n",
       "280  2025-03-27 16:12:42  Dashen  Google Store  \n",
       "248  2025-04-10 12:42:10  Dashen  Google Store  \n",
       "278  2025-03-28 09:30:54  Dashen  Google Store  \n",
       "170  2025-04-21 14:16:45  Dashen  Google Store  \n",
       "65   2025-05-03 15:53:37  Dashen  Google Store  "
      ]
     },
     "execution_count": 330,
     "metadata": {},
     "output_type": "execute_result"
    }
   ],
   "source": [
    "df.sample(15)"
   ]
  }
 ],
 "metadata": {
  "kernelspec": {
   "display_name": "venv",
   "language": "python",
   "name": "python3"
  },
  "language_info": {
   "codemirror_mode": {
    "name": "ipython",
    "version": 3
   },
   "file_extension": ".py",
   "mimetype": "text/x-python",
   "name": "python",
   "nbconvert_exporter": "python",
   "pygments_lexer": "ipython3",
   "version": "3.10.12"
  }
 },
 "nbformat": 4,
 "nbformat_minor": 5
}
