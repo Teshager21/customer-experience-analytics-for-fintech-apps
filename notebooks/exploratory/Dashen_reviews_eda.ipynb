{
 "cells": [
  {
   "cell_type": "markdown",
   "id": "eaeaf81f",
   "metadata": {},
   "source": [
    "# BANK APP REVIEWS - DASHEN"
   ]
  },
  {
   "cell_type": "code",
   "execution_count": 5,
   "id": "4aa6f112",
   "metadata": {},
   "outputs": [
    {
     "name": "stdout",
     "output_type": "stream",
     "text": [
      "The autoreload extension is already loaded. To reload it, use:\n",
      "  %reload_ext autoreload\n"
     ]
    }
   ],
   "source": [
    "#auto loading\n",
    "%load_ext autoreload\n",
    "%autoreload 2"
   ]
  },
  {
   "cell_type": "markdown",
   "id": "f092f420",
   "metadata": {},
   "source": [
    "## 🧱 1. Setup & Imports"
   ]
  },
  {
   "cell_type": "code",
   "execution_count": 6,
   "id": "c11eff5d",
   "metadata": {},
   "outputs": [],
   "source": [
    "import warnings\n",
    "import pandas as pd\n",
    "from data.data_quality_utils import DataQualityUtils\n",
    "from data.load_data import load_local_data\n",
    "from visualization.visualizer import ReviewVisualizer"
   ]
  },
  {
   "cell_type": "code",
   "execution_count": 7,
   "id": "4ba24590",
   "metadata": {},
   "outputs": [],
   "source": [
    "warnings.filterwarnings(\"ignore\")"
   ]
  },
  {
   "cell_type": "code",
   "execution_count": 8,
   "id": "cdf6a238",
   "metadata": {},
   "outputs": [],
   "source": [
    "# variable\n",
    "BANK=\"Dashen\""
   ]
  },
  {
   "cell_type": "code",
   "execution_count": 9,
   "id": "560fbaa0",
   "metadata": {},
   "outputs": [],
   "source": [
    "#paths\n",
    "RAW_DATA_PATH='../../data/raw/'+BANK+'_raw_reviews.csv'\n",
    "CLEANED_DATA_PATH='../../data/interim/'+BANK+'_cleaned_reviews.csv'"
   ]
  },
  {
   "cell_type": "markdown",
   "id": "339d89b3",
   "metadata": {},
   "source": [
    "## 📦 2. Data Loading & Overview  <a id= '2-data-loading--overview'></a>"
   ]
  },
  {
   "cell_type": "code",
   "execution_count": 10,
   "id": "0764cf5c",
   "metadata": {},
   "outputs": [
    {
     "name": "stderr",
     "output_type": "stream",
     "text": [
      "INFO:data.load_data:Loading data from: /home/teshager/Documents/10Academy/repositories/projects/customer-experience-analytics-for-fintech-apps/data/raw/Dashen_raw_reviews.csv (type=csv)\n",
      "INFO:data.load_data:Data loaded successfully. Shape: (448, 10)\n"
     ]
    },
    {
     "data": {
      "text/html": [
       "<div>\n",
       "<style scoped>\n",
       "    .dataframe tbody tr th:only-of-type {\n",
       "        vertical-align: middle;\n",
       "    }\n",
       "\n",
       "    .dataframe tbody tr th {\n",
       "        vertical-align: top;\n",
       "    }\n",
       "\n",
       "    .dataframe thead th {\n",
       "        text-align: right;\n",
       "    }\n",
       "</style>\n",
       "<table border=\"1\" class=\"dataframe\">\n",
       "  <thead>\n",
       "    <tr style=\"text-align: right;\">\n",
       "      <th></th>\n",
       "      <th>reviewId</th>\n",
       "      <th>userName</th>\n",
       "      <th>userImage</th>\n",
       "      <th>content</th>\n",
       "      <th>score</th>\n",
       "      <th>thumbsUpCount</th>\n",
       "      <th>reviewCreatedVersion</th>\n",
       "      <th>at</th>\n",
       "      <th>replyContent</th>\n",
       "      <th>repliedAt</th>\n",
       "    </tr>\n",
       "  </thead>\n",
       "  <tbody>\n",
       "    <tr>\n",
       "      <th>0</th>\n",
       "      <td>22818807-3368-446c-8a3b-d3ca2e07a2d8</td>\n",
       "      <td>OBSA KA</td>\n",
       "      <td>https://play-lh.googleusercontent.com/a-/ALV-U...</td>\n",
       "      <td>love</td>\n",
       "      <td>3</td>\n",
       "      <td>0</td>\n",
       "      <td>1.0.16</td>\n",
       "      <td>2025-06-06 00:15:44</td>\n",
       "      <td>NaN</td>\n",
       "      <td>NaN</td>\n",
       "    </tr>\n",
       "    <tr>\n",
       "      <th>1</th>\n",
       "      <td>6ece1f5e-55f2-404d-b980-1cb45823180f</td>\n",
       "      <td>Masersha</td>\n",
       "      <td>https://play-lh.googleusercontent.com/a/ACg8oc...</td>\n",
       "      <td>መቸሸጠ</td>\n",
       "      <td>5</td>\n",
       "      <td>0</td>\n",
       "      <td>1.0.16</td>\n",
       "      <td>2025-06-03 19:40:31</td>\n",
       "      <td>NaN</td>\n",
       "      <td>NaN</td>\n",
       "    </tr>\n",
       "    <tr>\n",
       "      <th>2</th>\n",
       "      <td>765ff69f-5274-45c5-985b-81b8d01e1874</td>\n",
       "      <td>Koki Mulugeta</td>\n",
       "      <td>https://play-lh.googleusercontent.com/a/ACg8oc...</td>\n",
       "      <td>wow</td>\n",
       "      <td>5</td>\n",
       "      <td>0</td>\n",
       "      <td>NaN</td>\n",
       "      <td>2025-06-03 17:30:11</td>\n",
       "      <td>NaN</td>\n",
       "      <td>NaN</td>\n",
       "    </tr>\n",
       "    <tr>\n",
       "      <th>3</th>\n",
       "      <td>7db66b6a-a044-43f1-a7ad-ea8a10815548</td>\n",
       "      <td>Badhasa Dassaalany</td>\n",
       "      <td>https://play-lh.googleusercontent.com/a/ACg8oc...</td>\n",
       "      <td>gadaa</td>\n",
       "      <td>5</td>\n",
       "      <td>0</td>\n",
       "      <td>1.0.16</td>\n",
       "      <td>2025-06-01 17:10:53</td>\n",
       "      <td>NaN</td>\n",
       "      <td>NaN</td>\n",
       "    </tr>\n",
       "    <tr>\n",
       "      <th>4</th>\n",
       "      <td>caf4a80c-85db-4b49-ab9c-a0b55e152317</td>\n",
       "      <td>Nebiyu Getachew Mamo</td>\n",
       "      <td>https://play-lh.googleusercontent.com/a-/ALV-U...</td>\n",
       "      <td>Massive upgrade from the Amole app.</td>\n",
       "      <td>5</td>\n",
       "      <td>0</td>\n",
       "      <td>1.0.16</td>\n",
       "      <td>2025-05-31 23:04:04</td>\n",
       "      <td>NaN</td>\n",
       "      <td>NaN</td>\n",
       "    </tr>\n",
       "  </tbody>\n",
       "</table>\n",
       "</div>"
      ],
      "text/plain": [
       "                               reviewId              userName  \\\n",
       "0  22818807-3368-446c-8a3b-d3ca2e07a2d8               OBSA KA   \n",
       "1  6ece1f5e-55f2-404d-b980-1cb45823180f              Masersha   \n",
       "2  765ff69f-5274-45c5-985b-81b8d01e1874         Koki Mulugeta   \n",
       "3  7db66b6a-a044-43f1-a7ad-ea8a10815548    Badhasa Dassaalany   \n",
       "4  caf4a80c-85db-4b49-ab9c-a0b55e152317  Nebiyu Getachew Mamo   \n",
       "\n",
       "                                           userImage  \\\n",
       "0  https://play-lh.googleusercontent.com/a-/ALV-U...   \n",
       "1  https://play-lh.googleusercontent.com/a/ACg8oc...   \n",
       "2  https://play-lh.googleusercontent.com/a/ACg8oc...   \n",
       "3  https://play-lh.googleusercontent.com/a/ACg8oc...   \n",
       "4  https://play-lh.googleusercontent.com/a-/ALV-U...   \n",
       "\n",
       "                               content  score  thumbsUpCount  \\\n",
       "0                                 love      3              0   \n",
       "1                                 መቸሸጠ      5              0   \n",
       "2                                  wow      5              0   \n",
       "3                                gadaa      5              0   \n",
       "4  Massive upgrade from the Amole app.      5              0   \n",
       "\n",
       "  reviewCreatedVersion                   at  replyContent  repliedAt  \n",
       "0               1.0.16  2025-06-06 00:15:44           NaN        NaN  \n",
       "1               1.0.16  2025-06-03 19:40:31           NaN        NaN  \n",
       "2                  NaN  2025-06-03 17:30:11           NaN        NaN  \n",
       "3               1.0.16  2025-06-01 17:10:53           NaN        NaN  \n",
       "4               1.0.16  2025-05-31 23:04:04           NaN        NaN  "
      ]
     },
     "execution_count": 10,
     "metadata": {},
     "output_type": "execute_result"
    }
   ],
   "source": [
    "# Load the stock news sentiment data\n",
    "df = load_local_data(RAW_DATA_PATH,)\n",
    "df.head()"
   ]
  },
  {
   "cell_type": "markdown",
   "id": "78a5a158",
   "metadata": {},
   "source": [
    "### Dataset Overview"
   ]
  },
  {
   "cell_type": "code",
   "execution_count": 11,
   "id": "89101fbd",
   "metadata": {},
   "outputs": [
    {
     "data": {
      "text/html": [
       "<div>\n",
       "<style scoped>\n",
       "    .dataframe tbody tr th:only-of-type {\n",
       "        vertical-align: middle;\n",
       "    }\n",
       "\n",
       "    .dataframe tbody tr th {\n",
       "        vertical-align: top;\n",
       "    }\n",
       "\n",
       "    .dataframe thead th {\n",
       "        text-align: right;\n",
       "    }\n",
       "</style>\n",
       "<table border=\"1\" class=\"dataframe\">\n",
       "  <thead>\n",
       "    <tr style=\"text-align: right;\">\n",
       "      <th></th>\n",
       "      <th>reviewId</th>\n",
       "      <th>userName</th>\n",
       "      <th>userImage</th>\n",
       "      <th>content</th>\n",
       "      <th>score</th>\n",
       "      <th>thumbsUpCount</th>\n",
       "      <th>reviewCreatedVersion</th>\n",
       "      <th>at</th>\n",
       "      <th>replyContent</th>\n",
       "      <th>repliedAt</th>\n",
       "    </tr>\n",
       "  </thead>\n",
       "  <tbody>\n",
       "    <tr>\n",
       "      <th>430</th>\n",
       "      <td>bdfd757f-9d41-450e-a765-96219cf37841</td>\n",
       "      <td>Dereje Belay</td>\n",
       "      <td>https://play-lh.googleusercontent.com/a-/ALV-U...</td>\n",
       "      <td>Truly, db =&gt; AlwaysOneStepAhead !!</td>\n",
       "      <td>5</td>\n",
       "      <td>3</td>\n",
       "      <td>1.0.3</td>\n",
       "      <td>2025-01-14 21:37:50</td>\n",
       "      <td>NaN</td>\n",
       "      <td>NaN</td>\n",
       "    </tr>\n",
       "    <tr>\n",
       "      <th>336</th>\n",
       "      <td>7a363704-a9b9-4805-99ce-288543537fc5</td>\n",
       "      <td>Amanuel Teklay</td>\n",
       "      <td>https://play-lh.googleusercontent.com/a-/ALV-U...</td>\n",
       "      <td>it's amazing app i have seen ever</td>\n",
       "      <td>5</td>\n",
       "      <td>3</td>\n",
       "      <td>1.0.7</td>\n",
       "      <td>2025-02-13 22:00:54</td>\n",
       "      <td>NaN</td>\n",
       "      <td>NaN</td>\n",
       "    </tr>\n",
       "    <tr>\n",
       "      <th>128</th>\n",
       "      <td>328e442a-c92a-42dc-a91c-44d71556a34e</td>\n",
       "      <td>Helen Tigistu</td>\n",
       "      <td>https://play-lh.googleusercontent.com/a/ACg8oc...</td>\n",
       "      <td>one of the best digital platforms I've used! f...</td>\n",
       "      <td>5</td>\n",
       "      <td>3</td>\n",
       "      <td>1.0.14</td>\n",
       "      <td>2025-04-21 22:32:42</td>\n",
       "      <td>NaN</td>\n",
       "      <td>NaN</td>\n",
       "    </tr>\n",
       "    <tr>\n",
       "      <th>139</th>\n",
       "      <td>31eddf1f-9725-472b-b29a-53377dac71ca</td>\n",
       "      <td>Yihnalem Aknaw</td>\n",
       "      <td>https://play-lh.googleusercontent.com/a/ACg8oc...</td>\n",
       "      <td>It is,really super because of its unique offer...</td>\n",
       "      <td>5</td>\n",
       "      <td>8</td>\n",
       "      <td>1.0.15</td>\n",
       "      <td>2025-04-21 17:57:03</td>\n",
       "      <td>NaN</td>\n",
       "      <td>NaN</td>\n",
       "    </tr>\n",
       "    <tr>\n",
       "      <th>371</th>\n",
       "      <td>060af032-65e4-4574-a5fd-5318accf9982</td>\n",
       "      <td>Bereket Zerihun</td>\n",
       "      <td>https://play-lh.googleusercontent.com/a-/ALV-U...</td>\n",
       "      <td>Just Wow</td>\n",
       "      <td>5</td>\n",
       "      <td>3</td>\n",
       "      <td>1.0.4</td>\n",
       "      <td>2025-01-29 08:41:59</td>\n",
       "      <td>NaN</td>\n",
       "      <td>NaN</td>\n",
       "    </tr>\n",
       "    <tr>\n",
       "      <th>69</th>\n",
       "      <td>4e018789-e27b-4b7c-b1d4-f79dd0affa68</td>\n",
       "      <td>Nesru “Nesrudin” Dendir</td>\n",
       "      <td>https://play-lh.googleusercontent.com/a-/ALV-U...</td>\n",
       "      <td>yes i want dashen super open</td>\n",
       "      <td>5</td>\n",
       "      <td>2</td>\n",
       "      <td>1.0.16</td>\n",
       "      <td>2025-05-02 23:55:12</td>\n",
       "      <td>NaN</td>\n",
       "      <td>NaN</td>\n",
       "    </tr>\n",
       "    <tr>\n",
       "      <th>444</th>\n",
       "      <td>cad7278a-410d-4eed-805d-d1a942009cc3</td>\n",
       "      <td>TSEGAW WORKIE</td>\n",
       "      <td>https://play-lh.googleusercontent.com/a/ACg8oc...</td>\n",
       "      <td>Waw Great and innovated,user friendly, always ...</td>\n",
       "      <td>5</td>\n",
       "      <td>27</td>\n",
       "      <td>1.0.1</td>\n",
       "      <td>2025-01-13 21:01:12</td>\n",
       "      <td>NaN</td>\n",
       "      <td>NaN</td>\n",
       "    </tr>\n",
       "    <tr>\n",
       "      <th>174</th>\n",
       "      <td>fdcc34cc-699d-46ba-bcde-69f82e340aa4</td>\n",
       "      <td>Tensae Mulugeta</td>\n",
       "      <td>https://play-lh.googleusercontent.com/a-/ALV-U...</td>\n",
       "      <td>easy &amp;,simple to use</td>\n",
       "      <td>5</td>\n",
       "      <td>2</td>\n",
       "      <td>1.0.15</td>\n",
       "      <td>2025-04-21 14:06:30</td>\n",
       "      <td>NaN</td>\n",
       "      <td>NaN</td>\n",
       "    </tr>\n",
       "    <tr>\n",
       "      <th>377</th>\n",
       "      <td>3ab4ca6d-3d00-417c-93da-3eb40592a726</td>\n",
       "      <td>Degu Ye</td>\n",
       "      <td>https://play-lh.googleusercontent.com/a/ACg8oc...</td>\n",
       "      <td>V good ❗️</td>\n",
       "      <td>5</td>\n",
       "      <td>3</td>\n",
       "      <td>NaN</td>\n",
       "      <td>2025-01-24 09:40:41</td>\n",
       "      <td>NaN</td>\n",
       "      <td>NaN</td>\n",
       "    </tr>\n",
       "    <tr>\n",
       "      <th>289</th>\n",
       "      <td>ab2084ae-01be-4061-a4ba-0d5db11e2874</td>\n",
       "      <td>Zulthan Two</td>\n",
       "      <td>https://play-lh.googleusercontent.com/a/ACg8oc...</td>\n",
       "      <td>Best</td>\n",
       "      <td>5</td>\n",
       "      <td>2</td>\n",
       "      <td>1.0.14</td>\n",
       "      <td>2025-03-20 13:16:10</td>\n",
       "      <td>NaN</td>\n",
       "      <td>NaN</td>\n",
       "    </tr>\n",
       "  </tbody>\n",
       "</table>\n",
       "</div>"
      ],
      "text/plain": [
       "                                 reviewId                 userName  \\\n",
       "430  bdfd757f-9d41-450e-a765-96219cf37841             Dereje Belay   \n",
       "336  7a363704-a9b9-4805-99ce-288543537fc5           Amanuel Teklay   \n",
       "128  328e442a-c92a-42dc-a91c-44d71556a34e            Helen Tigistu   \n",
       "139  31eddf1f-9725-472b-b29a-53377dac71ca           Yihnalem Aknaw   \n",
       "371  060af032-65e4-4574-a5fd-5318accf9982          Bereket Zerihun   \n",
       "69   4e018789-e27b-4b7c-b1d4-f79dd0affa68  Nesru “Nesrudin” Dendir   \n",
       "444  cad7278a-410d-4eed-805d-d1a942009cc3            TSEGAW WORKIE   \n",
       "174  fdcc34cc-699d-46ba-bcde-69f82e340aa4          Tensae Mulugeta   \n",
       "377  3ab4ca6d-3d00-417c-93da-3eb40592a726                  Degu Ye   \n",
       "289  ab2084ae-01be-4061-a4ba-0d5db11e2874              Zulthan Two   \n",
       "\n",
       "                                             userImage  \\\n",
       "430  https://play-lh.googleusercontent.com/a-/ALV-U...   \n",
       "336  https://play-lh.googleusercontent.com/a-/ALV-U...   \n",
       "128  https://play-lh.googleusercontent.com/a/ACg8oc...   \n",
       "139  https://play-lh.googleusercontent.com/a/ACg8oc...   \n",
       "371  https://play-lh.googleusercontent.com/a-/ALV-U...   \n",
       "69   https://play-lh.googleusercontent.com/a-/ALV-U...   \n",
       "444  https://play-lh.googleusercontent.com/a/ACg8oc...   \n",
       "174  https://play-lh.googleusercontent.com/a-/ALV-U...   \n",
       "377  https://play-lh.googleusercontent.com/a/ACg8oc...   \n",
       "289  https://play-lh.googleusercontent.com/a/ACg8oc...   \n",
       "\n",
       "                                               content  score  thumbsUpCount  \\\n",
       "430                 Truly, db => AlwaysOneStepAhead !!      5              3   \n",
       "336                  it's amazing app i have seen ever      5              3   \n",
       "128  one of the best digital platforms I've used! f...      5              3   \n",
       "139  It is,really super because of its unique offer...      5              8   \n",
       "371                                           Just Wow      5              3   \n",
       "69                        yes i want dashen super open      5              2   \n",
       "444  Waw Great and innovated,user friendly, always ...      5             27   \n",
       "174                               easy &,simple to use      5              2   \n",
       "377                                          V good ❗️      5              3   \n",
       "289                                               Best      5              2   \n",
       "\n",
       "    reviewCreatedVersion                   at  replyContent  repliedAt  \n",
       "430                1.0.3  2025-01-14 21:37:50           NaN        NaN  \n",
       "336                1.0.7  2025-02-13 22:00:54           NaN        NaN  \n",
       "128               1.0.14  2025-04-21 22:32:42           NaN        NaN  \n",
       "139               1.0.15  2025-04-21 17:57:03           NaN        NaN  \n",
       "371                1.0.4  2025-01-29 08:41:59           NaN        NaN  \n",
       "69                1.0.16  2025-05-02 23:55:12           NaN        NaN  \n",
       "444                1.0.1  2025-01-13 21:01:12           NaN        NaN  \n",
       "174               1.0.15  2025-04-21 14:06:30           NaN        NaN  \n",
       "377                  NaN  2025-01-24 09:40:41           NaN        NaN  \n",
       "289               1.0.14  2025-03-20 13:16:10           NaN        NaN  "
      ]
     },
     "execution_count": 11,
     "metadata": {},
     "output_type": "execute_result"
    }
   ],
   "source": [
    "#view sample data\n",
    "df.sample(10)"
   ]
  },
  {
   "cell_type": "code",
   "execution_count": 12,
   "id": "d66401bf",
   "metadata": {},
   "outputs": [
    {
     "data": {
      "text/html": [
       "<div>\n",
       "<style scoped>\n",
       "    .dataframe tbody tr th:only-of-type {\n",
       "        vertical-align: middle;\n",
       "    }\n",
       "\n",
       "    .dataframe tbody tr th {\n",
       "        vertical-align: top;\n",
       "    }\n",
       "\n",
       "    .dataframe thead th {\n",
       "        text-align: right;\n",
       "    }\n",
       "</style>\n",
       "<table border=\"1\" class=\"dataframe\">\n",
       "  <thead>\n",
       "    <tr style=\"text-align: right;\">\n",
       "      <th></th>\n",
       "      <th>reviewId</th>\n",
       "      <th>userName</th>\n",
       "      <th>userImage</th>\n",
       "      <th>content</th>\n",
       "      <th>score</th>\n",
       "      <th>thumbsUpCount</th>\n",
       "      <th>reviewCreatedVersion</th>\n",
       "      <th>at</th>\n",
       "      <th>replyContent</th>\n",
       "      <th>repliedAt</th>\n",
       "    </tr>\n",
       "  </thead>\n",
       "  <tbody>\n",
       "    <tr>\n",
       "      <th>443</th>\n",
       "      <td>650ad650-9821-4bda-a43f-88fec69ab680</td>\n",
       "      <td>Geresu Ku</td>\n",
       "      <td>https://play-lh.googleusercontent.com/a-/ALV-U...</td>\n",
       "      <td>Best</td>\n",
       "      <td>5</td>\n",
       "      <td>5</td>\n",
       "      <td>NaN</td>\n",
       "      <td>2025-01-13 21:11:58</td>\n",
       "      <td>NaN</td>\n",
       "      <td>NaN</td>\n",
       "    </tr>\n",
       "    <tr>\n",
       "      <th>444</th>\n",
       "      <td>cad7278a-410d-4eed-805d-d1a942009cc3</td>\n",
       "      <td>TSEGAW WORKIE</td>\n",
       "      <td>https://play-lh.googleusercontent.com/a/ACg8oc...</td>\n",
       "      <td>Waw Great and innovated,user friendly, always ...</td>\n",
       "      <td>5</td>\n",
       "      <td>27</td>\n",
       "      <td>1.0.1</td>\n",
       "      <td>2025-01-13 21:01:12</td>\n",
       "      <td>NaN</td>\n",
       "      <td>NaN</td>\n",
       "    </tr>\n",
       "    <tr>\n",
       "      <th>445</th>\n",
       "      <td>b92aaec0-99b9-49ac-ae55-03c04a52aec5</td>\n",
       "      <td>Kemal Keyire</td>\n",
       "      <td>https://play-lh.googleusercontent.com/a-/ALV-U...</td>\n",
       "      <td>It's Best waww 🙏</td>\n",
       "      <td>5</td>\n",
       "      <td>15</td>\n",
       "      <td>1.0.1</td>\n",
       "      <td>2025-01-13 09:37:19</td>\n",
       "      <td>NaN</td>\n",
       "      <td>NaN</td>\n",
       "    </tr>\n",
       "    <tr>\n",
       "      <th>446</th>\n",
       "      <td>7ed6c112-916c-44c2-b0ae-af2ff9d8c58f</td>\n",
       "      <td>Anwarf ahmed</td>\n",
       "      <td>https://play-lh.googleusercontent.com/a/ACg8oc...</td>\n",
       "      <td>Always one step ahead</td>\n",
       "      <td>5</td>\n",
       "      <td>22</td>\n",
       "      <td>1.0.1</td>\n",
       "      <td>2025-01-13 09:15:03</td>\n",
       "      <td>NaN</td>\n",
       "      <td>NaN</td>\n",
       "    </tr>\n",
       "    <tr>\n",
       "      <th>447</th>\n",
       "      <td>60f2b9c0-9fc9-49d9-97c8-7c1f9aca05fe</td>\n",
       "      <td>Abdulmejid Abdela</td>\n",
       "      <td>https://play-lh.googleusercontent.com/a-/ALV-U...</td>\n",
       "      <td>Like Me, I Hope It Works Better Than Before.</td>\n",
       "      <td>5</td>\n",
       "      <td>18</td>\n",
       "      <td>1.0.0</td>\n",
       "      <td>2025-01-11 11:36:49</td>\n",
       "      <td>NaN</td>\n",
       "      <td>NaN</td>\n",
       "    </tr>\n",
       "  </tbody>\n",
       "</table>\n",
       "</div>"
      ],
      "text/plain": [
       "                                 reviewId           userName  \\\n",
       "443  650ad650-9821-4bda-a43f-88fec69ab680          Geresu Ku   \n",
       "444  cad7278a-410d-4eed-805d-d1a942009cc3      TSEGAW WORKIE   \n",
       "445  b92aaec0-99b9-49ac-ae55-03c04a52aec5       Kemal Keyire   \n",
       "446  7ed6c112-916c-44c2-b0ae-af2ff9d8c58f       Anwarf ahmed   \n",
       "447  60f2b9c0-9fc9-49d9-97c8-7c1f9aca05fe  Abdulmejid Abdela   \n",
       "\n",
       "                                             userImage  \\\n",
       "443  https://play-lh.googleusercontent.com/a-/ALV-U...   \n",
       "444  https://play-lh.googleusercontent.com/a/ACg8oc...   \n",
       "445  https://play-lh.googleusercontent.com/a-/ALV-U...   \n",
       "446  https://play-lh.googleusercontent.com/a/ACg8oc...   \n",
       "447  https://play-lh.googleusercontent.com/a-/ALV-U...   \n",
       "\n",
       "                                               content  score  thumbsUpCount  \\\n",
       "443                                               Best      5              5   \n",
       "444  Waw Great and innovated,user friendly, always ...      5             27   \n",
       "445                                   It's Best waww 🙏      5             15   \n",
       "446                              Always one step ahead      5             22   \n",
       "447       Like Me, I Hope It Works Better Than Before.      5             18   \n",
       "\n",
       "    reviewCreatedVersion                   at  replyContent  repliedAt  \n",
       "443                  NaN  2025-01-13 21:11:58           NaN        NaN  \n",
       "444                1.0.1  2025-01-13 21:01:12           NaN        NaN  \n",
       "445                1.0.1  2025-01-13 09:37:19           NaN        NaN  \n",
       "446                1.0.1  2025-01-13 09:15:03           NaN        NaN  \n",
       "447                1.0.0  2025-01-11 11:36:49           NaN        NaN  "
      ]
     },
     "execution_count": 12,
     "metadata": {},
     "output_type": "execute_result"
    }
   ],
   "source": [
    "#see the last rows\n",
    "df.tail()"
   ]
  },
  {
   "cell_type": "code",
   "execution_count": 13,
   "id": "f1f497a6",
   "metadata": {},
   "outputs": [
    {
     "data": {
      "text/plain": [
       "(448, 10)"
      ]
     },
     "execution_count": 13,
     "metadata": {},
     "output_type": "execute_result"
    }
   ],
   "source": [
    "#shape of the dataset\n",
    "df.shape"
   ]
  },
  {
   "cell_type": "code",
   "execution_count": 14,
   "id": "77cea03a",
   "metadata": {},
   "outputs": [
    {
     "data": {
      "text/plain": [
       "Index(['reviewId', 'userName', 'userImage', 'content', 'score',\n",
       "       'thumbsUpCount', 'reviewCreatedVersion', 'at', 'replyContent',\n",
       "       'repliedAt'],\n",
       "      dtype='object')"
      ]
     },
     "execution_count": 14,
     "metadata": {},
     "output_type": "execute_result"
    }
   ],
   "source": [
    "df.columns"
   ]
  },
  {
   "cell_type": "markdown",
   "id": "9f9972b6",
   "metadata": {},
   "source": [
    "## 📐 3. Data Types & Basic Stats <a id='3-data-types--basic-stats'></a>"
   ]
  },
  {
   "cell_type": "code",
   "execution_count": 15,
   "id": "402fbaf8",
   "metadata": {},
   "outputs": [
    {
     "data": {
      "text/html": [
       "<div>\n",
       "<style scoped>\n",
       "    .dataframe tbody tr th:only-of-type {\n",
       "        vertical-align: middle;\n",
       "    }\n",
       "\n",
       "    .dataframe tbody tr th {\n",
       "        vertical-align: top;\n",
       "    }\n",
       "\n",
       "    .dataframe thead th {\n",
       "        text-align: right;\n",
       "    }\n",
       "</style>\n",
       "<table border=\"1\" class=\"dataframe\">\n",
       "  <thead>\n",
       "    <tr style=\"text-align: right;\">\n",
       "      <th></th>\n",
       "      <th>count</th>\n",
       "      <th>mean</th>\n",
       "      <th>std</th>\n",
       "      <th>min</th>\n",
       "      <th>25%</th>\n",
       "      <th>50%</th>\n",
       "      <th>75%</th>\n",
       "      <th>max</th>\n",
       "    </tr>\n",
       "  </thead>\n",
       "  <tbody>\n",
       "    <tr>\n",
       "      <th>score</th>\n",
       "      <td>448.0</td>\n",
       "      <td>4.475446</td>\n",
       "      <td>1.201909</td>\n",
       "      <td>1.0</td>\n",
       "      <td>5.0</td>\n",
       "      <td>5.0</td>\n",
       "      <td>5.0</td>\n",
       "      <td>5.0</td>\n",
       "    </tr>\n",
       "    <tr>\n",
       "      <th>thumbsUpCount</th>\n",
       "      <td>448.0</td>\n",
       "      <td>7.176339</td>\n",
       "      <td>24.049123</td>\n",
       "      <td>0.0</td>\n",
       "      <td>2.0</td>\n",
       "      <td>2.0</td>\n",
       "      <td>4.0</td>\n",
       "      <td>226.0</td>\n",
       "    </tr>\n",
       "    <tr>\n",
       "      <th>replyContent</th>\n",
       "      <td>0.0</td>\n",
       "      <td>NaN</td>\n",
       "      <td>NaN</td>\n",
       "      <td>NaN</td>\n",
       "      <td>NaN</td>\n",
       "      <td>NaN</td>\n",
       "      <td>NaN</td>\n",
       "      <td>NaN</td>\n",
       "    </tr>\n",
       "    <tr>\n",
       "      <th>repliedAt</th>\n",
       "      <td>0.0</td>\n",
       "      <td>NaN</td>\n",
       "      <td>NaN</td>\n",
       "      <td>NaN</td>\n",
       "      <td>NaN</td>\n",
       "      <td>NaN</td>\n",
       "      <td>NaN</td>\n",
       "      <td>NaN</td>\n",
       "    </tr>\n",
       "  </tbody>\n",
       "</table>\n",
       "</div>"
      ],
      "text/plain": [
       "               count      mean        std  min  25%  50%  75%    max\n",
       "score          448.0  4.475446   1.201909  1.0  5.0  5.0  5.0    5.0\n",
       "thumbsUpCount  448.0  7.176339  24.049123  0.0  2.0  2.0  4.0  226.0\n",
       "replyContent     0.0       NaN        NaN  NaN  NaN  NaN  NaN    NaN\n",
       "repliedAt        0.0       NaN        NaN  NaN  NaN  NaN  NaN    NaN"
      ]
     },
     "execution_count": 15,
     "metadata": {},
     "output_type": "execute_result"
    }
   ],
   "source": [
    "#Numerical Columns\n",
    "df.describe().T"
   ]
  },
  {
   "cell_type": "code",
   "execution_count": 16,
   "id": "b4594fc1",
   "metadata": {},
   "outputs": [
    {
     "data": {
      "text/html": [
       "<div>\n",
       "<style scoped>\n",
       "    .dataframe tbody tr th:only-of-type {\n",
       "        vertical-align: middle;\n",
       "    }\n",
       "\n",
       "    .dataframe tbody tr th {\n",
       "        vertical-align: top;\n",
       "    }\n",
       "\n",
       "    .dataframe thead th {\n",
       "        text-align: right;\n",
       "    }\n",
       "</style>\n",
       "<table border=\"1\" class=\"dataframe\">\n",
       "  <thead>\n",
       "    <tr style=\"text-align: right;\">\n",
       "      <th></th>\n",
       "      <th>count</th>\n",
       "      <th>unique</th>\n",
       "      <th>top</th>\n",
       "      <th>freq</th>\n",
       "    </tr>\n",
       "  </thead>\n",
       "  <tbody>\n",
       "    <tr>\n",
       "      <th>reviewId</th>\n",
       "      <td>448</td>\n",
       "      <td>448</td>\n",
       "      <td>0a694319-1c5e-4541-9a4c-048c16dcbf4f</td>\n",
       "      <td>1</td>\n",
       "    </tr>\n",
       "    <tr>\n",
       "      <th>userName</th>\n",
       "      <td>448</td>\n",
       "      <td>448</td>\n",
       "      <td>Sabri Mohammed</td>\n",
       "      <td>1</td>\n",
       "    </tr>\n",
       "    <tr>\n",
       "      <th>userImage</th>\n",
       "      <td>448</td>\n",
       "      <td>448</td>\n",
       "      <td>https://play-lh.googleusercontent.com/a/ACg8oc...</td>\n",
       "      <td>1</td>\n",
       "    </tr>\n",
       "    <tr>\n",
       "      <th>content</th>\n",
       "      <td>448</td>\n",
       "      <td>407</td>\n",
       "      <td>good</td>\n",
       "      <td>11</td>\n",
       "    </tr>\n",
       "    <tr>\n",
       "      <th>reviewCreatedVersion</th>\n",
       "      <td>357</td>\n",
       "      <td>11</td>\n",
       "      <td>1.0.14</td>\n",
       "      <td>99</td>\n",
       "    </tr>\n",
       "    <tr>\n",
       "      <th>at</th>\n",
       "      <td>448</td>\n",
       "      <td>448</td>\n",
       "      <td>2025-01-14 21:16:40</td>\n",
       "      <td>1</td>\n",
       "    </tr>\n",
       "  </tbody>\n",
       "</table>\n",
       "</div>"
      ],
      "text/plain": [
       "                     count unique  \\\n",
       "reviewId               448    448   \n",
       "userName               448    448   \n",
       "userImage              448    448   \n",
       "content                448    407   \n",
       "reviewCreatedVersion   357     11   \n",
       "at                     448    448   \n",
       "\n",
       "                                                                    top freq  \n",
       "reviewId                           0a694319-1c5e-4541-9a4c-048c16dcbf4f    1  \n",
       "userName                                                 Sabri Mohammed    1  \n",
       "userImage             https://play-lh.googleusercontent.com/a/ACg8oc...    1  \n",
       "content                                                            good   11  \n",
       "reviewCreatedVersion                                             1.0.14   99  \n",
       "at                                                  2025-01-14 21:16:40    1  "
      ]
     },
     "execution_count": 16,
     "metadata": {},
     "output_type": "execute_result"
    }
   ],
   "source": [
    "#for columns of object type\n",
    "df.describe(include=['O']).T"
   ]
  },
  {
   "cell_type": "code",
   "execution_count": 17,
   "id": "79b071e8",
   "metadata": {},
   "outputs": [
    {
     "name": "stdout",
     "output_type": "stream",
     "text": [
      "<class 'pandas.core.frame.DataFrame'>\n",
      "RangeIndex: 448 entries, 0 to 447\n",
      "Data columns (total 10 columns):\n",
      " #   Column                Non-Null Count  Dtype  \n",
      "---  ------                --------------  -----  \n",
      " 0   reviewId              448 non-null    object \n",
      " 1   userName              448 non-null    object \n",
      " 2   userImage             448 non-null    object \n",
      " 3   content               448 non-null    object \n",
      " 4   score                 448 non-null    int64  \n",
      " 5   thumbsUpCount         448 non-null    int64  \n",
      " 6   reviewCreatedVersion  357 non-null    object \n",
      " 7   at                    448 non-null    object \n",
      " 8   replyContent          0 non-null      float64\n",
      " 9   repliedAt             0 non-null      float64\n",
      "dtypes: float64(2), int64(2), object(6)\n",
      "memory usage: 35.1+ KB\n"
     ]
    }
   ],
   "source": [
    "# data types of the columns\n",
    "df.info()"
   ]
  },
  {
   "cell_type": "code",
   "execution_count": 18,
   "id": "039465bd",
   "metadata": {},
   "outputs": [
    {
     "data": {
      "text/plain": [
       "reviewId                448\n",
       "userName                448\n",
       "userImage               448\n",
       "at                      448\n",
       "content                 407\n",
       "thumbsUpCount            38\n",
       "reviewCreatedVersion     11\n",
       "score                     5\n",
       "replyContent              0\n",
       "repliedAt                 0\n",
       "dtype: int64"
      ]
     },
     "execution_count": 18,
     "metadata": {},
     "output_type": "execute_result"
    }
   ],
   "source": [
    "#distinct values in each column\n",
    "df.nunique().sort_values(ascending=False)"
   ]
  },
  {
   "cell_type": "markdown",
   "id": "a996f6d5",
   "metadata": {},
   "source": [
    "## 🔍 4. Data Quality Analysis <a id='4-data-quality-analysis'></a>"
   ]
  },
  {
   "cell_type": "code",
   "execution_count": 19,
   "id": "b0295a78",
   "metadata": {},
   "outputs": [],
   "source": [
    "#instantiate the DataQualityUtils class\n",
    "dq=DataQualityUtils(df)"
   ]
  },
  {
   "cell_type": "code",
   "execution_count": 20,
   "id": "f61b87ea",
   "metadata": {},
   "outputs": [
    {
     "data": {
      "text/html": [
       "<div>\n",
       "<style scoped>\n",
       "    .dataframe tbody tr th:only-of-type {\n",
       "        vertical-align: middle;\n",
       "    }\n",
       "\n",
       "    .dataframe tbody tr th {\n",
       "        vertical-align: top;\n",
       "    }\n",
       "\n",
       "    .dataframe thead th {\n",
       "        text-align: right;\n",
       "    }\n",
       "</style>\n",
       "<table border=\"1\" class=\"dataframe\">\n",
       "  <thead>\n",
       "    <tr style=\"text-align: right;\">\n",
       "      <th></th>\n",
       "      <th>#missing_values</th>\n",
       "      <th>percentage</th>\n",
       "    </tr>\n",
       "  </thead>\n",
       "  <tbody>\n",
       "    <tr>\n",
       "      <th>repliedAt</th>\n",
       "      <td>448</td>\n",
       "      <td>100.00%</td>\n",
       "    </tr>\n",
       "    <tr>\n",
       "      <th>replyContent</th>\n",
       "      <td>448</td>\n",
       "      <td>100.00%</td>\n",
       "    </tr>\n",
       "    <tr>\n",
       "      <th>reviewCreatedVersion</th>\n",
       "      <td>91</td>\n",
       "      <td>20.31%</td>\n",
       "    </tr>\n",
       "    <tr>\n",
       "      <th>reviewId</th>\n",
       "      <td>0</td>\n",
       "      <td>0.00%</td>\n",
       "    </tr>\n",
       "    <tr>\n",
       "      <th>userName</th>\n",
       "      <td>0</td>\n",
       "      <td>0.00%</td>\n",
       "    </tr>\n",
       "    <tr>\n",
       "      <th>userImage</th>\n",
       "      <td>0</td>\n",
       "      <td>0.00%</td>\n",
       "    </tr>\n",
       "    <tr>\n",
       "      <th>thumbsUpCount</th>\n",
       "      <td>0</td>\n",
       "      <td>0.00%</td>\n",
       "    </tr>\n",
       "    <tr>\n",
       "      <th>score</th>\n",
       "      <td>0</td>\n",
       "      <td>0.00%</td>\n",
       "    </tr>\n",
       "    <tr>\n",
       "      <th>content</th>\n",
       "      <td>0</td>\n",
       "      <td>0.00%</td>\n",
       "    </tr>\n",
       "    <tr>\n",
       "      <th>at</th>\n",
       "      <td>0</td>\n",
       "      <td>0.00%</td>\n",
       "    </tr>\n",
       "  </tbody>\n",
       "</table>\n",
       "</div>"
      ],
      "text/plain": [
       "                      #missing_values percentage\n",
       "repliedAt                         448    100.00%\n",
       "replyContent                      448    100.00%\n",
       "reviewCreatedVersion               91     20.31%\n",
       "reviewId                            0      0.00%\n",
       "userName                            0      0.00%\n",
       "userImage                           0      0.00%\n",
       "thumbsUpCount                       0      0.00%\n",
       "score                               0      0.00%\n",
       "content                             0      0.00%\n",
       "at                                  0      0.00%"
      ]
     },
     "execution_count": 20,
     "metadata": {},
     "output_type": "execute_result"
    }
   ],
   "source": [
    "#count of missing values per column\n",
    "dq.summary()"
   ]
  },
  {
   "cell_type": "markdown",
   "id": "b4ca61a8",
   "metadata": {},
   "source": [
    "### Missing Values"
   ]
  },
  {
   "cell_type": "code",
   "execution_count": 21,
   "id": "731377ae",
   "metadata": {},
   "outputs": [
    {
     "data": {
      "text/html": [
       "<div>\n",
       "<style scoped>\n",
       "    .dataframe tbody tr th:only-of-type {\n",
       "        vertical-align: middle;\n",
       "    }\n",
       "\n",
       "    .dataframe tbody tr th {\n",
       "        vertical-align: top;\n",
       "    }\n",
       "\n",
       "    .dataframe thead th {\n",
       "        text-align: right;\n",
       "    }\n",
       "</style>\n",
       "<table border=\"1\" class=\"dataframe\">\n",
       "  <thead>\n",
       "    <tr style=\"text-align: right;\">\n",
       "      <th></th>\n",
       "      <th>#missing_values</th>\n",
       "      <th>percentage</th>\n",
       "    </tr>\n",
       "  </thead>\n",
       "  <tbody>\n",
       "    <tr>\n",
       "      <th>replyContent</th>\n",
       "      <td>448</td>\n",
       "      <td>100.00%</td>\n",
       "    </tr>\n",
       "    <tr>\n",
       "      <th>repliedAt</th>\n",
       "      <td>448</td>\n",
       "      <td>100.00%</td>\n",
       "    </tr>\n",
       "    <tr>\n",
       "      <th>reviewCreatedVersion</th>\n",
       "      <td>91</td>\n",
       "      <td>20.31%</td>\n",
       "    </tr>\n",
       "  </tbody>\n",
       "</table>\n",
       "</div>"
      ],
      "text/plain": [
       "                      #missing_values percentage\n",
       "replyContent                      448    100.00%\n",
       "repliedAt                         448    100.00%\n",
       "reviewCreatedVersion               91     20.31%"
      ]
     },
     "execution_count": 21,
     "metadata": {},
     "output_type": "execute_result"
    }
   ],
   "source": [
    "#column with >5% nulls\n",
    "dq.columns_with_significant_missing_values(threshold=5)"
   ]
  },
  {
   "cell_type": "markdown",
   "id": "6ee86483",
   "metadata": {},
   "source": [
    "### Duplicates"
   ]
  },
  {
   "cell_type": "code",
   "execution_count": 22,
   "id": "e1021b8b",
   "metadata": {},
   "outputs": [
    {
     "data": {
      "text/plain": [
       "np.int64(0)"
      ]
     },
     "execution_count": 22,
     "metadata": {},
     "output_type": "execute_result"
    }
   ],
   "source": [
    "#count duplicates\n",
    "dq.count_duplicates()"
   ]
  },
  {
   "cell_type": "code",
   "execution_count": 23,
   "id": "d1690181",
   "metadata": {},
   "outputs": [
    {
     "name": "stdout",
     "output_type": "stream",
     "text": [
      "[INFO] Found 0 duplicated row(s).\n"
     ]
    },
    {
     "data": {
      "text/html": [
       "<div>\n",
       "<style scoped>\n",
       "    .dataframe tbody tr th:only-of-type {\n",
       "        vertical-align: middle;\n",
       "    }\n",
       "\n",
       "    .dataframe tbody tr th {\n",
       "        vertical-align: top;\n",
       "    }\n",
       "\n",
       "    .dataframe thead th {\n",
       "        text-align: right;\n",
       "    }\n",
       "</style>\n",
       "<table border=\"1\" class=\"dataframe\">\n",
       "  <thead>\n",
       "    <tr style=\"text-align: right;\">\n",
       "      <th></th>\n",
       "      <th>reviewId</th>\n",
       "      <th>userName</th>\n",
       "      <th>userImage</th>\n",
       "      <th>content</th>\n",
       "      <th>score</th>\n",
       "      <th>thumbsUpCount</th>\n",
       "      <th>reviewCreatedVersion</th>\n",
       "      <th>at</th>\n",
       "      <th>replyContent</th>\n",
       "      <th>repliedAt</th>\n",
       "    </tr>\n",
       "  </thead>\n",
       "  <tbody>\n",
       "  </tbody>\n",
       "</table>\n",
       "</div>"
      ],
      "text/plain": [
       "Empty DataFrame\n",
       "Columns: [reviewId, userName, userImage, content, score, thumbsUpCount, reviewCreatedVersion, at, replyContent, repliedAt]\n",
       "Index: []"
      ]
     },
     "execution_count": 23,
     "metadata": {},
     "output_type": "execute_result"
    }
   ],
   "source": [
    "#look at the duplicates\n",
    "dq.display_duplicates()"
   ]
  },
  {
   "cell_type": "markdown",
   "id": "cbff01de",
   "metadata": {},
   "source": [
    "### Invalid Values"
   ]
  },
  {
   "cell_type": "code",
   "execution_count": 24,
   "id": "d067cc0e",
   "metadata": {},
   "outputs": [
    {
     "data": {
      "text/plain": [
       "{}"
      ]
     },
     "execution_count": 24,
     "metadata": {},
     "output_type": "execute_result"
    }
   ],
   "source": [
    "dq.find_invalid_values()"
   ]
  },
  {
   "cell_type": "markdown",
   "id": "83468ef5",
   "metadata": {},
   "source": [
    "## 🧹 5. Data Cleaning  <a id='5-data-cleaning'></a>"
   ]
  },
  {
   "cell_type": "code",
   "execution_count": 25,
   "id": "494fc912",
   "metadata": {},
   "outputs": [],
   "source": [
    "#saving the original dataset for later use\n",
    "df_original=df.copy()"
   ]
  },
  {
   "cell_type": "code",
   "execution_count": 26,
   "id": "aea1fc12",
   "metadata": {},
   "outputs": [
    {
     "name": "stdout",
     "output_type": "stream",
     "text": [
      "[INFO] Dropped 0 duplicate row(s).\n"
     ]
    },
    {
     "data": {
      "text/html": [
       "<div>\n",
       "<style scoped>\n",
       "    .dataframe tbody tr th:only-of-type {\n",
       "        vertical-align: middle;\n",
       "    }\n",
       "\n",
       "    .dataframe tbody tr th {\n",
       "        vertical-align: top;\n",
       "    }\n",
       "\n",
       "    .dataframe thead th {\n",
       "        text-align: right;\n",
       "    }\n",
       "</style>\n",
       "<table border=\"1\" class=\"dataframe\">\n",
       "  <thead>\n",
       "    <tr style=\"text-align: right;\">\n",
       "      <th></th>\n",
       "      <th>reviewId</th>\n",
       "      <th>userName</th>\n",
       "      <th>userImage</th>\n",
       "      <th>content</th>\n",
       "      <th>score</th>\n",
       "      <th>thumbsUpCount</th>\n",
       "      <th>reviewCreatedVersion</th>\n",
       "      <th>at</th>\n",
       "      <th>replyContent</th>\n",
       "      <th>repliedAt</th>\n",
       "    </tr>\n",
       "  </thead>\n",
       "  <tbody>\n",
       "    <tr>\n",
       "      <th>124</th>\n",
       "      <td>9b5d99cc-8b0e-46d5-a846-ece397be1d99</td>\n",
       "      <td>Asefa</td>\n",
       "      <td>https://play-lh.googleusercontent.com/a/ACg8oc...</td>\n",
       "      <td>Assefa Genetu = Dashen superup is the latest a...</td>\n",
       "      <td>5</td>\n",
       "      <td>2</td>\n",
       "      <td>1.0.15</td>\n",
       "      <td>2025-04-22 06:14:51</td>\n",
       "      <td>NaN</td>\n",
       "      <td>NaN</td>\n",
       "    </tr>\n",
       "    <tr>\n",
       "      <th>128</th>\n",
       "      <td>328e442a-c92a-42dc-a91c-44d71556a34e</td>\n",
       "      <td>Helen Tigistu</td>\n",
       "      <td>https://play-lh.googleusercontent.com/a/ACg8oc...</td>\n",
       "      <td>one of the best digital platforms I've used! f...</td>\n",
       "      <td>5</td>\n",
       "      <td>3</td>\n",
       "      <td>1.0.14</td>\n",
       "      <td>2025-04-21 22:32:42</td>\n",
       "      <td>NaN</td>\n",
       "      <td>NaN</td>\n",
       "    </tr>\n",
       "    <tr>\n",
       "      <th>17</th>\n",
       "      <td>4a9c5167-439a-4c99-a6d4-ad143b13bcd8</td>\n",
       "      <td>Tewodros Tsegayeed</td>\n",
       "      <td>https://play-lh.googleusercontent.com/a-/ALV-U...</td>\n",
       "      <td>nice application</td>\n",
       "      <td>5</td>\n",
       "      <td>0</td>\n",
       "      <td>1.0.16</td>\n",
       "      <td>2025-05-27 14:31:31</td>\n",
       "      <td>NaN</td>\n",
       "      <td>NaN</td>\n",
       "    </tr>\n",
       "    <tr>\n",
       "      <th>131</th>\n",
       "      <td>dd0238ce-336d-4dac-832c-8d01f44faf0a</td>\n",
       "      <td>Dagmawi Tadesse</td>\n",
       "      <td>https://play-lh.googleusercontent.com/a-/ALV-U...</td>\n",
       "      <td>Easy to use and has many options. It is the be...</td>\n",
       "      <td>5</td>\n",
       "      <td>3</td>\n",
       "      <td>1.0.15</td>\n",
       "      <td>2025-04-21 21:20:16</td>\n",
       "      <td>NaN</td>\n",
       "      <td>NaN</td>\n",
       "    </tr>\n",
       "    <tr>\n",
       "      <th>366</th>\n",
       "      <td>173957b9-fba2-4a7e-b9bc-ec34bbe0b52a</td>\n",
       "      <td>bereket abu</td>\n",
       "      <td>https://play-lh.googleusercontent.com/a-/ALV-U...</td>\n",
       "      <td>it was amazing app.....thank you dashen bank....</td>\n",
       "      <td>5</td>\n",
       "      <td>4</td>\n",
       "      <td>1.0.6</td>\n",
       "      <td>2025-01-30 23:28:41</td>\n",
       "      <td>NaN</td>\n",
       "      <td>NaN</td>\n",
       "    </tr>\n",
       "  </tbody>\n",
       "</table>\n",
       "</div>"
      ],
      "text/plain": [
       "                                 reviewId            userName  \\\n",
       "124  9b5d99cc-8b0e-46d5-a846-ece397be1d99               Asefa   \n",
       "128  328e442a-c92a-42dc-a91c-44d71556a34e       Helen Tigistu   \n",
       "17   4a9c5167-439a-4c99-a6d4-ad143b13bcd8  Tewodros Tsegayeed   \n",
       "131  dd0238ce-336d-4dac-832c-8d01f44faf0a     Dagmawi Tadesse   \n",
       "366  173957b9-fba2-4a7e-b9bc-ec34bbe0b52a         bereket abu   \n",
       "\n",
       "                                             userImage  \\\n",
       "124  https://play-lh.googleusercontent.com/a/ACg8oc...   \n",
       "128  https://play-lh.googleusercontent.com/a/ACg8oc...   \n",
       "17   https://play-lh.googleusercontent.com/a-/ALV-U...   \n",
       "131  https://play-lh.googleusercontent.com/a-/ALV-U...   \n",
       "366  https://play-lh.googleusercontent.com/a-/ALV-U...   \n",
       "\n",
       "                                               content  score  thumbsUpCount  \\\n",
       "124  Assefa Genetu = Dashen superup is the latest a...      5              2   \n",
       "128  one of the best digital platforms I've used! f...      5              3   \n",
       "17                                    nice application      5              0   \n",
       "131  Easy to use and has many options. It is the be...      5              3   \n",
       "366   it was amazing app.....thank you dashen bank....      5              4   \n",
       "\n",
       "    reviewCreatedVersion                   at  replyContent  repliedAt  \n",
       "124               1.0.15  2025-04-22 06:14:51           NaN        NaN  \n",
       "128               1.0.14  2025-04-21 22:32:42           NaN        NaN  \n",
       "17                1.0.16  2025-05-27 14:31:31           NaN        NaN  \n",
       "131               1.0.15  2025-04-21 21:20:16           NaN        NaN  \n",
       "366                1.0.6  2025-01-30 23:28:41           NaN        NaN  "
      ]
     },
     "execution_count": 26,
     "metadata": {},
     "output_type": "execute_result"
    }
   ],
   "source": [
    "#drop duplicated rows\n",
    "dq.drop_duplicates().sample(5)"
   ]
  },
  {
   "cell_type": "code",
   "execution_count": 27,
   "id": "3d257001",
   "metadata": {},
   "outputs": [
    {
     "name": "stdout",
     "output_type": "stream",
     "text": [
      "[INFO] Found 0 duplicated row(s).\n"
     ]
    },
    {
     "data": {
      "text/html": [
       "<div>\n",
       "<style scoped>\n",
       "    .dataframe tbody tr th:only-of-type {\n",
       "        vertical-align: middle;\n",
       "    }\n",
       "\n",
       "    .dataframe tbody tr th {\n",
       "        vertical-align: top;\n",
       "    }\n",
       "\n",
       "    .dataframe thead th {\n",
       "        text-align: right;\n",
       "    }\n",
       "</style>\n",
       "<table border=\"1\" class=\"dataframe\">\n",
       "  <thead>\n",
       "    <tr style=\"text-align: right;\">\n",
       "      <th></th>\n",
       "      <th>reviewId</th>\n",
       "      <th>userName</th>\n",
       "      <th>userImage</th>\n",
       "      <th>content</th>\n",
       "      <th>score</th>\n",
       "      <th>thumbsUpCount</th>\n",
       "      <th>reviewCreatedVersion</th>\n",
       "      <th>at</th>\n",
       "      <th>replyContent</th>\n",
       "      <th>repliedAt</th>\n",
       "    </tr>\n",
       "  </thead>\n",
       "  <tbody>\n",
       "  </tbody>\n",
       "</table>\n",
       "</div>"
      ],
      "text/plain": [
       "Empty DataFrame\n",
       "Columns: [reviewId, userName, userImage, content, score, thumbsUpCount, reviewCreatedVersion, at, replyContent, repliedAt]\n",
       "Index: []"
      ]
     },
     "execution_count": 27,
     "metadata": {},
     "output_type": "execute_result"
    }
   ],
   "source": [
    "# Check for duplicates again after dropping\n",
    "dq.display_duplicates()"
   ]
  },
  {
   "cell_type": "code",
   "execution_count": 28,
   "id": "62e4215c",
   "metadata": {},
   "outputs": [
    {
     "name": "stdout",
     "output_type": "stream",
     "text": [
      "[INFO] Dropped 0 row(s) with missing values in columns: ['content', 'score']\n"
     ]
    },
    {
     "data": {
      "text/html": [
       "<div>\n",
       "<style scoped>\n",
       "    .dataframe tbody tr th:only-of-type {\n",
       "        vertical-align: middle;\n",
       "    }\n",
       "\n",
       "    .dataframe tbody tr th {\n",
       "        vertical-align: top;\n",
       "    }\n",
       "\n",
       "    .dataframe thead th {\n",
       "        text-align: right;\n",
       "    }\n",
       "</style>\n",
       "<table border=\"1\" class=\"dataframe\">\n",
       "  <thead>\n",
       "    <tr style=\"text-align: right;\">\n",
       "      <th></th>\n",
       "      <th>reviewId</th>\n",
       "      <th>userName</th>\n",
       "      <th>userImage</th>\n",
       "      <th>content</th>\n",
       "      <th>score</th>\n",
       "      <th>thumbsUpCount</th>\n",
       "      <th>reviewCreatedVersion</th>\n",
       "      <th>at</th>\n",
       "      <th>replyContent</th>\n",
       "      <th>repliedAt</th>\n",
       "    </tr>\n",
       "  </thead>\n",
       "  <tbody>\n",
       "    <tr>\n",
       "      <th>207</th>\n",
       "      <td>02b8cc52-e23d-4b2f-b1e5-576c3560b859</td>\n",
       "      <td>Tamiru Abera</td>\n",
       "      <td>https://play-lh.googleusercontent.com/a-/ALV-U...</td>\n",
       "      <td>Dear Users of the Dashen Bank Super App,I have...</td>\n",
       "      <td>5</td>\n",
       "      <td>3</td>\n",
       "      <td>NaN</td>\n",
       "      <td>2025-04-21 11:35:59</td>\n",
       "      <td>NaN</td>\n",
       "      <td>NaN</td>\n",
       "    </tr>\n",
       "    <tr>\n",
       "      <th>80</th>\n",
       "      <td>17d46982-18ec-43a9-85f3-0ff927671f95</td>\n",
       "      <td>Hailu Regasa</td>\n",
       "      <td>https://play-lh.googleusercontent.com/a/ACg8oc...</td>\n",
       "      <td>best of best</td>\n",
       "      <td>5</td>\n",
       "      <td>1</td>\n",
       "      <td>NaN</td>\n",
       "      <td>2025-04-29 10:37:26</td>\n",
       "      <td>NaN</td>\n",
       "      <td>NaN</td>\n",
       "    </tr>\n",
       "    <tr>\n",
       "      <th>266</th>\n",
       "      <td>a4192549-595f-4a95-871b-aa0f9f14e4a2</td>\n",
       "      <td>MOHAMMED KUBI ZINABU</td>\n",
       "      <td>https://play-lh.googleusercontent.com/a-/ALV-U...</td>\n",
       "      <td>perfect</td>\n",
       "      <td>5</td>\n",
       "      <td>2</td>\n",
       "      <td>1.0.14</td>\n",
       "      <td>2025-04-03 02:17:59</td>\n",
       "      <td>NaN</td>\n",
       "      <td>NaN</td>\n",
       "    </tr>\n",
       "    <tr>\n",
       "      <th>65</th>\n",
       "      <td>f2852962-b983-44af-b296-241a3373477f</td>\n",
       "      <td>Wondim Tarko</td>\n",
       "      <td>https://play-lh.googleusercontent.com/a-/ALV-U...</td>\n",
       "      <td>excellent game changer App</td>\n",
       "      <td>5</td>\n",
       "      <td>1</td>\n",
       "      <td>1.0.16</td>\n",
       "      <td>2025-05-08 11:07:07</td>\n",
       "      <td>NaN</td>\n",
       "      <td>NaN</td>\n",
       "    </tr>\n",
       "    <tr>\n",
       "      <th>60</th>\n",
       "      <td>6fbffae4-0ab6-4bc9-a758-204abc102d89</td>\n",
       "      <td>Smegnew Abera Tola</td>\n",
       "      <td>https://play-lh.googleusercontent.com/a/ACg8oc...</td>\n",
       "      <td>This App makes digital banking effortless and ...</td>\n",
       "      <td>4</td>\n",
       "      <td>1</td>\n",
       "      <td>NaN</td>\n",
       "      <td>2025-05-10 10:01:21</td>\n",
       "      <td>NaN</td>\n",
       "      <td>NaN</td>\n",
       "    </tr>\n",
       "  </tbody>\n",
       "</table>\n",
       "</div>"
      ],
      "text/plain": [
       "                                 reviewId              userName  \\\n",
       "207  02b8cc52-e23d-4b2f-b1e5-576c3560b859          Tamiru Abera   \n",
       "80   17d46982-18ec-43a9-85f3-0ff927671f95          Hailu Regasa   \n",
       "266  a4192549-595f-4a95-871b-aa0f9f14e4a2  MOHAMMED KUBI ZINABU   \n",
       "65   f2852962-b983-44af-b296-241a3373477f          Wondim Tarko   \n",
       "60   6fbffae4-0ab6-4bc9-a758-204abc102d89    Smegnew Abera Tola   \n",
       "\n",
       "                                             userImage  \\\n",
       "207  https://play-lh.googleusercontent.com/a-/ALV-U...   \n",
       "80   https://play-lh.googleusercontent.com/a/ACg8oc...   \n",
       "266  https://play-lh.googleusercontent.com/a-/ALV-U...   \n",
       "65   https://play-lh.googleusercontent.com/a-/ALV-U...   \n",
       "60   https://play-lh.googleusercontent.com/a/ACg8oc...   \n",
       "\n",
       "                                               content  score  thumbsUpCount  \\\n",
       "207  Dear Users of the Dashen Bank Super App,I have...      5              3   \n",
       "80                                        best of best      5              1   \n",
       "266                                            perfect      5              2   \n",
       "65                          excellent game changer App      5              1   \n",
       "60   This App makes digital banking effortless and ...      4              1   \n",
       "\n",
       "    reviewCreatedVersion                   at  replyContent  repliedAt  \n",
       "207                  NaN  2025-04-21 11:35:59           NaN        NaN  \n",
       "80                   NaN  2025-04-29 10:37:26           NaN        NaN  \n",
       "266               1.0.14  2025-04-03 02:17:59           NaN        NaN  \n",
       "65                1.0.16  2025-05-08 11:07:07           NaN        NaN  \n",
       "60                   NaN  2025-05-10 10:01:21           NaN        NaN  "
      ]
     },
     "execution_count": 28,
     "metadata": {},
     "output_type": "execute_result"
    }
   ],
   "source": [
    "# Drop rows missing significant columns\n",
    "dq.drop_rows_with_missing_in_columns(['content','score']).sample(5)"
   ]
  },
  {
   "cell_type": "code",
   "execution_count": 29,
   "id": "5761e72c",
   "metadata": {},
   "outputs": [
    {
     "name": "stdout",
     "output_type": "stream",
     "text": [
      "[INFO] Dropping 2 empty column(s): ['replyContent', 'repliedAt']\n"
     ]
    }
   ],
   "source": [
    "#drop columns with no data\n",
    "df=dq.drop_empty_columns()"
   ]
  },
  {
   "cell_type": "code",
   "execution_count": 30,
   "id": "94d16f85",
   "metadata": {},
   "outputs": [
    {
     "name": "stdout",
     "output_type": "stream",
     "text": [
      "[INFO] Dropped columns: ['reviewId', 'userImage', 'reviewCreatedVersion']\n"
     ]
    }
   ],
   "source": [
    "#drop the reviewid column - it is not useful for analysis\n",
    "df = dq.drop_columns(['reviewId','userImage','reviewCreatedVersion'])"
   ]
  },
  {
   "cell_type": "code",
   "execution_count": 31,
   "id": "61565685",
   "metadata": {},
   "outputs": [
    {
     "data": {
      "text/plain": [
       "{}"
      ]
     },
     "execution_count": 31,
     "metadata": {},
     "output_type": "execute_result"
    }
   ],
   "source": [
    "dq.find_invalid_values()"
   ]
  },
  {
   "cell_type": "code",
   "execution_count": 32,
   "id": "84c68105",
   "metadata": {},
   "outputs": [
    {
     "name": "stdout",
     "output_type": "stream",
     "text": [
      "[INFO] Replaced emojis with text equivalents in 'content' column.\n"
     ]
    }
   ],
   "source": [
    "df=dq.replace_emojis_with_text(\"content\")"
   ]
  },
  {
   "cell_type": "code",
   "execution_count": 33,
   "id": "adca3dae",
   "metadata": {},
   "outputs": [],
   "source": [
    "# df=await dq.translate_non_english_text(\"content\")"
   ]
  },
  {
   "cell_type": "code",
   "execution_count": 34,
   "id": "cef4c97c",
   "metadata": {},
   "outputs": [
    {
     "data": {
      "text/plain": [
       "(448, 5)"
      ]
     },
     "execution_count": 34,
     "metadata": {},
     "output_type": "execute_result"
    }
   ],
   "source": [
    "df.shape"
   ]
  },
  {
   "cell_type": "code",
   "execution_count": 35,
   "id": "3c84ebb1",
   "metadata": {},
   "outputs": [
    {
     "name": "stdout",
     "output_type": "stream",
     "text": [
      "[INFO] Dropped 135 non-English rows from 'content' column.\n"
     ]
    }
   ],
   "source": [
    "df=dq.filter_english_text('content')"
   ]
  },
  {
   "cell_type": "markdown",
   "id": "5941313a",
   "metadata": {},
   "source": [
    "### Inconsistencies and Inaccuracies"
   ]
  },
  {
   "cell_type": "code",
   "execution_count": 36,
   "id": "0f13b809",
   "metadata": {},
   "outputs": [],
   "source": [
    "#drop redundancies and clean column names\n",
    "df=dq.drop_redundant_columns()"
   ]
  },
  {
   "cell_type": "code",
   "execution_count": 37,
   "id": "d1f60871",
   "metadata": {},
   "outputs": [],
   "source": [
    "df=dq.convert_columns_to_datetime()"
   ]
  },
  {
   "cell_type": "code",
   "execution_count": 38,
   "id": "5a756656",
   "metadata": {},
   "outputs": [
    {
     "name": "stdout",
     "output_type": "stream",
     "text": [
      "<class 'pandas.core.frame.DataFrame'>\n",
      "Index: 313 entries, 4 to 447\n",
      "Data columns (total 5 columns):\n",
      " #   Column         Non-Null Count  Dtype \n",
      "---  ------         --------------  ----- \n",
      " 0   userName       313 non-null    object\n",
      " 1   content        313 non-null    object\n",
      " 2   score          313 non-null    int64 \n",
      " 3   thumbsUpCount  313 non-null    int64 \n",
      " 4   at             313 non-null    object\n",
      "dtypes: int64(2), object(3)\n",
      "memory usage: 14.7+ KB\n"
     ]
    }
   ],
   "source": [
    "df.info()"
   ]
  },
  {
   "cell_type": "code",
   "execution_count": 39,
   "id": "4d58f6f7",
   "metadata": {},
   "outputs": [
    {
     "data": {
      "text/plain": [
       "Index(['userName', 'content', 'score', 'thumbsUpCount', 'at'], dtype='object')"
      ]
     },
     "execution_count": 39,
     "metadata": {},
     "output_type": "execute_result"
    }
   ],
   "source": [
    "df.columns"
   ]
  },
  {
   "cell_type": "code",
   "execution_count": 40,
   "id": "9cbdc0d5",
   "metadata": {},
   "outputs": [
    {
     "name": "stdout",
     "output_type": "stream",
     "text": [
      "[INFO] Renamed columns: {'content': 'review', 'score': 'rating', 'at': 'date'}\n"
     ]
    }
   ],
   "source": [
    "#  df=df.rename(columns={\"content\": \"review\", \"score\": \"rating\", \"at\": \"date\"}, inplace=True)\n",
    "df=dq.rename_and_prioritize_columns({\"content\": \"review\", \"score\": \"rating\", \"at\": \"date\"})"
   ]
  },
  {
   "cell_type": "code",
   "execution_count": 41,
   "id": "6674e038",
   "metadata": {},
   "outputs": [],
   "source": [
    "df[\"bank\"] = BANK  # add bank name column\n",
    "df[\"source\"] = \"Google Store\"  # add source column"
   ]
  },
  {
   "cell_type": "code",
   "execution_count": 42,
   "id": "0142f406",
   "metadata": {},
   "outputs": [
    {
     "data": {
      "text/html": [
       "<div>\n",
       "<style scoped>\n",
       "    .dataframe tbody tr th:only-of-type {\n",
       "        vertical-align: middle;\n",
       "    }\n",
       "\n",
       "    .dataframe tbody tr th {\n",
       "        vertical-align: top;\n",
       "    }\n",
       "\n",
       "    .dataframe thead th {\n",
       "        text-align: right;\n",
       "    }\n",
       "</style>\n",
       "<table border=\"1\" class=\"dataframe\">\n",
       "  <thead>\n",
       "    <tr style=\"text-align: right;\">\n",
       "      <th></th>\n",
       "      <th>review</th>\n",
       "      <th>rating</th>\n",
       "      <th>date</th>\n",
       "      <th>userName</th>\n",
       "      <th>thumbsUpCount</th>\n",
       "      <th>bank</th>\n",
       "      <th>source</th>\n",
       "    </tr>\n",
       "  </thead>\n",
       "  <tbody>\n",
       "    <tr>\n",
       "      <th>368</th>\n",
       "      <td>Excellent UI/UX and beyond Banking services</td>\n",
       "      <td>5</td>\n",
       "      <td>2025-01-30 17:39:16</td>\n",
       "      <td>Lidiya Bezabih</td>\n",
       "      <td>2</td>\n",
       "      <td>Dashen</td>\n",
       "      <td>Google Store</td>\n",
       "    </tr>\n",
       "    <tr>\n",
       "      <th>371</th>\n",
       "      <td>Just Wow</td>\n",
       "      <td>5</td>\n",
       "      <td>2025-01-29 08:41:59</td>\n",
       "      <td>Bereket Zerihun</td>\n",
       "      <td>3</td>\n",
       "      <td>Dashen</td>\n",
       "      <td>Google Store</td>\n",
       "    </tr>\n",
       "    <tr>\n",
       "      <th>293</th>\n",
       "      <td>I wanted to share some concerns about your Sup...</td>\n",
       "      <td>1</td>\n",
       "      <td>2025-03-19 15:49:23</td>\n",
       "      <td>Abdul Omar</td>\n",
       "      <td>6</td>\n",
       "      <td>Dashen</td>\n",
       "      <td>Google Store</td>\n",
       "    </tr>\n",
       "    <tr>\n",
       "      <th>139</th>\n",
       "      <td>It is,really super because of its unique offer...</td>\n",
       "      <td>5</td>\n",
       "      <td>2025-04-21 17:57:03</td>\n",
       "      <td>Yihnalem Aknaw</td>\n",
       "      <td>8</td>\n",
       "      <td>Dashen</td>\n",
       "      <td>Google Store</td>\n",
       "    </tr>\n",
       "    <tr>\n",
       "      <th>277</th>\n",
       "      <td>I’ve been using the Dashen Bank Super App for ...</td>\n",
       "      <td>5</td>\n",
       "      <td>2025-03-28 09:30:54</td>\n",
       "      <td>Senayzena Admit</td>\n",
       "      <td>135</td>\n",
       "      <td>Dashen</td>\n",
       "      <td>Google Store</td>\n",
       "    </tr>\n",
       "    <tr>\n",
       "      <th>406</th>\n",
       "      <td>Great job my home, my bank.</td>\n",
       "      <td>5</td>\n",
       "      <td>2025-01-16 08:57:21</td>\n",
       "      <td>Ashenafi Nigussie</td>\n",
       "      <td>2</td>\n",
       "      <td>Dashen</td>\n",
       "      <td>Google Store</td>\n",
       "    </tr>\n",
       "    <tr>\n",
       "      <th>303</th>\n",
       "      <td>I have used many mobile banking and also telle...</td>\n",
       "      <td>5</td>\n",
       "      <td>2025-03-12 09:52:45</td>\n",
       "      <td>yibe teklu</td>\n",
       "      <td>11</td>\n",
       "      <td>Dashen</td>\n",
       "      <td>Google Store</td>\n",
       "    </tr>\n",
       "    <tr>\n",
       "      <th>356</th>\n",
       "      <td>Not good this app</td>\n",
       "      <td>1</td>\n",
       "      <td>2025-02-04 13:32:40</td>\n",
       "      <td>Abdu Ahmed</td>\n",
       "      <td>2</td>\n",
       "      <td>Dashen</td>\n",
       "      <td>Google Store</td>\n",
       "    </tr>\n",
       "    <tr>\n",
       "      <th>446</th>\n",
       "      <td>Always one step ahead</td>\n",
       "      <td>5</td>\n",
       "      <td>2025-01-13 09:15:03</td>\n",
       "      <td>Anwarf ahmed</td>\n",
       "      <td>22</td>\n",
       "      <td>Dashen</td>\n",
       "      <td>Google Store</td>\n",
       "    </tr>\n",
       "    <tr>\n",
       "      <th>259</th>\n",
       "      <td>This app is not working unless you turn off de...</td>\n",
       "      <td>2</td>\n",
       "      <td>2025-04-04 21:24:36</td>\n",
       "      <td>Tech man</td>\n",
       "      <td>4</td>\n",
       "      <td>Dashen</td>\n",
       "      <td>Google Store</td>\n",
       "    </tr>\n",
       "  </tbody>\n",
       "</table>\n",
       "</div>"
      ],
      "text/plain": [
       "                                                review  rating  \\\n",
       "368        Excellent UI/UX and beyond Banking services       5   \n",
       "371                                           Just Wow       5   \n",
       "293  I wanted to share some concerns about your Sup...       1   \n",
       "139  It is,really super because of its unique offer...       5   \n",
       "277  I’ve been using the Dashen Bank Super App for ...       5   \n",
       "406                        Great job my home, my bank.       5   \n",
       "303  I have used many mobile banking and also telle...       5   \n",
       "356                                  Not good this app       1   \n",
       "446                              Always one step ahead       5   \n",
       "259  This app is not working unless you turn off de...       2   \n",
       "\n",
       "                    date           userName  thumbsUpCount    bank  \\\n",
       "368  2025-01-30 17:39:16     Lidiya Bezabih              2  Dashen   \n",
       "371  2025-01-29 08:41:59    Bereket Zerihun              3  Dashen   \n",
       "293  2025-03-19 15:49:23         Abdul Omar              6  Dashen   \n",
       "139  2025-04-21 17:57:03     Yihnalem Aknaw              8  Dashen   \n",
       "277  2025-03-28 09:30:54    Senayzena Admit            135  Dashen   \n",
       "406  2025-01-16 08:57:21  Ashenafi Nigussie              2  Dashen   \n",
       "303  2025-03-12 09:52:45         yibe teklu             11  Dashen   \n",
       "356  2025-02-04 13:32:40         Abdu Ahmed              2  Dashen   \n",
       "446  2025-01-13 09:15:03       Anwarf ahmed             22  Dashen   \n",
       "259  2025-04-04 21:24:36           Tech man              4  Dashen   \n",
       "\n",
       "           source  \n",
       "368  Google Store  \n",
       "371  Google Store  \n",
       "293  Google Store  \n",
       "139  Google Store  \n",
       "277  Google Store  \n",
       "406  Google Store  \n",
       "303  Google Store  \n",
       "356  Google Store  \n",
       "446  Google Store  \n",
       "259  Google Store  "
      ]
     },
     "execution_count": 42,
     "metadata": {},
     "output_type": "execute_result"
    }
   ],
   "source": [
    "df.sample(10)"
   ]
  },
  {
   "cell_type": "markdown",
   "id": "62483744",
   "metadata": {},
   "source": [
    "## 6. Analyze & Visualize"
   ]
  },
  {
   "cell_type": "code",
   "execution_count": 43,
   "id": "c746be46",
   "metadata": {},
   "outputs": [],
   "source": [
    "#instantiate the ReviewVisualizer class\n",
    "viz = ReviewVisualizer(df)"
   ]
  },
  {
   "cell_type": "code",
   "execution_count": 44,
   "id": "75ef8025",
   "metadata": {},
   "outputs": [
    {
     "name": "stdout",
     "output_type": "stream",
     "text": [
      "[INFO] Saved plot: plots/wordcloud_reviews.png\n"
     ]
    },
    {
     "data": {
      "image/png": "[encoded data removed]",
      "text/plain": [
       "<Figure size 640x480 with 1 Axes>"
      ]
     },
     "metadata": {},
     "output_type": "display_data"
    }
   ],
   "source": [
    "#Plot a word cloud of the reviews\n",
    "viz.plot_wordcloud()"
   ]
  },
  {
   "cell_type": "code",
   "execution_count": 45,
   "id": "c10709a5",
   "metadata": {},
   "outputs": [
    {
     "name": "stderr",
     "output_type": "stream",
     "text": [
      "INFO:matplotlib.category:Using categorical units to plot a list of strings that are all parsable as floats or dates. If these strings should be plotted as numbers, cast to the appropriate data type before plotting.\n",
      "INFO:matplotlib.category:Using categorical units to plot a list of strings that are all parsable as floats or dates. If these strings should be plotted as numbers, cast to the appropriate data type before plotting.\n"
     ]
    },
    {
     "name": "stdout",
     "output_type": "stream",
     "text": [
      "[INFO] Saved plot: plots/rating_distribution.png\n"
     ]
    },
    {
     "data": {
      "image/png": "[encoded data removed]",
      "text/plain": [
       "<Figure size 640x480 with 1 Axes>"
      ]
     },
     "metadata": {},
     "output_type": "display_data"
    }
   ],
   "source": [
    "# Plot rating distribution\n",
    "viz.plot_rating_distribution()"
   ]
  },
  {
   "cell_type": "code",
   "execution_count": 46,
   "id": "344ee32c",
   "metadata": {},
   "outputs": [
    {
     "name": "stderr",
     "output_type": "stream",
     "text": [
      "INFO:matplotlib.category:Using categorical units to plot a list of strings that are all parsable as floats or dates. If these strings should be plotted as numbers, cast to the appropriate data type before plotting.\n",
      "INFO:matplotlib.category:Using categorical units to plot a list of strings that are all parsable as floats or dates. If these strings should be plotted as numbers, cast to the appropriate data type before plotting.\n"
     ]
    },
    {
     "name": "stdout",
     "output_type": "stream",
     "text": [
      "[INFO] Saved plot: plots/thumbs_up_vs_rating.png\n"
     ]
    },
    {
     "data": {
      "image/png": "[encoded data removed]",
      "text/plain": [
       "<Figure size 640x480 with 1 Axes>"
      ]
     },
     "metadata": {},
     "output_type": "display_data"
    }
   ],
   "source": [
    "#Plot thumbs up against rating\n",
    "viz.plot_thumbs_up_vs_rating()"
   ]
  },
  {
   "cell_type": "code",
   "execution_count": 47,
   "id": "02d0af65",
   "metadata": {},
   "outputs": [
    {
     "name": "stderr",
     "output_type": "stream",
     "text": [
      "INFO:matplotlib.category:Using categorical units to plot a list of strings that are all parsable as floats or dates. If these strings should be plotted as numbers, cast to the appropriate data type before plotting.\n",
      "INFO:matplotlib.category:Using categorical units to plot a list of strings that are all parsable as floats or dates. If these strings should be plotted as numbers, cast to the appropriate data type before plotting.\n"
     ]
    },
    {
     "name": "stdout",
     "output_type": "stream",
     "text": [
      "[INFO] Saved plot: plots/sentiment_vs_rating.png\n"
     ]
    },
    {
     "data": {
      "image/png": "[encoded data removed]",
      "text/plain": [
       "<Figure size 640x480 with 1 Axes>"
      ]
     },
     "metadata": {},
     "output_type": "display_data"
    }
   ],
   "source": [
    "# Plot Sentiment against Ratin\n",
    "viz.plot_sentiment_vs_rating()"
   ]
  },
  {
   "cell_type": "code",
   "execution_count": 48,
   "id": "12c34499",
   "metadata": {},
   "outputs": [
    {
     "name": "stdout",
     "output_type": "stream",
     "text": [
      "[INFO] Dropped columns: ['userName', 'thumbsUpCount']\n"
     ]
    }
   ],
   "source": [
    "df=dq.drop_columns(['userName','thumbsUpCount'])"
   ]
  },
  {
   "cell_type": "markdown",
   "id": "ec823589",
   "metadata": {},
   "source": [
    "### Export Cleaned Data"
   ]
  },
  {
   "cell_type": "code",
   "execution_count": 49,
   "id": "a8267438",
   "metadata": {},
   "outputs": [],
   "source": [
    "# Save to csv\n",
    "df.to_csv(CLEANED_DATA_PATH, index=False)"
   ]
  },
  {
   "cell_type": "code",
   "execution_count": 50,
   "id": "f10a8046",
   "metadata": {},
   "outputs": [
    {
     "data": {
      "text/html": [
       "<div>\n",
       "<style scoped>\n",
       "    .dataframe tbody tr th:only-of-type {\n",
       "        vertical-align: middle;\n",
       "    }\n",
       "\n",
       "    .dataframe tbody tr th {\n",
       "        vertical-align: top;\n",
       "    }\n",
       "\n",
       "    .dataframe thead th {\n",
       "        text-align: right;\n",
       "    }\n",
       "</style>\n",
       "<table border=\"1\" class=\"dataframe\">\n",
       "  <thead>\n",
       "    <tr style=\"text-align: right;\">\n",
       "      <th></th>\n",
       "      <th>review</th>\n",
       "      <th>rating</th>\n",
       "      <th>date</th>\n",
       "      <th>bank</th>\n",
       "      <th>source</th>\n",
       "    </tr>\n",
       "  </thead>\n",
       "  <tbody>\n",
       "    <tr>\n",
       "      <th>208</th>\n",
       "      <td>Too best</td>\n",
       "      <td>1</td>\n",
       "      <td>2025-04-21 11:34:37</td>\n",
       "      <td>Dashen</td>\n",
       "      <td>Google Store</td>\n",
       "    </tr>\n",
       "    <tr>\n",
       "      <th>109</th>\n",
       "      <td>i love this app esp 3 click that make e-commer...</td>\n",
       "      <td>5</td>\n",
       "      <td>2025-04-22 13:24:34</td>\n",
       "      <td>Dashen</td>\n",
       "      <td>Google Store</td>\n",
       "    </tr>\n",
       "    <tr>\n",
       "      <th>23</th>\n",
       "      <td>Simple, robust features? Yes, please! But the ...</td>\n",
       "      <td>2</td>\n",
       "      <td>2025-05-26 08:21:54</td>\n",
       "      <td>Dashen</td>\n",
       "      <td>Google Store</td>\n",
       "    </tr>\n",
       "    <tr>\n",
       "      <th>20</th>\n",
       "      <td>useless app ever loading take long</td>\n",
       "      <td>1</td>\n",
       "      <td>2025-05-27 09:19:32</td>\n",
       "      <td>Dashen</td>\n",
       "      <td>Google Store</td>\n",
       "    </tr>\n",
       "    <tr>\n",
       "      <th>381</th>\n",
       "      <td>Amizing Application love</td>\n",
       "      <td>5</td>\n",
       "      <td>2025-01-22 14:17:28</td>\n",
       "      <td>Dashen</td>\n",
       "      <td>Google Store</td>\n",
       "    </tr>\n",
       "    <tr>\n",
       "      <th>202</th>\n",
       "      <td>I am very impressed with the Dashen super app....</td>\n",
       "      <td>5</td>\n",
       "      <td>2025-04-21 11:42:01</td>\n",
       "      <td>Dashen</td>\n",
       "      <td>Google Store</td>\n",
       "    </tr>\n",
       "    <tr>\n",
       "      <th>205</th>\n",
       "      <td>it is the most amazing mobile app</td>\n",
       "      <td>5</td>\n",
       "      <td>2025-04-21 11:40:59</td>\n",
       "      <td>Dashen</td>\n",
       "      <td>Google Store</td>\n",
       "    </tr>\n",
       "    <tr>\n",
       "      <th>114</th>\n",
       "      <td>The app has various usefull functions, which m...</td>\n",
       "      <td>5</td>\n",
       "      <td>2025-04-22 09:22:10</td>\n",
       "      <td>Dashen</td>\n",
       "      <td>Google Store</td>\n",
       "    </tr>\n",
       "    <tr>\n",
       "      <th>446</th>\n",
       "      <td>Always one step ahead</td>\n",
       "      <td>5</td>\n",
       "      <td>2025-01-13 09:15:03</td>\n",
       "      <td>Dashen</td>\n",
       "      <td>Google Store</td>\n",
       "    </tr>\n",
       "    <tr>\n",
       "      <th>380</th>\n",
       "      <td>Excellent banking app for all your needs! Who ...</td>\n",
       "      <td>5</td>\n",
       "      <td>2025-01-22 16:53:55</td>\n",
       "      <td>Dashen</td>\n",
       "      <td>Google Store</td>\n",
       "    </tr>\n",
       "    <tr>\n",
       "      <th>38</th>\n",
       "      <td>Transferring to other bank accounts is a hastl...</td>\n",
       "      <td>2</td>\n",
       "      <td>2025-05-17 11:03:32</td>\n",
       "      <td>Dashen</td>\n",
       "      <td>Google Store</td>\n",
       "    </tr>\n",
       "    <tr>\n",
       "      <th>299</th>\n",
       "      <td>Naiycapp</td>\n",
       "      <td>5</td>\n",
       "      <td>2025-03-14 01:06:26</td>\n",
       "      <td>Dashen</td>\n",
       "      <td>Google Store</td>\n",
       "    </tr>\n",
       "    <tr>\n",
       "      <th>72</th>\n",
       "      <td>Best UI mobile banking app, props to design team</td>\n",
       "      <td>5</td>\n",
       "      <td>2025-04-30 19:43:36</td>\n",
       "      <td>Dashen</td>\n",
       "      <td>Google Store</td>\n",
       "    </tr>\n",
       "    <tr>\n",
       "      <th>386</th>\n",
       "      <td>Exellent app with exellent banking system and ...</td>\n",
       "      <td>5</td>\n",
       "      <td>2025-01-21 05:57:30</td>\n",
       "      <td>Dashen</td>\n",
       "      <td>Google Store</td>\n",
       "    </tr>\n",
       "    <tr>\n",
       "      <th>29</th>\n",
       "      <td>The best of best is now arrived **Empowering Y...</td>\n",
       "      <td>5</td>\n",
       "      <td>2025-05-22 09:42:22</td>\n",
       "      <td>Dashen</td>\n",
       "      <td>Google Store</td>\n",
       "    </tr>\n",
       "  </tbody>\n",
       "</table>\n",
       "</div>"
      ],
      "text/plain": [
       "                                                review  rating  \\\n",
       "208                                           Too best       1   \n",
       "109  i love this app esp 3 click that make e-commer...       5   \n",
       "23   Simple, robust features? Yes, please! But the ...       2   \n",
       "20                  useless app ever loading take long       1   \n",
       "381                           Amizing Application love       5   \n",
       "202  I am very impressed with the Dashen super app....       5   \n",
       "205                  it is the most amazing mobile app       5   \n",
       "114  The app has various usefull functions, which m...       5   \n",
       "446                              Always one step ahead       5   \n",
       "380  Excellent banking app for all your needs! Who ...       5   \n",
       "38   Transferring to other bank accounts is a hastl...       2   \n",
       "299                                           Naiycapp       5   \n",
       "72    Best UI mobile banking app, props to design team       5   \n",
       "386  Exellent app with exellent banking system and ...       5   \n",
       "29   The best of best is now arrived **Empowering Y...       5   \n",
       "\n",
       "                    date    bank        source  \n",
       "208  2025-04-21 11:34:37  Dashen  Google Store  \n",
       "109  2025-04-22 13:24:34  Dashen  Google Store  \n",
       "23   2025-05-26 08:21:54  Dashen  Google Store  \n",
       "20   2025-05-27 09:19:32  Dashen  Google Store  \n",
       "381  2025-01-22 14:17:28  Dashen  Google Store  \n",
       "202  2025-04-21 11:42:01  Dashen  Google Store  \n",
       "205  2025-04-21 11:40:59  Dashen  Google Store  \n",
       "114  2025-04-22 09:22:10  Dashen  Google Store  \n",
       "446  2025-01-13 09:15:03  Dashen  Google Store  \n",
       "380  2025-01-22 16:53:55  Dashen  Google Store  \n",
       "38   2025-05-17 11:03:32  Dashen  Google Store  \n",
       "299  2025-03-14 01:06:26  Dashen  Google Store  \n",
       "72   2025-04-30 19:43:36  Dashen  Google Store  \n",
       "386  2025-01-21 05:57:30  Dashen  Google Store  \n",
       "29   2025-05-22 09:42:22  Dashen  Google Store  "
      ]
     },
     "execution_count": 50,
     "metadata": {},
     "output_type": "execute_result"
    }
   ],
   "source": [
    "df.sample(15)"
   ]
  }
 ],
 "metadata": {
  "kernelspec": {
   "display_name": "venv",
   "language": "python",
   "name": "python3"
  },
  "language_info": {
   "codemirror_mode": {
    "name": "ipython",
    "version": 3
   },
   "file_extension": ".py",
   "mimetype": "text/x-python",
   "name": "python",
   "nbconvert_exporter": "python",
   "pygments_lexer": "ipython3",
   "version": "3.10.12"
  }
 },
 "nbformat": 4,
 "nbformat_minor": 5
}
