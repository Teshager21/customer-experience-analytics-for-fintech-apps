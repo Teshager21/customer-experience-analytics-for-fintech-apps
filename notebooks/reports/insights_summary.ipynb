{
 "cells": [
  {
   "cell_type": "code",
   "execution_count": 137,
   "id": "1bdf16c1",
   "metadata": {},
   "outputs": [
    {
     "name": "stdout",
     "output_type": "stream",
     "text": [
      "The autoreload extension is already loaded. To reload it, use:\n",
      "  %reload_ext autoreload\n"
     ]
    }
   ],
   "source": [
    "%load_ext autoreload\n",
    "%autoreload 2"
   ]
  },
  {
   "cell_type": "code",
   "execution_count": 138,
   "id": "be497759",
   "metadata": {},
   "outputs": [],
   "source": [
    "from analytics.summarize import ReviewVisualizer\n",
    "from analytics.analyzer import ReviewAnalyzer  \n",
    "from analytics.connector import OracleReviewLoader\n",
    "from analytics.path_config import BASE_DIR"
   ]
  },
  {
   "cell_type": "code",
   "execution_count": 139,
   "id": "ea80cec3",
   "metadata": {},
   "outputs": [
    {
     "name": "stderr",
     "output_type": "stream",
     "text": [
      "[2025-06-10 11:44:43,347] INFO in connector: Successfully connected to Oracle database.\n",
      "[2025-06-10 11:44:49,730] INFO in connector: Fetched 4700 review records from Oracle DB.\n",
      "[2025-06-10 11:44:49,742] INFO in connector: Oracle database connection closed.\n"
     ]
    }
   ],
   "source": [
    "loader = OracleReviewLoader(user=\"myappuser\", password=\"My$ecurePassw0rd\", dsn=\"localhost/XEPDB1\")\n",
    "\n",
    "try:\n",
    "    loader.connect()\n",
    "    df = loader.fetch_reviews()\n",
    "finally:\n",
    "    loader.disconnect()"
   ]
  },
  {
   "cell_type": "code",
   "execution_count": 140,
   "id": "b5b31769",
   "metadata": {},
   "outputs": [
    {
     "data": {
      "text/html": [
       "<div>\n",
       "<style scoped>\n",
       "    .dataframe tbody tr th:only-of-type {\n",
       "        vertical-align: middle;\n",
       "    }\n",
       "\n",
       "    .dataframe tbody tr th {\n",
       "        vertical-align: top;\n",
       "    }\n",
       "\n",
       "    .dataframe thead th {\n",
       "        text-align: right;\n",
       "    }\n",
       "</style>\n",
       "<table border=\"1\" class=\"dataframe\">\n",
       "  <thead>\n",
       "    <tr style=\"text-align: right;\">\n",
       "      <th></th>\n",
       "      <th>bank_name</th>\n",
       "      <th>review_text</th>\n",
       "      <th>rating</th>\n",
       "      <th>sentiment_label</th>\n",
       "      <th>keywords</th>\n",
       "      <th>themes</th>\n",
       "    </tr>\n",
       "  </thead>\n",
       "  <tbody>\n",
       "    <tr>\n",
       "      <th>3613</th>\n",
       "      <td>Dashen</td>\n",
       "      <td>the worst app in the market only good ui</td>\n",
       "      <td>1.0</td>\n",
       "      <td>negative</td>\n",
       "      <td>[\"good ui\", \"ui\", \"bad app\", \"bad\", \"good\"]</td>\n",
       "      <td>[\"Miscellaneous\"]</td>\n",
       "    </tr>\n",
       "    <tr>\n",
       "      <th>273</th>\n",
       "      <td>CBE</td>\n",
       "      <td>bugs</td>\n",
       "      <td>3.0</td>\n",
       "      <td>negative</td>\n",
       "      <td>[\"bug\"]</td>\n",
       "      <td>[\"Miscellaneous\"]</td>\n",
       "    </tr>\n",
       "    <tr>\n",
       "      <th>1280</th>\n",
       "      <td>BOA</td>\n",
       "      <td>Good</td>\n",
       "      <td>5.0</td>\n",
       "      <td>positive</td>\n",
       "      <td>[\"good\"]</td>\n",
       "      <td>[\"Miscellaneous\"]</td>\n",
       "    </tr>\n",
       "    <tr>\n",
       "      <th>170</th>\n",
       "      <td>CBE</td>\n",
       "      <td>Awosome!!!</td>\n",
       "      <td>5.0</td>\n",
       "      <td>negative</td>\n",
       "      <td>[]</td>\n",
       "      <td>[\"Miscellaneous\"]</td>\n",
       "    </tr>\n",
       "    <tr>\n",
       "      <th>4385</th>\n",
       "      <td>Dashen</td>\n",
       "      <td>Massive upgrade from the Amole app.</td>\n",
       "      <td>5.0</td>\n",
       "      <td>positive</td>\n",
       "      <td>[\"amole\", \"upgrade\", \"app\"]</td>\n",
       "      <td>[\"Miscellaneous\"]</td>\n",
       "    </tr>\n",
       "    <tr>\n",
       "      <th>453</th>\n",
       "      <td>CBE</td>\n",
       "      <td>great when it works</td>\n",
       "      <td>5.0</td>\n",
       "      <td>positive</td>\n",
       "      <td>[\"great\", \"work\"]</td>\n",
       "      <td>[\"Miscellaneous\"]</td>\n",
       "    </tr>\n",
       "    <tr>\n",
       "      <th>3112</th>\n",
       "      <td>CBE</td>\n",
       "      <td>In the updated version of the app, it takes mo...</td>\n",
       "      <td>3.0</td>\n",
       "      <td>negative</td>\n",
       "      <td>[\"app take\", \"update version\", \"version app\", ...</td>\n",
       "      <td>[\"Feature Requests\"]</td>\n",
       "    </tr>\n",
       "    <tr>\n",
       "      <th>192</th>\n",
       "      <td>CBE</td>\n",
       "      <td>this app is very useful app,it saves time,and ...</td>\n",
       "      <td>4.0</td>\n",
       "      <td>positive</td>\n",
       "      <td>[\"app useful\", \"appit\", \"useful\", \"save\", \"sec...</td>\n",
       "      <td>[\"Miscellaneous\"]</td>\n",
       "    </tr>\n",
       "    <tr>\n",
       "      <th>2963</th>\n",
       "      <td>BOA</td>\n",
       "      <td>The updated version is nice one BOA always #1 ...</td>\n",
       "      <td>5.0</td>\n",
       "      <td>negative</td>\n",
       "      <td>[\"boa bank\", \"update version\", \"version\", \"boa...</td>\n",
       "      <td>[\"Feature Requests\"]</td>\n",
       "    </tr>\n",
       "    <tr>\n",
       "      <th>320</th>\n",
       "      <td>CBE</td>\n",
       "      <td>nice apps where network is good in connection</td>\n",
       "      <td>5.0</td>\n",
       "      <td>positive</td>\n",
       "      <td>[\"connection\", \"network\", \"nice app\", \"nice\", ...</td>\n",
       "      <td>[\"Miscellaneous\"]</td>\n",
       "    </tr>\n",
       "  </tbody>\n",
       "</table>\n",
       "</div>"
      ],
      "text/plain": [
       "     bank_name                                        review_text  rating  \\\n",
       "3613    Dashen           the worst app in the market only good ui     1.0   \n",
       "273        CBE                                               bugs     3.0   \n",
       "1280       BOA                                               Good     5.0   \n",
       "170        CBE                                         Awosome!!!     5.0   \n",
       "4385    Dashen                Massive upgrade from the Amole app.     5.0   \n",
       "453        CBE                                great when it works     5.0   \n",
       "3112       CBE  In the updated version of the app, it takes mo...     3.0   \n",
       "192        CBE  this app is very useful app,it saves time,and ...     4.0   \n",
       "2963       BOA  The updated version is nice one BOA always #1 ...     5.0   \n",
       "320        CBE      nice apps where network is good in connection     5.0   \n",
       "\n",
       "     sentiment_label                                           keywords  \\\n",
       "3613        negative        [\"good ui\", \"ui\", \"bad app\", \"bad\", \"good\"]   \n",
       "273         negative                                            [\"bug\"]   \n",
       "1280        positive                                           [\"good\"]   \n",
       "170         negative                                                 []   \n",
       "4385        positive                        [\"amole\", \"upgrade\", \"app\"]   \n",
       "453         positive                                  [\"great\", \"work\"]   \n",
       "3112        negative  [\"app take\", \"update version\", \"version app\", ...   \n",
       "192         positive  [\"app useful\", \"appit\", \"useful\", \"save\", \"sec...   \n",
       "2963        negative  [\"boa bank\", \"update version\", \"version\", \"boa...   \n",
       "320         positive  [\"connection\", \"network\", \"nice app\", \"nice\", ...   \n",
       "\n",
       "                    themes  \n",
       "3613     [\"Miscellaneous\"]  \n",
       "273      [\"Miscellaneous\"]  \n",
       "1280     [\"Miscellaneous\"]  \n",
       "170      [\"Miscellaneous\"]  \n",
       "4385     [\"Miscellaneous\"]  \n",
       "453      [\"Miscellaneous\"]  \n",
       "3112  [\"Feature Requests\"]  \n",
       "192      [\"Miscellaneous\"]  \n",
       "2963  [\"Feature Requests\"]  \n",
       "320      [\"Miscellaneous\"]  "
      ]
     },
     "execution_count": 140,
     "metadata": {},
     "output_type": "execute_result"
    }
   ],
   "source": [
    "df.sample(10)"
   ]
  },
  {
   "cell_type": "code",
   "execution_count": 141,
   "id": "eb518351",
   "metadata": {},
   "outputs": [
    {
     "name": "stdout",
     "output_type": "stream",
     "text": [
      "['bank_name', 'review_text', 'rating', 'sentiment_label', 'keywords', 'themes']\n"
     ]
    }
   ],
   "source": [
    "print(df.columns.tolist())"
   ]
  },
  {
   "cell_type": "code",
   "execution_count": 142,
   "id": "77b2cdab",
   "metadata": {},
   "outputs": [],
   "source": [
    "df.rename(columns={\n",
    "    'review_text': 'REVIEW_TEXT',\n",
    "    'rating': 'RATING',\n",
    "    'sentiment_label': 'SENTIMENT_LABEL',\n",
    "    'themes': 'THEMES'\n",
    "}, inplace=True)\n"
   ]
  },
  {
   "cell_type": "code",
   "execution_count": 143,
   "id": "634a805d",
   "metadata": {},
   "outputs": [
    {
     "name": "stderr",
     "output_type": "stream",
     "text": [
      "[2025-06-10 11:44:50,245] INFO in analyzer: Initializing analyzer with 4700 reviews.\n",
      "[2025-06-10 11:44:50,245] INFO in analyzer: Initializing analyzer with 4700 reviews.\n",
      "[2025-06-10 11:44:50,245] INFO in analyzer: Initializing analyzer with 4700 reviews.\n",
      "[2025-06-10 11:44:50,245] INFO in analyzer: Initializing analyzer with 4700 reviews.\n",
      "[2025-06-10 11:44:50,245] INFO in analyzer: Initializing analyzer with 4700 reviews.\n",
      "[2025-06-10 11:44:50,245] INFO in analyzer: Initializing analyzer with 4700 reviews.\n",
      "[2025-06-10 11:44:50,245] INFO in analyzer: Initializing analyzer with 4700 reviews.\n",
      "[2025-06-10 11:44:50,245] INFO in analyzer: Initializing analyzer with 4700 reviews.\n",
      "[2025-06-10 11:44:50,245] INFO in analyzer: Initializing analyzer with 4700 reviews.\n"
     ]
    }
   ],
   "source": [
    "analyzer=ReviewAnalyzer(df)"
   ]
  },
  {
   "cell_type": "code",
   "execution_count": 144,
   "id": "24b3b7eb",
   "metadata": {},
   "outputs": [
    {
     "name": "stderr",
     "output_type": "stream",
     "text": [
      "[2025-06-10 11:44:50,452] INFO in analyzer: Generated insights for 3 banks.\n",
      "[2025-06-10 11:44:50,452] INFO in analyzer: Generated insights for 3 banks.\n",
      "[2025-06-10 11:44:50,452] INFO in analyzer: Generated insights for 3 banks.\n",
      "[2025-06-10 11:44:50,452] INFO in analyzer: Generated insights for 3 banks.\n",
      "[2025-06-10 11:44:50,452] INFO in analyzer: Generated insights for 3 banks.\n",
      "[2025-06-10 11:44:50,452] INFO in analyzer: Generated insights for 3 banks.\n",
      "[2025-06-10 11:44:50,452] INFO in analyzer: Generated insights for 3 banks.\n",
      "[2025-06-10 11:44:50,452] INFO in analyzer: Generated insights for 3 banks.\n",
      "[2025-06-10 11:44:50,452] INFO in analyzer: Generated insights for 3 banks.\n"
     ]
    },
    {
     "name": "stdout",
     "output_type": "stream",
     "text": [
      "\u001b[3m                      ✨ Insights for CBE                      \u001b[0m\n",
      "┏━━━━━━━━━━━━━━━━━━━━━━┳━━━━━━━┳━━━━━━━━━━━━━━━━━━━━━━┳━━━━━━━┓\n",
      "┃\u001b[1m \u001b[0m\u001b[1m    Top Drivers     \u001b[0m\u001b[1m \u001b[0m┃\u001b[1m \u001b[0m\u001b[1mCount\u001b[0m\u001b[1m \u001b[0m┃\u001b[1m \u001b[0m\u001b[1m  Top Pain Points   \u001b[0m\u001b[1m \u001b[0m┃\u001b[1m \u001b[0m\u001b[1mCount\u001b[0m\u001b[1m \u001b[0m┃\n",
      "┡━━━━━━━━━━━━━━━━━━━━━━╇━━━━━━━╇━━━━━━━━━━━━━━━━━━━━━━╇━━━━━━━┩\n",
      "│\u001b[32m \u001b[0m\u001b[32m [\"miscellaneous\"]  \u001b[0m\u001b[32m \u001b[0m│\u001b[32m \u001b[0m\u001b[32m 1316\u001b[0m\u001b[32m \u001b[0m│\u001b[31m \u001b[0m\u001b[31m [\"miscellaneous\"]  \u001b[0m\u001b[31m \u001b[0m│\u001b[31m \u001b[0m\u001b[31m  444\u001b[0m\u001b[31m \u001b[0m│\n",
      "├──────────────────────┼───────┼──────────────────────┼───────┤\n",
      "│\u001b[32m \u001b[0m\u001b[32m[\"feature requests\"]\u001b[0m\u001b[32m \u001b[0m│\u001b[32m \u001b[0m\u001b[32m   20\u001b[0m\u001b[32m \u001b[0m│\u001b[31m \u001b[0m\u001b[31m[\"feature requests\"]\u001b[0m\u001b[31m \u001b[0m│\u001b[31m \u001b[0m\u001b[31m   52\u001b[0m\u001b[31m \u001b[0m│\n",
      "├──────────────────────┼───────┼──────────────────────┼───────┤\n",
      "│\u001b[32m \u001b[0m\u001b[32m  [\"reliability\"]   \u001b[0m\u001b[32m \u001b[0m│\u001b[32m \u001b[0m\u001b[32m    2\u001b[0m\u001b[32m \u001b[0m│\u001b[31m \u001b[0m\u001b[31m  [\"reliability\"]   \u001b[0m\u001b[31m \u001b[0m│\u001b[31m \u001b[0m\u001b[31m   18\u001b[0m\u001b[31m \u001b[0m│\n",
      "└──────────────────────┴───────┴──────────────────────┴───────┘\n",
      "\u001b[3m                         ✨ Insights for BOA                          \u001b[0m\n",
      "┏━━━━━━━━━━━━━━━━━━━━━━━━━━━━━┳━━━━━━━┳━━━━━━━━━━━━━━━━━━━━━━┳━━━━━━━┓\n",
      "┃\u001b[1m \u001b[0m\u001b[1m        Top Drivers        \u001b[0m\u001b[1m \u001b[0m┃\u001b[1m \u001b[0m\u001b[1mCount\u001b[0m\u001b[1m \u001b[0m┃\u001b[1m \u001b[0m\u001b[1m  Top Pain Points   \u001b[0m\u001b[1m \u001b[0m┃\u001b[1m \u001b[0m\u001b[1mCount\u001b[0m\u001b[1m \u001b[0m┃\n",
      "┡━━━━━━━━━━━━━━━━━━━━━━━━━━━━━╇━━━━━━━╇━━━━━━━━━━━━━━━━━━━━━━╇━━━━━━━┩\n",
      "│\u001b[32m \u001b[0m\u001b[32m     [\"miscellaneous\"]     \u001b[0m\u001b[32m \u001b[0m│\u001b[32m \u001b[0m\u001b[32m  886\u001b[0m\u001b[32m \u001b[0m│\u001b[31m \u001b[0m\u001b[31m [\"miscellaneous\"]  \u001b[0m\u001b[31m \u001b[0m│\u001b[31m \u001b[0m\u001b[31m  840\u001b[0m\u001b[31m \u001b[0m│\n",
      "├─────────────────────────────┼───────┼──────────────────────┼───────┤\n",
      "│\u001b[32m \u001b[0m\u001b[32m   [\"feature requests\"]    \u001b[0m\u001b[32m \u001b[0m│\u001b[32m \u001b[0m\u001b[32m   24\u001b[0m\u001b[32m \u001b[0m│\u001b[31m \u001b[0m\u001b[31m[\"feature requests\"]\u001b[0m\u001b[31m \u001b[0m│\u001b[31m \u001b[0m\u001b[31m   64\u001b[0m\u001b[31m \u001b[0m│\n",
      "├─────────────────────────────┼───────┼──────────────────────┼───────┤\n",
      "│\u001b[32m \u001b[0m\u001b[32m[\"transaction performance\"]\u001b[0m\u001b[32m \u001b[0m│\u001b[32m \u001b[0m\u001b[32m    4\u001b[0m\u001b[32m \u001b[0m│\u001b[31m \u001b[0m\u001b[31m  [\"reliability\"]   \u001b[0m\u001b[31m \u001b[0m│\u001b[31m \u001b[0m\u001b[31m   42\u001b[0m\u001b[31m \u001b[0m│\n",
      "└─────────────────────────────┴───────┴──────────────────────┴───────┘\n",
      "\u001b[3m                        ✨ Insights for Dashen                        \u001b[0m\n",
      "┏━━━━━━━━━━━━━━━━━━━━━━┳━━━━━━━┳━━━━━━━━━━━━━━━━━━━━━━━━━━━━━┳━━━━━━━┓\n",
      "┃\u001b[1m \u001b[0m\u001b[1m    Top Drivers     \u001b[0m\u001b[1m \u001b[0m┃\u001b[1m \u001b[0m\u001b[1mCount\u001b[0m\u001b[1m \u001b[0m┃\u001b[1m \u001b[0m\u001b[1m      Top Pain Points      \u001b[0m\u001b[1m \u001b[0m┃\u001b[1m \u001b[0m\u001b[1mCount\u001b[0m\u001b[1m \u001b[0m┃\n",
      "┡━━━━━━━━━━━━━━━━━━━━━━╇━━━━━━━╇━━━━━━━━━━━━━━━━━━━━━━━━━━━━━╇━━━━━━━┩\n",
      "│\u001b[32m \u001b[0m\u001b[32m [\"miscellaneous\"]  \u001b[0m\u001b[32m \u001b[0m│\u001b[32m \u001b[0m\u001b[32m  624\u001b[0m\u001b[32m \u001b[0m│\u001b[31m \u001b[0m\u001b[31m     [\"miscellaneous\"]     \u001b[0m\u001b[31m \u001b[0m│\u001b[31m \u001b[0m\u001b[31m  186\u001b[0m\u001b[31m \u001b[0m│\n",
      "├──────────────────────┼───────┼─────────────────────────────┼───────┤\n",
      "│\u001b[32m \u001b[0m\u001b[32m[\"feature requests\"]\u001b[0m\u001b[32m \u001b[0m│\u001b[32m \u001b[0m\u001b[32m   28\u001b[0m\u001b[32m \u001b[0m│\u001b[31m \u001b[0m\u001b[31m[\"transaction performance\"]\u001b[0m\u001b[31m \u001b[0m│\u001b[31m \u001b[0m\u001b[31m   12\u001b[0m\u001b[31m \u001b[0m│\n",
      "├──────────────────────┼───────┼─────────────────────────────┼───────┤\n",
      "│\u001b[32m \u001b[0m\u001b[32m[\"user experience\"] \u001b[0m\u001b[32m \u001b[0m│\u001b[32m \u001b[0m\u001b[32m   14\u001b[0m\u001b[32m \u001b[0m│\u001b[31m \u001b[0m\u001b[31m   [\"feature requests\"]    \u001b[0m\u001b[31m \u001b[0m│\u001b[31m \u001b[0m\u001b[31m    6\u001b[0m\u001b[31m \u001b[0m│\n",
      "└──────────────────────┴───────┴─────────────────────────────┴───────┘\n"
     ]
    }
   ],
   "source": [
    "_ = analyzer.analyze_per_bank(top_n=3, display=True)  # discard return value, avoid raw print\n"
   ]
  },
  {
   "cell_type": "code",
   "execution_count": 145,
   "id": "e0e3e2ce",
   "metadata": {},
   "outputs": [
    {
     "name": "stderr",
     "output_type": "stream",
     "text": [
      "[2025-06-10 11:44:50,676] INFO in analyzer: Generated summary DataFrame with 41 rows.\n",
      "[2025-06-10 11:44:50,676] INFO in analyzer: Generated summary DataFrame with 41 rows.\n",
      "[2025-06-10 11:44:50,676] INFO in analyzer: Generated summary DataFrame with 41 rows.\n",
      "[2025-06-10 11:44:50,676] INFO in analyzer: Generated summary DataFrame with 41 rows.\n",
      "[2025-06-10 11:44:50,676] INFO in analyzer: Generated summary DataFrame with 41 rows.\n",
      "[2025-06-10 11:44:50,676] INFO in analyzer: Generated summary DataFrame with 41 rows.\n",
      "[2025-06-10 11:44:50,676] INFO in analyzer: Generated summary DataFrame with 41 rows.\n",
      "[2025-06-10 11:44:50,676] INFO in analyzer: Generated summary DataFrame with 41 rows.\n",
      "[2025-06-10 11:44:50,676] INFO in analyzer: Generated summary DataFrame with 41 rows.\n"
     ]
    }
   ],
   "source": [
    "summary_df=analyzer.generate_summary_df()"
   ]
  },
  {
   "cell_type": "code",
   "execution_count": 146,
   "id": "f3cf73f9",
   "metadata": {},
   "outputs": [
    {
     "data": {
      "text/plain": [
       "['__class__',\n",
       " '__delattr__',\n",
       " '__dict__',\n",
       " '__dir__',\n",
       " '__doc__',\n",
       " '__eq__',\n",
       " '__format__',\n",
       " '__ge__',\n",
       " '__getattribute__',\n",
       " '__gt__',\n",
       " '__hash__',\n",
       " '__init__',\n",
       " '__init_subclass__',\n",
       " '__le__',\n",
       " '__lt__',\n",
       " '__module__',\n",
       " '__ne__',\n",
       " '__new__',\n",
       " '__reduce__',\n",
       " '__reduce_ex__',\n",
       " '__repr__',\n",
       " '__setattr__',\n",
       " '__sizeof__',\n",
       " '__str__',\n",
       " '__subclasshook__',\n",
       " '__weakref__',\n",
       " '_plot_text_page',\n",
       " 'add_insights',\n",
       " 'export_visuals_and_insights_to_pdf',\n",
       " 'export_visuals_to_pdf',\n",
       " 'generate_all_visuals_per_bank',\n",
       " 'plot_sentiment_trend',\n",
       " 'plot_theme_wordcloud',\n",
       " 'plot_top_themes_bar']"
      ]
     },
     "execution_count": 146,
     "metadata": {},
     "output_type": "execute_result"
    }
   ],
   "source": [
    "dir(ReviewVisualizer)"
   ]
  },
  {
   "cell_type": "code",
   "execution_count": 147,
   "id": "28077e64",
   "metadata": {},
   "outputs": [
    {
     "name": "stderr",
     "output_type": "stream",
     "text": [
      "[2025-06-10 11:44:50,944] INFO: Visualizer initialized with output path: /home/teshager/Documents/10Academy/repositories/projects/customer-experience-analytics-for-fintech-apps/reports\n",
      "[2025-06-10 11:44:50,944] INFO: Visualizer initialized with output path: /home/teshager/Documents/10Academy/repositories/projects/customer-experience-analytics-for-fintech-apps/reports\n",
      "[2025-06-10 11:44:50,944] INFO: Visualizer initialized with output path: /home/teshager/Documents/10Academy/repositories/projects/customer-experience-analytics-for-fintech-apps/reports\n"
     ]
    }
   ],
   "source": [
    "rv=ReviewVisualizer(summary_df,df,out_dir=BASE_DIR/'reports')"
   ]
  },
  {
   "cell_type": "code",
   "execution_count": 148,
   "id": "574d0b4e",
   "metadata": {},
   "outputs": [
    {
     "data": {
      "text/html": [
       "<div>\n",
       "<style scoped>\n",
       "    .dataframe tbody tr th:only-of-type {\n",
       "        vertical-align: middle;\n",
       "    }\n",
       "\n",
       "    .dataframe tbody tr th {\n",
       "        vertical-align: top;\n",
       "    }\n",
       "\n",
       "    .dataframe thead th {\n",
       "        text-align: right;\n",
       "    }\n",
       "</style>\n",
       "<table border=\"1\" class=\"dataframe\">\n",
       "  <thead>\n",
       "    <tr style=\"text-align: right;\">\n",
       "      <th></th>\n",
       "      <th>bank_name</th>\n",
       "      <th>REVIEW_TEXT</th>\n",
       "      <th>RATING</th>\n",
       "      <th>SENTIMENT_LABEL</th>\n",
       "      <th>keywords</th>\n",
       "      <th>THEMES</th>\n",
       "    </tr>\n",
       "  </thead>\n",
       "  <tbody>\n",
       "    <tr>\n",
       "      <th>2148</th>\n",
       "      <td>BOA</td>\n",
       "      <td>this app, for me , is a waste of time. It does...</td>\n",
       "      <td>1.0</td>\n",
       "      <td>negative</td>\n",
       "      <td>[\"fix problem\", \"work not\", \"time not\", \"waste...</td>\n",
       "      <td>[\"Miscellaneous\"]</td>\n",
       "    </tr>\n",
       "    <tr>\n",
       "      <th>829</th>\n",
       "      <td>CBE</td>\n",
       "      <td>I am happy of this app</td>\n",
       "      <td>5.0</td>\n",
       "      <td>positive</td>\n",
       "      <td>[\"happy\", \"app\"]</td>\n",
       "      <td>[\"Miscellaneous\"]</td>\n",
       "    </tr>\n",
       "    <tr>\n",
       "      <th>1577</th>\n",
       "      <td>BOA</td>\n",
       "      <td>Why is the app asking me to remove developer o...</td>\n",
       "      <td>3.0</td>\n",
       "      <td>negative</td>\n",
       "      <td>[\"unacceptable\", \"app ask\", \"matter\", \"remove\"...</td>\n",
       "      <td>[\"Miscellaneous\"]</td>\n",
       "    </tr>\n",
       "    <tr>\n",
       "      <th>2806</th>\n",
       "      <td>Dashen</td>\n",
       "      <td>It's best</td>\n",
       "      <td>5.0</td>\n",
       "      <td>positive</td>\n",
       "      <td>[\"good\"]</td>\n",
       "      <td>[\"Miscellaneous\"]</td>\n",
       "    </tr>\n",
       "    <tr>\n",
       "      <th>3256</th>\n",
       "      <td>Dashen</td>\n",
       "      <td>Dashen supper App is the most useful app for o...</td>\n",
       "      <td>5.0</td>\n",
       "      <td>positive</td>\n",
       "      <td>[\"app useful\", \"dashen supper\", \"useful app\", ...</td>\n",
       "      <td>[\"Miscellaneous\"]</td>\n",
       "    </tr>\n",
       "    <tr>\n",
       "      <th>3154</th>\n",
       "      <td>Dashen</td>\n",
       "      <td>“Life-changing!” I can’t imagine going back to...</td>\n",
       "      <td>5.0</td>\n",
       "      <td>negative</td>\n",
       "      <td>[\"imagine\", \"go\", \"convenient\", \"banking app\",...</td>\n",
       "      <td>[\"Miscellaneous\"]</td>\n",
       "    </tr>\n",
       "    <tr>\n",
       "      <th>54</th>\n",
       "      <td>CBE</td>\n",
       "      <td>Keep it up My CBE</td>\n",
       "      <td>5.0</td>\n",
       "      <td>positive</td>\n",
       "      <td>[\"cbe\"]</td>\n",
       "      <td>[\"Miscellaneous\"]</td>\n",
       "    </tr>\n",
       "    <tr>\n",
       "      <th>948</th>\n",
       "      <td>CBE</td>\n",
       "      <td>Turning off the developers' options :( This is...</td>\n",
       "      <td>1.0</td>\n",
       "      <td>positive</td>\n",
       "      <td>[\"hand\", \"turn developer\", \"get\", \"turn\", \"dev...</td>\n",
       "      <td>[\"Miscellaneous\"]</td>\n",
       "    </tr>\n",
       "    <tr>\n",
       "      <th>4426</th>\n",
       "      <td>BOA</td>\n",
       "      <td>It's good app tnx for u new update it's very e...</td>\n",
       "      <td>5.0</td>\n",
       "      <td>positive</td>\n",
       "      <td>[\"tnx\", \"abyssinia bank\", \"future\", \"abyssinia...</td>\n",
       "      <td>[\"Feature Requests\"]</td>\n",
       "    </tr>\n",
       "    <tr>\n",
       "      <th>2729</th>\n",
       "      <td>CBE</td>\n",
       "      <td>Very good thank you</td>\n",
       "      <td>5.0</td>\n",
       "      <td>positive</td>\n",
       "      <td>[\"thank\", \"good\"]</td>\n",
       "      <td>[\"Miscellaneous\"]</td>\n",
       "    </tr>\n",
       "  </tbody>\n",
       "</table>\n",
       "</div>"
      ],
      "text/plain": [
       "     bank_name                                        REVIEW_TEXT  RATING  \\\n",
       "2148       BOA  this app, for me , is a waste of time. It does...     1.0   \n",
       "829        CBE                             I am happy of this app     5.0   \n",
       "1577       BOA  Why is the app asking me to remove developer o...     3.0   \n",
       "2806    Dashen                                          It's best     5.0   \n",
       "3256    Dashen  Dashen supper App is the most useful app for o...     5.0   \n",
       "3154    Dashen  “Life-changing!” I can’t imagine going back to...     5.0   \n",
       "54         CBE                                  Keep it up My CBE     5.0   \n",
       "948        CBE  Turning off the developers' options :( This is...     1.0   \n",
       "4426       BOA  It's good app tnx for u new update it's very e...     5.0   \n",
       "2729       CBE                                Very good thank you     5.0   \n",
       "\n",
       "     SENTIMENT_LABEL                                           keywords  \\\n",
       "2148        negative  [\"fix problem\", \"work not\", \"time not\", \"waste...   \n",
       "829         positive                                   [\"happy\", \"app\"]   \n",
       "1577        negative  [\"unacceptable\", \"app ask\", \"matter\", \"remove\"...   \n",
       "2806        positive                                           [\"good\"]   \n",
       "3256        positive  [\"app useful\", \"dashen supper\", \"useful app\", ...   \n",
       "3154        negative  [\"imagine\", \"go\", \"convenient\", \"banking app\",...   \n",
       "54          positive                                            [\"cbe\"]   \n",
       "948         positive  [\"hand\", \"turn developer\", \"get\", \"turn\", \"dev...   \n",
       "4426        positive  [\"tnx\", \"abyssinia bank\", \"future\", \"abyssinia...   \n",
       "2729        positive                                  [\"thank\", \"good\"]   \n",
       "\n",
       "                    THEMES  \n",
       "2148     [\"Miscellaneous\"]  \n",
       "829      [\"Miscellaneous\"]  \n",
       "1577     [\"Miscellaneous\"]  \n",
       "2806     [\"Miscellaneous\"]  \n",
       "3256     [\"Miscellaneous\"]  \n",
       "3154     [\"Miscellaneous\"]  \n",
       "54       [\"Miscellaneous\"]  \n",
       "948      [\"Miscellaneous\"]  \n",
       "4426  [\"Feature Requests\"]  \n",
       "2729     [\"Miscellaneous\"]  "
      ]
     },
     "execution_count": 148,
     "metadata": {},
     "output_type": "execute_result"
    }
   ],
   "source": [
    "df.sample(10)"
   ]
  },
  {
   "cell_type": "code",
   "execution_count": 149,
   "id": "b152137d",
   "metadata": {},
   "outputs": [
    {
     "name": "stderr",
     "output_type": "stream",
     "text": [
      "/home/teshager/Documents/10Academy/repositories/projects/customer-experience-analytics-for-fintech-apps/src/analytics/summarize.py:58: FutureWarning: \n",
      "\n",
      "Passing `palette` without assigning `hue` is deprecated and will be removed in v0.14.0. Assign the `y` variable to `hue` and set `legend=False` for the same effect.\n",
      "\n",
      "  sns.barplot(x='count', y='theme_list', data=subset, palette='viridis')\n",
      "[2025-06-10 11:44:52,073] INFO: Saved bar chart: /home/teshager/Documents/10Academy/repositories/projects/customer-experience-analytics-for-fintech-apps/reports/BOA_positive_bar.png\n",
      "[2025-06-10 11:44:52,073] INFO: Saved bar chart: /home/teshager/Documents/10Academy/repositories/projects/customer-experience-analytics-for-fintech-apps/reports/BOA_positive_bar.png\n",
      "[2025-06-10 11:44:52,073] INFO: Saved bar chart: /home/teshager/Documents/10Academy/repositories/projects/customer-experience-analytics-for-fintech-apps/reports/BOA_positive_bar.png\n",
      "[2025-06-10 11:44:53,599] INFO: Saved word cloud: /home/teshager/Documents/10Academy/repositories/projects/customer-experience-analytics-for-fintech-apps/reports/BOA_positive_wordcloud.png\n",
      "[2025-06-10 11:44:53,599] INFO: Saved word cloud: /home/teshager/Documents/10Academy/repositories/projects/customer-experience-analytics-for-fintech-apps/reports/BOA_positive_wordcloud.png\n",
      "[2025-06-10 11:44:53,599] INFO: Saved word cloud: /home/teshager/Documents/10Academy/repositories/projects/customer-experience-analytics-for-fintech-apps/reports/BOA_positive_wordcloud.png\n",
      "/home/teshager/Documents/10Academy/repositories/projects/customer-experience-analytics-for-fintech-apps/src/analytics/summarize.py:58: FutureWarning: \n",
      "\n",
      "Passing `palette` without assigning `hue` is deprecated and will be removed in v0.14.0. Assign the `y` variable to `hue` and set `legend=False` for the same effect.\n",
      "\n",
      "  sns.barplot(x='count', y='theme_list', data=subset, palette='viridis')\n",
      "[2025-06-10 11:44:54,279] INFO: Saved bar chart: /home/teshager/Documents/10Academy/repositories/projects/customer-experience-analytics-for-fintech-apps/reports/BOA_negative_bar.png\n",
      "[2025-06-10 11:44:54,279] INFO: Saved bar chart: /home/teshager/Documents/10Academy/repositories/projects/customer-experience-analytics-for-fintech-apps/reports/BOA_negative_bar.png\n",
      "[2025-06-10 11:44:54,279] INFO: Saved bar chart: /home/teshager/Documents/10Academy/repositories/projects/customer-experience-analytics-for-fintech-apps/reports/BOA_negative_bar.png\n",
      "[2025-06-10 11:44:55,835] INFO: Saved word cloud: /home/teshager/Documents/10Academy/repositories/projects/customer-experience-analytics-for-fintech-apps/reports/BOA_negative_wordcloud.png\n",
      "[2025-06-10 11:44:55,835] INFO: Saved word cloud: /home/teshager/Documents/10Academy/repositories/projects/customer-experience-analytics-for-fintech-apps/reports/BOA_negative_wordcloud.png\n",
      "[2025-06-10 11:44:55,835] INFO: Saved word cloud: /home/teshager/Documents/10Academy/repositories/projects/customer-experience-analytics-for-fintech-apps/reports/BOA_negative_wordcloud.png\n",
      "/home/teshager/Documents/10Academy/repositories/projects/customer-experience-analytics-for-fintech-apps/src/analytics/summarize.py:58: FutureWarning: \n",
      "\n",
      "Passing `palette` without assigning `hue` is deprecated and will be removed in v0.14.0. Assign the `y` variable to `hue` and set `legend=False` for the same effect.\n",
      "\n",
      "  sns.barplot(x='count', y='theme_list', data=subset, palette='viridis')\n",
      "[2025-06-10 11:44:56,463] INFO: Saved bar chart: /home/teshager/Documents/10Academy/repositories/projects/customer-experience-analytics-for-fintech-apps/reports/CBE_positive_bar.png\n",
      "[2025-06-10 11:44:56,463] INFO: Saved bar chart: /home/teshager/Documents/10Academy/repositories/projects/customer-experience-analytics-for-fintech-apps/reports/CBE_positive_bar.png\n",
      "[2025-06-10 11:44:56,463] INFO: Saved bar chart: /home/teshager/Documents/10Academy/repositories/projects/customer-experience-analytics-for-fintech-apps/reports/CBE_positive_bar.png\n",
      "[2025-06-10 11:44:58,785] INFO: Saved word cloud: /home/teshager/Documents/10Academy/repositories/projects/customer-experience-analytics-for-fintech-apps/reports/CBE_positive_wordcloud.png\n",
      "[2025-06-10 11:44:58,785] INFO: Saved word cloud: /home/teshager/Documents/10Academy/repositories/projects/customer-experience-analytics-for-fintech-apps/reports/CBE_positive_wordcloud.png\n",
      "[2025-06-10 11:44:58,785] INFO: Saved word cloud: /home/teshager/Documents/10Academy/repositories/projects/customer-experience-analytics-for-fintech-apps/reports/CBE_positive_wordcloud.png\n",
      "/home/teshager/Documents/10Academy/repositories/projects/customer-experience-analytics-for-fintech-apps/src/analytics/summarize.py:58: FutureWarning: \n",
      "\n",
      "Passing `palette` without assigning `hue` is deprecated and will be removed in v0.14.0. Assign the `y` variable to `hue` and set `legend=False` for the same effect.\n",
      "\n",
      "  sns.barplot(x='count', y='theme_list', data=subset, palette='viridis')\n",
      "[2025-06-10 11:44:59,528] INFO: Saved bar chart: /home/teshager/Documents/10Academy/repositories/projects/customer-experience-analytics-for-fintech-apps/reports/CBE_negative_bar.png\n",
      "[2025-06-10 11:44:59,528] INFO: Saved bar chart: /home/teshager/Documents/10Academy/repositories/projects/customer-experience-analytics-for-fintech-apps/reports/CBE_negative_bar.png\n",
      "[2025-06-10 11:44:59,528] INFO: Saved bar chart: /home/teshager/Documents/10Academy/repositories/projects/customer-experience-analytics-for-fintech-apps/reports/CBE_negative_bar.png\n",
      "[2025-06-10 11:45:01,324] INFO: Saved word cloud: /home/teshager/Documents/10Academy/repositories/projects/customer-experience-analytics-for-fintech-apps/reports/CBE_negative_wordcloud.png\n",
      "[2025-06-10 11:45:01,324] INFO: Saved word cloud: /home/teshager/Documents/10Academy/repositories/projects/customer-experience-analytics-for-fintech-apps/reports/CBE_negative_wordcloud.png\n",
      "[2025-06-10 11:45:01,324] INFO: Saved word cloud: /home/teshager/Documents/10Academy/repositories/projects/customer-experience-analytics-for-fintech-apps/reports/CBE_negative_wordcloud.png\n",
      "/home/teshager/Documents/10Academy/repositories/projects/customer-experience-analytics-for-fintech-apps/src/analytics/summarize.py:58: FutureWarning: \n",
      "\n",
      "Passing `palette` without assigning `hue` is deprecated and will be removed in v0.14.0. Assign the `y` variable to `hue` and set `legend=False` for the same effect.\n",
      "\n",
      "  sns.barplot(x='count', y='theme_list', data=subset, palette='viridis')\n",
      "[2025-06-10 11:45:01,950] INFO: Saved bar chart: /home/teshager/Documents/10Academy/repositories/projects/customer-experience-analytics-for-fintech-apps/reports/Dashen_positive_bar.png\n",
      "[2025-06-10 11:45:01,950] INFO: Saved bar chart: /home/teshager/Documents/10Academy/repositories/projects/customer-experience-analytics-for-fintech-apps/reports/Dashen_positive_bar.png\n",
      "[2025-06-10 11:45:01,950] INFO: Saved bar chart: /home/teshager/Documents/10Academy/repositories/projects/customer-experience-analytics-for-fintech-apps/reports/Dashen_positive_bar.png\n",
      "[2025-06-10 11:45:03,541] INFO: Saved word cloud: /home/teshager/Documents/10Academy/repositories/projects/customer-experience-analytics-for-fintech-apps/reports/Dashen_positive_wordcloud.png\n",
      "[2025-06-10 11:45:03,541] INFO: Saved word cloud: /home/teshager/Documents/10Academy/repositories/projects/customer-experience-analytics-for-fintech-apps/reports/Dashen_positive_wordcloud.png\n",
      "[2025-06-10 11:45:03,541] INFO: Saved word cloud: /home/teshager/Documents/10Academy/repositories/projects/customer-experience-analytics-for-fintech-apps/reports/Dashen_positive_wordcloud.png\n",
      "/home/teshager/Documents/10Academy/repositories/projects/customer-experience-analytics-for-fintech-apps/src/analytics/summarize.py:58: FutureWarning: \n",
      "\n",
      "Passing `palette` without assigning `hue` is deprecated and will be removed in v0.14.0. Assign the `y` variable to `hue` and set `legend=False` for the same effect.\n",
      "\n",
      "  sns.barplot(x='count', y='theme_list', data=subset, palette='viridis')\n",
      "[2025-06-10 11:45:04,329] INFO: Saved bar chart: /home/teshager/Documents/10Academy/repositories/projects/customer-experience-analytics-for-fintech-apps/reports/Dashen_negative_bar.png\n",
      "[2025-06-10 11:45:04,329] INFO: Saved bar chart: /home/teshager/Documents/10Academy/repositories/projects/customer-experience-analytics-for-fintech-apps/reports/Dashen_negative_bar.png\n",
      "[2025-06-10 11:45:04,329] INFO: Saved bar chart: /home/teshager/Documents/10Academy/repositories/projects/customer-experience-analytics-for-fintech-apps/reports/Dashen_negative_bar.png\n",
      "[2025-06-10 11:45:05,888] INFO: Saved word cloud: /home/teshager/Documents/10Academy/repositories/projects/customer-experience-analytics-for-fintech-apps/reports/Dashen_negative_wordcloud.png\n",
      "[2025-06-10 11:45:05,888] INFO: Saved word cloud: /home/teshager/Documents/10Academy/repositories/projects/customer-experience-analytics-for-fintech-apps/reports/Dashen_negative_wordcloud.png\n",
      "[2025-06-10 11:45:05,888] INFO: Saved word cloud: /home/teshager/Documents/10Academy/repositories/projects/customer-experience-analytics-for-fintech-apps/reports/Dashen_negative_wordcloud.png\n"
     ]
    }
   ],
   "source": [
    "rv.generate_all_visuals_per_bank()"
   ]
  },
  {
   "cell_type": "code",
   "execution_count": 150,
   "id": "871e22ee",
   "metadata": {},
   "outputs": [
    {
     "name": "stderr",
     "output_type": "stream",
     "text": [
      "[2025-06-10 11:45:13,403] INFO: Exported all visuals to PDF: /home/teshager/Documents/10Academy/repositories/projects/customer-experience-analytics-for-fintech-apps/reports/Review_Report.pdf\n",
      "[2025-06-10 11:45:13,403] INFO: Exported all visuals to PDF: /home/teshager/Documents/10Academy/repositories/projects/customer-experience-analytics-for-fintech-apps/reports/Review_Report.pdf\n",
      "[2025-06-10 11:45:13,403] INFO: Exported all visuals to PDF: /home/teshager/Documents/10Academy/repositories/projects/customer-experience-analytics-for-fintech-apps/reports/Review_Report.pdf\n"
     ]
    }
   ],
   "source": [
    "rv.export_visuals_to_pdf()"
   ]
  },
  {
   "cell_type": "code",
   "execution_count": 151,
   "id": "25a5b45e",
   "metadata": {},
   "outputs": [
    {
     "name": "stderr",
     "output_type": "stream",
     "text": [
      "[2025-06-10 11:45:13,466] INFO: Generating insights before exporting.\n",
      "[2025-06-10 11:45:13,466] INFO: Generating insights before exporting.\n",
      "[2025-06-10 11:45:13,466] INFO: Generating insights before exporting.\n",
      "[2025-06-10 11:45:13,472] WARNING: No analyzer or insights found.\n",
      "[2025-06-10 11:45:13,472] WARNING: No analyzer or insights found.\n",
      "[2025-06-10 11:45:13,472] WARNING: No analyzer or insights found.\n",
      "[2025-06-10 11:45:23,351] INFO: Exported combined visuals and insights report: /home/teshager/Documents/10Academy/repositories/projects/customer-experience-analytics-for-fintech-apps/reports/Review_Report_with_Insights.pdf\n",
      "[2025-06-10 11:45:23,351] INFO: Exported combined visuals and insights report: /home/teshager/Documents/10Academy/repositories/projects/customer-experience-analytics-for-fintech-apps/reports/Review_Report_with_Insights.pdf\n",
      "[2025-06-10 11:45:23,351] INFO: Exported combined visuals and insights report: /home/teshager/Documents/10Academy/repositories/projects/customer-experience-analytics-for-fintech-apps/reports/Review_Report_with_Insights.pdf\n"
     ]
    }
   ],
   "source": [
    "rv.export_visuals_and_insights_to_pdf()"
   ]
  },
  {
   "cell_type": "code",
   "execution_count": 155,
   "id": "0ac0231c",
   "metadata": {},
   "outputs": [
    {
     "name": "stderr",
     "output_type": "stream",
     "text": [
      "[2025-06-10 11:48:08,257] INFO in analyzer: Generated insights for 3 banks.\n",
      "[2025-06-10 11:48:08,257] INFO in analyzer: Generated insights for 3 banks.\n",
      "[2025-06-10 11:48:08,257] INFO in analyzer: Generated insights for 3 banks.\n",
      "[2025-06-10 11:48:08,257] INFO in analyzer: Generated insights for 3 banks.\n",
      "[2025-06-10 11:48:08,257] INFO in analyzer: Generated insights for 3 banks.\n",
      "[2025-06-10 11:48:08,257] INFO in analyzer: Generated insights for 3 banks.\n",
      "[2025-06-10 11:48:08,257] INFO in analyzer: Generated insights for 3 banks.\n",
      "[2025-06-10 11:48:08,257] INFO in analyzer: Generated insights for 3 banks.\n",
      "[2025-06-10 11:48:08,257] INFO in analyzer: Generated insights for 3 banks.\n"
     ]
    },
    {
     "name": "stdout",
     "output_type": "stream",
     "text": [
      "\u001b[3m                      ✨ Insights for CBE                      \u001b[0m\n",
      "┏━━━━━━━━━━━━━━━━━━━━━━┳━━━━━━━┳━━━━━━━━━━━━━━━━━━━━━━┳━━━━━━━┓\n",
      "┃\u001b[1m \u001b[0m\u001b[1m    Top Drivers     \u001b[0m\u001b[1m \u001b[0m┃\u001b[1m \u001b[0m\u001b[1mCount\u001b[0m\u001b[1m \u001b[0m┃\u001b[1m \u001b[0m\u001b[1m  Top Pain Points   \u001b[0m\u001b[1m \u001b[0m┃\u001b[1m \u001b[0m\u001b[1mCount\u001b[0m\u001b[1m \u001b[0m┃\n",
      "┡━━━━━━━━━━━━━━━━━━━━━━╇━━━━━━━╇━━━━━━━━━━━━━━━━━━━━━━╇━━━━━━━┩\n",
      "│\u001b[32m \u001b[0m\u001b[32m [\"miscellaneous\"]  \u001b[0m\u001b[32m \u001b[0m│\u001b[32m \u001b[0m\u001b[32m 1316\u001b[0m\u001b[32m \u001b[0m│\u001b[31m \u001b[0m\u001b[31m [\"miscellaneous\"]  \u001b[0m\u001b[31m \u001b[0m│\u001b[31m \u001b[0m\u001b[31m  444\u001b[0m\u001b[31m \u001b[0m│\n",
      "├──────────────────────┼───────┼──────────────────────┼───────┤\n",
      "│\u001b[32m \u001b[0m\u001b[32m[\"feature requests\"]\u001b[0m\u001b[32m \u001b[0m│\u001b[32m \u001b[0m\u001b[32m   20\u001b[0m\u001b[32m \u001b[0m│\u001b[31m \u001b[0m\u001b[31m[\"feature requests\"]\u001b[0m\u001b[31m \u001b[0m│\u001b[31m \u001b[0m\u001b[31m   52\u001b[0m\u001b[31m \u001b[0m│\n",
      "├──────────────────────┼───────┼──────────────────────┼───────┤\n",
      "│\u001b[32m \u001b[0m\u001b[32m  [\"reliability\"]   \u001b[0m\u001b[32m \u001b[0m│\u001b[32m \u001b[0m\u001b[32m    2\u001b[0m\u001b[32m \u001b[0m│\u001b[31m \u001b[0m\u001b[31m  [\"reliability\"]   \u001b[0m\u001b[31m \u001b[0m│\u001b[31m \u001b[0m\u001b[31m   18\u001b[0m\u001b[31m \u001b[0m│\n",
      "└──────────────────────┴───────┴──────────────────────┴───────┘\n",
      "\u001b[3m                         ✨ Insights for BOA                          \u001b[0m\n",
      "┏━━━━━━━━━━━━━━━━━━━━━━━━━━━━━┳━━━━━━━┳━━━━━━━━━━━━━━━━━━━━━━┳━━━━━━━┓\n",
      "┃\u001b[1m \u001b[0m\u001b[1m        Top Drivers        \u001b[0m\u001b[1m \u001b[0m┃\u001b[1m \u001b[0m\u001b[1mCount\u001b[0m\u001b[1m \u001b[0m┃\u001b[1m \u001b[0m\u001b[1m  Top Pain Points   \u001b[0m\u001b[1m \u001b[0m┃\u001b[1m \u001b[0m\u001b[1mCount\u001b[0m\u001b[1m \u001b[0m┃\n",
      "┡━━━━━━━━━━━━━━━━━━━━━━━━━━━━━╇━━━━━━━╇━━━━━━━━━━━━━━━━━━━━━━╇━━━━━━━┩\n",
      "│\u001b[32m \u001b[0m\u001b[32m     [\"miscellaneous\"]     \u001b[0m\u001b[32m \u001b[0m│\u001b[32m \u001b[0m\u001b[32m  886\u001b[0m\u001b[32m \u001b[0m│\u001b[31m \u001b[0m\u001b[31m [\"miscellaneous\"]  \u001b[0m\u001b[31m \u001b[0m│\u001b[31m \u001b[0m\u001b[31m  840\u001b[0m\u001b[31m \u001b[0m│\n",
      "├─────────────────────────────┼───────┼──────────────────────┼───────┤\n",
      "│\u001b[32m \u001b[0m\u001b[32m   [\"feature requests\"]    \u001b[0m\u001b[32m \u001b[0m│\u001b[32m \u001b[0m\u001b[32m   24\u001b[0m\u001b[32m \u001b[0m│\u001b[31m \u001b[0m\u001b[31m[\"feature requests\"]\u001b[0m\u001b[31m \u001b[0m│\u001b[31m \u001b[0m\u001b[31m   64\u001b[0m\u001b[31m \u001b[0m│\n",
      "├─────────────────────────────┼───────┼──────────────────────┼───────┤\n",
      "│\u001b[32m \u001b[0m\u001b[32m[\"transaction performance\"]\u001b[0m\u001b[32m \u001b[0m│\u001b[32m \u001b[0m\u001b[32m    4\u001b[0m\u001b[32m \u001b[0m│\u001b[31m \u001b[0m\u001b[31m  [\"reliability\"]   \u001b[0m\u001b[31m \u001b[0m│\u001b[31m \u001b[0m\u001b[31m   42\u001b[0m\u001b[31m \u001b[0m│\n",
      "└─────────────────────────────┴───────┴──────────────────────┴───────┘\n",
      "\u001b[3m                        ✨ Insights for Dashen                        \u001b[0m\n",
      "┏━━━━━━━━━━━━━━━━━━━━━━┳━━━━━━━┳━━━━━━━━━━━━━━━━━━━━━━━━━━━━━┳━━━━━━━┓\n",
      "┃\u001b[1m \u001b[0m\u001b[1m    Top Drivers     \u001b[0m\u001b[1m \u001b[0m┃\u001b[1m \u001b[0m\u001b[1mCount\u001b[0m\u001b[1m \u001b[0m┃\u001b[1m \u001b[0m\u001b[1m      Top Pain Points      \u001b[0m\u001b[1m \u001b[0m┃\u001b[1m \u001b[0m\u001b[1mCount\u001b[0m\u001b[1m \u001b[0m┃\n",
      "┡━━━━━━━━━━━━━━━━━━━━━━╇━━━━━━━╇━━━━━━━━━━━━━━━━━━━━━━━━━━━━━╇━━━━━━━┩\n",
      "│\u001b[32m \u001b[0m\u001b[32m [\"miscellaneous\"]  \u001b[0m\u001b[32m \u001b[0m│\u001b[32m \u001b[0m\u001b[32m  624\u001b[0m\u001b[32m \u001b[0m│\u001b[31m \u001b[0m\u001b[31m     [\"miscellaneous\"]     \u001b[0m\u001b[31m \u001b[0m│\u001b[31m \u001b[0m\u001b[31m  186\u001b[0m\u001b[31m \u001b[0m│\n",
      "├──────────────────────┼───────┼─────────────────────────────┼───────┤\n",
      "│\u001b[32m \u001b[0m\u001b[32m[\"feature requests\"]\u001b[0m\u001b[32m \u001b[0m│\u001b[32m \u001b[0m\u001b[32m   28\u001b[0m\u001b[32m \u001b[0m│\u001b[31m \u001b[0m\u001b[31m[\"transaction performance\"]\u001b[0m\u001b[31m \u001b[0m│\u001b[31m \u001b[0m\u001b[31m   12\u001b[0m\u001b[31m \u001b[0m│\n",
      "├──────────────────────┼───────┼─────────────────────────────┼───────┤\n",
      "│\u001b[32m \u001b[0m\u001b[32m[\"user experience\"] \u001b[0m\u001b[32m \u001b[0m│\u001b[32m \u001b[0m\u001b[32m   14\u001b[0m\u001b[32m \u001b[0m│\u001b[31m \u001b[0m\u001b[31m   [\"feature requests\"]    \u001b[0m\u001b[31m \u001b[0m│\u001b[31m \u001b[0m\u001b[31m    6\u001b[0m\u001b[31m \u001b[0m│\n",
      "└──────────────────────┴───────┴─────────────────────────────┴───────┘\n"
     ]
    }
   ],
   "source": [
    "rv.analyzer = analyzer  # Connect them\n",
    "# Run insights\n",
    "insights = analyzer.analyze_per_bank()\n",
    "rv.insights = insights"
   ]
  },
  {
   "cell_type": "code",
   "execution_count": 154,
   "id": "321ec933",
   "metadata": {},
   "outputs": [
    {
     "name": "stderr",
     "output_type": "stream",
     "text": [
      "/home/teshager/Documents/10Academy/repositories/projects/customer-experience-analytics-for-fintech-apps/src/analytics/summarize.py:260: UserWarning: Glyph 128204 (\\N{PUSHPIN}) missing from font(s) DejaVu Sans.\n",
      "  img = plt.imread(img_path)\n",
      "/home/teshager/Documents/10Academy/repositories/projects/customer-experience-analytics-for-fintech-apps/src/analytics/summarize.py:260: UserWarning: Glyph 9989 (\\N{WHITE HEAVY CHECK MARK}) missing from font(s) DejaVu Sans.\n",
      "  img = plt.imread(img_path)\n",
      "/home/teshager/Documents/10Academy/repositories/projects/customer-experience-analytics-for-fintech-apps/src/analytics/summarize.py:260: UserWarning: Glyph 10060 (\\N{CROSS MARK}) missing from font(s) DejaVu Sans.\n",
      "  img = plt.imread(img_path)\n",
      "/home/teshager/Documents/10Academy/repositories/projects/customer-experience-analytics-for-fintech-apps/src/analytics/summarize.py:269: UserWarning: Glyph 128161 (\\N{ELECTRIC LIGHT BULB}) missing from font(s) DejaVu Sans.\n",
      "[2025-06-10 11:45:33,992] INFO: Exported combined visuals and insights report: /home/teshager/Documents/10Academy/repositories/projects/customer-experience-analytics-for-fintech-apps/reports/Fintech_Bank_Review_Report.pdf\n",
      "[2025-06-10 11:45:33,992] INFO: Exported combined visuals and insights report: /home/teshager/Documents/10Academy/repositories/projects/customer-experience-analytics-for-fintech-apps/reports/Fintech_Bank_Review_Report.pdf\n",
      "[2025-06-10 11:45:33,992] INFO: Exported combined visuals and insights report: /home/teshager/Documents/10Academy/repositories/projects/customer-experience-analytics-for-fintech-apps/reports/Fintech_Bank_Review_Report.pdf\n"
     ]
    }
   ],
   "source": [
    "# Export all\n",
    "rv.recommendations =['Do some stuff']\n",
    "rv.export_visuals_and_insights_to_pdf(\"Fintech_Bank_Review_Report.pdf\")"
   ]
  }
 ],
 "metadata": {
  "kernelspec": {
   "display_name": "venv",
   "language": "python",
   "name": "python3"
  },
  "language_info": {
   "codemirror_mode": {
    "name": "ipython",
    "version": 3
   },
   "file_extension": ".py",
   "mimetype": "text/x-python",
   "name": "python",
   "nbconvert_exporter": "python",
   "pygments_lexer": "ipython3",
   "version": "3.10.12"
  }
 },
 "nbformat": 4,
 "nbformat_minor": 5
}
